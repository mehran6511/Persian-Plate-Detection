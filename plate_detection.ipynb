{
  "metadata": {
    "kernelspec": {
      "name": "python3",
      "display_name": "Python 3"
    },
    "language_info": {
      "name": "python",
      "version": "3.11.11",
      "mimetype": "text/x-python",
      "codemirror_mode": {
        "name": "ipython",
        "version": 3
      },
      "pygments_lexer": "ipython3",
      "nbconvert_exporter": "python",
      "file_extension": ".py"
    },
    "colab": {
      "provenance": []
    },
    "kaggle": {
      "accelerator": "nvidiaTeslaT4",
      "dataSources": [],
      "dockerImageVersionId": 31011,
      "isInternetEnabled": true,
      "language": "python",
      "sourceType": "notebook",
      "isGpuEnabled": true
    }
  },
  "nbformat_minor": 0,
  "nbformat": 4,
  "cells": [
    {
      "cell_type": "code",
      "source": [
        "import gdown\n",
        "\n",
        "# لینک فایل\n",
        "file_id = '1XtZ-XQ8ImNFf40D-bFqTm0UVFqNKhbLi'\n",
        "url = f'https://drive.google.com/uc?id={file_id}'\n",
        "\n",
        "# دانلود فایل\n",
        "gdown.download(url, 'train.zip', quiet=False)"
      ],
      "metadata": {
        "id": "xp1oZLkwj25b",
        "outputId": "bb8eb236-175a-4dcb-85f5-1579f9e1df89",
        "trusted": true,
        "colab": {
          "base_uri": "https://localhost:8080/",
          "height": 122
        }
      },
      "outputs": [
        {
          "output_type": "stream",
          "name": "stderr",
          "text": [
            "Downloading...\n",
            "From (original): https://drive.google.com/uc?id=1XtZ-XQ8ImNFf40D-bFqTm0UVFqNKhbLi\n",
            "From (redirected): https://drive.google.com/uc?id=1XtZ-XQ8ImNFf40D-bFqTm0UVFqNKhbLi&confirm=t&uuid=88b1617c-0ce1-463b-acfe-8397d67c5134\n",
            "To: /content/train.zip\n",
            "100%|██████████| 8.89G/8.89G [02:06<00:00, 70.5MB/s]\n"
          ]
        },
        {
          "output_type": "execute_result",
          "data": {
            "text/plain": [
              "'train.zip'"
            ],
            "application/vnd.google.colaboratory.intrinsic+json": {
              "type": "string"
            }
          },
          "metadata": {},
          "execution_count": 1
        }
      ],
      "execution_count": null
    },
    {
      "cell_type": "code",
      "source": [
        "import gdown\n",
        "\n",
        "# لینک فایل\n",
        "file_id = '1hwz6X-Zp7JpJL35K6P3z7k6O_PTXhUcT'\n",
        "url = f'https://drive.google.com/uc?id={file_id}'\n",
        "\n",
        "# دانلود فایل\n",
        "gdown.download(url, 'val.zip', quiet=False)"
      ],
      "metadata": {
        "id": "nkjLvgG5qDOv",
        "outputId": "81ce2f2e-2356-4798-acde-a9464f360c41",
        "trusted": true,
        "colab": {
          "base_uri": "https://localhost:8080/",
          "height": 142
        }
      },
      "outputs": [
        {
          "output_type": "stream",
          "name": "stderr",
          "text": [
            "Downloading...\n",
            "From (original): https://drive.google.com/uc?id=1hwz6X-Zp7JpJL35K6P3z7k6O_PTXhUcT\n",
            "From (redirected): https://drive.google.com/uc?id=1hwz6X-Zp7JpJL35K6P3z7k6O_PTXhUcT&confirm=t&uuid=aa7f03ad-bd6c-4f0d-8f6d-bdeccd627db3\n",
            "To: /content/val.zip\n",
            "100%|██████████| 1.27G/1.27G [00:22<00:00, 56.2MB/s]\n"
          ]
        },
        {
          "output_type": "execute_result",
          "data": {
            "text/plain": [
              "'val.zip'"
            ],
            "application/vnd.google.colaboratory.intrinsic+json": {
              "type": "string"
            }
          },
          "metadata": {},
          "execution_count": 1
        }
      ],
      "execution_count": null
    },
    {
      "cell_type": "code",
      "source": [
        "import gdown\n",
        "\n",
        "# لینک فایل\n",
        "file_id = '1pe4_HgXb9dctFGJXVNlyNcKSXZeht0lX'\n",
        "url = f'https://drive.google.com/uc?id={file_id}'\n",
        "\n",
        "# دانلود فایل\n",
        "gdown.download(url, 'test.zip', quiet=False)"
      ],
      "metadata": {
        "id": "IVJiMR-BqERp",
        "outputId": "bcffa956-e12e-48f0-ff1a-e406f0f19635",
        "trusted": true,
        "colab": {
          "base_uri": "https://localhost:8080/",
          "height": 122
        }
      },
      "outputs": [
        {
          "output_type": "stream",
          "name": "stderr",
          "text": [
            "Downloading...\n",
            "From (original): https://drive.google.com/uc?id=1pe4_HgXb9dctFGJXVNlyNcKSXZeht0lX\n",
            "From (redirected): https://drive.google.com/uc?id=1pe4_HgXb9dctFGJXVNlyNcKSXZeht0lX&confirm=t&uuid=33779dec-2ceb-4d91-8fc7-0e7ac905f171\n",
            "To: /content/test.zip\n",
            "100%|██████████| 2.51G/2.51G [00:34<00:00, 72.9MB/s]\n"
          ]
        },
        {
          "output_type": "execute_result",
          "data": {
            "text/plain": [
              "'test.zip'"
            ],
            "application/vnd.google.colaboratory.intrinsic+json": {
              "type": "string"
            }
          },
          "metadata": {},
          "execution_count": 1
        }
      ],
      "execution_count": 1
    },
    {
      "cell_type": "code",
      "source": [
        "!pip install patool\n",
        "import patoolib\n",
        "# patoolib.extract_archive(\"/content/train.zip\", outdir=\"/content\")\n",
        "patoolib.extract_archive(\"/content/test.zip\", outdir=\"/content\")\n",
        "# patoolib.extract_archive(\"/content/val.zip\", outdir=\"/content\")\n",
        "# !unzip /kaggle/working/train.zip\n",
        "# !unzip /kaggle/working/test.zip\n",
        "# !unzip /kaggle/working/val.zip"
      ],
      "metadata": {
        "id": "zO00cCHqhe1I",
        "outputId": "ea10924c-d641-4982-dad3-62c94f6f6f0a",
        "trusted": true,
        "colab": {
          "base_uri": "https://localhost:8080/",
          "height": 243
        }
      },
      "outputs": [
        {
          "output_type": "stream",
          "name": "stdout",
          "text": [
            "Collecting patool\n",
            "  Downloading patool-4.0.1-py2.py3-none-any.whl.metadata (4.5 kB)\n",
            "Downloading patool-4.0.1-py2.py3-none-any.whl (86 kB)\n",
            "\u001b[?25l   \u001b[90m━━━━━━━━━━━━━━━━━━━━━━━━━━━━━━━━━━━━━━━━\u001b[0m \u001b[32m0.0/86.5 kB\u001b[0m \u001b[31m?\u001b[0m eta \u001b[36m-:--:--\u001b[0m\r\u001b[2K   \u001b[90m━━━━━━━━━━━━━━━━━━━━━━━━━━━━━━━━━━━━━━━━\u001b[0m \u001b[32m86.5/86.5 kB\u001b[0m \u001b[31m3.6 MB/s\u001b[0m eta \u001b[36m0:00:00\u001b[0m\n",
            "\u001b[?25hInstalling collected packages: patool\n",
            "Successfully installed patool-4.0.1\n"
          ]
        },
        {
          "output_type": "stream",
          "name": "stderr",
          "text": [
            "INFO patool: Extracting /content/test.zip ...\n",
            "INFO:patool:Extracting /content/test.zip ...\n",
            "INFO patool: running /usr/bin/7z x -aou -o/content -- /content/test.zip\n",
            "INFO:patool:running /usr/bin/7z x -aou -o/content -- /content/test.zip\n",
            "INFO patool: ... /content/test.zip extracted to `/content'.\n",
            "INFO:patool:... /content/test.zip extracted to `/content'.\n"
          ]
        },
        {
          "output_type": "execute_result",
          "data": {
            "text/plain": [
              "'/content'"
            ],
            "application/vnd.google.colaboratory.intrinsic+json": {
              "type": "string"
            }
          },
          "metadata": {},
          "execution_count": 2
        }
      ],
      "execution_count": 2
    },
    {
      "cell_type": "markdown",
      "source": [
        "# Train Yolo model with our dataset"
      ],
      "metadata": {
        "id": "lufjZF_gxne2"
      }
    },
    {
      "cell_type": "code",
      "source": [
        "!pip install ultralytics opencv-python easyocr"
      ],
      "metadata": {
        "id": "2f7t8vIzABiW",
        "outputId": "cb347578-2082-4297-a843-3c9ded99dfb9",
        "trusted": true,
        "colab": {
          "base_uri": "https://localhost:8080/"
        }
      },
      "outputs": [
        {
          "output_type": "stream",
          "name": "stdout",
          "text": [
            "Collecting ultralytics\n",
            "  Downloading ultralytics-8.3.144-py3-none-any.whl.metadata (37 kB)\n",
            "Requirement already satisfied: opencv-python in /usr/local/lib/python3.11/dist-packages (4.11.0.86)\n",
            "Collecting easyocr\n",
            "  Downloading easyocr-1.7.2-py3-none-any.whl.metadata (10 kB)\n",
            "Requirement already satisfied: numpy>=1.23.0 in /usr/local/lib/python3.11/dist-packages (from ultralytics) (2.0.2)\n",
            "Requirement already satisfied: matplotlib>=3.3.0 in /usr/local/lib/python3.11/dist-packages (from ultralytics) (3.10.0)\n",
            "Requirement already satisfied: pillow>=7.1.2 in /usr/local/lib/python3.11/dist-packages (from ultralytics) (11.2.1)\n",
            "Requirement already satisfied: pyyaml>=5.3.1 in /usr/local/lib/python3.11/dist-packages (from ultralytics) (6.0.2)\n",
            "Requirement already satisfied: requests>=2.23.0 in /usr/local/lib/python3.11/dist-packages (from ultralytics) (2.32.3)\n",
            "Requirement already satisfied: scipy>=1.4.1 in /usr/local/lib/python3.11/dist-packages (from ultralytics) (1.15.3)\n",
            "Requirement already satisfied: torch>=1.8.0 in /usr/local/lib/python3.11/dist-packages (from ultralytics) (2.6.0+cu124)\n",
            "Requirement already satisfied: torchvision>=0.9.0 in /usr/local/lib/python3.11/dist-packages (from ultralytics) (0.21.0+cu124)\n",
            "Requirement already satisfied: tqdm>=4.64.0 in /usr/local/lib/python3.11/dist-packages (from ultralytics) (4.67.1)\n",
            "Requirement already satisfied: psutil in /usr/local/lib/python3.11/dist-packages (from ultralytics) (5.9.5)\n",
            "Requirement already satisfied: py-cpuinfo in /usr/local/lib/python3.11/dist-packages (from ultralytics) (9.0.0)\n",
            "Requirement already satisfied: pandas>=1.1.4 in /usr/local/lib/python3.11/dist-packages (from ultralytics) (2.2.2)\n",
            "Collecting ultralytics-thop>=2.0.0 (from ultralytics)\n",
            "  Downloading ultralytics_thop-2.0.14-py3-none-any.whl.metadata (9.4 kB)\n",
            "Requirement already satisfied: opencv-python-headless in /usr/local/lib/python3.11/dist-packages (from easyocr) (4.11.0.86)\n",
            "Requirement already satisfied: scikit-image in /usr/local/lib/python3.11/dist-packages (from easyocr) (0.25.2)\n",
            "Collecting python-bidi (from easyocr)\n",
            "  Downloading python_bidi-0.6.6-cp311-cp311-manylinux_2_17_x86_64.manylinux2014_x86_64.whl.metadata (4.9 kB)\n",
            "Requirement already satisfied: Shapely in /usr/local/lib/python3.11/dist-packages (from easyocr) (2.1.0)\n",
            "Collecting pyclipper (from easyocr)\n",
            "  Downloading pyclipper-1.3.0.post6-cp311-cp311-manylinux_2_17_x86_64.manylinux2014_x86_64.whl.metadata (9.0 kB)\n",
            "Collecting ninja (from easyocr)\n",
            "  Downloading ninja-1.11.1.4-py3-none-manylinux_2_12_x86_64.manylinux2010_x86_64.whl.metadata (5.0 kB)\n",
            "Requirement already satisfied: contourpy>=1.0.1 in /usr/local/lib/python3.11/dist-packages (from matplotlib>=3.3.0->ultralytics) (1.3.2)\n",
            "Requirement already satisfied: cycler>=0.10 in /usr/local/lib/python3.11/dist-packages (from matplotlib>=3.3.0->ultralytics) (0.12.1)\n",
            "Requirement already satisfied: fonttools>=4.22.0 in /usr/local/lib/python3.11/dist-packages (from matplotlib>=3.3.0->ultralytics) (4.58.0)\n",
            "Requirement already satisfied: kiwisolver>=1.3.1 in /usr/local/lib/python3.11/dist-packages (from matplotlib>=3.3.0->ultralytics) (1.4.8)\n",
            "Requirement already satisfied: packaging>=20.0 in /usr/local/lib/python3.11/dist-packages (from matplotlib>=3.3.0->ultralytics) (24.2)\n",
            "Requirement already satisfied: pyparsing>=2.3.1 in /usr/local/lib/python3.11/dist-packages (from matplotlib>=3.3.0->ultralytics) (3.2.3)\n",
            "Requirement already satisfied: python-dateutil>=2.7 in /usr/local/lib/python3.11/dist-packages (from matplotlib>=3.3.0->ultralytics) (2.9.0.post0)\n",
            "Requirement already satisfied: pytz>=2020.1 in /usr/local/lib/python3.11/dist-packages (from pandas>=1.1.4->ultralytics) (2025.2)\n",
            "Requirement already satisfied: tzdata>=2022.7 in /usr/local/lib/python3.11/dist-packages (from pandas>=1.1.4->ultralytics) (2025.2)\n",
            "Requirement already satisfied: charset-normalizer<4,>=2 in /usr/local/lib/python3.11/dist-packages (from requests>=2.23.0->ultralytics) (3.4.2)\n",
            "Requirement already satisfied: idna<4,>=2.5 in /usr/local/lib/python3.11/dist-packages (from requests>=2.23.0->ultralytics) (3.10)\n",
            "Requirement already satisfied: urllib3<3,>=1.21.1 in /usr/local/lib/python3.11/dist-packages (from requests>=2.23.0->ultralytics) (2.4.0)\n",
            "Requirement already satisfied: certifi>=2017.4.17 in /usr/local/lib/python3.11/dist-packages (from requests>=2.23.0->ultralytics) (2025.4.26)\n",
            "Requirement already satisfied: filelock in /usr/local/lib/python3.11/dist-packages (from torch>=1.8.0->ultralytics) (3.18.0)\n",
            "Requirement already satisfied: typing-extensions>=4.10.0 in /usr/local/lib/python3.11/dist-packages (from torch>=1.8.0->ultralytics) (4.13.2)\n",
            "Requirement already satisfied: networkx in /usr/local/lib/python3.11/dist-packages (from torch>=1.8.0->ultralytics) (3.4.2)\n",
            "Requirement already satisfied: jinja2 in /usr/local/lib/python3.11/dist-packages (from torch>=1.8.0->ultralytics) (3.1.6)\n",
            "Requirement already satisfied: fsspec in /usr/local/lib/python3.11/dist-packages (from torch>=1.8.0->ultralytics) (2025.3.2)\n",
            "Collecting nvidia-cuda-nvrtc-cu12==12.4.127 (from torch>=1.8.0->ultralytics)\n",
            "  Downloading nvidia_cuda_nvrtc_cu12-12.4.127-py3-none-manylinux2014_x86_64.whl.metadata (1.5 kB)\n",
            "Collecting nvidia-cuda-runtime-cu12==12.4.127 (from torch>=1.8.0->ultralytics)\n",
            "  Downloading nvidia_cuda_runtime_cu12-12.4.127-py3-none-manylinux2014_x86_64.whl.metadata (1.5 kB)\n",
            "Collecting nvidia-cuda-cupti-cu12==12.4.127 (from torch>=1.8.0->ultralytics)\n",
            "  Downloading nvidia_cuda_cupti_cu12-12.4.127-py3-none-manylinux2014_x86_64.whl.metadata (1.6 kB)\n",
            "Collecting nvidia-cudnn-cu12==9.1.0.70 (from torch>=1.8.0->ultralytics)\n",
            "  Downloading nvidia_cudnn_cu12-9.1.0.70-py3-none-manylinux2014_x86_64.whl.metadata (1.6 kB)\n",
            "Collecting nvidia-cublas-cu12==12.4.5.8 (from torch>=1.8.0->ultralytics)\n",
            "  Downloading nvidia_cublas_cu12-12.4.5.8-py3-none-manylinux2014_x86_64.whl.metadata (1.5 kB)\n",
            "Collecting nvidia-cufft-cu12==11.2.1.3 (from torch>=1.8.0->ultralytics)\n",
            "  Downloading nvidia_cufft_cu12-11.2.1.3-py3-none-manylinux2014_x86_64.whl.metadata (1.5 kB)\n",
            "Collecting nvidia-curand-cu12==10.3.5.147 (from torch>=1.8.0->ultralytics)\n",
            "  Downloading nvidia_curand_cu12-10.3.5.147-py3-none-manylinux2014_x86_64.whl.metadata (1.5 kB)\n",
            "Collecting nvidia-cusolver-cu12==11.6.1.9 (from torch>=1.8.0->ultralytics)\n",
            "  Downloading nvidia_cusolver_cu12-11.6.1.9-py3-none-manylinux2014_x86_64.whl.metadata (1.6 kB)\n",
            "Collecting nvidia-cusparse-cu12==12.3.1.170 (from torch>=1.8.0->ultralytics)\n",
            "  Downloading nvidia_cusparse_cu12-12.3.1.170-py3-none-manylinux2014_x86_64.whl.metadata (1.6 kB)\n",
            "Requirement already satisfied: nvidia-cusparselt-cu12==0.6.2 in /usr/local/lib/python3.11/dist-packages (from torch>=1.8.0->ultralytics) (0.6.2)\n",
            "Requirement already satisfied: nvidia-nccl-cu12==2.21.5 in /usr/local/lib/python3.11/dist-packages (from torch>=1.8.0->ultralytics) (2.21.5)\n",
            "Requirement already satisfied: nvidia-nvtx-cu12==12.4.127 in /usr/local/lib/python3.11/dist-packages (from torch>=1.8.0->ultralytics) (12.4.127)\n",
            "Collecting nvidia-nvjitlink-cu12==12.4.127 (from torch>=1.8.0->ultralytics)\n",
            "  Downloading nvidia_nvjitlink_cu12-12.4.127-py3-none-manylinux2014_x86_64.whl.metadata (1.5 kB)\n",
            "Requirement already satisfied: triton==3.2.0 in /usr/local/lib/python3.11/dist-packages (from torch>=1.8.0->ultralytics) (3.2.0)\n",
            "Requirement already satisfied: sympy==1.13.1 in /usr/local/lib/python3.11/dist-packages (from torch>=1.8.0->ultralytics) (1.13.1)\n",
            "Requirement already satisfied: mpmath<1.4,>=1.1.0 in /usr/local/lib/python3.11/dist-packages (from sympy==1.13.1->torch>=1.8.0->ultralytics) (1.3.0)\n",
            "Requirement already satisfied: imageio!=2.35.0,>=2.33 in /usr/local/lib/python3.11/dist-packages (from scikit-image->easyocr) (2.37.0)\n",
            "Requirement already satisfied: tifffile>=2022.8.12 in /usr/local/lib/python3.11/dist-packages (from scikit-image->easyocr) (2025.5.10)\n",
            "Requirement already satisfied: lazy-loader>=0.4 in /usr/local/lib/python3.11/dist-packages (from scikit-image->easyocr) (0.4)\n",
            "Requirement already satisfied: six>=1.5 in /usr/local/lib/python3.11/dist-packages (from python-dateutil>=2.7->matplotlib>=3.3.0->ultralytics) (1.17.0)\n",
            "Requirement already satisfied: MarkupSafe>=2.0 in /usr/local/lib/python3.11/dist-packages (from jinja2->torch>=1.8.0->ultralytics) (3.0.2)\n",
            "Downloading ultralytics-8.3.144-py3-none-any.whl (1.0 MB)\n",
            "\u001b[2K   \u001b[90m━━━━━━━━━━━━━━━━━━━━━━━━━━━━━━━━━━━━━━━━\u001b[0m \u001b[32m1.0/1.0 MB\u001b[0m \u001b[31m26.4 MB/s\u001b[0m eta \u001b[36m0:00:00\u001b[0m\n",
            "\u001b[?25hDownloading easyocr-1.7.2-py3-none-any.whl (2.9 MB)\n",
            "\u001b[2K   \u001b[90m━━━━━━━━━━━━━━━━━━━━━━━━━━━━━━━━━━━━━━━━\u001b[0m \u001b[32m2.9/2.9 MB\u001b[0m \u001b[31m91.3 MB/s\u001b[0m eta \u001b[36m0:00:00\u001b[0m\n",
            "\u001b[?25hDownloading nvidia_cublas_cu12-12.4.5.8-py3-none-manylinux2014_x86_64.whl (363.4 MB)\n",
            "\u001b[2K   \u001b[90m━━━━━━━━━━━━━━━━━━━━━━━━━━━━━━━━━━━━━━━━\u001b[0m \u001b[32m363.4/363.4 MB\u001b[0m \u001b[31m4.1 MB/s\u001b[0m eta \u001b[36m0:00:00\u001b[0m\n",
            "\u001b[?25hDownloading nvidia_cuda_cupti_cu12-12.4.127-py3-none-manylinux2014_x86_64.whl (13.8 MB)\n",
            "\u001b[2K   \u001b[90m━━━━━━━━━━━━━━━━━━━━━━━━━━━━━━━━━━━━━━━━\u001b[0m \u001b[32m13.8/13.8 MB\u001b[0m \u001b[31m27.0 MB/s\u001b[0m eta \u001b[36m0:00:00\u001b[0m\n",
            "\u001b[?25hDownloading nvidia_cuda_nvrtc_cu12-12.4.127-py3-none-manylinux2014_x86_64.whl (24.6 MB)\n",
            "\u001b[2K   \u001b[90m━━━━━━━━━━━━━━━━━━━━━━━━━━━━━━━━━━━━━━━━\u001b[0m \u001b[32m24.6/24.6 MB\u001b[0m \u001b[31m24.5 MB/s\u001b[0m eta \u001b[36m0:00:00\u001b[0m\n",
            "\u001b[?25hDownloading nvidia_cuda_runtime_cu12-12.4.127-py3-none-manylinux2014_x86_64.whl (883 kB)\n",
            "\u001b[2K   \u001b[90m━━━━━━━━━━━━━━━━━━━━━━━━━━━━━━━━━━━━━━━━\u001b[0m \u001b[32m883.7/883.7 kB\u001b[0m \u001b[31m15.7 MB/s\u001b[0m eta \u001b[36m0:00:00\u001b[0m\n",
            "\u001b[?25hDownloading nvidia_cudnn_cu12-9.1.0.70-py3-none-manylinux2014_x86_64.whl (664.8 MB)\n",
            "\u001b[2K   \u001b[90m━━━━━━━━━━━━━━━━━━━━━━━━━━━━━━━━━━━━━━━━\u001b[0m \u001b[32m664.8/664.8 MB\u001b[0m \u001b[31m2.8 MB/s\u001b[0m eta \u001b[36m0:00:00\u001b[0m\n",
            "\u001b[?25hDownloading nvidia_cufft_cu12-11.2.1.3-py3-none-manylinux2014_x86_64.whl (211.5 MB)\n",
            "\u001b[2K   \u001b[90m━━━━━━━━━━━━━━━━━━━━━━━━━━━━━━━━━━━━━━━━\u001b[0m \u001b[32m211.5/211.5 MB\u001b[0m \u001b[31m5.7 MB/s\u001b[0m eta \u001b[36m0:00:00\u001b[0m\n",
            "\u001b[?25hDownloading nvidia_curand_cu12-10.3.5.147-py3-none-manylinux2014_x86_64.whl (56.3 MB)\n",
            "\u001b[2K   \u001b[90m━━━━━━━━━━━━━━━━━━━━━━━━━━━━━━━━━━━━━━━━\u001b[0m \u001b[32m56.3/56.3 MB\u001b[0m \u001b[31m12.5 MB/s\u001b[0m eta \u001b[36m0:00:00\u001b[0m\n",
            "\u001b[?25hDownloading nvidia_cusolver_cu12-11.6.1.9-py3-none-manylinux2014_x86_64.whl (127.9 MB)\n",
            "\u001b[2K   \u001b[90m━━━━━━━━━━━━━━━━━━━━━━━━━━━━━━━━━━━━━━━━\u001b[0m \u001b[32m127.9/127.9 MB\u001b[0m \u001b[31m7.3 MB/s\u001b[0m eta \u001b[36m0:00:00\u001b[0m\n",
            "\u001b[?25hDownloading nvidia_cusparse_cu12-12.3.1.170-py3-none-manylinux2014_x86_64.whl (207.5 MB)\n",
            "\u001b[2K   \u001b[90m━━━━━━━━━━━━━━━━━━━━━━━━━━━━━━━━━━━━━━━━\u001b[0m \u001b[32m207.5/207.5 MB\u001b[0m \u001b[31m5.5 MB/s\u001b[0m eta \u001b[36m0:00:00\u001b[0m\n",
            "\u001b[?25hDownloading nvidia_nvjitlink_cu12-12.4.127-py3-none-manylinux2014_x86_64.whl (21.1 MB)\n",
            "\u001b[2K   \u001b[90m━━━━━━━━━━━━━━━━━━━━━━━━━━━━━━━━━━━━━━━━\u001b[0m \u001b[32m21.1/21.1 MB\u001b[0m \u001b[31m61.6 MB/s\u001b[0m eta \u001b[36m0:00:00\u001b[0m\n",
            "\u001b[?25hDownloading ultralytics_thop-2.0.14-py3-none-any.whl (26 kB)\n",
            "Downloading ninja-1.11.1.4-py3-none-manylinux_2_12_x86_64.manylinux2010_x86_64.whl (422 kB)\n",
            "\u001b[2K   \u001b[90m━━━━━━━━━━━━━━━━━━━━━━━━━━━━━━━━━━━━━━━━\u001b[0m \u001b[32m422.8/422.8 kB\u001b[0m \u001b[31m31.3 MB/s\u001b[0m eta \u001b[36m0:00:00\u001b[0m\n",
            "\u001b[?25hDownloading pyclipper-1.3.0.post6-cp311-cp311-manylinux_2_17_x86_64.manylinux2014_x86_64.whl (969 kB)\n",
            "\u001b[2K   \u001b[90m━━━━━━━━━━━━━━━━━━━━━━━━━━━━━━━━━━━━━━━━\u001b[0m \u001b[32m969.6/969.6 kB\u001b[0m \u001b[31m48.8 MB/s\u001b[0m eta \u001b[36m0:00:00\u001b[0m\n",
            "\u001b[?25hDownloading python_bidi-0.6.6-cp311-cp311-manylinux_2_17_x86_64.manylinux2014_x86_64.whl (292 kB)\n",
            "\u001b[2K   \u001b[90m━━━━━━━━━━━━━━━━━━━━━━━━━━━━━━━━━━━━━━━━\u001b[0m \u001b[32m292.9/292.9 kB\u001b[0m \u001b[31m22.7 MB/s\u001b[0m eta \u001b[36m0:00:00\u001b[0m\n",
            "\u001b[?25hInstalling collected packages: python-bidi, pyclipper, nvidia-nvjitlink-cu12, nvidia-curand-cu12, nvidia-cufft-cu12, nvidia-cuda-runtime-cu12, nvidia-cuda-nvrtc-cu12, nvidia-cuda-cupti-cu12, nvidia-cublas-cu12, ninja, nvidia-cusparse-cu12, nvidia-cudnn-cu12, nvidia-cusolver-cu12, ultralytics-thop, ultralytics, easyocr\n",
            "  Attempting uninstall: nvidia-nvjitlink-cu12\n",
            "    Found existing installation: nvidia-nvjitlink-cu12 12.5.82\n",
            "    Uninstalling nvidia-nvjitlink-cu12-12.5.82:\n",
            "      Successfully uninstalled nvidia-nvjitlink-cu12-12.5.82\n",
            "  Attempting uninstall: nvidia-curand-cu12\n",
            "    Found existing installation: nvidia-curand-cu12 10.3.6.82\n",
            "    Uninstalling nvidia-curand-cu12-10.3.6.82:\n",
            "      Successfully uninstalled nvidia-curand-cu12-10.3.6.82\n",
            "  Attempting uninstall: nvidia-cufft-cu12\n",
            "    Found existing installation: nvidia-cufft-cu12 11.2.3.61\n",
            "    Uninstalling nvidia-cufft-cu12-11.2.3.61:\n",
            "      Successfully uninstalled nvidia-cufft-cu12-11.2.3.61\n",
            "  Attempting uninstall: nvidia-cuda-runtime-cu12\n",
            "    Found existing installation: nvidia-cuda-runtime-cu12 12.5.82\n",
            "    Uninstalling nvidia-cuda-runtime-cu12-12.5.82:\n",
            "      Successfully uninstalled nvidia-cuda-runtime-cu12-12.5.82\n",
            "  Attempting uninstall: nvidia-cuda-nvrtc-cu12\n",
            "    Found existing installation: nvidia-cuda-nvrtc-cu12 12.5.82\n",
            "    Uninstalling nvidia-cuda-nvrtc-cu12-12.5.82:\n",
            "      Successfully uninstalled nvidia-cuda-nvrtc-cu12-12.5.82\n",
            "  Attempting uninstall: nvidia-cuda-cupti-cu12\n",
            "    Found existing installation: nvidia-cuda-cupti-cu12 12.5.82\n",
            "    Uninstalling nvidia-cuda-cupti-cu12-12.5.82:\n",
            "      Successfully uninstalled nvidia-cuda-cupti-cu12-12.5.82\n",
            "  Attempting uninstall: nvidia-cublas-cu12\n",
            "    Found existing installation: nvidia-cublas-cu12 12.5.3.2\n",
            "    Uninstalling nvidia-cublas-cu12-12.5.3.2:\n",
            "      Successfully uninstalled nvidia-cublas-cu12-12.5.3.2\n",
            "  Attempting uninstall: nvidia-cusparse-cu12\n",
            "    Found existing installation: nvidia-cusparse-cu12 12.5.1.3\n",
            "    Uninstalling nvidia-cusparse-cu12-12.5.1.3:\n",
            "      Successfully uninstalled nvidia-cusparse-cu12-12.5.1.3\n",
            "  Attempting uninstall: nvidia-cudnn-cu12\n",
            "    Found existing installation: nvidia-cudnn-cu12 9.3.0.75\n",
            "    Uninstalling nvidia-cudnn-cu12-9.3.0.75:\n",
            "      Successfully uninstalled nvidia-cudnn-cu12-9.3.0.75\n",
            "  Attempting uninstall: nvidia-cusolver-cu12\n",
            "    Found existing installation: nvidia-cusolver-cu12 11.6.3.83\n",
            "    Uninstalling nvidia-cusolver-cu12-11.6.3.83:\n",
            "      Successfully uninstalled nvidia-cusolver-cu12-11.6.3.83\n",
            "Successfully installed easyocr-1.7.2 ninja-1.11.1.4 nvidia-cublas-cu12-12.4.5.8 nvidia-cuda-cupti-cu12-12.4.127 nvidia-cuda-nvrtc-cu12-12.4.127 nvidia-cuda-runtime-cu12-12.4.127 nvidia-cudnn-cu12-9.1.0.70 nvidia-cufft-cu12-11.2.1.3 nvidia-curand-cu12-10.3.5.147 nvidia-cusolver-cu12-11.6.1.9 nvidia-cusparse-cu12-12.3.1.170 nvidia-nvjitlink-cu12-12.4.127 pyclipper-1.3.0.post6 python-bidi-0.6.6 ultralytics-8.3.144 ultralytics-thop-2.0.14\n"
          ]
        }
      ],
      "execution_count": 3
    },
    {
      "cell_type": "code",
      "source": [
        "import os\n",
        "import shutil\n",
        "import xml.etree.ElementTree as ET\n",
        "from PIL import Image\n",
        "\n",
        "# مسیرهای جداگانه\n",
        "source_train_folder = '/content/train'  # عکس و xml های train\n",
        "source_val_folder = '/content/validation'      # عکس و xml های validation\n",
        "dataset_folder = '/content/dataset'\n",
        "\n",
        "# ساخت پوشه ها\n",
        "for subfolder in ['images/train', 'images/val', 'labels/train', 'labels/val']:\n",
        "    os.makedirs(os.path.join(dataset_folder, subfolder), exist_ok=True)\n",
        "\n",
        "def process_folder(source_folder, split):\n",
        "    xml_files = [f for f in os.listdir(source_folder) if f.endswith('.xml')]\n",
        "\n",
        "    for xml_file in xml_files:\n",
        "        xml_path = os.path.join(source_folder, xml_file)\n",
        "        base_filename = os.path.splitext(xml_file)[0]\n",
        "        img_filename = base_filename + '.jpg'\n",
        "        img_path = os.path.join(source_folder, img_filename)\n",
        "\n",
        "        if not os.path.exists(img_path):\n",
        "            print(f\"Image not found: {img_filename}\")\n",
        "            continue\n",
        "\n",
        "        img = Image.open(img_path)\n",
        "        img_w, img_h = img.size\n",
        "\n",
        "        tree = ET.parse(xml_path)\n",
        "        root = tree.getroot()\n",
        "\n",
        "        yolo_lines = []\n",
        "        for obj in root.findall('object'):\n",
        "            label = obj.find('name').text\n",
        "            if label != 'کل ناحیه پلاک':\n",
        "                continue\n",
        "\n",
        "            bbox = obj.find('bndbox')\n",
        "            xmin = float(bbox.find('xmin').text)\n",
        "            ymin = float(bbox.find('ymin').text)\n",
        "            xmax = float(bbox.find('xmax').text)\n",
        "            ymax = float(bbox.find('ymax').text)\n",
        "\n",
        "            x_center = ((xmin + xmax) / 2) / img_w\n",
        "            y_center = ((ymin + ymax) / 2) / img_h\n",
        "            width = (xmax - xmin) / img_w\n",
        "            height = (ymax - ymin) / img_h\n",
        "\n",
        "            yolo_line = f\"0 {x_center:.6f} {y_center:.6f} {width:.6f} {height:.6f}\"\n",
        "            yolo_lines.append(yolo_line)\n",
        "\n",
        "        if yolo_lines:\n",
        "            # کپی عکس\n",
        "            shutil.copy(img_path, os.path.join(dataset_folder, f'images/{split}/{img_filename}'))\n",
        "            # ذخیره لیبل\n",
        "            label_path = os.path.join(dataset_folder, f'labels/{split}/{base_filename}.txt')\n",
        "            with open(label_path, 'w') as f:\n",
        "                f.write('\\n'.join(yolo_lines))\n",
        "\n",
        "# پردازش train\n",
        "process_folder(source_train_folder, 'train')\n",
        "# پردازش val\n",
        "process_folder(source_val_folder, 'val')\n",
        "\n",
        "print(\"✅ آماده سازی دیتا تمام شد.\")"
      ],
      "metadata": {
        "id": "UBBbMB61nM_H",
        "outputId": "ec361e2f-94d8-47ac-d159-10e6182d66bd",
        "trusted": true,
        "colab": {
          "base_uri": "https://localhost:8080/"
        }
      },
      "outputs": [
        {
          "output_type": "stream",
          "name": "stdout",
          "text": [
            "✅ آماده سازی دیتا تمام شد.\n"
          ]
        }
      ],
      "execution_count": null
    },
    {
      "cell_type": "code",
      "source": [
        "data_yaml = \"\"\"\n",
        "path: /content/dataset\n",
        "train: images/train\n",
        "val: images/val\n",
        "\n",
        "names:\n",
        "  0: license-plate\n",
        "\"\"\"\n",
        "\n",
        "with open(\"/content/data.yaml\", \"w\", encoding=\"utf-8\") as f:\n",
        "    f.write(data_yaml)"
      ],
      "metadata": {
        "trusted": true,
        "id": "uotuiZzdelV_"
      },
      "outputs": [],
      "execution_count": null
    },
    {
      "cell_type": "code",
      "source": [
        "from ultralytics import YOLO\n",
        "\n",
        "resume = True\n",
        "\n",
        "if not resume:\n",
        "    model = YOLO('yolov8n.pt')  # یا yolov8m.pt, yolov8l.pt بسته به نیازت\n",
        "else:\n",
        "    model = YOLO('/content/last.pt')  # مدل ذخیره شده قبلی\n",
        "\n",
        "model.train(\n",
        "    data='/content/data.yaml',\n",
        "    resume=True,\n",
        "    epochs=100,\n",
        "    imgsz=640,\n",
        "    batch=8,\n",
        "    name='license_plate_detector',\n",
        "    save_period=5,\n",
        "    project='/content/runs/train',\n",
        "    pretrained=True,\n",
        "    half=True\n",
        ")"
      ],
      "metadata": {
        "id": "mtG3BmWypVMj",
        "outputId": "c027ca21-4383-4cfb-fe2e-300e1b8918e8",
        "trusted": true,
        "colab": {
          "base_uri": "https://localhost:8080/"
        }
      },
      "outputs": [
        {
          "metadata": {
            "tags": null
          },
          "name": "stdout",
          "output_type": "stream",
          "text": [
            "Creating new Ultralytics Settings v0.0.6 file ✅ \n",
            "View Ultralytics Settings with 'yolo settings' or at '/root/.config/Ultralytics/settings.json'\n",
            "Update Settings with 'yolo settings key=value', i.e. 'yolo settings runs_dir=path/to/dir'. For help see https://docs.ultralytics.com/quickstart/#ultralytics-settings.\n",
            "Ultralytics 8.3.141 🚀 Python-3.11.12 torch-2.6.0+cu124 CUDA:0 (Tesla T4, 15095MiB)\n",
            "\u001b[34m\u001b[1mengine/trainer: \u001b[0magnostic_nms=False, amp=True, augment=False, auto_augment=randaugment, batch=8, bgr=0.0, box=7.5, cache=False, cfg=None, classes=None, close_mosaic=10, cls=0.5, conf=None, copy_paste=0.0, copy_paste_mode=flip, cos_lr=False, cutmix=0.0, data=/content/data.yaml, degrees=0.0, deterministic=True, device=None, dfl=1.5, dnn=False, dropout=0.0, dynamic=False, embed=None, epochs=100, erasing=0.4, exist_ok=False, fliplr=0.5, flipud=0.0, format=torchscript, fraction=1.0, freeze=None, half=True, hsv_h=0.015, hsv_s=0.7, hsv_v=0.4, imgsz=640, int8=False, iou=0.7, keras=False, kobj=1.0, line_width=None, lr0=0.01, lrf=0.01, mask_ratio=4, max_det=300, mixup=0.0, mode=train, model=/content/last.pt, momentum=0.937, mosaic=1.0, multi_scale=False, name=license_plate_detector2, nbs=64, nms=False, opset=None, optimize=False, optimizer=auto, overlap_mask=True, patience=100, perspective=0.0, plots=True, pose=12.0, pretrained=True, profile=False, project=/content/runs/train, rect=False, resume=/content/last.pt, retina_masks=False, save=True, save_conf=False, save_crop=False, save_dir=/content/runs/train/license_plate_detector2, save_frames=False, save_json=False, save_period=5, save_txt=False, scale=0.5, seed=0, shear=0.0, show=False, show_boxes=True, show_conf=True, show_labels=True, simplify=True, single_cls=False, source=None, split=val, stream_buffer=False, task=detect, time=None, tracker=botsort.yaml, translate=0.1, val=True, verbose=True, vid_stride=1, visualize=False, warmup_bias_lr=0.0, warmup_epochs=3.0, warmup_momentum=0.8, weight_decay=0.0005, workers=8, workspace=None\n",
            "Downloading https://ultralytics.com/assets/Arial.ttf to '/root/.config/Ultralytics/Arial.ttf'...\n"
          ]
        },
        {
          "metadata": {
            "tags": null
          },
          "name": "stderr",
          "output_type": "stream",
          "text": [
            "100%|██████████| 755k/755k [00:00<00:00, 22.2MB/s]"
          ]
        },
        {
          "metadata": {
            "tags": null
          },
          "name": "stdout",
          "output_type": "stream",
          "text": [
            "\n",
            "                   from  n    params  module                                       arguments                     \n",
            "  0                  -1  1       464  ultralytics.nn.modules.conv.Conv             [3, 16, 3, 2]                 \n",
            "  1                  -1  1      4672  ultralytics.nn.modules.conv.Conv             [16, 32, 3, 2]                \n",
            "  2                  -1  1      7360  ultralytics.nn.modules.block.C2f             [32, 32, 1, True]             \n",
            "  3                  -1  1     18560  ultralytics.nn.modules.conv.Conv             [32, 64, 3, 2]                \n",
            "  4                  -1  2     49664  ultralytics.nn.modules.block.C2f             [64, 64, 2, True]             \n",
            "  5                  -1  1     73984  ultralytics.nn.modules.conv.Conv             [64, 128, 3, 2]               \n"
          ]
        },
        {
          "metadata": {
            "tags": null
          },
          "name": "stderr",
          "output_type": "stream",
          "text": [
            "\n"
          ]
        },
        {
          "metadata": {
            "tags": null
          },
          "name": "stdout",
          "output_type": "stream",
          "text": [
            "  6                  -1  2    197632  ultralytics.nn.modules.block.C2f             [128, 128, 2, True]           \n",
            "  7                  -1  1    295424  ultralytics.nn.modules.conv.Conv             [128, 256, 3, 2]              \n",
            "  8                  -1  1    460288  ultralytics.nn.modules.block.C2f             [256, 256, 1, True]           \n",
            "  9                  -1  1    164608  ultralytics.nn.modules.block.SPPF            [256, 256, 5]                 \n",
            " 10                  -1  1         0  torch.nn.modules.upsampling.Upsample         [None, 2, 'nearest']          \n",
            " 11             [-1, 6]  1         0  ultralytics.nn.modules.conv.Concat           [1]                           \n",
            " 12                  -1  1    148224  ultralytics.nn.modules.block.C2f             [384, 128, 1]                 \n",
            " 13                  -1  1         0  torch.nn.modules.upsampling.Upsample         [None, 2, 'nearest']          \n",
            " 14             [-1, 4]  1         0  ultralytics.nn.modules.conv.Concat           [1]                           \n",
            " 15                  -1  1     37248  ultralytics.nn.modules.block.C2f             [192, 64, 1]                  \n",
            " 16                  -1  1     36992  ultralytics.nn.modules.conv.Conv             [64, 64, 3, 2]                \n",
            " 17            [-1, 12]  1         0  ultralytics.nn.modules.conv.Concat           [1]                           \n",
            " 18                  -1  1    123648  ultralytics.nn.modules.block.C2f             [192, 128, 1]                 \n",
            " 19                  -1  1    147712  ultralytics.nn.modules.conv.Conv             [128, 128, 3, 2]              \n",
            " 20             [-1, 9]  1         0  ultralytics.nn.modules.conv.Concat           [1]                           \n",
            " 21                  -1  1    493056  ultralytics.nn.modules.block.C2f             [384, 256, 1]                 \n",
            " 22        [15, 18, 21]  1    751507  ultralytics.nn.modules.head.Detect           [1, [64, 128, 256]]           \n",
            "Model summary: 129 layers, 3,011,043 parameters, 3,011,027 gradients, 8.2 GFLOPs\n",
            "\n",
            "Transferred 355/355 items from pretrained weights\n",
            "Freezing layer 'model.22.dfl.conv.weight'\n",
            "\u001b[34m\u001b[1mAMP: \u001b[0mrunning Automatic Mixed Precision (AMP) checks...\n",
            "Downloading https://github.com/ultralytics/assets/releases/download/v8.3.0/yolo11n.pt to 'yolo11n.pt'...\n"
          ]
        },
        {
          "metadata": {
            "tags": null
          },
          "name": "stderr",
          "output_type": "stream",
          "text": [
            "100%|██████████| 5.35M/5.35M [00:00<00:00, 110MB/s]\n"
          ]
        },
        {
          "metadata": {
            "tags": null
          },
          "name": "stdout",
          "output_type": "stream",
          "text": [
            "\u001b[34m\u001b[1mAMP: \u001b[0mchecks passed ✅\n",
            "\u001b[34m\u001b[1mtrain: \u001b[0mFast image access ✅ (ping: 0.0±0.0 ms, read: 101.2±27.6 MB/s, size: 659.7 KB)\n"
          ]
        },
        {
          "metadata": {
            "tags": null
          },
          "name": "stderr",
          "output_type": "stream",
          "text": [
            "\u001b[34m\u001b[1mtrain: \u001b[0mScanning /content/dataset/labels/train... 14671 images, 0 backgrounds, 0 corrupt: 100%|██████████| 14671/14671 [00:38<00:00, 379.97it/s]\n"
          ]
        },
        {
          "metadata": {
            "tags": null
          },
          "name": "stdout",
          "output_type": "stream",
          "text": [
            "\u001b[34m\u001b[1mtrain: \u001b[0mNew cache created: /content/dataset/labels/train.cache\n",
            "\u001b[34m\u001b[1malbumentations: \u001b[0mBlur(p=0.01, blur_limit=(3, 7)), MedianBlur(p=0.01, blur_limit=(3, 7)), ToGray(p=0.01, method='weighted_average', num_output_channels=3), CLAHE(p=0.01, clip_limit=(1.0, 4.0), tile_grid_size=(8, 8))\n",
            "\u001b[34m\u001b[1mval: \u001b[0mFast image access ✅ (ping: 0.0±0.0 ms, read: 981.2±1118.6 MB/s, size: 750.4 KB)\n"
          ]
        },
        {
          "metadata": {
            "tags": null
          },
          "name": "stderr",
          "output_type": "stream",
          "text": [
            "\u001b[34m\u001b[1mval: \u001b[0mScanning /content/dataset/labels/val... 2120 images, 0 backgrounds, 0 corrupt: 100%|██████████| 2120/2120 [00:02<00:00, 925.14it/s] "
          ]
        },
        {
          "metadata": {
            "tags": null
          },
          "name": "stdout",
          "output_type": "stream",
          "text": [
            "\u001b[34m\u001b[1mval: \u001b[0mNew cache created: /content/dataset/labels/val.cache\n"
          ]
        },
        {
          "metadata": {
            "tags": null
          },
          "name": "stderr",
          "output_type": "stream",
          "text": [
            "\n"
          ]
        },
        {
          "metadata": {
            "tags": null
          },
          "name": "stdout",
          "output_type": "stream",
          "text": [
            "Plotting labels to /content/runs/train/license_plate_detector2/labels.jpg... \n",
            "\u001b[34m\u001b[1moptimizer:\u001b[0m 'optimizer=auto' found, ignoring 'lr0=0.01' and 'momentum=0.937' and determining best 'optimizer', 'lr0' and 'momentum' automatically... \n",
            "\u001b[34m\u001b[1moptimizer:\u001b[0m SGD(lr=0.01, momentum=0.9) with parameter groups 57 weight(decay=0.0), 64 weight(decay=0.0005), 63 bias(decay=0.0)\n",
            "Resuming training /content/last.pt from epoch 79 to 100 total epochs\n",
            "Image sizes 640 train, 640 val\n",
            "Using 2 dataloader workers\n",
            "Logging results to \u001b[1m/content/runs/train/license_plate_detector2\u001b[0m\n",
            "Starting training for 100 epochs...\n",
            "\n",
            "      Epoch    GPU_mem   box_loss   cls_loss   dfl_loss  Instances       Size\n"
          ]
        },
        {
          "metadata": {
            "tags": null
          },
          "name": "stderr",
          "output_type": "stream",
          "text": [
            "     79/100      1.07G     0.7278     0.3697     0.9026         18        640: 100%|██████████| 1834/1834 [07:45<00:00,  3.94it/s]\n",
            "                 Class     Images  Instances      Box(P          R      mAP50  mAP50-95): 100%|██████████| 133/133 [00:40<00:00,  3.31it/s]\n"
          ]
        },
        {
          "metadata": {
            "tags": null
          },
          "name": "stdout",
          "output_type": "stream",
          "text": [
            "                   all       2120       2494      0.939      0.941      0.975      0.785\n",
            "\n",
            "      Epoch    GPU_mem   box_loss   cls_loss   dfl_loss  Instances       Size\n"
          ]
        },
        {
          "metadata": {
            "tags": null
          },
          "name": "stderr",
          "output_type": "stream",
          "text": [
            "     80/100      1.66G     0.7334     0.3748      0.904         17        640: 100%|██████████| 1834/1834 [07:38<00:00,  4.00it/s]\n",
            "                 Class     Images  Instances      Box(P          R      mAP50  mAP50-95): 100%|██████████| 133/133 [00:36<00:00,  3.63it/s]"
          ]
        },
        {
          "metadata": {
            "tags": null
          },
          "name": "stdout",
          "output_type": "stream",
          "text": [
            "                   all       2120       2494      0.939      0.941      0.975      0.785\n"
          ]
        },
        {
          "metadata": {
            "tags": null
          },
          "name": "stderr",
          "output_type": "stream",
          "text": [
            "\n"
          ]
        },
        {
          "metadata": {
            "tags": null
          },
          "name": "stdout",
          "output_type": "stream",
          "text": [
            "\n",
            "      Epoch    GPU_mem   box_loss   cls_loss   dfl_loss  Instances       Size\n"
          ]
        },
        {
          "metadata": {
            "tags": null
          },
          "name": "stderr",
          "output_type": "stream",
          "text": [
            "     81/100      1.67G     0.7284     0.3714     0.9028         16        640: 100%|██████████| 1834/1834 [07:31<00:00,  4.06it/s]\n",
            "                 Class     Images  Instances      Box(P          R      mAP50  mAP50-95): 100%|██████████| 133/133 [00:38<00:00,  3.50it/s]"
          ]
        },
        {
          "metadata": {
            "tags": null
          },
          "name": "stdout",
          "output_type": "stream",
          "text": [
            "                   all       2120       2494       0.94       0.94      0.975      0.785\n"
          ]
        },
        {
          "metadata": {
            "tags": null
          },
          "name": "stderr",
          "output_type": "stream",
          "text": [
            "\n"
          ]
        },
        {
          "metadata": {
            "tags": null
          },
          "name": "stdout",
          "output_type": "stream",
          "text": [
            "\n",
            "      Epoch    GPU_mem   box_loss   cls_loss   dfl_loss  Instances       Size\n"
          ]
        },
        {
          "metadata": {
            "tags": null
          },
          "name": "stderr",
          "output_type": "stream",
          "text": [
            "     82/100      1.68G     0.7315     0.3743     0.9069         18        640: 100%|██████████| 1834/1834 [07:37<00:00,  4.01it/s]\n",
            "                 Class     Images  Instances      Box(P          R      mAP50  mAP50-95): 100%|██████████| 133/133 [00:37<00:00,  3.59it/s]"
          ]
        },
        {
          "metadata": {
            "tags": null
          },
          "name": "stdout",
          "output_type": "stream",
          "text": [
            "                   all       2120       2494       0.94      0.941      0.975      0.784\n"
          ]
        },
        {
          "metadata": {
            "tags": null
          },
          "name": "stderr",
          "output_type": "stream",
          "text": [
            "\n"
          ]
        },
        {
          "metadata": {
            "tags": null
          },
          "name": "stdout",
          "output_type": "stream",
          "text": [
            "\n",
            "      Epoch    GPU_mem   box_loss   cls_loss   dfl_loss  Instances       Size\n"
          ]
        },
        {
          "metadata": {
            "tags": null
          },
          "name": "stderr",
          "output_type": "stream",
          "text": [
            "     83/100       1.7G     0.7293     0.3679     0.9051         20        640: 100%|██████████| 1834/1834 [07:55<00:00,  3.86it/s]\n",
            "                 Class     Images  Instances      Box(P          R      mAP50  mAP50-95): 100%|██████████| 133/133 [00:37<00:00,  3.54it/s]\n"
          ]
        },
        {
          "metadata": {
            "tags": null
          },
          "name": "stdout",
          "output_type": "stream",
          "text": [
            "                   all       2120       2494      0.939      0.941      0.975      0.785\n",
            "\n",
            "      Epoch    GPU_mem   box_loss   cls_loss   dfl_loss  Instances       Size\n"
          ]
        },
        {
          "output_type": "stream",
          "name": "stderr",
          "text": [
            "     84/100      1.71G     0.7245     0.3658     0.9031         19        640: 100%|██████████| 1834/1834 [07:38<00:00,  4.00it/s]\n",
            "                 Class     Images  Instances      Box(P          R      mAP50  mAP50-95): 100%|██████████| 133/133 [00:37<00:00,  3.53it/s]"
          ]
        },
        {
          "output_type": "stream",
          "name": "stdout",
          "text": [
            "                   all       2120       2494      0.937      0.942      0.975      0.785\n"
          ]
        },
        {
          "output_type": "stream",
          "name": "stderr",
          "text": [
            "\n"
          ]
        },
        {
          "output_type": "stream",
          "name": "stdout",
          "text": [
            "\n",
            "      Epoch    GPU_mem   box_loss   cls_loss   dfl_loss  Instances       Size\n"
          ]
        },
        {
          "output_type": "stream",
          "name": "stderr",
          "text": [
            "     85/100      1.72G     0.7342     0.3669     0.9038         11        640: 100%|██████████| 1834/1834 [07:29<00:00,  4.08it/s]\n",
            "                 Class     Images  Instances      Box(P          R      mAP50  mAP50-95): 100%|██████████| 133/133 [00:37<00:00,  3.51it/s]"
          ]
        },
        {
          "output_type": "stream",
          "name": "stdout",
          "text": [
            "                   all       2120       2494      0.936      0.942      0.975      0.785\n"
          ]
        },
        {
          "output_type": "stream",
          "name": "stderr",
          "text": [
            "\n"
          ]
        },
        {
          "output_type": "stream",
          "name": "stdout",
          "text": [
            "\n",
            "      Epoch    GPU_mem   box_loss   cls_loss   dfl_loss  Instances       Size\n"
          ]
        },
        {
          "output_type": "stream",
          "name": "stderr",
          "text": [
            "     86/100      1.73G     0.7234      0.365     0.8984         12        640: 100%|██████████| 1834/1834 [07:33<00:00,  4.04it/s]\n",
            "                 Class     Images  Instances      Box(P          R      mAP50  mAP50-95): 100%|██████████| 133/133 [00:36<00:00,  3.61it/s]\n"
          ]
        },
        {
          "output_type": "stream",
          "name": "stdout",
          "text": [
            "                   all       2120       2494      0.937      0.943      0.975      0.784\n",
            "\n",
            "      Epoch    GPU_mem   box_loss   cls_loss   dfl_loss  Instances       Size\n"
          ]
        },
        {
          "output_type": "stream",
          "name": "stderr",
          "text": [
            "     87/100      1.74G     0.7202     0.3637      0.898         13        640: 100%|██████████| 1834/1834 [07:29<00:00,  4.08it/s]\n",
            "                 Class     Images  Instances      Box(P          R      mAP50  mAP50-95): 100%|██████████| 133/133 [00:37<00:00,  3.55it/s]"
          ]
        },
        {
          "output_type": "stream",
          "name": "stdout",
          "text": [
            "                   all       2120       2494      0.941      0.941      0.975      0.785\n"
          ]
        },
        {
          "output_type": "stream",
          "name": "stderr",
          "text": [
            "\n"
          ]
        },
        {
          "output_type": "stream",
          "name": "stdout",
          "text": [
            "\n",
            "      Epoch    GPU_mem   box_loss   cls_loss   dfl_loss  Instances       Size\n"
          ]
        },
        {
          "output_type": "stream",
          "name": "stderr",
          "text": [
            "     88/100      1.75G     0.7196     0.3589     0.8984         10        640: 100%|██████████| 1834/1834 [07:31<00:00,  4.06it/s]\n",
            "                 Class     Images  Instances      Box(P          R      mAP50  mAP50-95): 100%|██████████| 133/133 [00:37<00:00,  3.58it/s]"
          ]
        },
        {
          "output_type": "stream",
          "name": "stdout",
          "text": [
            "                   all       2120       2494      0.941      0.941      0.975      0.785\n"
          ]
        },
        {
          "output_type": "stream",
          "name": "stderr",
          "text": [
            "\n"
          ]
        },
        {
          "output_type": "stream",
          "name": "stdout",
          "text": [
            "\n",
            "      Epoch    GPU_mem   box_loss   cls_loss   dfl_loss  Instances       Size\n"
          ]
        },
        {
          "output_type": "stream",
          "name": "stderr",
          "text": [
            "     89/100      1.76G     0.7176     0.3584     0.9019         16        640: 100%|██████████| 1834/1834 [07:36<00:00,  4.01it/s]\n",
            "                 Class     Images  Instances      Box(P          R      mAP50  mAP50-95): 100%|██████████| 133/133 [00:35<00:00,  3.72it/s]"
          ]
        },
        {
          "output_type": "stream",
          "name": "stdout",
          "text": [
            "                   all       2120       2494       0.94      0.941      0.975      0.785\n"
          ]
        },
        {
          "output_type": "stream",
          "name": "stderr",
          "text": [
            "\n"
          ]
        },
        {
          "output_type": "stream",
          "name": "stdout",
          "text": [
            "\n",
            "      Epoch    GPU_mem   box_loss   cls_loss   dfl_loss  Instances       Size\n"
          ]
        },
        {
          "output_type": "stream",
          "name": "stderr",
          "text": [
            "     90/100      1.78G     0.7152     0.3563     0.9014         15        640: 100%|██████████| 1834/1834 [07:30<00:00,  4.07it/s]\n",
            "                 Class     Images  Instances      Box(P          R      mAP50  mAP50-95): 100%|██████████| 133/133 [00:35<00:00,  3.77it/s]"
          ]
        },
        {
          "output_type": "stream",
          "name": "stdout",
          "text": [
            "                   all       2120       2494       0.94      0.941      0.974      0.785\n"
          ]
        },
        {
          "output_type": "stream",
          "name": "stderr",
          "text": [
            "\n"
          ]
        },
        {
          "output_type": "stream",
          "name": "stdout",
          "text": [
            "Closing dataloader mosaic\n",
            "\u001b[34m\u001b[1malbumentations: \u001b[0mBlur(p=0.01, blur_limit=(3, 7)), MedianBlur(p=0.01, blur_limit=(3, 7)), ToGray(p=0.01, method='weighted_average', num_output_channels=3), CLAHE(p=0.01, clip_limit=(1.0, 4.0), tile_grid_size=(8, 8))\n",
            "\n",
            "      Epoch    GPU_mem   box_loss   cls_loss   dfl_loss  Instances       Size\n"
          ]
        },
        {
          "output_type": "stream",
          "name": "stderr",
          "text": [
            "     91/100      1.79G     0.7043     0.3441      0.894          7        640: 100%|██████████| 1834/1834 [07:14<00:00,  4.22it/s]\n",
            "                 Class     Images  Instances      Box(P          R      mAP50  mAP50-95): 100%|██████████| 133/133 [00:35<00:00,  3.77it/s]"
          ]
        },
        {
          "output_type": "stream",
          "name": "stdout",
          "text": [
            "                   all       2120       2494       0.95      0.929      0.974      0.785\n"
          ]
        },
        {
          "output_type": "stream",
          "name": "stderr",
          "text": [
            "\n"
          ]
        },
        {
          "output_type": "stream",
          "name": "stdout",
          "text": [
            "\n",
            "      Epoch    GPU_mem   box_loss   cls_loss   dfl_loss  Instances       Size\n"
          ]
        },
        {
          "output_type": "stream",
          "name": "stderr",
          "text": [
            "     92/100       1.8G     0.6938     0.3375     0.8952          7        640: 100%|██████████| 1834/1834 [07:19<00:00,  4.17it/s]\n",
            "                 Class     Images  Instances      Box(P          R      mAP50  mAP50-95): 100%|██████████| 133/133 [00:37<00:00,  3.56it/s]"
          ]
        },
        {
          "output_type": "stream",
          "name": "stdout",
          "text": [
            "                   all       2120       2494       0.95      0.929      0.974      0.785\n"
          ]
        },
        {
          "output_type": "stream",
          "name": "stderr",
          "text": [
            "\n"
          ]
        },
        {
          "output_type": "stream",
          "name": "stdout",
          "text": [
            "\n",
            "      Epoch    GPU_mem   box_loss   cls_loss   dfl_loss  Instances       Size\n"
          ]
        },
        {
          "output_type": "stream",
          "name": "stderr",
          "text": [
            "     93/100      1.81G     0.6903     0.3343     0.8949          8        640: 100%|██████████| 1834/1834 [07:18<00:00,  4.18it/s]\n",
            "                 Class     Images  Instances      Box(P          R      mAP50  mAP50-95): 100%|██████████| 133/133 [00:37<00:00,  3.55it/s]\n"
          ]
        },
        {
          "output_type": "stream",
          "name": "stdout",
          "text": [
            "                   all       2120       2494       0.95      0.929      0.974      0.785\n",
            "\n",
            "      Epoch    GPU_mem   box_loss   cls_loss   dfl_loss  Instances       Size\n"
          ]
        },
        {
          "output_type": "stream",
          "name": "stderr",
          "text": [
            "     94/100      1.82G     0.6894     0.3328       0.89          8        640: 100%|██████████| 1834/1834 [07:22<00:00,  4.15it/s]\n",
            "                 Class     Images  Instances      Box(P          R      mAP50  mAP50-95): 100%|██████████| 133/133 [00:35<00:00,  3.77it/s]"
          ]
        },
        {
          "output_type": "stream",
          "name": "stdout",
          "text": [
            "                   all       2120       2494      0.951      0.929      0.974      0.786\n"
          ]
        },
        {
          "output_type": "stream",
          "name": "stderr",
          "text": [
            "\n"
          ]
        },
        {
          "output_type": "stream",
          "name": "stdout",
          "text": [
            "\n",
            "      Epoch    GPU_mem   box_loss   cls_loss   dfl_loss  Instances       Size\n"
          ]
        },
        {
          "output_type": "stream",
          "name": "stderr",
          "text": [
            "     95/100      1.83G     0.6815     0.3323     0.8837          7        640: 100%|██████████| 1834/1834 [07:16<00:00,  4.21it/s]\n",
            "                 Class     Images  Instances      Box(P          R      mAP50  mAP50-95): 100%|██████████| 133/133 [00:37<00:00,  3.59it/s]"
          ]
        },
        {
          "output_type": "stream",
          "name": "stdout",
          "text": [
            "                   all       2120       2494      0.953      0.927      0.974      0.787\n"
          ]
        },
        {
          "output_type": "stream",
          "name": "stderr",
          "text": [
            "\n"
          ]
        },
        {
          "output_type": "stream",
          "name": "stdout",
          "text": [
            "\n",
            "      Epoch    GPU_mem   box_loss   cls_loss   dfl_loss  Instances       Size\n"
          ]
        },
        {
          "output_type": "stream",
          "name": "stderr",
          "text": [
            "     96/100      1.84G     0.6825     0.3267     0.8875          8        640: 100%|██████████| 1834/1834 [07:16<00:00,  4.20it/s]\n",
            "                 Class     Images  Instances      Box(P          R      mAP50  mAP50-95): 100%|██████████| 133/133 [00:37<00:00,  3.56it/s]"
          ]
        },
        {
          "output_type": "stream",
          "name": "stdout",
          "text": [
            "                   all       2120       2494       0.95       0.93      0.974      0.786\n"
          ]
        },
        {
          "output_type": "stream",
          "name": "stderr",
          "text": [
            "\n"
          ]
        },
        {
          "output_type": "stream",
          "name": "stdout",
          "text": [
            "\n",
            "      Epoch    GPU_mem   box_loss   cls_loss   dfl_loss  Instances       Size\n"
          ]
        },
        {
          "output_type": "stream",
          "name": "stderr",
          "text": [
            "     97/100      1.86G     0.6758     0.3246     0.8837          9        640: 100%|██████████| 1834/1834 [07:20<00:00,  4.17it/s]\n",
            "                 Class     Images  Instances      Box(P          R      mAP50  mAP50-95): 100%|██████████| 133/133 [00:36<00:00,  3.65it/s]"
          ]
        },
        {
          "output_type": "stream",
          "name": "stdout",
          "text": [
            "                   all       2120       2494       0.95      0.931      0.974      0.786\n"
          ]
        },
        {
          "output_type": "stream",
          "name": "stderr",
          "text": [
            "\n"
          ]
        },
        {
          "output_type": "stream",
          "name": "stdout",
          "text": [
            "\n",
            "      Epoch    GPU_mem   box_loss   cls_loss   dfl_loss  Instances       Size\n"
          ]
        },
        {
          "output_type": "stream",
          "name": "stderr",
          "text": [
            "     98/100      1.87G     0.6753     0.3225     0.8827          9        640: 100%|██████████| 1834/1834 [07:18<00:00,  4.18it/s]\n",
            "                 Class     Images  Instances      Box(P          R      mAP50  mAP50-95): 100%|██████████| 133/133 [00:34<00:00,  3.84it/s]"
          ]
        },
        {
          "output_type": "stream",
          "name": "stdout",
          "text": [
            "                   all       2120       2494      0.944      0.937      0.974      0.787\n"
          ]
        },
        {
          "output_type": "stream",
          "name": "stderr",
          "text": [
            "\n"
          ]
        },
        {
          "output_type": "stream",
          "name": "stdout",
          "text": [
            "\n",
            "      Epoch    GPU_mem   box_loss   cls_loss   dfl_loss  Instances       Size\n"
          ]
        },
        {
          "output_type": "stream",
          "name": "stderr",
          "text": [
            "     99/100      1.88G     0.6729     0.3209     0.8856          7        640: 100%|██████████| 1834/1834 [07:10<00:00,  4.26it/s]\n",
            "                 Class     Images  Instances      Box(P          R      mAP50  mAP50-95): 100%|██████████| 133/133 [00:36<00:00,  3.61it/s]"
          ]
        },
        {
          "output_type": "stream",
          "name": "stdout",
          "text": [
            "                   all       2120       2494      0.944      0.937      0.974      0.786\n"
          ]
        },
        {
          "output_type": "stream",
          "name": "stderr",
          "text": [
            "\n"
          ]
        },
        {
          "output_type": "stream",
          "name": "stdout",
          "text": [
            "\n",
            "      Epoch    GPU_mem   box_loss   cls_loss   dfl_loss  Instances       Size\n"
          ]
        },
        {
          "output_type": "stream",
          "name": "stderr",
          "text": [
            "    100/100      1.89G     0.6683     0.3167     0.8831         14        640: 100%|██████████| 1834/1834 [07:17<00:00,  4.19it/s]\n",
            "                 Class     Images  Instances      Box(P          R      mAP50  mAP50-95): 100%|██████████| 133/133 [00:35<00:00,  3.73it/s]\n"
          ]
        },
        {
          "output_type": "stream",
          "name": "stdout",
          "text": [
            "                   all       2120       2494      0.945      0.938      0.974      0.787\n",
            "\n",
            "22 epochs completed in 2.965 hours.\n",
            "Optimizer stripped from /content/runs/train/license_plate_detector2/weights/last.pt, 6.2MB\n",
            "Optimizer stripped from /content/runs/train/license_plate_detector2/weights/best.pt, 6.2MB\n",
            "\n",
            "Validating /content/runs/train/license_plate_detector2/weights/best.pt...\n",
            "Ultralytics 8.3.141 🚀 Python-3.11.12 torch-2.6.0+cu124 CUDA:0 (Tesla T4, 15095MiB)\n",
            "Model summary (fused): 72 layers, 3,005,843 parameters, 0 gradients, 8.1 GFLOPs\n"
          ]
        },
        {
          "output_type": "stream",
          "name": "stderr",
          "text": [
            "                 Class     Images  Instances      Box(P          R      mAP50  mAP50-95): 100%|██████████| 133/133 [00:35<00:00,  3.76it/s]\n"
          ]
        },
        {
          "output_type": "stream",
          "name": "stdout",
          "text": [
            "                   all       2120       2494      0.954      0.926      0.974      0.787\n",
            "Speed: 0.3ms preprocess, 2.6ms inference, 0.0ms loss, 2.9ms postprocess per image\n",
            "Results saved to \u001b[1m/content/runs/train/license_plate_detector2\u001b[0m\n"
          ]
        },
        {
          "output_type": "execute_result",
          "data": {
            "text/plain": [
              "ultralytics.utils.metrics.DetMetrics object with attributes:\n",
              "\n",
              "ap_class_index: array([0])\n",
              "box: ultralytics.utils.metrics.Metric object\n",
              "confusion_matrix: <ultralytics.utils.metrics.ConfusionMatrix object at 0x79318cbd0e50>\n",
              "curves: ['Precision-Recall(B)', 'F1-Confidence(B)', 'Precision-Confidence(B)', 'Recall-Confidence(B)']\n",
              "curves_results: [[array([          0,    0.001001,    0.002002,    0.003003,    0.004004,    0.005005,    0.006006,    0.007007,    0.008008,    0.009009,     0.01001,    0.011011,    0.012012,    0.013013,    0.014014,    0.015015,    0.016016,    0.017017,    0.018018,    0.019019,     0.02002,    0.021021,    0.022022,    0.023023,\n",
              "          0.024024,    0.025025,    0.026026,    0.027027,    0.028028,    0.029029,     0.03003,    0.031031,    0.032032,    0.033033,    0.034034,    0.035035,    0.036036,    0.037037,    0.038038,    0.039039,     0.04004,    0.041041,    0.042042,    0.043043,    0.044044,    0.045045,    0.046046,    0.047047,\n",
              "          0.048048,    0.049049,     0.05005,    0.051051,    0.052052,    0.053053,    0.054054,    0.055055,    0.056056,    0.057057,    0.058058,    0.059059,     0.06006,    0.061061,    0.062062,    0.063063,    0.064064,    0.065065,    0.066066,    0.067067,    0.068068,    0.069069,     0.07007,    0.071071,\n",
              "          0.072072,    0.073073,    0.074074,    0.075075,    0.076076,    0.077077,    0.078078,    0.079079,     0.08008,    0.081081,    0.082082,    0.083083,    0.084084,    0.085085,    0.086086,    0.087087,    0.088088,    0.089089,     0.09009,    0.091091,    0.092092,    0.093093,    0.094094,    0.095095,\n",
              "          0.096096,    0.097097,    0.098098,    0.099099,      0.1001,      0.1011,      0.1021,      0.1031,      0.1041,     0.10511,     0.10611,     0.10711,     0.10811,     0.10911,     0.11011,     0.11111,     0.11211,     0.11311,     0.11411,     0.11512,     0.11612,     0.11712,     0.11812,     0.11912,\n",
              "           0.12012,     0.12112,     0.12212,     0.12312,     0.12412,     0.12513,     0.12613,     0.12713,     0.12813,     0.12913,     0.13013,     0.13113,     0.13213,     0.13313,     0.13413,     0.13514,     0.13614,     0.13714,     0.13814,     0.13914,     0.14014,     0.14114,     0.14214,     0.14314,\n",
              "           0.14414,     0.14515,     0.14615,     0.14715,     0.14815,     0.14915,     0.15015,     0.15115,     0.15215,     0.15315,     0.15415,     0.15516,     0.15616,     0.15716,     0.15816,     0.15916,     0.16016,     0.16116,     0.16216,     0.16316,     0.16416,     0.16517,     0.16617,     0.16717,\n",
              "           0.16817,     0.16917,     0.17017,     0.17117,     0.17217,     0.17317,     0.17417,     0.17518,     0.17618,     0.17718,     0.17818,     0.17918,     0.18018,     0.18118,     0.18218,     0.18318,     0.18418,     0.18519,     0.18619,     0.18719,     0.18819,     0.18919,     0.19019,     0.19119,\n",
              "           0.19219,     0.19319,     0.19419,      0.1952,      0.1962,      0.1972,      0.1982,      0.1992,      0.2002,      0.2012,      0.2022,      0.2032,      0.2042,     0.20521,     0.20621,     0.20721,     0.20821,     0.20921,     0.21021,     0.21121,     0.21221,     0.21321,     0.21421,     0.21522,\n",
              "           0.21622,     0.21722,     0.21822,     0.21922,     0.22022,     0.22122,     0.22222,     0.22322,     0.22422,     0.22523,     0.22623,     0.22723,     0.22823,     0.22923,     0.23023,     0.23123,     0.23223,     0.23323,     0.23423,     0.23524,     0.23624,     0.23724,     0.23824,     0.23924,\n",
              "           0.24024,     0.24124,     0.24224,     0.24324,     0.24424,     0.24525,     0.24625,     0.24725,     0.24825,     0.24925,     0.25025,     0.25125,     0.25225,     0.25325,     0.25425,     0.25526,     0.25626,     0.25726,     0.25826,     0.25926,     0.26026,     0.26126,     0.26226,     0.26326,\n",
              "           0.26426,     0.26527,     0.26627,     0.26727,     0.26827,     0.26927,     0.27027,     0.27127,     0.27227,     0.27327,     0.27427,     0.27528,     0.27628,     0.27728,     0.27828,     0.27928,     0.28028,     0.28128,     0.28228,     0.28328,     0.28428,     0.28529,     0.28629,     0.28729,\n",
              "           0.28829,     0.28929,     0.29029,     0.29129,     0.29229,     0.29329,     0.29429,      0.2953,      0.2963,      0.2973,      0.2983,      0.2993,      0.3003,      0.3013,      0.3023,      0.3033,      0.3043,     0.30531,     0.30631,     0.30731,     0.30831,     0.30931,     0.31031,     0.31131,\n",
              "           0.31231,     0.31331,     0.31431,     0.31532,     0.31632,     0.31732,     0.31832,     0.31932,     0.32032,     0.32132,     0.32232,     0.32332,     0.32432,     0.32533,     0.32633,     0.32733,     0.32833,     0.32933,     0.33033,     0.33133,     0.33233,     0.33333,     0.33433,     0.33534,\n",
              "           0.33634,     0.33734,     0.33834,     0.33934,     0.34034,     0.34134,     0.34234,     0.34334,     0.34434,     0.34535,     0.34635,     0.34735,     0.34835,     0.34935,     0.35035,     0.35135,     0.35235,     0.35335,     0.35435,     0.35536,     0.35636,     0.35736,     0.35836,     0.35936,\n",
              "           0.36036,     0.36136,     0.36236,     0.36336,     0.36436,     0.36537,     0.36637,     0.36737,     0.36837,     0.36937,     0.37037,     0.37137,     0.37237,     0.37337,     0.37437,     0.37538,     0.37638,     0.37738,     0.37838,     0.37938,     0.38038,     0.38138,     0.38238,     0.38338,\n",
              "           0.38438,     0.38539,     0.38639,     0.38739,     0.38839,     0.38939,     0.39039,     0.39139,     0.39239,     0.39339,     0.39439,      0.3954,      0.3964,      0.3974,      0.3984,      0.3994,      0.4004,      0.4014,      0.4024,      0.4034,      0.4044,     0.40541,     0.40641,     0.40741,\n",
              "           0.40841,     0.40941,     0.41041,     0.41141,     0.41241,     0.41341,     0.41441,     0.41542,     0.41642,     0.41742,     0.41842,     0.41942,     0.42042,     0.42142,     0.42242,     0.42342,     0.42442,     0.42543,     0.42643,     0.42743,     0.42843,     0.42943,     0.43043,     0.43143,\n",
              "           0.43243,     0.43343,     0.43443,     0.43544,     0.43644,     0.43744,     0.43844,     0.43944,     0.44044,     0.44144,     0.44244,     0.44344,     0.44444,     0.44545,     0.44645,     0.44745,     0.44845,     0.44945,     0.45045,     0.45145,     0.45245,     0.45345,     0.45445,     0.45546,\n",
              "           0.45646,     0.45746,     0.45846,     0.45946,     0.46046,     0.46146,     0.46246,     0.46346,     0.46446,     0.46547,     0.46647,     0.46747,     0.46847,     0.46947,     0.47047,     0.47147,     0.47247,     0.47347,     0.47447,     0.47548,     0.47648,     0.47748,     0.47848,     0.47948,\n",
              "           0.48048,     0.48148,     0.48248,     0.48348,     0.48448,     0.48549,     0.48649,     0.48749,     0.48849,     0.48949,     0.49049,     0.49149,     0.49249,     0.49349,     0.49449,      0.4955,      0.4965,      0.4975,      0.4985,      0.4995,      0.5005,      0.5015,      0.5025,      0.5035,\n",
              "            0.5045,     0.50551,     0.50651,     0.50751,     0.50851,     0.50951,     0.51051,     0.51151,     0.51251,     0.51351,     0.51451,     0.51552,     0.51652,     0.51752,     0.51852,     0.51952,     0.52052,     0.52152,     0.52252,     0.52352,     0.52452,     0.52553,     0.52653,     0.52753,\n",
              "           0.52853,     0.52953,     0.53053,     0.53153,     0.53253,     0.53353,     0.53453,     0.53554,     0.53654,     0.53754,     0.53854,     0.53954,     0.54054,     0.54154,     0.54254,     0.54354,     0.54454,     0.54555,     0.54655,     0.54755,     0.54855,     0.54955,     0.55055,     0.55155,\n",
              "           0.55255,     0.55355,     0.55455,     0.55556,     0.55656,     0.55756,     0.55856,     0.55956,     0.56056,     0.56156,     0.56256,     0.56356,     0.56456,     0.56557,     0.56657,     0.56757,     0.56857,     0.56957,     0.57057,     0.57157,     0.57257,     0.57357,     0.57457,     0.57558,\n",
              "           0.57658,     0.57758,     0.57858,     0.57958,     0.58058,     0.58158,     0.58258,     0.58358,     0.58458,     0.58559,     0.58659,     0.58759,     0.58859,     0.58959,     0.59059,     0.59159,     0.59259,     0.59359,     0.59459,      0.5956,      0.5966,      0.5976,      0.5986,      0.5996,\n",
              "            0.6006,      0.6016,      0.6026,      0.6036,      0.6046,     0.60561,     0.60661,     0.60761,     0.60861,     0.60961,     0.61061,     0.61161,     0.61261,     0.61361,     0.61461,     0.61562,     0.61662,     0.61762,     0.61862,     0.61962,     0.62062,     0.62162,     0.62262,     0.62362,\n",
              "           0.62462,     0.62563,     0.62663,     0.62763,     0.62863,     0.62963,     0.63063,     0.63163,     0.63263,     0.63363,     0.63463,     0.63564,     0.63664,     0.63764,     0.63864,     0.63964,     0.64064,     0.64164,     0.64264,     0.64364,     0.64464,     0.64565,     0.64665,     0.64765,\n",
              "           0.64865,     0.64965,     0.65065,     0.65165,     0.65265,     0.65365,     0.65465,     0.65566,     0.65666,     0.65766,     0.65866,     0.65966,     0.66066,     0.66166,     0.66266,     0.66366,     0.66466,     0.66567,     0.66667,     0.66767,     0.66867,     0.66967,     0.67067,     0.67167,\n",
              "           0.67267,     0.67367,     0.67467,     0.67568,     0.67668,     0.67768,     0.67868,     0.67968,     0.68068,     0.68168,     0.68268,     0.68368,     0.68468,     0.68569,     0.68669,     0.68769,     0.68869,     0.68969,     0.69069,     0.69169,     0.69269,     0.69369,     0.69469,      0.6957,\n",
              "            0.6967,      0.6977,      0.6987,      0.6997,      0.7007,      0.7017,      0.7027,      0.7037,      0.7047,     0.70571,     0.70671,     0.70771,     0.70871,     0.70971,     0.71071,     0.71171,     0.71271,     0.71371,     0.71471,     0.71572,     0.71672,     0.71772,     0.71872,     0.71972,\n",
              "           0.72072,     0.72172,     0.72272,     0.72372,     0.72472,     0.72573,     0.72673,     0.72773,     0.72873,     0.72973,     0.73073,     0.73173,     0.73273,     0.73373,     0.73473,     0.73574,     0.73674,     0.73774,     0.73874,     0.73974,     0.74074,     0.74174,     0.74274,     0.74374,\n",
              "           0.74474,     0.74575,     0.74675,     0.74775,     0.74875,     0.74975,     0.75075,     0.75175,     0.75275,     0.75375,     0.75475,     0.75576,     0.75676,     0.75776,     0.75876,     0.75976,     0.76076,     0.76176,     0.76276,     0.76376,     0.76476,     0.76577,     0.76677,     0.76777,\n",
              "           0.76877,     0.76977,     0.77077,     0.77177,     0.77277,     0.77377,     0.77477,     0.77578,     0.77678,     0.77778,     0.77878,     0.77978,     0.78078,     0.78178,     0.78278,     0.78378,     0.78478,     0.78579,     0.78679,     0.78779,     0.78879,     0.78979,     0.79079,     0.79179,\n",
              "           0.79279,     0.79379,     0.79479,      0.7958,      0.7968,      0.7978,      0.7988,      0.7998,      0.8008,      0.8018,      0.8028,      0.8038,      0.8048,     0.80581,     0.80681,     0.80781,     0.80881,     0.80981,     0.81081,     0.81181,     0.81281,     0.81381,     0.81481,     0.81582,\n",
              "           0.81682,     0.81782,     0.81882,     0.81982,     0.82082,     0.82182,     0.82282,     0.82382,     0.82482,     0.82583,     0.82683,     0.82783,     0.82883,     0.82983,     0.83083,     0.83183,     0.83283,     0.83383,     0.83483,     0.83584,     0.83684,     0.83784,     0.83884,     0.83984,\n",
              "           0.84084,     0.84184,     0.84284,     0.84384,     0.84484,     0.84585,     0.84685,     0.84785,     0.84885,     0.84985,     0.85085,     0.85185,     0.85285,     0.85385,     0.85485,     0.85586,     0.85686,     0.85786,     0.85886,     0.85986,     0.86086,     0.86186,     0.86286,     0.86386,\n",
              "           0.86486,     0.86587,     0.86687,     0.86787,     0.86887,     0.86987,     0.87087,     0.87187,     0.87287,     0.87387,     0.87487,     0.87588,     0.87688,     0.87788,     0.87888,     0.87988,     0.88088,     0.88188,     0.88288,     0.88388,     0.88488,     0.88589,     0.88689,     0.88789,\n",
              "           0.88889,     0.88989,     0.89089,     0.89189,     0.89289,     0.89389,     0.89489,      0.8959,      0.8969,      0.8979,      0.8989,      0.8999,      0.9009,      0.9019,      0.9029,      0.9039,      0.9049,     0.90591,     0.90691,     0.90791,     0.90891,     0.90991,     0.91091,     0.91191,\n",
              "           0.91291,     0.91391,     0.91491,     0.91592,     0.91692,     0.91792,     0.91892,     0.91992,     0.92092,     0.92192,     0.92292,     0.92392,     0.92492,     0.92593,     0.92693,     0.92793,     0.92893,     0.92993,     0.93093,     0.93193,     0.93293,     0.93393,     0.93493,     0.93594,\n",
              "           0.93694,     0.93794,     0.93894,     0.93994,     0.94094,     0.94194,     0.94294,     0.94394,     0.94494,     0.94595,     0.94695,     0.94795,     0.94895,     0.94995,     0.95095,     0.95195,     0.95295,     0.95395,     0.95495,     0.95596,     0.95696,     0.95796,     0.95896,     0.95996,\n",
              "           0.96096,     0.96196,     0.96296,     0.96396,     0.96496,     0.96597,     0.96697,     0.96797,     0.96897,     0.96997,     0.97097,     0.97197,     0.97297,     0.97397,     0.97497,     0.97598,     0.97698,     0.97798,     0.97898,     0.97998,     0.98098,     0.98198,     0.98298,     0.98398,\n",
              "           0.98498,     0.98599,     0.98699,     0.98799,     0.98899,     0.98999,     0.99099,     0.99199,     0.99299,     0.99399,     0.99499,       0.996,       0.997,       0.998,       0.999,           1]), array([[          1,           1,           1,           1,           1,           1,           1,           1,           1,           1,           1,           1,           1,           1,           1,           1,           1,           1,           1,           1,           1,           1,           1,\n",
              "                  1,           1,           1,           1,           1,           1,           1,           1,           1,           1,           1,           1,           1,           1,           1,           1,           1,           1,           1,           1,           1,           1,           1,\n",
              "                  1,           1,           1,           1,           1,           1,           1,           1,           1,           1,           1,           1,           1,           1,           1,           1,           1,           1,           1,           1,           1,           1,           1,\n",
              "                  1,           1,           1,           1,           1,           1,           1,           1,           1,           1,           1,           1,           1,           1,           1,           1,           1,           1,           1,           1,           1,           1,           1,\n",
              "                  1,           1,           1,           1,           1,           1,           1,           1,           1,           1,           1,           1,           1,           1,           1,           1,           1,           1,           1,           1,           1,           1,           1,\n",
              "                  1,           1,           1,           1,           1,           1,           1,           1,           1,           1,           1,           1,           1,           1,           1,           1,           1,           1,           1,           1,           1,           1,           1,\n",
              "                  1,           1,           1,           1,           1,           1,           1,           1,           1,           1,           1,           1,           1,           1,           1,           1,           1,           1,           1,           1,           1,           1,           1,\n",
              "                  1,           1,           1,           1,     0.99813,     0.99813,     0.99813,     0.99813,     0.99813,     0.99813,     0.99813,     0.99813,     0.99813,     0.99813,     0.99813,     0.99813,     0.99813,     0.99813,     0.99813,     0.99813,     0.99813,     0.99813,     0.99813,\n",
              "            0.99813,     0.99813,     0.99813,     0.99813,     0.99813,     0.99813,     0.99813,     0.99813,     0.99813,     0.99813,     0.99813,     0.99813,     0.99813,     0.99813,     0.99813,     0.99813,     0.99813,     0.99813,     0.99813,     0.99813,     0.99813,     0.99813,     0.99813,\n",
              "            0.99813,     0.99813,     0.99813,     0.99813,     0.99813,     0.99813,     0.99813,     0.99813,     0.99718,     0.99718,     0.99718,     0.99718,     0.99718,     0.99718,     0.99718,     0.99718,     0.99718,     0.99718,     0.99718,     0.99718,     0.99718,     0.99718,     0.99718,\n",
              "            0.99718,     0.99718,     0.99718,     0.99718,     0.99718,     0.99718,     0.99718,     0.99718,     0.99718,     0.99718,     0.99718,     0.99718,     0.99718,     0.99718,     0.99718,     0.99718,     0.99718,     0.99718,     0.99718,     0.99718,     0.99718,     0.99718,     0.99718,\n",
              "            0.99718,     0.99718,     0.99718,     0.99718,     0.99718,     0.99718,     0.99718,     0.99718,     0.99718,     0.99718,     0.99718,     0.99718,     0.99718,     0.99718,     0.99718,     0.99718,     0.99718,     0.99718,     0.99718,     0.99718,     0.99718,     0.99718,     0.99718,\n",
              "            0.99718,     0.99718,     0.99718,     0.99718,     0.99718,     0.99718,     0.99718,     0.99718,     0.99604,     0.99604,     0.99604,     0.99604,     0.99604,     0.99604,     0.99604,     0.99604,     0.99604,     0.99604,     0.99604,     0.99604,     0.99604,     0.99604,     0.99604,\n",
              "            0.99604,     0.99604,     0.99604,     0.99604,     0.99545,     0.99545,     0.99545,     0.99545,     0.99545,     0.99545,     0.99545,     0.99545,     0.99545,     0.99545,     0.99545,     0.99545,     0.99545,     0.99545,     0.99545,     0.99545,     0.99545,     0.99545,     0.99545,\n",
              "            0.99545,     0.99545,     0.99545,     0.99545,     0.99545,     0.99545,     0.99545,     0.99545,     0.99545,     0.99545,     0.99545,     0.99545,     0.99545,     0.99545,     0.99545,     0.99545,     0.99545,     0.99545,     0.99545,     0.99545,     0.99545,     0.99545,     0.99545,\n",
              "            0.99545,     0.99545,     0.99545,     0.99545,     0.99545,     0.99545,     0.99502,     0.99502,     0.99502,     0.99502,     0.99502,     0.99502,     0.99502,     0.99502,     0.99502,     0.99502,     0.99502,     0.99502,     0.99502,     0.99502,     0.99502,     0.99502,     0.99502,\n",
              "            0.99502,     0.99502,     0.99502,     0.99502,     0.99502,     0.99502,     0.99502,     0.99502,     0.99502,     0.99502,     0.99502,     0.99502,     0.99502,     0.99502,     0.99502,     0.99502,     0.99502,     0.99502,     0.99502,     0.99502,     0.99502,     0.99502,     0.99502,\n",
              "            0.99502,     0.99502,     0.99502,     0.99502,     0.99502,     0.99502,     0.99502,     0.99502,     0.99502,     0.99502,     0.99502,     0.99502,     0.99502,     0.99502,     0.99502,     0.99502,     0.99502,     0.99502,     0.99502,     0.99502,     0.99502,     0.99502,     0.99502,\n",
              "            0.99502,     0.99502,     0.99502,     0.99502,     0.99502,     0.99502,     0.99502,     0.99502,     0.99502,     0.99502,     0.99502,     0.99502,     0.99502,     0.99502,     0.99502,     0.99502,     0.99502,     0.99502,     0.99502,     0.99502,     0.99502,     0.99502,     0.99502,\n",
              "            0.99502,     0.99502,     0.99502,     0.99502,     0.99502,     0.99502,     0.99502,     0.99502,     0.99502,     0.99502,     0.99502,     0.99502,     0.99502,     0.99502,     0.99502,     0.99502,     0.99502,     0.99502,     0.99502,     0.99502,     0.99502,     0.99502,     0.99502,\n",
              "            0.99502,     0.99502,     0.99502,     0.99502,     0.99502,     0.99502,     0.99502,     0.99502,     0.99502,     0.99502,     0.99502,     0.99502,     0.99502,     0.99502,     0.99502,     0.99502,     0.99502,     0.99502,     0.99502,     0.99502,     0.99502,     0.99502,     0.99502,\n",
              "            0.99502,     0.99502,     0.99502,     0.99502,     0.99502,     0.99502,     0.99502,     0.99502,     0.99502,     0.99502,     0.99502,     0.99502,     0.99502,     0.99502,     0.99502,     0.99502,     0.99502,     0.99502,     0.99502,     0.99502,     0.99502,     0.99502,     0.99502,\n",
              "            0.99502,     0.99502,     0.99502,     0.99502,     0.99502,     0.99502,     0.99502,     0.99502,     0.99502,     0.99502,     0.99502,     0.99502,     0.99502,     0.99502,     0.99502,     0.99502,     0.99502,     0.99502,     0.99502,     0.99502,     0.99502,     0.99502,     0.99502,\n",
              "            0.99502,     0.99502,     0.99502,     0.99502,     0.99502,     0.99502,     0.99502,     0.99502,     0.99502,     0.99502,     0.99502,     0.99502,     0.99502,     0.99502,     0.99502,     0.99502,     0.99502,     0.99502,     0.99502,     0.99502,     0.99502,     0.99502,     0.99502,\n",
              "            0.99502,     0.99502,     0.99502,     0.99502,     0.99502,     0.99502,     0.99502,     0.99502,     0.99502,     0.99473,     0.99473,     0.99473,     0.99473,     0.99473,     0.99473,     0.99473,     0.99473,     0.99473,     0.99473,     0.99473,     0.99473,     0.99473,     0.99473,\n",
              "            0.99473,     0.99473,     0.99473,     0.99473,     0.99473,     0.99473,     0.99473,     0.99473,     0.99473,     0.99473,     0.99473,     0.99473,     0.99473,     0.99473,     0.99473,     0.99473,     0.99473,     0.99473,     0.99473,     0.99473,     0.99473,     0.99473,     0.99473,\n",
              "            0.99473,     0.99473,     0.99473,     0.99473,     0.99473,     0.99473,     0.99473,     0.99423,     0.99423,     0.99423,     0.99423,     0.99423,     0.99423,     0.99423,     0.99423,     0.99423,     0.99423,     0.99423,     0.99423,     0.99423,     0.99423,     0.99423,     0.99423,\n",
              "            0.99423,     0.99423,     0.99423,     0.99423,     0.99423,     0.99423,     0.99423,     0.99423,     0.99423,     0.99423,     0.99423,     0.99423,     0.99423,     0.99423,     0.99423,     0.99423,     0.99423,     0.99423,     0.99423,     0.99423,     0.99423,     0.99423,     0.99423,\n",
              "            0.99423,     0.99423,     0.99423,     0.99423,     0.99423,     0.99423,     0.99423,     0.99423,     0.99423,     0.99423,     0.99423,     0.99423,     0.99423,     0.99423,     0.99423,     0.99423,     0.99423,     0.99423,     0.99423,     0.99423,     0.99423,     0.99423,     0.99423,\n",
              "            0.99423,     0.99423,     0.99423,     0.99423,     0.99423,     0.99423,     0.99423,     0.99423,     0.99423,     0.99423,     0.99423,     0.99423,     0.99423,     0.99423,     0.99423,     0.99423,     0.99423,     0.99423,     0.99423,     0.99423,     0.99423,     0.99423,     0.99423,\n",
              "            0.99423,     0.99398,     0.99398,     0.99398,     0.99398,     0.99398,     0.99398,     0.99398,     0.99398,     0.99398,     0.99398,     0.99398,     0.99398,     0.99398,     0.99398,     0.99398,     0.99398,     0.99398,     0.99398,     0.99398,     0.99398,     0.99398,     0.99398,\n",
              "            0.99398,     0.99398,     0.99398,     0.99398,     0.99398,     0.99398,     0.99398,     0.99398,     0.99398,     0.99398,     0.99398,     0.99398,     0.99398,     0.99398,     0.99398,     0.99355,     0.99355,     0.99355,     0.99355,     0.99355,     0.99355,     0.99355,     0.99355,\n",
              "            0.99355,     0.99355,     0.99355,     0.99355,     0.99355,     0.99317,     0.99317,     0.99317,     0.99317,     0.99317,     0.99317,     0.99317,     0.99317,     0.99317,     0.99317,     0.99317,     0.99317,     0.99317,     0.99317,     0.99317,     0.99317,     0.99317,     0.99269,\n",
              "            0.99269,     0.99269,     0.99269,      0.9922,      0.9922,      0.9922,      0.9917,     0.99125,     0.99125,     0.99125,     0.99125,     0.99125,     0.99125,     0.99087,     0.99087,     0.99087,     0.99087,     0.99087,     0.99087,     0.99087,     0.99087,     0.99087,     0.99087,\n",
              "            0.99087,      0.9904,      0.9904,      0.9904,     0.98999,     0.98999,     0.98999,     0.98999,     0.98999,     0.98999,     0.98999,     0.98957,     0.98957,     0.98957,     0.98957,     0.98957,     0.98957,     0.98869,     0.98869,     0.98869,     0.98869,     0.98869,     0.98869,\n",
              "            0.98869,     0.98826,     0.98826,     0.98826,     0.98826,     0.98786,     0.98786,     0.98786,     0.98786,     0.98786,     0.98752,     0.98752,     0.98752,     0.98752,     0.98752,     0.98752,     0.98752,     0.98752,     0.98752,     0.98708,     0.98708,     0.98616,     0.98616,\n",
              "            0.98526,     0.98526,     0.98483,     0.98483,     0.98483,     0.98394,     0.98394,     0.98363,     0.98363,     0.98363,     0.98363,     0.98363,     0.98363,     0.98363,     0.98363,      0.9832,     0.98277,     0.98277,     0.98234,       0.982,       0.982,       0.982,       0.982,\n",
              "              0.982,       0.982,     0.98157,     0.98115,     0.98077,     0.98077,     0.98077,     0.98077,      0.9799,     0.97953,     0.97953,     0.97953,     0.97825,     0.97825,     0.97782,     0.97753,     0.97753,     0.97753,     0.97753,     0.97753,     0.97753,     0.97713,     0.97674,\n",
              "            0.97674,     0.97635,     0.97635,     0.97598,     0.97598,     0.97517,     0.97517,     0.97477,     0.97477,     0.97396,     0.97396,     0.97319,     0.97319,     0.97287,     0.97287,     0.97287,     0.97287,     0.97204,     0.97125,     0.97125,     0.97055,     0.97055,     0.97055,\n",
              "            0.97055,     0.97016,     0.96941,     0.96941,     0.96941,     0.96867,     0.96867,     0.96867,     0.96794,     0.96794,     0.96754,     0.96634,     0.96559,     0.96559,      0.9648,     0.96444,      0.9637,      0.9637,     0.96334,     0.96295,     0.96178,     0.96141,     0.96028,\n",
              "            0.96028,     0.95875,     0.95802,     0.95802,     0.95726,     0.95378,     0.95303,     0.95228,     0.95156,     0.95084,     0.94933,     0.94863,     0.94863,     0.94528,     0.94528,     0.94496,     0.94348,     0.94317,     0.94018,     0.93918,     0.93918,      0.9385,     0.93636,\n",
              "            0.93601,     0.93532,     0.93357,     0.93325,        0.93,      0.9286,     0.92796,     0.92623,     0.92126,     0.91954,      0.9175,     0.91264,     0.90926,      0.9076,      0.9053,     0.90162,     0.89236,     0.89141,     0.88626,     0.88476,     0.88358,      0.8827,     0.87796,\n",
              "            0.87233,     0.86621,     0.85861,     0.83627,     0.83546,     0.81788,     0.81662,     0.81244,      0.8045,     0.78599,     0.77096,     0.75918,     0.75138,     0.73578,     0.69478,     0.65056,     0.55626,     0.50639,     0.42865,      0.3524,     0.32723,     0.30206,     0.27689,\n",
              "            0.25172,     0.22655,     0.20137,      0.1762,     0.15103,     0.12586,     0.10069,    0.075515,    0.050343,    0.025172,           0]]), 'Recall', 'Precision'], [array([          0,    0.001001,    0.002002,    0.003003,    0.004004,    0.005005,    0.006006,    0.007007,    0.008008,    0.009009,     0.01001,    0.011011,    0.012012,    0.013013,    0.014014,    0.015015,    0.016016,    0.017017,    0.018018,    0.019019,     0.02002,    0.021021,    0.022022,    0.023023,\n",
              "          0.024024,    0.025025,    0.026026,    0.027027,    0.028028,    0.029029,     0.03003,    0.031031,    0.032032,    0.033033,    0.034034,    0.035035,    0.036036,    0.037037,    0.038038,    0.039039,     0.04004,    0.041041,    0.042042,    0.043043,    0.044044,    0.045045,    0.046046,    0.047047,\n",
              "          0.048048,    0.049049,     0.05005,    0.051051,    0.052052,    0.053053,    0.054054,    0.055055,    0.056056,    0.057057,    0.058058,    0.059059,     0.06006,    0.061061,    0.062062,    0.063063,    0.064064,    0.065065,    0.066066,    0.067067,    0.068068,    0.069069,     0.07007,    0.071071,\n",
              "          0.072072,    0.073073,    0.074074,    0.075075,    0.076076,    0.077077,    0.078078,    0.079079,     0.08008,    0.081081,    0.082082,    0.083083,    0.084084,    0.085085,    0.086086,    0.087087,    0.088088,    0.089089,     0.09009,    0.091091,    0.092092,    0.093093,    0.094094,    0.095095,\n",
              "          0.096096,    0.097097,    0.098098,    0.099099,      0.1001,      0.1011,      0.1021,      0.1031,      0.1041,     0.10511,     0.10611,     0.10711,     0.10811,     0.10911,     0.11011,     0.11111,     0.11211,     0.11311,     0.11411,     0.11512,     0.11612,     0.11712,     0.11812,     0.11912,\n",
              "           0.12012,     0.12112,     0.12212,     0.12312,     0.12412,     0.12513,     0.12613,     0.12713,     0.12813,     0.12913,     0.13013,     0.13113,     0.13213,     0.13313,     0.13413,     0.13514,     0.13614,     0.13714,     0.13814,     0.13914,     0.14014,     0.14114,     0.14214,     0.14314,\n",
              "           0.14414,     0.14515,     0.14615,     0.14715,     0.14815,     0.14915,     0.15015,     0.15115,     0.15215,     0.15315,     0.15415,     0.15516,     0.15616,     0.15716,     0.15816,     0.15916,     0.16016,     0.16116,     0.16216,     0.16316,     0.16416,     0.16517,     0.16617,     0.16717,\n",
              "           0.16817,     0.16917,     0.17017,     0.17117,     0.17217,     0.17317,     0.17417,     0.17518,     0.17618,     0.17718,     0.17818,     0.17918,     0.18018,     0.18118,     0.18218,     0.18318,     0.18418,     0.18519,     0.18619,     0.18719,     0.18819,     0.18919,     0.19019,     0.19119,\n",
              "           0.19219,     0.19319,     0.19419,      0.1952,      0.1962,      0.1972,      0.1982,      0.1992,      0.2002,      0.2012,      0.2022,      0.2032,      0.2042,     0.20521,     0.20621,     0.20721,     0.20821,     0.20921,     0.21021,     0.21121,     0.21221,     0.21321,     0.21421,     0.21522,\n",
              "           0.21622,     0.21722,     0.21822,     0.21922,     0.22022,     0.22122,     0.22222,     0.22322,     0.22422,     0.22523,     0.22623,     0.22723,     0.22823,     0.22923,     0.23023,     0.23123,     0.23223,     0.23323,     0.23423,     0.23524,     0.23624,     0.23724,     0.23824,     0.23924,\n",
              "           0.24024,     0.24124,     0.24224,     0.24324,     0.24424,     0.24525,     0.24625,     0.24725,     0.24825,     0.24925,     0.25025,     0.25125,     0.25225,     0.25325,     0.25425,     0.25526,     0.25626,     0.25726,     0.25826,     0.25926,     0.26026,     0.26126,     0.26226,     0.26326,\n",
              "           0.26426,     0.26527,     0.26627,     0.26727,     0.26827,     0.26927,     0.27027,     0.27127,     0.27227,     0.27327,     0.27427,     0.27528,     0.27628,     0.27728,     0.27828,     0.27928,     0.28028,     0.28128,     0.28228,     0.28328,     0.28428,     0.28529,     0.28629,     0.28729,\n",
              "           0.28829,     0.28929,     0.29029,     0.29129,     0.29229,     0.29329,     0.29429,      0.2953,      0.2963,      0.2973,      0.2983,      0.2993,      0.3003,      0.3013,      0.3023,      0.3033,      0.3043,     0.30531,     0.30631,     0.30731,     0.30831,     0.30931,     0.31031,     0.31131,\n",
              "           0.31231,     0.31331,     0.31431,     0.31532,     0.31632,     0.31732,     0.31832,     0.31932,     0.32032,     0.32132,     0.32232,     0.32332,     0.32432,     0.32533,     0.32633,     0.32733,     0.32833,     0.32933,     0.33033,     0.33133,     0.33233,     0.33333,     0.33433,     0.33534,\n",
              "           0.33634,     0.33734,     0.33834,     0.33934,     0.34034,     0.34134,     0.34234,     0.34334,     0.34434,     0.34535,     0.34635,     0.34735,     0.34835,     0.34935,     0.35035,     0.35135,     0.35235,     0.35335,     0.35435,     0.35536,     0.35636,     0.35736,     0.35836,     0.35936,\n",
              "           0.36036,     0.36136,     0.36236,     0.36336,     0.36436,     0.36537,     0.36637,     0.36737,     0.36837,     0.36937,     0.37037,     0.37137,     0.37237,     0.37337,     0.37437,     0.37538,     0.37638,     0.37738,     0.37838,     0.37938,     0.38038,     0.38138,     0.38238,     0.38338,\n",
              "           0.38438,     0.38539,     0.38639,     0.38739,     0.38839,     0.38939,     0.39039,     0.39139,     0.39239,     0.39339,     0.39439,      0.3954,      0.3964,      0.3974,      0.3984,      0.3994,      0.4004,      0.4014,      0.4024,      0.4034,      0.4044,     0.40541,     0.40641,     0.40741,\n",
              "           0.40841,     0.40941,     0.41041,     0.41141,     0.41241,     0.41341,     0.41441,     0.41542,     0.41642,     0.41742,     0.41842,     0.41942,     0.42042,     0.42142,     0.42242,     0.42342,     0.42442,     0.42543,     0.42643,     0.42743,     0.42843,     0.42943,     0.43043,     0.43143,\n",
              "           0.43243,     0.43343,     0.43443,     0.43544,     0.43644,     0.43744,     0.43844,     0.43944,     0.44044,     0.44144,     0.44244,     0.44344,     0.44444,     0.44545,     0.44645,     0.44745,     0.44845,     0.44945,     0.45045,     0.45145,     0.45245,     0.45345,     0.45445,     0.45546,\n",
              "           0.45646,     0.45746,     0.45846,     0.45946,     0.46046,     0.46146,     0.46246,     0.46346,     0.46446,     0.46547,     0.46647,     0.46747,     0.46847,     0.46947,     0.47047,     0.47147,     0.47247,     0.47347,     0.47447,     0.47548,     0.47648,     0.47748,     0.47848,     0.47948,\n",
              "           0.48048,     0.48148,     0.48248,     0.48348,     0.48448,     0.48549,     0.48649,     0.48749,     0.48849,     0.48949,     0.49049,     0.49149,     0.49249,     0.49349,     0.49449,      0.4955,      0.4965,      0.4975,      0.4985,      0.4995,      0.5005,      0.5015,      0.5025,      0.5035,\n",
              "            0.5045,     0.50551,     0.50651,     0.50751,     0.50851,     0.50951,     0.51051,     0.51151,     0.51251,     0.51351,     0.51451,     0.51552,     0.51652,     0.51752,     0.51852,     0.51952,     0.52052,     0.52152,     0.52252,     0.52352,     0.52452,     0.52553,     0.52653,     0.52753,\n",
              "           0.52853,     0.52953,     0.53053,     0.53153,     0.53253,     0.53353,     0.53453,     0.53554,     0.53654,     0.53754,     0.53854,     0.53954,     0.54054,     0.54154,     0.54254,     0.54354,     0.54454,     0.54555,     0.54655,     0.54755,     0.54855,     0.54955,     0.55055,     0.55155,\n",
              "           0.55255,     0.55355,     0.55455,     0.55556,     0.55656,     0.55756,     0.55856,     0.55956,     0.56056,     0.56156,     0.56256,     0.56356,     0.56456,     0.56557,     0.56657,     0.56757,     0.56857,     0.56957,     0.57057,     0.57157,     0.57257,     0.57357,     0.57457,     0.57558,\n",
              "           0.57658,     0.57758,     0.57858,     0.57958,     0.58058,     0.58158,     0.58258,     0.58358,     0.58458,     0.58559,     0.58659,     0.58759,     0.58859,     0.58959,     0.59059,     0.59159,     0.59259,     0.59359,     0.59459,      0.5956,      0.5966,      0.5976,      0.5986,      0.5996,\n",
              "            0.6006,      0.6016,      0.6026,      0.6036,      0.6046,     0.60561,     0.60661,     0.60761,     0.60861,     0.60961,     0.61061,     0.61161,     0.61261,     0.61361,     0.61461,     0.61562,     0.61662,     0.61762,     0.61862,     0.61962,     0.62062,     0.62162,     0.62262,     0.62362,\n",
              "           0.62462,     0.62563,     0.62663,     0.62763,     0.62863,     0.62963,     0.63063,     0.63163,     0.63263,     0.63363,     0.63463,     0.63564,     0.63664,     0.63764,     0.63864,     0.63964,     0.64064,     0.64164,     0.64264,     0.64364,     0.64464,     0.64565,     0.64665,     0.64765,\n",
              "           0.64865,     0.64965,     0.65065,     0.65165,     0.65265,     0.65365,     0.65465,     0.65566,     0.65666,     0.65766,     0.65866,     0.65966,     0.66066,     0.66166,     0.66266,     0.66366,     0.66466,     0.66567,     0.66667,     0.66767,     0.66867,     0.66967,     0.67067,     0.67167,\n",
              "           0.67267,     0.67367,     0.67467,     0.67568,     0.67668,     0.67768,     0.67868,     0.67968,     0.68068,     0.68168,     0.68268,     0.68368,     0.68468,     0.68569,     0.68669,     0.68769,     0.68869,     0.68969,     0.69069,     0.69169,     0.69269,     0.69369,     0.69469,      0.6957,\n",
              "            0.6967,      0.6977,      0.6987,      0.6997,      0.7007,      0.7017,      0.7027,      0.7037,      0.7047,     0.70571,     0.70671,     0.70771,     0.70871,     0.70971,     0.71071,     0.71171,     0.71271,     0.71371,     0.71471,     0.71572,     0.71672,     0.71772,     0.71872,     0.71972,\n",
              "           0.72072,     0.72172,     0.72272,     0.72372,     0.72472,     0.72573,     0.72673,     0.72773,     0.72873,     0.72973,     0.73073,     0.73173,     0.73273,     0.73373,     0.73473,     0.73574,     0.73674,     0.73774,     0.73874,     0.73974,     0.74074,     0.74174,     0.74274,     0.74374,\n",
              "           0.74474,     0.74575,     0.74675,     0.74775,     0.74875,     0.74975,     0.75075,     0.75175,     0.75275,     0.75375,     0.75475,     0.75576,     0.75676,     0.75776,     0.75876,     0.75976,     0.76076,     0.76176,     0.76276,     0.76376,     0.76476,     0.76577,     0.76677,     0.76777,\n",
              "           0.76877,     0.76977,     0.77077,     0.77177,     0.77277,     0.77377,     0.77477,     0.77578,     0.77678,     0.77778,     0.77878,     0.77978,     0.78078,     0.78178,     0.78278,     0.78378,     0.78478,     0.78579,     0.78679,     0.78779,     0.78879,     0.78979,     0.79079,     0.79179,\n",
              "           0.79279,     0.79379,     0.79479,      0.7958,      0.7968,      0.7978,      0.7988,      0.7998,      0.8008,      0.8018,      0.8028,      0.8038,      0.8048,     0.80581,     0.80681,     0.80781,     0.80881,     0.80981,     0.81081,     0.81181,     0.81281,     0.81381,     0.81481,     0.81582,\n",
              "           0.81682,     0.81782,     0.81882,     0.81982,     0.82082,     0.82182,     0.82282,     0.82382,     0.82482,     0.82583,     0.82683,     0.82783,     0.82883,     0.82983,     0.83083,     0.83183,     0.83283,     0.83383,     0.83483,     0.83584,     0.83684,     0.83784,     0.83884,     0.83984,\n",
              "           0.84084,     0.84184,     0.84284,     0.84384,     0.84484,     0.84585,     0.84685,     0.84785,     0.84885,     0.84985,     0.85085,     0.85185,     0.85285,     0.85385,     0.85485,     0.85586,     0.85686,     0.85786,     0.85886,     0.85986,     0.86086,     0.86186,     0.86286,     0.86386,\n",
              "           0.86486,     0.86587,     0.86687,     0.86787,     0.86887,     0.86987,     0.87087,     0.87187,     0.87287,     0.87387,     0.87487,     0.87588,     0.87688,     0.87788,     0.87888,     0.87988,     0.88088,     0.88188,     0.88288,     0.88388,     0.88488,     0.88589,     0.88689,     0.88789,\n",
              "           0.88889,     0.88989,     0.89089,     0.89189,     0.89289,     0.89389,     0.89489,      0.8959,      0.8969,      0.8979,      0.8989,      0.8999,      0.9009,      0.9019,      0.9029,      0.9039,      0.9049,     0.90591,     0.90691,     0.90791,     0.90891,     0.90991,     0.91091,     0.91191,\n",
              "           0.91291,     0.91391,     0.91491,     0.91592,     0.91692,     0.91792,     0.91892,     0.91992,     0.92092,     0.92192,     0.92292,     0.92392,     0.92492,     0.92593,     0.92693,     0.92793,     0.92893,     0.92993,     0.93093,     0.93193,     0.93293,     0.93393,     0.93493,     0.93594,\n",
              "           0.93694,     0.93794,     0.93894,     0.93994,     0.94094,     0.94194,     0.94294,     0.94394,     0.94494,     0.94595,     0.94695,     0.94795,     0.94895,     0.94995,     0.95095,     0.95195,     0.95295,     0.95395,     0.95495,     0.95596,     0.95696,     0.95796,     0.95896,     0.95996,\n",
              "           0.96096,     0.96196,     0.96296,     0.96396,     0.96496,     0.96597,     0.96697,     0.96797,     0.96897,     0.96997,     0.97097,     0.97197,     0.97297,     0.97397,     0.97497,     0.97598,     0.97698,     0.97798,     0.97898,     0.97998,     0.98098,     0.98198,     0.98298,     0.98398,\n",
              "           0.98498,     0.98599,     0.98699,     0.98799,     0.98899,     0.98999,     0.99099,     0.99199,     0.99299,     0.99399,     0.99499,       0.996,       0.997,       0.998,       0.999,           1]), array([[    0.51976,     0.51976,     0.61092,     0.65879,     0.69166,     0.71449,     0.73398,     0.75048,     0.76314,     0.77186,     0.78212,       0.788,     0.79527,     0.80089,     0.80661,     0.81147,     0.81491,     0.81964,     0.82411,     0.82798,     0.83177,     0.83494,     0.83754,\n",
              "            0.83982,     0.84234,     0.84386,     0.84537,     0.84754,     0.85018,     0.85163,     0.85416,     0.85588,     0.85817,     0.85877,     0.86028,     0.86202,     0.86386,     0.86534,     0.86728,     0.86837,     0.86935,     0.87026,     0.87169,     0.87274,     0.87336,     0.87464,\n",
              "            0.87645,     0.87709,     0.87839,     0.87926,     0.88092,     0.88148,      0.8816,     0.88259,     0.88314,     0.88368,     0.88541,     0.88586,     0.88621,      0.8868,     0.88709,     0.88791,     0.88816,     0.88857,     0.88876,      0.8889,     0.88933,     0.89003,     0.89061,\n",
              "            0.89102,     0.89137,     0.89212,      0.8924,     0.89281,     0.89331,     0.89393,       0.895,     0.89584,     0.89638,     0.89675,     0.89754,     0.89799,     0.89816,     0.89811,     0.89888,     0.89901,     0.89911,     0.89964,     0.89975,     0.90033,     0.90081,     0.90088,\n",
              "            0.90146,     0.90181,     0.90264,     0.90289,     0.90307,     0.90346,     0.90363,      0.9044,     0.90488,      0.9055,     0.90574,     0.90603,     0.90618,     0.90658,     0.90718,     0.90784,     0.90798,     0.90821,     0.90874,     0.90922,     0.90943,     0.90999,      0.9105,\n",
              "            0.91033,     0.91043,     0.91064,     0.91119,     0.91128,      0.9114,     0.91162,     0.91191,     0.91202,     0.91226,     0.91239,     0.91253,     0.91289,     0.91331,     0.91344,     0.91354,     0.91364,     0.91379,     0.91424,     0.91413,     0.91429,     0.91438,     0.91422,\n",
              "            0.91427,     0.91431,     0.91436,     0.91445,     0.91472,     0.91473,     0.91505,     0.91523,     0.91541,     0.91561,     0.91567,     0.91573,     0.91582,     0.91598,     0.91647,     0.91665,     0.91692,     0.91724,     0.91726,     0.91751,     0.91776,     0.91812,     0.91834,\n",
              "            0.91845,     0.91841,     0.91833,     0.91829,      0.9184,     0.91881,      0.9193,      0.9194,     0.91948,     0.91987,     0.91995,      0.9198,     0.91991,     0.92045,     0.92074,     0.92094,     0.92106,     0.92113,     0.92141,     0.92176,     0.92195,     0.92206,     0.92215,\n",
              "            0.92225,     0.92185,      0.9219,     0.92194,     0.92198,     0.92208,     0.92225,     0.92228,     0.92245,     0.92234,     0.92211,     0.92224,     0.92234,     0.92237,      0.9223,     0.92224,     0.92244,     0.92272,     0.92255,     0.92272,     0.92315,     0.92339,     0.92346,\n",
              "            0.92353,     0.92371,     0.92355,     0.92364,     0.92381,     0.92393,       0.924,     0.92429,     0.92456,     0.92471,      0.9249,     0.92516,      0.9249,     0.92497,     0.92498,      0.9252,     0.92527,     0.92533,     0.92543,     0.92557,      0.9257,      0.9258,      0.9261,\n",
              "            0.92624,     0.92637,     0.92658,     0.92667,     0.92676,     0.92688,     0.92701,     0.92715,     0.92735,     0.92747,     0.92761,     0.92771,      0.9278,     0.92847,     0.92882,     0.92932,     0.92942,     0.92927,     0.92966,     0.92993,        0.93,     0.93005,      0.9301,\n",
              "            0.93033,     0.93046,     0.93056,     0.93064,     0.93074,     0.93086,      0.9309,     0.93094,     0.93098,     0.93102,       0.931,     0.93086,     0.93103,     0.93111,      0.9312,      0.9313,      0.9314,     0.93149,     0.93156,     0.93136,     0.93147,     0.93156,     0.93164,\n",
              "            0.93158,     0.93156,     0.93166,     0.93186,     0.93191,     0.93195,       0.932,     0.93199,     0.93187,      0.9319,     0.93199,     0.93206,     0.93214,     0.93234,     0.93245,     0.93245,     0.93245,     0.93265,     0.93252,     0.93258,     0.93264,     0.93282,     0.93319,\n",
              "            0.93323,     0.93358,     0.93364,     0.93371,      0.9343,     0.93438,     0.93428,     0.93435,     0.93443,     0.93453,     0.93464,     0.93475,      0.9353,     0.93526,     0.93517,     0.93509,     0.93503,     0.93497,     0.93491,     0.93497,     0.93504,     0.93515,     0.93556,\n",
              "            0.93578,     0.93585,     0.93588,      0.9359,     0.93593,     0.93596,     0.93598,     0.93601,     0.93609,     0.93614,     0.93601,     0.93598,     0.93601,     0.93604,     0.93607,      0.9361,     0.93613,     0.93623,     0.93636,     0.93643,      0.9365,     0.93632,      0.9365,\n",
              "            0.93661,     0.93675,     0.93688,     0.93694,     0.93699,     0.93705,     0.93723,     0.93721,     0.93732,     0.93741,     0.93748,     0.93755,      0.9377,     0.93793,     0.93801,     0.93808,     0.93816,     0.93825,     0.93858,     0.93841,     0.93831,     0.93868,     0.93875,\n",
              "            0.93882,     0.93875,     0.93867,     0.93867,     0.93886,     0.93897,     0.93893,     0.93889,     0.93886,     0.93882,     0.93878,     0.93875,     0.93854,     0.93858,     0.93862,     0.93866,      0.9387,     0.93854,     0.93859,     0.93864,     0.93869,     0.93855,     0.93857,\n",
              "            0.93887,     0.93893,     0.93899,     0.93902,     0.93888,     0.93897,     0.93904,     0.93906,     0.93908,      0.9391,     0.93912,     0.93915,     0.93917,     0.93919,     0.93921,     0.93931,     0.93962,     0.93981,     0.93991,     0.93999,     0.94015,     0.94025,     0.94027,\n",
              "            0.94015,     0.94005,     0.93998,     0.93991,     0.94002,        0.94,     0.93989,      0.9397,     0.93974,     0.93984,     0.93988,     0.93991,     0.93994,     0.93997,        0.94,     0.94003,     0.94006,     0.94009,     0.94012,     0.94015,     0.94018,     0.94021,     0.94008,\n",
              "            0.93996,     0.93988,     0.93981,     0.94012,        0.94,     0.94003,     0.94013,     0.94006,     0.93999,     0.93991,     0.94008,     0.93983,     0.93978,     0.93972,     0.93966,     0.93966,     0.93983,      0.9397,      0.9397,     0.94008,     0.94035,     0.94027,      0.9402,\n",
              "            0.94026,     0.94003,        0.94,     0.93986,     0.93979,     0.93972,     0.93955,     0.93961,     0.93959,     0.93948,     0.93929,     0.93932,     0.93941,     0.93948,     0.93955,     0.93961,     0.93958,      0.9394,     0.93978,     0.93981,     0.93984,     0.93987,      0.9399,\n",
              "            0.93992,     0.93997,     0.94015,     0.94025,     0.94033,     0.94037,     0.94041,     0.94045,     0.94049,     0.94057,     0.94045,     0.94035,     0.94014,     0.94006,     0.94011,     0.94016,     0.94021,     0.94033,      0.9405,     0.94031,      0.9402,     0.94003,        0.94,\n",
              "             0.9401,     0.93999,     0.93977,     0.93955,     0.93956,     0.93966,     0.93984,     0.94003,     0.94022,     0.94035,     0.94024,      0.9404,      0.9406,     0.94069,     0.94058,     0.94055,     0.94014,     0.94031,     0.94026,     0.94021,     0.94015,     0.94029,     0.94026,\n",
              "            0.94023,      0.9402,     0.94016,     0.94013,      0.9401,     0.94005,     0.93998,     0.93991,     0.94014,     0.94034,     0.94053,      0.9403,     0.94008,     0.94009,     0.94029,      0.9398,     0.94001,     0.93993,     0.94002,     0.93998,     0.93993,     0.93989,     0.93985,\n",
              "            0.93966,     0.93971,     0.93976,     0.93981,     0.93986,     0.93992,     0.93997,     0.93995,     0.93984,     0.93967,     0.93963,     0.93972,     0.93988,        0.94,     0.94006,     0.94013,     0.94021,     0.94031,     0.94048,     0.94036,     0.94035,      0.9404,     0.94045,\n",
              "             0.9405,     0.94056,     0.94063,     0.94069,     0.94089,     0.94078,     0.94069,     0.94082,     0.94075,     0.94068,     0.94062,     0.94058,     0.94053,     0.94049,     0.94044,     0.94048,     0.94055,     0.94061,     0.94063,     0.94041,     0.94033,     0.94027,      0.9402,\n",
              "            0.94007,     0.94005,     0.94031,     0.94025,      0.9402,     0.94014,     0.94005,     0.93994,     0.93976,     0.93997,     0.94011,     0.94024,     0.94017,      0.9401,     0.93995,     0.93973,     0.93962,     0.93972,      0.9397,     0.93952,     0.93938,     0.93927,     0.93937,\n",
              "            0.93965,     0.93961,     0.93957,     0.93953,     0.93949,     0.93945,     0.93934,     0.93923,     0.93879,     0.93888,     0.93854,     0.93815,     0.93817,     0.93814,     0.93792,     0.93745,     0.93738,     0.93751,      0.9377,     0.93719,     0.93712,     0.93703,     0.93684,\n",
              "            0.93697,     0.93695,     0.93684,     0.93694,     0.93684,     0.93682,     0.93675,     0.93687,     0.93681,     0.93675,     0.93668,     0.93661,     0.93653,     0.93646,     0.93591,     0.93568,     0.93567,     0.93568,     0.93556,      0.9355,     0.93506,     0.93495,     0.93483,\n",
              "            0.93468,     0.93457,     0.93448,     0.93424,     0.93433,     0.93421,     0.93376,     0.93328,     0.93342,      0.9334,     0.93306,     0.93306,     0.93261,      0.9322,     0.93183,     0.93174,     0.93165,     0.93147,      0.9308,     0.93096,      0.9302,      0.9301,     0.93001,\n",
              "            0.93014,      0.9302,     0.93009,     0.92983,     0.92972,     0.92902,     0.92877,     0.92869,     0.92862,     0.92856,     0.92827,     0.92804,     0.92789,     0.92769,      0.9272,     0.92683,      0.9266,     0.92638,     0.92623,     0.92652,     0.92595,     0.92602,     0.92536,\n",
              "            0.92521,     0.92513,     0.92526,     0.92402,     0.92397,     0.92351,      0.9229,     0.92267,     0.92244,     0.92204,     0.92105,     0.92093,     0.92063,     0.92013,     0.91941,     0.91924,     0.91877,     0.91844,     0.91835,     0.91817,     0.91755,      0.9174,     0.91775,\n",
              "            0.91764,      0.9173,     0.91705,     0.91623,     0.91608,     0.91592,     0.91571,     0.91559,     0.91505,     0.91455,       0.914,     0.91401,     0.91338,     0.91322,     0.91299,     0.91157,     0.91128,     0.91064,     0.91048,     0.91032,      0.9096,      0.9093,      0.9079,\n",
              "            0.90803,     0.90716,     0.90582,     0.90495,     0.90478,     0.90446,     0.90375,     0.90359,     0.90338,     0.90249,     0.90218,     0.90201,     0.90142,     0.90069,     0.90053,     0.89985,     0.89966,     0.89915,     0.89837,     0.89821,     0.89804,     0.89788,     0.89771,\n",
              "            0.89629,      0.8958,     0.89468,     0.89434,     0.89344,      0.8919,     0.89101,     0.89084,     0.88983,     0.88835,     0.88746,     0.88729,     0.88656,     0.88466,     0.88409,      0.8836,     0.88323,     0.88235,     0.88049,     0.87892,     0.87741,     0.87607,     0.87571,\n",
              "            0.87271,      0.8709,     0.86918,     0.86779,      0.8672,     0.86623,     0.86521,     0.86351,     0.86146,     0.85979,     0.85992,     0.85684,     0.85356,     0.85119,     0.84908,     0.84587,     0.84382,     0.84194,     0.83838,     0.83819,     0.83399,     0.82907,     0.82472,\n",
              "            0.82139,     0.81686,     0.81368,        0.81,     0.80937,     0.80258,     0.79623,     0.78981,     0.78567,     0.78138,     0.77796,     0.77105,     0.76558,     0.76006,     0.75437,     0.75019,     0.74327,     0.73982,     0.73402,     0.72594,     0.71809,     0.71166,     0.70363,\n",
              "            0.69652,     0.68554,     0.67367,     0.66587,     0.65255,     0.64193,        0.63,     0.61978,     0.61017,     0.58739,     0.57587,     0.56316,      0.5487,      0.5286,     0.51942,     0.50449,     0.48863,     0.47196,     0.45841,     0.44688,     0.43138,     0.40682,     0.39295,\n",
              "            0.37778,       0.365,     0.34886,      0.3345,     0.32216,     0.30445,     0.28175,     0.26378,     0.24789,     0.23671,     0.21203,     0.19713,     0.18859,      0.1773,      0.1625,     0.14676,     0.13075,     0.11304,      0.1044,    0.094951,    0.086143,    0.075027,    0.066783,\n",
              "           0.054263,    0.047027,    0.043925,    0.032718,    0.029163,    0.026785,    0.023695,    0.021228,     0.01883,    0.014849,    0.012988,    0.011604,   0.0085855,   0.0070466,   0.0065023,    0.005739,   0.0049214,   0.0041031,   0.0032842,   0.0027106,   0.0023133,   0.0021082,   0.0019032,\n",
              "           0.001698,   0.0015924,   0.0015733,   0.0015542,   0.0015351,    0.001516,   0.0014969,   0.0014778,   0.0014588,   0.0014397,   0.0014206,   0.0014015,   0.0013824,   0.0013633,   0.0013442,   0.0013251,    0.001306,   0.0012869,   0.0012679,   0.0012488,   0.0012297,   0.0012106,   0.0011915,\n",
              "          0.0011724,   0.0011533,   0.0011342,   0.0011151,    0.001096,   0.0010769,   0.0010578,   0.0010387,   0.0010196,   0.0010005,  0.00098143,  0.00096233,  0.00094324,  0.00092414,  0.00090504,  0.00088594,  0.00086684,  0.00084774,  0.00082864,  0.00080954,           0,           0,           0,\n",
              "                  0,           0,           0,           0,           0,           0,           0,           0,           0,           0,           0,           0,           0,           0,           0,           0,           0,           0,           0,           0,           0,           0,           0,\n",
              "                  0,           0,           0,           0,           0,           0,           0,           0,           0,           0,           0]]), 'Confidence', 'F1'], [array([          0,    0.001001,    0.002002,    0.003003,    0.004004,    0.005005,    0.006006,    0.007007,    0.008008,    0.009009,     0.01001,    0.011011,    0.012012,    0.013013,    0.014014,    0.015015,    0.016016,    0.017017,    0.018018,    0.019019,     0.02002,    0.021021,    0.022022,    0.023023,\n",
              "          0.024024,    0.025025,    0.026026,    0.027027,    0.028028,    0.029029,     0.03003,    0.031031,    0.032032,    0.033033,    0.034034,    0.035035,    0.036036,    0.037037,    0.038038,    0.039039,     0.04004,    0.041041,    0.042042,    0.043043,    0.044044,    0.045045,    0.046046,    0.047047,\n",
              "          0.048048,    0.049049,     0.05005,    0.051051,    0.052052,    0.053053,    0.054054,    0.055055,    0.056056,    0.057057,    0.058058,    0.059059,     0.06006,    0.061061,    0.062062,    0.063063,    0.064064,    0.065065,    0.066066,    0.067067,    0.068068,    0.069069,     0.07007,    0.071071,\n",
              "          0.072072,    0.073073,    0.074074,    0.075075,    0.076076,    0.077077,    0.078078,    0.079079,     0.08008,    0.081081,    0.082082,    0.083083,    0.084084,    0.085085,    0.086086,    0.087087,    0.088088,    0.089089,     0.09009,    0.091091,    0.092092,    0.093093,    0.094094,    0.095095,\n",
              "          0.096096,    0.097097,    0.098098,    0.099099,      0.1001,      0.1011,      0.1021,      0.1031,      0.1041,     0.10511,     0.10611,     0.10711,     0.10811,     0.10911,     0.11011,     0.11111,     0.11211,     0.11311,     0.11411,     0.11512,     0.11612,     0.11712,     0.11812,     0.11912,\n",
              "           0.12012,     0.12112,     0.12212,     0.12312,     0.12412,     0.12513,     0.12613,     0.12713,     0.12813,     0.12913,     0.13013,     0.13113,     0.13213,     0.13313,     0.13413,     0.13514,     0.13614,     0.13714,     0.13814,     0.13914,     0.14014,     0.14114,     0.14214,     0.14314,\n",
              "           0.14414,     0.14515,     0.14615,     0.14715,     0.14815,     0.14915,     0.15015,     0.15115,     0.15215,     0.15315,     0.15415,     0.15516,     0.15616,     0.15716,     0.15816,     0.15916,     0.16016,     0.16116,     0.16216,     0.16316,     0.16416,     0.16517,     0.16617,     0.16717,\n",
              "           0.16817,     0.16917,     0.17017,     0.17117,     0.17217,     0.17317,     0.17417,     0.17518,     0.17618,     0.17718,     0.17818,     0.17918,     0.18018,     0.18118,     0.18218,     0.18318,     0.18418,     0.18519,     0.18619,     0.18719,     0.18819,     0.18919,     0.19019,     0.19119,\n",
              "           0.19219,     0.19319,     0.19419,      0.1952,      0.1962,      0.1972,      0.1982,      0.1992,      0.2002,      0.2012,      0.2022,      0.2032,      0.2042,     0.20521,     0.20621,     0.20721,     0.20821,     0.20921,     0.21021,     0.21121,     0.21221,     0.21321,     0.21421,     0.21522,\n",
              "           0.21622,     0.21722,     0.21822,     0.21922,     0.22022,     0.22122,     0.22222,     0.22322,     0.22422,     0.22523,     0.22623,     0.22723,     0.22823,     0.22923,     0.23023,     0.23123,     0.23223,     0.23323,     0.23423,     0.23524,     0.23624,     0.23724,     0.23824,     0.23924,\n",
              "           0.24024,     0.24124,     0.24224,     0.24324,     0.24424,     0.24525,     0.24625,     0.24725,     0.24825,     0.24925,     0.25025,     0.25125,     0.25225,     0.25325,     0.25425,     0.25526,     0.25626,     0.25726,     0.25826,     0.25926,     0.26026,     0.26126,     0.26226,     0.26326,\n",
              "           0.26426,     0.26527,     0.26627,     0.26727,     0.26827,     0.26927,     0.27027,     0.27127,     0.27227,     0.27327,     0.27427,     0.27528,     0.27628,     0.27728,     0.27828,     0.27928,     0.28028,     0.28128,     0.28228,     0.28328,     0.28428,     0.28529,     0.28629,     0.28729,\n",
              "           0.28829,     0.28929,     0.29029,     0.29129,     0.29229,     0.29329,     0.29429,      0.2953,      0.2963,      0.2973,      0.2983,      0.2993,      0.3003,      0.3013,      0.3023,      0.3033,      0.3043,     0.30531,     0.30631,     0.30731,     0.30831,     0.30931,     0.31031,     0.31131,\n",
              "           0.31231,     0.31331,     0.31431,     0.31532,     0.31632,     0.31732,     0.31832,     0.31932,     0.32032,     0.32132,     0.32232,     0.32332,     0.32432,     0.32533,     0.32633,     0.32733,     0.32833,     0.32933,     0.33033,     0.33133,     0.33233,     0.33333,     0.33433,     0.33534,\n",
              "           0.33634,     0.33734,     0.33834,     0.33934,     0.34034,     0.34134,     0.34234,     0.34334,     0.34434,     0.34535,     0.34635,     0.34735,     0.34835,     0.34935,     0.35035,     0.35135,     0.35235,     0.35335,     0.35435,     0.35536,     0.35636,     0.35736,     0.35836,     0.35936,\n",
              "           0.36036,     0.36136,     0.36236,     0.36336,     0.36436,     0.36537,     0.36637,     0.36737,     0.36837,     0.36937,     0.37037,     0.37137,     0.37237,     0.37337,     0.37437,     0.37538,     0.37638,     0.37738,     0.37838,     0.37938,     0.38038,     0.38138,     0.38238,     0.38338,\n",
              "           0.38438,     0.38539,     0.38639,     0.38739,     0.38839,     0.38939,     0.39039,     0.39139,     0.39239,     0.39339,     0.39439,      0.3954,      0.3964,      0.3974,      0.3984,      0.3994,      0.4004,      0.4014,      0.4024,      0.4034,      0.4044,     0.40541,     0.40641,     0.40741,\n",
              "           0.40841,     0.40941,     0.41041,     0.41141,     0.41241,     0.41341,     0.41441,     0.41542,     0.41642,     0.41742,     0.41842,     0.41942,     0.42042,     0.42142,     0.42242,     0.42342,     0.42442,     0.42543,     0.42643,     0.42743,     0.42843,     0.42943,     0.43043,     0.43143,\n",
              "           0.43243,     0.43343,     0.43443,     0.43544,     0.43644,     0.43744,     0.43844,     0.43944,     0.44044,     0.44144,     0.44244,     0.44344,     0.44444,     0.44545,     0.44645,     0.44745,     0.44845,     0.44945,     0.45045,     0.45145,     0.45245,     0.45345,     0.45445,     0.45546,\n",
              "           0.45646,     0.45746,     0.45846,     0.45946,     0.46046,     0.46146,     0.46246,     0.46346,     0.46446,     0.46547,     0.46647,     0.46747,     0.46847,     0.46947,     0.47047,     0.47147,     0.47247,     0.47347,     0.47447,     0.47548,     0.47648,     0.47748,     0.47848,     0.47948,\n",
              "           0.48048,     0.48148,     0.48248,     0.48348,     0.48448,     0.48549,     0.48649,     0.48749,     0.48849,     0.48949,     0.49049,     0.49149,     0.49249,     0.49349,     0.49449,      0.4955,      0.4965,      0.4975,      0.4985,      0.4995,      0.5005,      0.5015,      0.5025,      0.5035,\n",
              "            0.5045,     0.50551,     0.50651,     0.50751,     0.50851,     0.50951,     0.51051,     0.51151,     0.51251,     0.51351,     0.51451,     0.51552,     0.51652,     0.51752,     0.51852,     0.51952,     0.52052,     0.52152,     0.52252,     0.52352,     0.52452,     0.52553,     0.52653,     0.52753,\n",
              "           0.52853,     0.52953,     0.53053,     0.53153,     0.53253,     0.53353,     0.53453,     0.53554,     0.53654,     0.53754,     0.53854,     0.53954,     0.54054,     0.54154,     0.54254,     0.54354,     0.54454,     0.54555,     0.54655,     0.54755,     0.54855,     0.54955,     0.55055,     0.55155,\n",
              "           0.55255,     0.55355,     0.55455,     0.55556,     0.55656,     0.55756,     0.55856,     0.55956,     0.56056,     0.56156,     0.56256,     0.56356,     0.56456,     0.56557,     0.56657,     0.56757,     0.56857,     0.56957,     0.57057,     0.57157,     0.57257,     0.57357,     0.57457,     0.57558,\n",
              "           0.57658,     0.57758,     0.57858,     0.57958,     0.58058,     0.58158,     0.58258,     0.58358,     0.58458,     0.58559,     0.58659,     0.58759,     0.58859,     0.58959,     0.59059,     0.59159,     0.59259,     0.59359,     0.59459,      0.5956,      0.5966,      0.5976,      0.5986,      0.5996,\n",
              "            0.6006,      0.6016,      0.6026,      0.6036,      0.6046,     0.60561,     0.60661,     0.60761,     0.60861,     0.60961,     0.61061,     0.61161,     0.61261,     0.61361,     0.61461,     0.61562,     0.61662,     0.61762,     0.61862,     0.61962,     0.62062,     0.62162,     0.62262,     0.62362,\n",
              "           0.62462,     0.62563,     0.62663,     0.62763,     0.62863,     0.62963,     0.63063,     0.63163,     0.63263,     0.63363,     0.63463,     0.63564,     0.63664,     0.63764,     0.63864,     0.63964,     0.64064,     0.64164,     0.64264,     0.64364,     0.64464,     0.64565,     0.64665,     0.64765,\n",
              "           0.64865,     0.64965,     0.65065,     0.65165,     0.65265,     0.65365,     0.65465,     0.65566,     0.65666,     0.65766,     0.65866,     0.65966,     0.66066,     0.66166,     0.66266,     0.66366,     0.66466,     0.66567,     0.66667,     0.66767,     0.66867,     0.66967,     0.67067,     0.67167,\n",
              "           0.67267,     0.67367,     0.67467,     0.67568,     0.67668,     0.67768,     0.67868,     0.67968,     0.68068,     0.68168,     0.68268,     0.68368,     0.68468,     0.68569,     0.68669,     0.68769,     0.68869,     0.68969,     0.69069,     0.69169,     0.69269,     0.69369,     0.69469,      0.6957,\n",
              "            0.6967,      0.6977,      0.6987,      0.6997,      0.7007,      0.7017,      0.7027,      0.7037,      0.7047,     0.70571,     0.70671,     0.70771,     0.70871,     0.70971,     0.71071,     0.71171,     0.71271,     0.71371,     0.71471,     0.71572,     0.71672,     0.71772,     0.71872,     0.71972,\n",
              "           0.72072,     0.72172,     0.72272,     0.72372,     0.72472,     0.72573,     0.72673,     0.72773,     0.72873,     0.72973,     0.73073,     0.73173,     0.73273,     0.73373,     0.73473,     0.73574,     0.73674,     0.73774,     0.73874,     0.73974,     0.74074,     0.74174,     0.74274,     0.74374,\n",
              "           0.74474,     0.74575,     0.74675,     0.74775,     0.74875,     0.74975,     0.75075,     0.75175,     0.75275,     0.75375,     0.75475,     0.75576,     0.75676,     0.75776,     0.75876,     0.75976,     0.76076,     0.76176,     0.76276,     0.76376,     0.76476,     0.76577,     0.76677,     0.76777,\n",
              "           0.76877,     0.76977,     0.77077,     0.77177,     0.77277,     0.77377,     0.77477,     0.77578,     0.77678,     0.77778,     0.77878,     0.77978,     0.78078,     0.78178,     0.78278,     0.78378,     0.78478,     0.78579,     0.78679,     0.78779,     0.78879,     0.78979,     0.79079,     0.79179,\n",
              "           0.79279,     0.79379,     0.79479,      0.7958,      0.7968,      0.7978,      0.7988,      0.7998,      0.8008,      0.8018,      0.8028,      0.8038,      0.8048,     0.80581,     0.80681,     0.80781,     0.80881,     0.80981,     0.81081,     0.81181,     0.81281,     0.81381,     0.81481,     0.81582,\n",
              "           0.81682,     0.81782,     0.81882,     0.81982,     0.82082,     0.82182,     0.82282,     0.82382,     0.82482,     0.82583,     0.82683,     0.82783,     0.82883,     0.82983,     0.83083,     0.83183,     0.83283,     0.83383,     0.83483,     0.83584,     0.83684,     0.83784,     0.83884,     0.83984,\n",
              "           0.84084,     0.84184,     0.84284,     0.84384,     0.84484,     0.84585,     0.84685,     0.84785,     0.84885,     0.84985,     0.85085,     0.85185,     0.85285,     0.85385,     0.85485,     0.85586,     0.85686,     0.85786,     0.85886,     0.85986,     0.86086,     0.86186,     0.86286,     0.86386,\n",
              "           0.86486,     0.86587,     0.86687,     0.86787,     0.86887,     0.86987,     0.87087,     0.87187,     0.87287,     0.87387,     0.87487,     0.87588,     0.87688,     0.87788,     0.87888,     0.87988,     0.88088,     0.88188,     0.88288,     0.88388,     0.88488,     0.88589,     0.88689,     0.88789,\n",
              "           0.88889,     0.88989,     0.89089,     0.89189,     0.89289,     0.89389,     0.89489,      0.8959,      0.8969,      0.8979,      0.8989,      0.8999,      0.9009,      0.9019,      0.9029,      0.9039,      0.9049,     0.90591,     0.90691,     0.90791,     0.90891,     0.90991,     0.91091,     0.91191,\n",
              "           0.91291,     0.91391,     0.91491,     0.91592,     0.91692,     0.91792,     0.91892,     0.91992,     0.92092,     0.92192,     0.92292,     0.92392,     0.92492,     0.92593,     0.92693,     0.92793,     0.92893,     0.92993,     0.93093,     0.93193,     0.93293,     0.93393,     0.93493,     0.93594,\n",
              "           0.93694,     0.93794,     0.93894,     0.93994,     0.94094,     0.94194,     0.94294,     0.94394,     0.94494,     0.94595,     0.94695,     0.94795,     0.94895,     0.94995,     0.95095,     0.95195,     0.95295,     0.95395,     0.95495,     0.95596,     0.95696,     0.95796,     0.95896,     0.95996,\n",
              "           0.96096,     0.96196,     0.96296,     0.96396,     0.96496,     0.96597,     0.96697,     0.96797,     0.96897,     0.96997,     0.97097,     0.97197,     0.97297,     0.97397,     0.97497,     0.97598,     0.97698,     0.97798,     0.97898,     0.97998,     0.98098,     0.98198,     0.98298,     0.98398,\n",
              "           0.98498,     0.98599,     0.98699,     0.98799,     0.98899,     0.98999,     0.99099,     0.99199,     0.99299,     0.99399,     0.99499,       0.996,       0.997,       0.998,       0.999,           1]), array([[     0.3529,      0.3529,     0.44289,     0.49505,     0.53337,     0.56128,     0.58585,     0.60716,     0.62391,     0.63565,      0.6497,     0.65803,     0.66823,     0.67639,     0.68459,     0.69183,     0.69705,       0.704,     0.71062,     0.71661,     0.72231,      0.7271,     0.73105,\n",
              "            0.73453,     0.73884,     0.74142,     0.74376,     0.74711,     0.75147,     0.75374,     0.75794,      0.7609,     0.76457,     0.76573,     0.76831,     0.77141,     0.77436,     0.77674,     0.78013,      0.7819,     0.78349,     0.78497,     0.78782,     0.78953,     0.79055,     0.79265,\n",
              "            0.79564,     0.79695,      0.7991,     0.80055,      0.8033,      0.8045,     0.80471,     0.80637,     0.80727,     0.80846,     0.81136,     0.81238,     0.81315,     0.81426,     0.81498,     0.81658,     0.81739,     0.81837,     0.81871,     0.81915,     0.81995,     0.82143,     0.82242,\n",
              "            0.82312,     0.82372,     0.82501,     0.82548,     0.82618,     0.82704,     0.82809,     0.82994,     0.83138,     0.83231,     0.83296,     0.83431,      0.8351,     0.83568,     0.83619,     0.83752,     0.83775,     0.83794,     0.83885,     0.83904,     0.84005,     0.84089,     0.84102,\n",
              "            0.84203,     0.84264,     0.84408,     0.84452,     0.84484,     0.84552,     0.84582,     0.84717,       0.848,     0.84941,     0.84983,     0.85033,      0.8506,     0.85131,     0.85237,     0.85353,     0.85379,      0.8545,     0.85544,     0.85629,     0.85667,     0.85766,     0.85861,\n",
              "            0.85857,     0.85875,     0.85912,     0.86011,     0.86027,     0.86049,     0.86087,      0.8614,     0.86158,     0.86201,     0.86224,     0.86249,     0.86314,     0.86389,     0.86413,      0.8643,     0.86449,     0.86474,     0.86563,     0.86567,     0.86596,     0.86613,     0.86617,\n",
              "            0.86625,     0.86633,     0.86642,     0.86657,     0.86705,     0.86737,     0.86797,      0.8683,     0.86863,     0.86898,     0.86909,     0.86919,     0.86937,     0.86965,     0.87054,     0.87085,     0.87142,     0.87232,     0.87262,     0.87307,     0.87352,     0.87417,     0.87458,\n",
              "            0.87478,      0.8748,     0.87479,     0.87481,       0.875,     0.87575,     0.87665,     0.87682,     0.87696,     0.87768,     0.87782,     0.87791,     0.87842,      0.8794,     0.87993,      0.8803,     0.88051,     0.88065,     0.88115,      0.8818,     0.88215,     0.88234,     0.88252,\n",
              "            0.88269,     0.88264,     0.88272,      0.8828,     0.88288,     0.88305,     0.88356,      0.8841,     0.88447,     0.88444,      0.8848,     0.88504,     0.88522,     0.88532,     0.88531,     0.88529,     0.88574,     0.88626,     0.88623,     0.88659,     0.88774,     0.88818,     0.88831,\n",
              "            0.88844,      0.8888,     0.88882,     0.88899,     0.88931,     0.88953,     0.88966,     0.89019,     0.89068,     0.89096,     0.89166,     0.89214,     0.89229,      0.8926,     0.89286,     0.89327,     0.89339,     0.89351,      0.8937,     0.89395,      0.8942,     0.89473,      0.8953,\n",
              "            0.89555,      0.8958,     0.89618,     0.89637,     0.89653,     0.89675,     0.89699,     0.89725,     0.89764,     0.89787,     0.89811,     0.89831,     0.89847,     0.89974,      0.9004,     0.90134,     0.90161,     0.90159,     0.90268,     0.90318,     0.90333,     0.90342,     0.90351,\n",
              "            0.90395,     0.90419,     0.90437,     0.90453,     0.90472,     0.90495,     0.90503,     0.90511,     0.90518,     0.90525,      0.9053,     0.90527,     0.90563,     0.90579,     0.90594,     0.90614,     0.90633,     0.90649,     0.90664,     0.90698,     0.90718,     0.90735,     0.90751,\n",
              "            0.90759,      0.9077,     0.90791,     0.90828,     0.90837,     0.90846,     0.90855,      0.9086,     0.90858,     0.90872,     0.90925,     0.90939,     0.90954,     0.90992,     0.91012,     0.91026,      0.9105,     0.91087,     0.91099,      0.9111,     0.91121,     0.91156,     0.91228,\n",
              "            0.91272,     0.91337,     0.91351,     0.91364,     0.91475,     0.91505,     0.91509,     0.91523,     0.91538,     0.91558,     0.91578,     0.91599,     0.91705,     0.91746,     0.91745,     0.91744,     0.91743,     0.91742,     0.91741,     0.91753,     0.91766,     0.91788,     0.91866,\n",
              "            0.91909,     0.91922,     0.91927,     0.91933,     0.91938,     0.91943,     0.91948,     0.91953,     0.92007,     0.92021,     0.92019,     0.92022,     0.92028,     0.92034,     0.92039,     0.92045,     0.92051,     0.92072,     0.92097,      0.9211,     0.92123,     0.92126,     0.92161,\n",
              "            0.92182,     0.92209,     0.92234,     0.92245,     0.92255,     0.92266,     0.92303,     0.92336,     0.92357,     0.92375,     0.92389,     0.92402,     0.92431,     0.92477,     0.92491,     0.92505,      0.9252,     0.92538,     0.92603,     0.92619,     0.92618,     0.92698,     0.92712,\n",
              "            0.92725,     0.92725,     0.92724,     0.92733,     0.92771,     0.92795,     0.92795,     0.92794,     0.92794,     0.92793,     0.92793,     0.92826,     0.92824,     0.92831,     0.92839,     0.92847,     0.92855,     0.92861,     0.92871,     0.92881,     0.92891,     0.92892,     0.92907,\n",
              "            0.92964,     0.92977,     0.92989,        0.93,     0.93005,     0.93023,     0.93036,      0.9304,     0.93045,     0.93049,     0.93053,     0.93058,     0.93062,     0.93066,      0.9307,      0.9309,     0.93151,     0.93189,     0.93217,     0.93261,     0.93294,     0.93313,     0.93325,\n",
              "            0.93323,     0.93322,     0.93321,      0.9332,     0.93346,     0.93356,     0.93355,     0.93352,     0.93369,     0.93389,     0.93396,     0.93402,     0.93408,     0.93415,     0.93421,     0.93427,     0.93433,     0.93438,     0.93444,      0.9345,     0.93455,     0.93461,     0.93461,\n",
              "             0.9346,     0.93459,     0.93458,     0.93523,      0.9353,     0.93544,     0.93563,       0.936,     0.93599,     0.93598,     0.93633,     0.93632,     0.93632,     0.93631,      0.9363,     0.93668,     0.93703,     0.93701,     0.93715,      0.9379,     0.93849,     0.93849,     0.93848,\n",
              "            0.93867,       0.939,     0.93916,     0.93915,     0.93914,     0.93913,     0.93911,     0.93936,     0.93947,     0.93946,     0.93944,     0.93958,     0.93977,     0.93991,     0.94004,     0.94017,     0.94051,     0.94052,     0.94132,     0.94138,     0.94143,     0.94149,     0.94155,\n",
              "             0.9416,     0.94169,     0.94205,     0.94225,     0.94242,      0.9425,     0.94258,     0.94266,     0.94273,     0.94291,     0.94314,     0.94313,     0.94325,      0.9435,     0.94359,     0.94369,     0.94379,     0.94403,     0.94478,     0.94493,     0.94492,      0.9449,     0.94502,\n",
              "            0.94521,     0.94526,     0.94524,     0.94522,     0.94536,     0.94555,     0.94591,      0.9463,      0.9467,     0.94712,     0.94711,     0.94747,     0.94787,     0.94826,     0.94825,     0.94861,      0.9486,     0.94896,     0.94895,     0.94895,     0.94894,     0.94933,     0.94932,\n",
              "            0.94932,     0.94932,     0.94931,     0.94931,     0.94931,      0.9493,      0.9493,     0.94929,     0.94984,     0.95024,     0.95064,     0.95081,     0.95079,       0.951,      0.9514,     0.95151,     0.95251,     0.95264,     0.95303,     0.95302,     0.95302,     0.95301,     0.95301,\n",
              "            0.95307,     0.95317,     0.95327,     0.95337,     0.95349,      0.9536,     0.95372,     0.95377,     0.95376,     0.95375,     0.95385,     0.95405,     0.95437,     0.95461,     0.95475,     0.95488,     0.95506,     0.95526,     0.95562,      0.9557,     0.95577,     0.95588,     0.95598,\n",
              "            0.95608,     0.95621,     0.95635,     0.95648,     0.95688,     0.95687,      0.9569,     0.95726,     0.95725,     0.95725,     0.95724,     0.95724,     0.95723,     0.95723,     0.95723,     0.95733,     0.95746,      0.9576,     0.95801,     0.95799,     0.95798,     0.95798,     0.95797,\n",
              "            0.95796,     0.95815,     0.95875,     0.95874,     0.95874,     0.95873,     0.95873,     0.95872,      0.9587,     0.95928,     0.95959,      0.9599,     0.95989,     0.95989,     0.96026,     0.96025,     0.96031,     0.96051,     0.96134,     0.96139,     0.96177,     0.96176,     0.96197,\n",
              "            0.96257,     0.96257,     0.96257,     0.96256,     0.96256,     0.96256,     0.96294,     0.96293,      0.9633,      0.9636,     0.96367,     0.96364,     0.96404,     0.96443,     0.96442,     0.96478,     0.96489,     0.96517,     0.96559,     0.96556,     0.96555,     0.96555,     0.96556,\n",
              "            0.96584,     0.96594,     0.96593,     0.96621,     0.96633,     0.96733,     0.96763,     0.96793,     0.96793,     0.96793,     0.96792,     0.96792,     0.96791,     0.96791,     0.96787,     0.96786,     0.96807,     0.96826,     0.96828,     0.96865,     0.96863,     0.96862,     0.96861,\n",
              "             0.9686,      0.9686,     0.96859,     0.96869,     0.96939,     0.96939,     0.96936,     0.96933,      0.9697,     0.97012,     0.97013,     0.97033,     0.97052,     0.97049,     0.97047,     0.97047,     0.97046,     0.97045,     0.97041,     0.97125,      0.9712,      0.9712,     0.97119,\n",
              "            0.97152,     0.97203,     0.97236,     0.97284,     0.97283,      0.9728,     0.97278,     0.97278,     0.97278,     0.97277,     0.97317,     0.97316,     0.97315,     0.97314,     0.97354,     0.97394,     0.97393,     0.97392,     0.97391,     0.97466,     0.97485,     0.97516,     0.97513,\n",
              "            0.97512,     0.97549,     0.97597,     0.97592,     0.97634,     0.97632,     0.97672,     0.97671,     0.97713,     0.97711,     0.97749,     0.97749,     0.97748,     0.97745,     0.97742,     0.97741,     0.97739,     0.97781,     0.97824,     0.97824,     0.97821,      0.9782,     0.97904,\n",
              "            0.97952,     0.97951,      0.9795,     0.97947,      0.9799,     0.97989,     0.98077,     0.98076,     0.98074,     0.98072,      0.9807,     0.98115,     0.98112,     0.98112,       0.982,     0.98195,     0.98194,     0.98191,     0.98191,      0.9819,     0.98233,     0.98277,     0.98331,\n",
              "            0.98363,      0.9836,     0.98356,     0.98353,     0.98352,     0.98351,     0.98349,     0.98348,     0.98394,     0.98391,     0.98482,     0.98481,     0.98516,     0.98524,     0.98523,     0.98614,     0.98707,     0.98706,     0.98751,      0.9875,      0.9875,     0.98749,     0.98749,\n",
              "            0.98745,     0.98744,     0.98741,     0.98741,     0.98738,     0.98782,      0.9878,     0.98779,     0.98825,     0.98821,     0.98867,     0.98867,     0.98865,     0.98861,     0.98929,     0.98956,     0.98955,     0.98953,     0.98951,     0.98995,     0.98992,     0.99039,     0.99039,\n",
              "            0.99083,      0.9908,     0.99076,     0.99096,     0.99123,     0.99122,      0.9912,     0.99219,     0.99268,     0.99278,     0.99314,     0.99313,     0.99308,     0.99305,     0.99302,     0.99351,     0.99348,     0.99346,     0.99395,     0.99395,      0.9939,     0.99384,     0.99378,\n",
              "            0.99374,     0.99368,     0.99421,     0.99417,     0.99416,     0.99408,       0.994,     0.99392,     0.99387,     0.99381,     0.99377,     0.99367,      0.9936,     0.99353,      0.9941,      0.9947,     0.99462,     0.99458,     0.99452,     0.99442,     0.99432,     0.99496,     0.99487,\n",
              "            0.99479,     0.99466,     0.99452,     0.99442,     0.99425,     0.99411,     0.99395,     0.99381,     0.99367,     0.99331,      0.9941,     0.99391,     0.99474,     0.99446,     0.99433,     0.99528,     0.99507,     0.99484,     0.99598,     0.99584,     0.99709,     0.99687,     0.99673,\n",
              "            0.99657,     0.99642,     0.99811,     0.99801,     0.99792,     0.99777,           1,           1,           1,           1,           1,           1,           1,           1,           1,           1,           1,           1,           1,           1,           1,           1,           1,\n",
              "                  1,           1,           1,           1,           1,           1,           1,           1,           1,           1,           1,           1,           1,           1,           1,           1,           1,           1,           1,           1,           1,           1,           1,\n",
              "                  1,           1,           1,           1,           1,           1,           1,           1,           1,           1,           1,           1,           1,           1,           1,           1,           1,           1,           1,           1,           1,           1,           1,\n",
              "                  1,           1,           1,           1,           1,           1,           1,           1,           1,           1,           1,           1,           1,           1,           1,           1,           1,           1,           1,           1,           1,           1,           1,\n",
              "                  1,           1,           1,           1,           1,           1,           1,           1,           1,           1,           1,           1,           1,           1,           1,           1,           1,           1,           1,           1,           1,           1,           1,\n",
              "                  1,           1,           1,           1,           1,           1,           1,           1,           1,           1,           1]]), 'Confidence', 'Precision'], [array([          0,    0.001001,    0.002002,    0.003003,    0.004004,    0.005005,    0.006006,    0.007007,    0.008008,    0.009009,     0.01001,    0.011011,    0.012012,    0.013013,    0.014014,    0.015015,    0.016016,    0.017017,    0.018018,    0.019019,     0.02002,    0.021021,    0.022022,    0.023023,\n",
              "          0.024024,    0.025025,    0.026026,    0.027027,    0.028028,    0.029029,     0.03003,    0.031031,    0.032032,    0.033033,    0.034034,    0.035035,    0.036036,    0.037037,    0.038038,    0.039039,     0.04004,    0.041041,    0.042042,    0.043043,    0.044044,    0.045045,    0.046046,    0.047047,\n",
              "          0.048048,    0.049049,     0.05005,    0.051051,    0.052052,    0.053053,    0.054054,    0.055055,    0.056056,    0.057057,    0.058058,    0.059059,     0.06006,    0.061061,    0.062062,    0.063063,    0.064064,    0.065065,    0.066066,    0.067067,    0.068068,    0.069069,     0.07007,    0.071071,\n",
              "          0.072072,    0.073073,    0.074074,    0.075075,    0.076076,    0.077077,    0.078078,    0.079079,     0.08008,    0.081081,    0.082082,    0.083083,    0.084084,    0.085085,    0.086086,    0.087087,    0.088088,    0.089089,     0.09009,    0.091091,    0.092092,    0.093093,    0.094094,    0.095095,\n",
              "          0.096096,    0.097097,    0.098098,    0.099099,      0.1001,      0.1011,      0.1021,      0.1031,      0.1041,     0.10511,     0.10611,     0.10711,     0.10811,     0.10911,     0.11011,     0.11111,     0.11211,     0.11311,     0.11411,     0.11512,     0.11612,     0.11712,     0.11812,     0.11912,\n",
              "           0.12012,     0.12112,     0.12212,     0.12312,     0.12412,     0.12513,     0.12613,     0.12713,     0.12813,     0.12913,     0.13013,     0.13113,     0.13213,     0.13313,     0.13413,     0.13514,     0.13614,     0.13714,     0.13814,     0.13914,     0.14014,     0.14114,     0.14214,     0.14314,\n",
              "           0.14414,     0.14515,     0.14615,     0.14715,     0.14815,     0.14915,     0.15015,     0.15115,     0.15215,     0.15315,     0.15415,     0.15516,     0.15616,     0.15716,     0.15816,     0.15916,     0.16016,     0.16116,     0.16216,     0.16316,     0.16416,     0.16517,     0.16617,     0.16717,\n",
              "           0.16817,     0.16917,     0.17017,     0.17117,     0.17217,     0.17317,     0.17417,     0.17518,     0.17618,     0.17718,     0.17818,     0.17918,     0.18018,     0.18118,     0.18218,     0.18318,     0.18418,     0.18519,     0.18619,     0.18719,     0.18819,     0.18919,     0.19019,     0.19119,\n",
              "           0.19219,     0.19319,     0.19419,      0.1952,      0.1962,      0.1972,      0.1982,      0.1992,      0.2002,      0.2012,      0.2022,      0.2032,      0.2042,     0.20521,     0.20621,     0.20721,     0.20821,     0.20921,     0.21021,     0.21121,     0.21221,     0.21321,     0.21421,     0.21522,\n",
              "           0.21622,     0.21722,     0.21822,     0.21922,     0.22022,     0.22122,     0.22222,     0.22322,     0.22422,     0.22523,     0.22623,     0.22723,     0.22823,     0.22923,     0.23023,     0.23123,     0.23223,     0.23323,     0.23423,     0.23524,     0.23624,     0.23724,     0.23824,     0.23924,\n",
              "           0.24024,     0.24124,     0.24224,     0.24324,     0.24424,     0.24525,     0.24625,     0.24725,     0.24825,     0.24925,     0.25025,     0.25125,     0.25225,     0.25325,     0.25425,     0.25526,     0.25626,     0.25726,     0.25826,     0.25926,     0.26026,     0.26126,     0.26226,     0.26326,\n",
              "           0.26426,     0.26527,     0.26627,     0.26727,     0.26827,     0.26927,     0.27027,     0.27127,     0.27227,     0.27327,     0.27427,     0.27528,     0.27628,     0.27728,     0.27828,     0.27928,     0.28028,     0.28128,     0.28228,     0.28328,     0.28428,     0.28529,     0.28629,     0.28729,\n",
              "           0.28829,     0.28929,     0.29029,     0.29129,     0.29229,     0.29329,     0.29429,      0.2953,      0.2963,      0.2973,      0.2983,      0.2993,      0.3003,      0.3013,      0.3023,      0.3033,      0.3043,     0.30531,     0.30631,     0.30731,     0.30831,     0.30931,     0.31031,     0.31131,\n",
              "           0.31231,     0.31331,     0.31431,     0.31532,     0.31632,     0.31732,     0.31832,     0.31932,     0.32032,     0.32132,     0.32232,     0.32332,     0.32432,     0.32533,     0.32633,     0.32733,     0.32833,     0.32933,     0.33033,     0.33133,     0.33233,     0.33333,     0.33433,     0.33534,\n",
              "           0.33634,     0.33734,     0.33834,     0.33934,     0.34034,     0.34134,     0.34234,     0.34334,     0.34434,     0.34535,     0.34635,     0.34735,     0.34835,     0.34935,     0.35035,     0.35135,     0.35235,     0.35335,     0.35435,     0.35536,     0.35636,     0.35736,     0.35836,     0.35936,\n",
              "           0.36036,     0.36136,     0.36236,     0.36336,     0.36436,     0.36537,     0.36637,     0.36737,     0.36837,     0.36937,     0.37037,     0.37137,     0.37237,     0.37337,     0.37437,     0.37538,     0.37638,     0.37738,     0.37838,     0.37938,     0.38038,     0.38138,     0.38238,     0.38338,\n",
              "           0.38438,     0.38539,     0.38639,     0.38739,     0.38839,     0.38939,     0.39039,     0.39139,     0.39239,     0.39339,     0.39439,      0.3954,      0.3964,      0.3974,      0.3984,      0.3994,      0.4004,      0.4014,      0.4024,      0.4034,      0.4044,     0.40541,     0.40641,     0.40741,\n",
              "           0.40841,     0.40941,     0.41041,     0.41141,     0.41241,     0.41341,     0.41441,     0.41542,     0.41642,     0.41742,     0.41842,     0.41942,     0.42042,     0.42142,     0.42242,     0.42342,     0.42442,     0.42543,     0.42643,     0.42743,     0.42843,     0.42943,     0.43043,     0.43143,\n",
              "           0.43243,     0.43343,     0.43443,     0.43544,     0.43644,     0.43744,     0.43844,     0.43944,     0.44044,     0.44144,     0.44244,     0.44344,     0.44444,     0.44545,     0.44645,     0.44745,     0.44845,     0.44945,     0.45045,     0.45145,     0.45245,     0.45345,     0.45445,     0.45546,\n",
              "           0.45646,     0.45746,     0.45846,     0.45946,     0.46046,     0.46146,     0.46246,     0.46346,     0.46446,     0.46547,     0.46647,     0.46747,     0.46847,     0.46947,     0.47047,     0.47147,     0.47247,     0.47347,     0.47447,     0.47548,     0.47648,     0.47748,     0.47848,     0.47948,\n",
              "           0.48048,     0.48148,     0.48248,     0.48348,     0.48448,     0.48549,     0.48649,     0.48749,     0.48849,     0.48949,     0.49049,     0.49149,     0.49249,     0.49349,     0.49449,      0.4955,      0.4965,      0.4975,      0.4985,      0.4995,      0.5005,      0.5015,      0.5025,      0.5035,\n",
              "            0.5045,     0.50551,     0.50651,     0.50751,     0.50851,     0.50951,     0.51051,     0.51151,     0.51251,     0.51351,     0.51451,     0.51552,     0.51652,     0.51752,     0.51852,     0.51952,     0.52052,     0.52152,     0.52252,     0.52352,     0.52452,     0.52553,     0.52653,     0.52753,\n",
              "           0.52853,     0.52953,     0.53053,     0.53153,     0.53253,     0.53353,     0.53453,     0.53554,     0.53654,     0.53754,     0.53854,     0.53954,     0.54054,     0.54154,     0.54254,     0.54354,     0.54454,     0.54555,     0.54655,     0.54755,     0.54855,     0.54955,     0.55055,     0.55155,\n",
              "           0.55255,     0.55355,     0.55455,     0.55556,     0.55656,     0.55756,     0.55856,     0.55956,     0.56056,     0.56156,     0.56256,     0.56356,     0.56456,     0.56557,     0.56657,     0.56757,     0.56857,     0.56957,     0.57057,     0.57157,     0.57257,     0.57357,     0.57457,     0.57558,\n",
              "           0.57658,     0.57758,     0.57858,     0.57958,     0.58058,     0.58158,     0.58258,     0.58358,     0.58458,     0.58559,     0.58659,     0.58759,     0.58859,     0.58959,     0.59059,     0.59159,     0.59259,     0.59359,     0.59459,      0.5956,      0.5966,      0.5976,      0.5986,      0.5996,\n",
              "            0.6006,      0.6016,      0.6026,      0.6036,      0.6046,     0.60561,     0.60661,     0.60761,     0.60861,     0.60961,     0.61061,     0.61161,     0.61261,     0.61361,     0.61461,     0.61562,     0.61662,     0.61762,     0.61862,     0.61962,     0.62062,     0.62162,     0.62262,     0.62362,\n",
              "           0.62462,     0.62563,     0.62663,     0.62763,     0.62863,     0.62963,     0.63063,     0.63163,     0.63263,     0.63363,     0.63463,     0.63564,     0.63664,     0.63764,     0.63864,     0.63964,     0.64064,     0.64164,     0.64264,     0.64364,     0.64464,     0.64565,     0.64665,     0.64765,\n",
              "           0.64865,     0.64965,     0.65065,     0.65165,     0.65265,     0.65365,     0.65465,     0.65566,     0.65666,     0.65766,     0.65866,     0.65966,     0.66066,     0.66166,     0.66266,     0.66366,     0.66466,     0.66567,     0.66667,     0.66767,     0.66867,     0.66967,     0.67067,     0.67167,\n",
              "           0.67267,     0.67367,     0.67467,     0.67568,     0.67668,     0.67768,     0.67868,     0.67968,     0.68068,     0.68168,     0.68268,     0.68368,     0.68468,     0.68569,     0.68669,     0.68769,     0.68869,     0.68969,     0.69069,     0.69169,     0.69269,     0.69369,     0.69469,      0.6957,\n",
              "            0.6967,      0.6977,      0.6987,      0.6997,      0.7007,      0.7017,      0.7027,      0.7037,      0.7047,     0.70571,     0.70671,     0.70771,     0.70871,     0.70971,     0.71071,     0.71171,     0.71271,     0.71371,     0.71471,     0.71572,     0.71672,     0.71772,     0.71872,     0.71972,\n",
              "           0.72072,     0.72172,     0.72272,     0.72372,     0.72472,     0.72573,     0.72673,     0.72773,     0.72873,     0.72973,     0.73073,     0.73173,     0.73273,     0.73373,     0.73473,     0.73574,     0.73674,     0.73774,     0.73874,     0.73974,     0.74074,     0.74174,     0.74274,     0.74374,\n",
              "           0.74474,     0.74575,     0.74675,     0.74775,     0.74875,     0.74975,     0.75075,     0.75175,     0.75275,     0.75375,     0.75475,     0.75576,     0.75676,     0.75776,     0.75876,     0.75976,     0.76076,     0.76176,     0.76276,     0.76376,     0.76476,     0.76577,     0.76677,     0.76777,\n",
              "           0.76877,     0.76977,     0.77077,     0.77177,     0.77277,     0.77377,     0.77477,     0.77578,     0.77678,     0.77778,     0.77878,     0.77978,     0.78078,     0.78178,     0.78278,     0.78378,     0.78478,     0.78579,     0.78679,     0.78779,     0.78879,     0.78979,     0.79079,     0.79179,\n",
              "           0.79279,     0.79379,     0.79479,      0.7958,      0.7968,      0.7978,      0.7988,      0.7998,      0.8008,      0.8018,      0.8028,      0.8038,      0.8048,     0.80581,     0.80681,     0.80781,     0.80881,     0.80981,     0.81081,     0.81181,     0.81281,     0.81381,     0.81481,     0.81582,\n",
              "           0.81682,     0.81782,     0.81882,     0.81982,     0.82082,     0.82182,     0.82282,     0.82382,     0.82482,     0.82583,     0.82683,     0.82783,     0.82883,     0.82983,     0.83083,     0.83183,     0.83283,     0.83383,     0.83483,     0.83584,     0.83684,     0.83784,     0.83884,     0.83984,\n",
              "           0.84084,     0.84184,     0.84284,     0.84384,     0.84484,     0.84585,     0.84685,     0.84785,     0.84885,     0.84985,     0.85085,     0.85185,     0.85285,     0.85385,     0.85485,     0.85586,     0.85686,     0.85786,     0.85886,     0.85986,     0.86086,     0.86186,     0.86286,     0.86386,\n",
              "           0.86486,     0.86587,     0.86687,     0.86787,     0.86887,     0.86987,     0.87087,     0.87187,     0.87287,     0.87387,     0.87487,     0.87588,     0.87688,     0.87788,     0.87888,     0.87988,     0.88088,     0.88188,     0.88288,     0.88388,     0.88488,     0.88589,     0.88689,     0.88789,\n",
              "           0.88889,     0.88989,     0.89089,     0.89189,     0.89289,     0.89389,     0.89489,      0.8959,      0.8969,      0.8979,      0.8989,      0.8999,      0.9009,      0.9019,      0.9029,      0.9039,      0.9049,     0.90591,     0.90691,     0.90791,     0.90891,     0.90991,     0.91091,     0.91191,\n",
              "           0.91291,     0.91391,     0.91491,     0.91592,     0.91692,     0.91792,     0.91892,     0.91992,     0.92092,     0.92192,     0.92292,     0.92392,     0.92492,     0.92593,     0.92693,     0.92793,     0.92893,     0.92993,     0.93093,     0.93193,     0.93293,     0.93393,     0.93493,     0.93594,\n",
              "           0.93694,     0.93794,     0.93894,     0.93994,     0.94094,     0.94194,     0.94294,     0.94394,     0.94494,     0.94595,     0.94695,     0.94795,     0.94895,     0.94995,     0.95095,     0.95195,     0.95295,     0.95395,     0.95495,     0.95596,     0.95696,     0.95796,     0.95896,     0.95996,\n",
              "           0.96096,     0.96196,     0.96296,     0.96396,     0.96496,     0.96597,     0.96697,     0.96797,     0.96897,     0.96997,     0.97097,     0.97197,     0.97297,     0.97397,     0.97497,     0.97598,     0.97698,     0.97798,     0.97898,     0.97998,     0.98098,     0.98198,     0.98298,     0.98398,\n",
              "           0.98498,     0.98599,     0.98699,     0.98799,     0.98899,     0.98999,     0.99099,     0.99199,     0.99299,     0.99399,     0.99499,       0.996,       0.997,       0.998,       0.999,           1]), array([[    0.98597,     0.98597,     0.98436,     0.98436,     0.98356,     0.98276,     0.98236,     0.98236,     0.98236,     0.98236,     0.98236,     0.98196,     0.98196,     0.98156,     0.98156,     0.98115,     0.98075,     0.98075,     0.98075,     0.98035,     0.98035,     0.98035,     0.98035,\n",
              "            0.98035,     0.97955,     0.97915,     0.97915,     0.97915,     0.97875,     0.97875,     0.97835,     0.97795,     0.97789,     0.97755,     0.97726,     0.97674,     0.97674,     0.97674,     0.97634,     0.97634,     0.97634,     0.97634,     0.97554,     0.97554,     0.97554,     0.97554,\n",
              "            0.97554,     0.97514,     0.97514,     0.97514,     0.97514,     0.97474,     0.97474,     0.97474,     0.97474,     0.97434,     0.97434,     0.97396,     0.97368,     0.97354,     0.97319,     0.97289,     0.97233,     0.97193,     0.97193,     0.97163,     0.97153,     0.97113,     0.97113,\n",
              "            0.97113,     0.97113,     0.97113,     0.97113,     0.97113,     0.97113,     0.97113,     0.97113,     0.97113,     0.97113,     0.97113,     0.97113,     0.97113,     0.97073,     0.96993,     0.96993,     0.96993,     0.96993,     0.96993,     0.96993,     0.96993,     0.96993,     0.96993,\n",
              "            0.96993,     0.96993,     0.96993,     0.96993,     0.96993,     0.96993,     0.96993,     0.96993,     0.96993,     0.96953,     0.96953,     0.96953,     0.96953,     0.96953,     0.96953,     0.96953,     0.96953,     0.96913,     0.96913,     0.96913,     0.96913,     0.96913,     0.96907,\n",
              "            0.96874,     0.96872,     0.96872,     0.96872,     0.96872,     0.96872,     0.96872,     0.96872,     0.96872,     0.96872,     0.96872,     0.96872,     0.96872,     0.96872,     0.96872,     0.96872,     0.96872,     0.96872,     0.96864,     0.96832,     0.96832,     0.96832,     0.96792,\n",
              "            0.96792,     0.96792,     0.96792,     0.96792,     0.96792,     0.96756,     0.96752,     0.96752,     0.96752,     0.96752,     0.96752,     0.96752,     0.96752,     0.96752,     0.96752,     0.96752,     0.96744,     0.96704,     0.96672,     0.96672,     0.96672,     0.96672,     0.96672,\n",
              "            0.96672,      0.9666,     0.96644,     0.96632,     0.96632,     0.96632,     0.96632,     0.96632,     0.96632,     0.96632,     0.96632,     0.96588,     0.96552,     0.96552,     0.96552,     0.96552,     0.96552,     0.96552,     0.96552,     0.96552,     0.96552,     0.96552,     0.96552,\n",
              "            0.96552,     0.96472,     0.96472,     0.96472,     0.96472,     0.96472,     0.96449,     0.96391,     0.96385,     0.96363,     0.96271,     0.96271,     0.96271,     0.96266,     0.96253,      0.9624,     0.96231,      0.9623,     0.96197,     0.96191,     0.96151,     0.96151,     0.96151,\n",
              "            0.96151,     0.96146,     0.96111,     0.96111,     0.96111,     0.96111,     0.96111,     0.96111,     0.96111,     0.96111,     0.96071,     0.96071,     0.95998,     0.95977,      0.9595,      0.9595,      0.9595,      0.9595,      0.9595,      0.9595,      0.9595,      0.9591,      0.9591,\n",
              "             0.9591,      0.9591,      0.9591,      0.9591,      0.9591,      0.9591,      0.9591,      0.9591,      0.9591,      0.9591,      0.9591,      0.9591,      0.9591,      0.9591,      0.9591,      0.9591,     0.95899,     0.95872,      0.9583,      0.9583,      0.9583,      0.9583,      0.9583,\n",
              "             0.9583,      0.9583,      0.9583,      0.9583,      0.9583,      0.9583,      0.9583,      0.9583,      0.9583,      0.9583,     0.95821,     0.95794,      0.9579,      0.9579,      0.9579,      0.9579,      0.9579,      0.9579,     0.95788,      0.9571,      0.9571,      0.9571,      0.9571,\n",
              "            0.95688,      0.9567,      0.9567,      0.9567,      0.9567,      0.9567,      0.9567,     0.95662,     0.95639,      0.9563,     0.95589,     0.95589,     0.95589,     0.95589,     0.95589,     0.95574,     0.95549,     0.95549,     0.95509,     0.95509,     0.95509,     0.95509,     0.95509,\n",
              "            0.95469,     0.95469,     0.95469,     0.95469,     0.95469,     0.95455,     0.95429,     0.95429,     0.95429,     0.95429,     0.95429,     0.95429,     0.95429,     0.95376,      0.9536,     0.95345,     0.95333,     0.95321,      0.9531,     0.95309,     0.95309,     0.95309,     0.95309,\n",
              "            0.95309,     0.95309,     0.95309,     0.95309,     0.95309,     0.95309,     0.95309,     0.95309,     0.95269,     0.95262,     0.95239,     0.95229,     0.95229,     0.95229,     0.95229,     0.95229,     0.95229,     0.95229,     0.95229,     0.95229,     0.95229,     0.95188,     0.95188,\n",
              "            0.95188,     0.95188,     0.95188,     0.95188,     0.95188,     0.95188,     0.95188,     0.95148,     0.95148,     0.95148,     0.95148,     0.95148,     0.95148,     0.95148,     0.95148,     0.95148,     0.95148,     0.95148,     0.95148,     0.95096,     0.95075,     0.95068,     0.95068,\n",
              "            0.95068,     0.95054,     0.95039,     0.95028,     0.95028,     0.95026,     0.95018,     0.95011,     0.95003,     0.94996,     0.94988,     0.94948,     0.94908,     0.94908,     0.94908,     0.94908,     0.94908,     0.94868,     0.94868,     0.94868,     0.94868,     0.94838,     0.94828,\n",
              "            0.94828,     0.94828,     0.94828,     0.94822,     0.94787,     0.94787,     0.94787,     0.94787,     0.94787,     0.94787,     0.94787,     0.94787,     0.94787,     0.94787,     0.94787,     0.94787,     0.94787,     0.94787,     0.94778,     0.94747,     0.94747,     0.94747,      0.9474,\n",
              "            0.94716,     0.94699,     0.94685,     0.94671,     0.94667,     0.94652,     0.94632,     0.94596,     0.94587,     0.94587,     0.94587,     0.94587,     0.94587,     0.94587,     0.94587,     0.94587,     0.94587,     0.94587,     0.94587,     0.94587,     0.94587,     0.94587,     0.94561,\n",
              "            0.94538,     0.94524,      0.9451,     0.94507,     0.94475,     0.94467,     0.94467,     0.94415,     0.94401,     0.94388,     0.94387,     0.94337,     0.94327,     0.94316,     0.94305,     0.94266,     0.94264,     0.94241,     0.94226,     0.94226,      0.9422,     0.94207,     0.94193,\n",
              "            0.94186,     0.94106,     0.94083,     0.94058,     0.94044,     0.94031,     0.93999,     0.93986,     0.93971,     0.93951,     0.93915,     0.93905,     0.93905,     0.93905,     0.93905,     0.93905,     0.93865,     0.93828,     0.93825,     0.93825,     0.93825,     0.93825,     0.93825,\n",
              "            0.93825,     0.93825,     0.93825,     0.93825,     0.93825,     0.93825,     0.93825,     0.93825,     0.93825,     0.93825,     0.93778,     0.93758,     0.93705,     0.93665,     0.93665,     0.93665,     0.93665,     0.93665,     0.93625,     0.93573,     0.93553,      0.9352,     0.93504,\n",
              "            0.93504,     0.93477,     0.93436,     0.93395,     0.93384,     0.93384,     0.93384,     0.93384,     0.93384,     0.93366,     0.93346,     0.93344,     0.93344,     0.93324,     0.93304,     0.93262,     0.93184,     0.93183,     0.93172,     0.93162,     0.93152,     0.93142,     0.93137,\n",
              "            0.93131,     0.93125,     0.93119,     0.93113,     0.93107,     0.93099,     0.93085,     0.93071,     0.93063,     0.93063,     0.93063,     0.93003,     0.92962,     0.92943,     0.92943,     0.92838,     0.92783,     0.92756,     0.92737,     0.92729,     0.92721,     0.92712,     0.92704,\n",
              "            0.92662,     0.92662,     0.92662,     0.92662,     0.92662,     0.92662,     0.92662,     0.92653,     0.92632,     0.92601,     0.92582,     0.92582,     0.92582,     0.92582,     0.92582,     0.92582,     0.92582,     0.92582,     0.92582,     0.92551,     0.92542,     0.92542,     0.92542,\n",
              "            0.92542,     0.92542,     0.92542,     0.92542,     0.92542,     0.92522,     0.92502,     0.92494,     0.92481,     0.92467,     0.92457,     0.92449,      0.9244,     0.92432,     0.92424,     0.92422,     0.92422,     0.92422,     0.92388,     0.92347,     0.92331,      0.9232,     0.92308,\n",
              "            0.92283,     0.92261,     0.92256,     0.92246,     0.92236,     0.92225,     0.92209,     0.92188,     0.92155,     0.92141,     0.92141,     0.92138,     0.92124,     0.92111,     0.92048,     0.92007,     0.91981,     0.91981,     0.91901,     0.91863,     0.91801,      0.9178,      0.9178,\n",
              "             0.9178,     0.91773,     0.91765,     0.91758,      0.9175,     0.91743,     0.91686,     0.91666,      0.9155,      0.9154,     0.91468,     0.91398,     0.91366,     0.91325,     0.91283,     0.91162,     0.91139,     0.91139,     0.91139,     0.91045,     0.91031,     0.91016,     0.90978,\n",
              "            0.90978,     0.90965,     0.90945,     0.90938,      0.9091,     0.90818,     0.90778,     0.90775,     0.90763,     0.90751,     0.90739,     0.90726,     0.90712,     0.90698,     0.90599,     0.90558,     0.90537,     0.90523,     0.90497,     0.90453,     0.90375,     0.90354,     0.90332,\n",
              "            0.90305,     0.90285,     0.90269,     0.90217,     0.90171,      0.9015,     0.90069,     0.89981,     0.89976,     0.89936,     0.89871,     0.89856,     0.89756,     0.89681,     0.89614,     0.89598,     0.89582,      0.8955,     0.89429,     0.89388,     0.89251,     0.89235,     0.89218,\n",
              "            0.89214,     0.89182,     0.89134,     0.89047,     0.89026,     0.88902,     0.88857,     0.88842,     0.88831,     0.88819,     0.88732,     0.88692,     0.88664,     0.88629,     0.88508,     0.88406,     0.88365,     0.88327,     0.88299,     0.88292,     0.88172,      0.8816,     0.88043,\n",
              "            0.88015,     0.87971,     0.87955,     0.87737,     0.87693,     0.87612,      0.8747,     0.87429,     0.87355,     0.87284,     0.87077,     0.87057,     0.87003,     0.86915,      0.8679,     0.86759,     0.86678,     0.86586,     0.86536,     0.86506,     0.86398,     0.86371,     0.86367,\n",
              "             0.8631,     0.86252,     0.86208,     0.86067,     0.86006,     0.85979,     0.85875,     0.85854,     0.85761,     0.85674,     0.85579,     0.85547,     0.85439,     0.85412,     0.85304,     0.85061,     0.85011,     0.84901,     0.84874,     0.84846,      0.8469,     0.84605,     0.84322,\n",
              "            0.84322,     0.84175,     0.83947,     0.83799,     0.83772,     0.83716,     0.83597,     0.83569,     0.83502,     0.83351,     0.83233,     0.83206,     0.83079,     0.82951,     0.82923,     0.82744,     0.82647,     0.82561,       0.824,     0.82372,     0.82344,     0.82317,      0.8229,\n",
              "            0.82054,     0.81973,     0.81787,      0.8173,     0.81582,     0.81297,     0.81149,     0.81121,     0.80923,     0.80682,     0.80505,     0.80477,     0.80358,     0.80048,     0.79912,     0.79814,     0.79754,     0.79611,      0.7931,     0.79028,     0.78786,     0.78541,     0.78484,\n",
              "            0.77976,     0.77689,     0.77418,     0.77185,     0.77075,     0.76923,     0.76763,     0.76438,     0.76089,     0.75822,     0.75822,     0.75344,     0.74842,      0.7448,     0.74158,     0.73643,     0.73334,     0.73053,     0.72491,     0.72464,     0.71841,     0.71117,     0.70481,\n",
              "            0.69999,     0.69347,     0.68864,      0.6834,     0.68251,     0.67294,      0.6641,     0.65526,     0.64959,     0.64377,     0.63916,     0.62991,     0.62268,     0.61544,      0.6078,     0.60217,     0.59333,     0.58896,     0.58166,     0.57161,     0.56197,     0.55393,     0.54429,\n",
              "            0.53585,       0.523,     0.50935,      0.5005,     0.48565,       0.474,     0.46115,      0.4503,     0.44026,     0.41698,     0.40534,     0.39289,     0.37883,     0.35997,     0.35153,     0.33787,     0.32382,     0.30937,     0.29772,     0.28807,     0.27522,     0.25556,     0.24471,\n",
              "            0.23306,     0.22342,     0.21137,     0.20092,     0.19208,     0.17963,     0.16398,     0.15193,     0.14148,     0.13424,     0.11859,     0.10934,     0.10411,    0.097276,    0.088434,    0.079192,     0.06995,    0.059906,    0.055074,    0.049842,     0.04501,    0.038976,    0.034545,\n",
              "           0.027888,     0.02408,    0.022456,    0.016631,    0.014797,    0.013575,     0.01199,    0.010728,   0.0095047,   0.0074798,   0.0065366,   0.0058358,   0.0043112,   0.0035357,   0.0032617,   0.0028778,   0.0024668,   0.0020558,   0.0016448,   0.0013571,    0.001158,   0.0010552,  0.00095249,\n",
              "         0.00084974,  0.00079681,  0.00078726,   0.0007777,  0.00076814,  0.00075858,  0.00074902,  0.00073947,  0.00072991,  0.00072035,  0.00071079,  0.00070123,  0.00069168,  0.00068212,  0.00067256,    0.000663,  0.00065344,  0.00064389,  0.00063433,  0.00062477,  0.00061521,  0.00060565,   0.0005961,\n",
              "         0.00058654,  0.00057698,  0.00056742,  0.00055786,   0.0005483,  0.00053875,  0.00052919,  0.00051963,  0.00051007,  0.00050051,  0.00049096,   0.0004814,  0.00047184,  0.00046228,  0.00045272,  0.00044317,  0.00043361,  0.00042405,  0.00041449,  0.00040493,           0,           0,           0,\n",
              "                  0,           0,           0,           0,           0,           0,           0,           0,           0,           0,           0,           0,           0,           0,           0,           0,           0,           0,           0,           0,           0,           0,           0,\n",
              "                  0,           0,           0,           0,           0,           0,           0,           0,           0,           0,           0]]), 'Confidence', 'Recall']]\n",
              "fitness: np.float64(0.80561706125649)\n",
              "keys: ['metrics/precision(B)', 'metrics/recall(B)', 'metrics/mAP50(B)', 'metrics/mAP50-95(B)']\n",
              "maps: array([    0.78686])\n",
              "names: {0: 'license-plate'}\n",
              "plot: True\n",
              "results_dict: {'metrics/precision(B)': np.float64(0.9538492754448783), 'metrics/recall(B)': np.float64(0.9258219727345629), 'metrics/mAP50(B)': np.float64(0.9743933132912699), 'metrics/mAP50-95(B)': np.float64(0.7868641443637368), 'fitness': np.float64(0.80561706125649)}\n",
              "save_dir: PosixPath('/content/runs/train/license_plate_detector2')\n",
              "speed: {'preprocess': 0.25050696414390977, 'inference': 2.6130494174483245, 'loss': 0.0031561867972585496, 'postprocess': 2.859031897171591}\n",
              "task: 'detect'"
            ]
          },
          "metadata": {},
          "execution_count": 8
        }
      ],
      "execution_count": null
    },
    {
      "cell_type": "code",
      "source": [
        "import os\n",
        "import shutil\n",
        "import xml.etree.ElementTree as ET\n",
        "from PIL import Image\n",
        "\n",
        "# مسیرهای جداگانه\n",
        "source_train_folder = '/content/train'  # عکس و xml های train\n",
        "source_val_folder = '/content/test'      # عکس و xml های validation\n",
        "dataset_folder = '/content/dataset'\n",
        "\n",
        "# ساخت پوشه ها\n",
        "for subfolder in ['images/train', 'images/val', 'labels/train', 'labels/val']:\n",
        "    os.makedirs(os.path.join(dataset_folder, subfolder), exist_ok=True)\n",
        "\n",
        "def process_folder(source_folder, split):\n",
        "    xml_files = [f for f in os.listdir(source_folder) if f.endswith('.xml')]\n",
        "\n",
        "    for xml_file in xml_files:\n",
        "        xml_path = os.path.join(source_folder, xml_file)\n",
        "        base_filename = os.path.splitext(xml_file)[0]\n",
        "        img_filename = base_filename + '.jpg'\n",
        "        img_path = os.path.join(source_folder, img_filename)\n",
        "\n",
        "        if not os.path.exists(img_path):\n",
        "            print(f\"Image not found: {img_filename}\")\n",
        "            continue\n",
        "\n",
        "        img = Image.open(img_path)\n",
        "        img_w, img_h = img.size\n",
        "\n",
        "        tree = ET.parse(xml_path)\n",
        "        root = tree.getroot()\n",
        "\n",
        "        yolo_lines = []\n",
        "        for obj in root.findall('object'):\n",
        "            label = obj.find('name').text\n",
        "            if label != 'کل ناحیه پلاک':\n",
        "                continue\n",
        "\n",
        "            bbox = obj.find('bndbox')\n",
        "            xmin = float(bbox.find('xmin').text)\n",
        "            ymin = float(bbox.find('ymin').text)\n",
        "            xmax = float(bbox.find('xmax').text)\n",
        "            ymax = float(bbox.find('ymax').text)\n",
        "\n",
        "            x_center = ((xmin + xmax) / 2) / img_w\n",
        "            y_center = ((ymin + ymax) / 2) / img_h\n",
        "            width = (xmax - xmin) / img_w\n",
        "            height = (ymax - ymin) / img_h\n",
        "\n",
        "            yolo_line = f\"0 {x_center:.6f} {y_center:.6f} {width:.6f} {height:.6f}\"\n",
        "            yolo_lines.append(yolo_line)\n",
        "\n",
        "        if yolo_lines:\n",
        "            # کپی عکس\n",
        "            shutil.copy(img_path, os.path.join(dataset_folder, f'images/{split}/{img_filename}'))\n",
        "            # ذخیره لیبل\n",
        "            label_path = os.path.join(dataset_folder, f'labels/{split}/{base_filename}.txt')\n",
        "            with open(label_path, 'w') as f:\n",
        "                f.write('\\n'.join(yolo_lines))\n",
        "\n",
        "# پردازش train\n",
        "process_folder(source_train_folder, 'train')\n",
        "# پردازش val\n",
        "process_folder(source_val_folder, 'val')\n",
        "\n",
        "print(\"✅ آماده سازی دیتا تمام شد.\")"
      ],
      "metadata": {
        "colab": {
          "base_uri": "https://localhost:8080/"
        },
        "id": "XlaYjEOgvC2t",
        "outputId": "711a2cd4-e4f3-4c13-bdf8-429daeb7c501"
      },
      "execution_count": null,
      "outputs": [
        {
          "output_type": "stream",
          "name": "stdout",
          "text": [
            "✅ آماده سازی دیتا تمام شد.\n"
          ]
        }
      ]
    },
    {
      "cell_type": "code",
      "source": [
        "data_yaml = \"\"\"\n",
        "path: /content/dataset\n",
        "train: dummy\n",
        "val: images/val\n",
        "\n",
        "names:\n",
        "  0: license-plate\n",
        "\"\"\"\n",
        "\n",
        "with open(\"/content/data_test.yaml\", \"w\", encoding=\"utf-8\") as f:\n",
        "    f.write(data_yaml)"
      ],
      "metadata": {
        "id": "hO36g6RrvgZz"
      },
      "execution_count": null,
      "outputs": []
    },
    {
      "cell_type": "code",
      "source": [
        "from ultralytics import YOLO\n",
        "\n",
        "model = YOLO(\"/content/runs/train/license_plate_detector2/weights/best.pt\")\n",
        "metrics = model.val(data=\"/content/data_test.yaml\")\n",
        "\n",
        "print(f\"mAP@0.5: {metrics.box.map:.4f}\")\n",
        "print(f\"Precision: {metrics.box.precision:.4f}\")\n",
        "print(f\"Recall: {metrics.box.recall:.4f}\")"
      ],
      "metadata": {
        "colab": {
          "base_uri": "https://localhost:8080/",
          "height": 922
        },
        "id": "u9PDx9l0vucj",
        "outputId": "65f1bf76-f0aa-43c8-c987-010c91053881"
      },
      "execution_count": null,
      "outputs": [
        {
          "output_type": "stream",
          "name": "stdout",
          "text": [
            "Ultralytics 8.3.141 🚀 Python-3.11.12 torch-2.6.0+cu124 CUDA:0 (Tesla T4, 15095MiB)\n",
            "Model summary (fused): 72 layers, 3,005,843 parameters, 0 gradients, 8.1 GFLOPs\n",
            "\u001b[34m\u001b[1mval: \u001b[0mFast image access ✅ (ping: 0.0±0.0 ms, read: 47.7±34.5 MB/s, size: 543.4 KB)\n"
          ]
        },
        {
          "output_type": "stream",
          "name": "stderr",
          "text": [
            "\u001b[34m\u001b[1mval: \u001b[0mScanning /content/dataset/labels/val... 6296 images, 0 backgrounds, 0 corrupt: 100%|██████████| 6296/6296 [00:11<00:00, 529.39it/s]\n"
          ]
        },
        {
          "output_type": "stream",
          "name": "stdout",
          "text": [
            "\u001b[34m\u001b[1mval: \u001b[0mNew cache created: /content/dataset/labels/val.cache\n"
          ]
        },
        {
          "output_type": "stream",
          "name": "stderr",
          "text": [
            "                 Class     Images  Instances      Box(P          R      mAP50  mAP50-95): 100%|██████████| 394/394 [01:53<00:00,  3.47it/s]\n"
          ]
        },
        {
          "output_type": "stream",
          "name": "stdout",
          "text": [
            "                   all       6296       7458      0.951       0.94      0.977      0.791\n",
            "Speed: 0.3ms preprocess, 3.5ms inference, 0.0ms loss, 1.8ms postprocess per image\n",
            "Results saved to \u001b[1mruns/detect/val\u001b[0m\n",
            "mAP@0.5: 0.7908\n"
          ]
        },
        {
          "output_type": "error",
          "ename": "AttributeError",
          "evalue": "'Metric' object has no attribute 'precision'. See valid attributes below.\n\n    Class for computing evaluation metrics for Ultralytics YOLO models.\n\n    Attributes:\n        p (list): Precision for each class. Shape: (nc,).\n        r (list): Recall for each class. Shape: (nc,).\n        f1 (list): F1 score for each class. Shape: (nc,).\n        all_ap (list): AP scores for all classes and all IoU thresholds. Shape: (nc, 10).\n        ap_class_index (list): Index of class for each AP score. Shape: (nc,).\n        nc (int): Number of classes.\n\n    Methods:\n        ap50(): AP at IoU threshold of 0.5 for all classes. Returns: List of AP scores. Shape: (nc,) or [].\n        ap(): AP at IoU thresholds from 0.5 to 0.95 for all classes. Returns: List of AP scores. Shape: (nc,) or [].\n        mp(): Mean precision of all classes. Returns: Float.\n        mr(): Mean recall of all classes. Returns: Float.\n        map50(): Mean AP at IoU threshold of 0.5 for all classes. Returns: Float.\n        map75(): Mean AP at IoU threshold of 0.75 for all classes. Returns: Float.\n        map(): Mean AP at IoU thresholds from 0.5 to 0.95 for all classes. Returns: Float.\n        mean_results(): Mean of results, returns mp, mr, map50, map.\n        class_result(i): Class-aware result, returns p[i], r[i], ap50[i], ap[i].\n        maps(): mAP of each class. Returns: Array of mAP scores, shape: (nc,).\n        fitness(): Model fitness as a weighted combination of metrics. Returns: Float.\n        update(results): Update metric attributes with new evaluation results.\n    ",
          "traceback": [
            "\u001b[0;31m---------------------------------------------------------------------------\u001b[0m",
            "\u001b[0;31mAttributeError\u001b[0m                            Traceback (most recent call last)",
            "\u001b[0;32m<ipython-input-12-5d51de01f570>\u001b[0m in \u001b[0;36m<cell line: 0>\u001b[0;34m()\u001b[0m\n\u001b[1;32m      5\u001b[0m \u001b[0;34m\u001b[0m\u001b[0m\n\u001b[1;32m      6\u001b[0m \u001b[0mprint\u001b[0m\u001b[0;34m(\u001b[0m\u001b[0;34mf\"mAP@0.5: {metrics.box.map:.4f}\"\u001b[0m\u001b[0;34m)\u001b[0m\u001b[0;34m\u001b[0m\u001b[0;34m\u001b[0m\u001b[0m\n\u001b[0;32m----> 7\u001b[0;31m \u001b[0mprint\u001b[0m\u001b[0;34m(\u001b[0m\u001b[0;34mf\"Precision: {metrics.box.precision:.4f}\"\u001b[0m\u001b[0;34m)\u001b[0m\u001b[0;34m\u001b[0m\u001b[0;34m\u001b[0m\u001b[0m\n\u001b[0m\u001b[1;32m      8\u001b[0m \u001b[0mprint\u001b[0m\u001b[0;34m(\u001b[0m\u001b[0;34mf\"Recall: {metrics.box.recall:.4f}\"\u001b[0m\u001b[0;34m)\u001b[0m\u001b[0;34m\u001b[0m\u001b[0;34m\u001b[0m\u001b[0m\n",
            "\u001b[0;32m/usr/local/lib/python3.11/dist-packages/ultralytics/utils/__init__.py\u001b[0m in \u001b[0;36m__getattr__\u001b[0;34m(self, attr)\u001b[0m\n\u001b[1;32m    392\u001b[0m         \u001b[0;34m\"\"\"Custom attribute access error message with helpful information.\"\"\"\u001b[0m\u001b[0;34m\u001b[0m\u001b[0;34m\u001b[0m\u001b[0m\n\u001b[1;32m    393\u001b[0m         \u001b[0mname\u001b[0m \u001b[0;34m=\u001b[0m \u001b[0mself\u001b[0m\u001b[0;34m.\u001b[0m\u001b[0m__class__\u001b[0m\u001b[0;34m.\u001b[0m\u001b[0m__name__\u001b[0m\u001b[0;34m\u001b[0m\u001b[0;34m\u001b[0m\u001b[0m\n\u001b[0;32m--> 394\u001b[0;31m         \u001b[0;32mraise\u001b[0m \u001b[0mAttributeError\u001b[0m\u001b[0;34m(\u001b[0m\u001b[0;34mf\"'{name}' object has no attribute '{attr}'. See valid attributes below.\\n{self.__doc__}\"\u001b[0m\u001b[0;34m)\u001b[0m\u001b[0;34m\u001b[0m\u001b[0;34m\u001b[0m\u001b[0m\n\u001b[0m\u001b[1;32m    395\u001b[0m \u001b[0;34m\u001b[0m\u001b[0m\n\u001b[1;32m    396\u001b[0m \u001b[0;34m\u001b[0m\u001b[0m\n",
            "\u001b[0;31mAttributeError\u001b[0m: 'Metric' object has no attribute 'precision'. See valid attributes below.\n\n    Class for computing evaluation metrics for Ultralytics YOLO models.\n\n    Attributes:\n        p (list): Precision for each class. Shape: (nc,).\n        r (list): Recall for each class. Shape: (nc,).\n        f1 (list): F1 score for each class. Shape: (nc,).\n        all_ap (list): AP scores for all classes and all IoU thresholds. Shape: (nc, 10).\n        ap_class_index (list): Index of class for each AP score. Shape: (nc,).\n        nc (int): Number of classes.\n\n    Methods:\n        ap50(): AP at IoU threshold of 0.5 for all classes. Returns: List of AP scores. Shape: (nc,) or [].\n        ap(): AP at IoU thresholds from 0.5 to 0.95 for all classes. Returns: List of AP scores. Shape: (nc,) or [].\n        mp(): Mean precision of all classes. Returns: Float.\n        mr(): Mean recall of all classes. Returns: Float.\n        map50(): Mean AP at IoU threshold of 0.5 for all classes. Returns: Float.\n        map75(): Mean AP at IoU threshold of 0.75 for all classes. Returns: Float.\n        map(): Mean AP at IoU thresholds from 0.5 to 0.95 for all classes. Returns: Float.\n        mean_results(): Mean of results, returns mp, mr, map50, map.\n        class_result(i): Class-aware result, returns p[i], r[i], ap50[i], ap[i].\n        maps(): mAP of each class. Returns: Array of mAP scores, shape: (nc,).\n        fitness(): Model fitness as a weighted combination of metrics. Returns: Float.\n        update(results): Update metric attributes with new evaluation results.\n    "
          ]
        }
      ]
    },
    {
      "cell_type": "code",
      "source": [
        "!zip -r /content/runs.zip /content/runs"
      ],
      "metadata": {
        "colab": {
          "base_uri": "https://localhost:8080/"
        },
        "id": "TTXbk_b_wiTs",
        "outputId": "5f2bd8fd-efad-42cf-bc78-e7265ff285c5"
      },
      "execution_count": null,
      "outputs": [
        {
          "output_type": "stream",
          "name": "stdout",
          "text": [
            "updating: content/runs/ (stored 0%)\n",
            "updating: content/runs/train/ (stored 0%)\n",
            "updating: content/runs/train/license_plate_detector2/ (stored 0%)\n",
            "updating: content/runs/train/license_plate_detector2/confusion_matrix.png (deflated 34%)\n",
            "updating: content/runs/train/license_plate_detector2/val_batch2_labels.jpg (deflated 7%)\n",
            "updating: content/runs/train/license_plate_detector2/train_batch165060.jpg (deflated 22%)\n",
            "updating: content/runs/train/license_plate_detector2/args.yaml (deflated 54%)\n",
            "updating: content/runs/train/license_plate_detector2/results.png (deflated 7%)\n",
            "updating: content/runs/train/license_plate_detector2/train_batch165062.jpg (deflated 16%)\n",
            "updating: content/runs/train/license_plate_detector2/F1_curve.png (deflated 16%)\n",
            "updating: content/runs/train/license_plate_detector2/val_batch2_pred.jpg (deflated 7%)\n",
            "updating: content/runs/train/license_plate_detector2/val_batch0_pred.jpg (deflated 10%)\n",
            "updating: content/runs/train/license_plate_detector2/confusion_matrix_normalized.png (deflated 35%)\n",
            "updating: content/runs/train/license_plate_detector2/val_batch1_labels.jpg (deflated 8%)\n",
            "updating: content/runs/train/license_plate_detector2/weights/ (stored 0%)\n",
            "updating: content/runs/train/license_plate_detector2/weights/epoch85.pt (deflated 8%)\n",
            "updating: content/runs/train/license_plate_detector2/weights/epoch95.pt (deflated 8%)\n",
            "updating: content/runs/train/license_plate_detector2/weights/best.pt (deflated 9%)\n",
            "updating: content/runs/train/license_plate_detector2/weights/epoch90.pt (deflated 8%)\n",
            "updating: content/runs/train/license_plate_detector2/weights/epoch80.pt (deflated 8%)\n",
            "updating: content/runs/train/license_plate_detector2/weights/last.pt (deflated 9%)\n",
            "updating: content/runs/train/license_plate_detector2/train_batch165061.jpg (deflated 14%)\n",
            "updating: content/runs/train/license_plate_detector2/labels_correlogram.jpg (deflated 32%)\n",
            "updating: content/runs/train/license_plate_detector2/R_curve.png (deflated 17%)\n",
            "updating: content/runs/train/license_plate_detector2/val_batch1_pred.jpg (deflated 7%)\n",
            "updating: content/runs/train/license_plate_detector2/results.csv (deflated 64%)\n",
            "updating: content/runs/train/license_plate_detector2/labels.jpg (deflated 35%)\n",
            "updating: content/runs/train/license_plate_detector2/PR_curve.png (deflated 24%)\n",
            "updating: content/runs/train/license_plate_detector2/val_batch0_labels.jpg (deflated 10%)\n",
            "updating: content/runs/train/license_plate_detector2/P_curve.png (deflated 20%)\n",
            "  adding: content/runs/detect/ (stored 0%)\n",
            "  adding: content/runs/detect/val/ (stored 0%)\n",
            "  adding: content/runs/detect/val/confusion_matrix.png (deflated 34%)\n",
            "  adding: content/runs/detect/val/val_batch2_labels.jpg (deflated 8%)\n",
            "  adding: content/runs/detect/val/F1_curve.png (deflated 16%)\n",
            "  adding: content/runs/detect/val/val_batch2_pred.jpg (deflated 8%)\n",
            "  adding: content/runs/detect/val/val_batch0_pred.jpg (deflated 10%)\n",
            "  adding: content/runs/detect/val/confusion_matrix_normalized.png (deflated 35%)\n",
            "  adding: content/runs/detect/val/val_batch1_labels.jpg (deflated 8%)\n",
            "  adding: content/runs/detect/val/R_curve.png (deflated 16%)\n",
            "  adding: content/runs/detect/val/val_batch1_pred.jpg (deflated 8%)\n",
            "  adding: content/runs/detect/val/PR_curve.png (deflated 24%)\n",
            "  adding: content/runs/detect/val/val_batch0_labels.jpg (deflated 10%)\n",
            "  adding: content/runs/detect/val/P_curve.png (deflated 20%)\n"
          ]
        }
      ]
    },
    {
      "cell_type": "markdown",
      "source": [
        "# charactor segmentation"
      ],
      "metadata": {
        "id": "WJbeyosLk30g"
      }
    },
    {
      "cell_type": "code",
      "source": [
        "import gdown\n",
        "\n",
        "# لینک فایل\n",
        "file_id = '1ubkg7E2vGEOqS4K_quwf9Vl-i8IVpklM'\n",
        "url = f'https://drive.google.com/uc?id={file_id}'\n",
        "\n",
        "# دانلود فایل\n",
        "gdown.download(url, 'train.zip', quiet=False)"
      ],
      "metadata": {
        "id": "TYWOmUK_k3eE",
        "outputId": "ac58a1c2-dc9b-47f5-8fd5-0589cf0f6cba",
        "trusted": true,
        "execution": {
          "iopub.status.busy": "2025-05-14T19:53:55.487885Z",
          "iopub.execute_input": "2025-05-14T19:53:55.488159Z",
          "iopub.status.idle": "2025-05-14T19:54:00.323833Z",
          "shell.execute_reply.started": "2025-05-14T19:53:55.488137Z",
          "shell.execute_reply": "2025-05-14T19:54:00.323129Z"
        },
        "colab": {
          "base_uri": "https://localhost:8080/",
          "height": 122
        }
      },
      "outputs": [
        {
          "output_type": "stream",
          "name": "stderr",
          "text": [
            "Downloading...\n",
            "From (original): https://drive.google.com/uc?id=1ubkg7E2vGEOqS4K_quwf9Vl-i8IVpklM\n",
            "From (redirected): https://drive.google.com/uc?id=1ubkg7E2vGEOqS4K_quwf9Vl-i8IVpklM&confirm=t&uuid=288fb228-4f18-4bcf-85db-faea4ac02dc3\n",
            "To: /content/train.zip\n",
            "100%|██████████| 196M/196M [00:03<00:00, 52.9MB/s]\n"
          ]
        },
        {
          "output_type": "execute_result",
          "data": {
            "text/plain": [
              "'train.zip'"
            ],
            "application/vnd.google.colaboratory.intrinsic+json": {
              "type": "string"
            }
          },
          "metadata": {},
          "execution_count": 12
        }
      ],
      "execution_count": null
    },
    {
      "cell_type": "code",
      "source": [
        "import gdown\n",
        "\n",
        "# لینک فایل\n",
        "file_id = '1AL5Zsg2hDqcwF8ZmR0MJTbjgXIoE5W-I'\n",
        "url = f'https://drive.google.com/uc?id={file_id}'\n",
        "\n",
        "# دانلود فایل\n",
        "gdown.download(url, 'val.zip', quiet=False)"
      ],
      "metadata": {
        "id": "-r5rIX0C21KH",
        "outputId": "0e4c5173-2e93-4b93-db3e-ab53af028b72",
        "trusted": true,
        "execution": {
          "iopub.status.busy": "2025-05-14T19:54:00.324760Z",
          "iopub.execute_input": "2025-05-14T19:54:00.325113Z",
          "iopub.status.idle": "2025-05-14T19:54:04.031534Z",
          "shell.execute_reply.started": "2025-05-14T19:54:00.325096Z",
          "shell.execute_reply": "2025-05-14T19:54:04.030854Z"
        },
        "colab": {
          "base_uri": "https://localhost:8080/",
          "height": 122
        }
      },
      "outputs": [
        {
          "output_type": "stream",
          "name": "stderr",
          "text": [
            "Downloading...\n",
            "From (original): https://drive.google.com/uc?id=1AL5Zsg2hDqcwF8ZmR0MJTbjgXIoE5W-I\n",
            "From (redirected): https://drive.google.com/uc?id=1AL5Zsg2hDqcwF8ZmR0MJTbjgXIoE5W-I&confirm=t&uuid=2684fbdc-0a78-4c20-abf7-cbd336b26b5d\n",
            "To: /content/val.zip\n",
            "100%|██████████| 27.2M/27.2M [00:01<00:00, 24.0MB/s]\n"
          ]
        },
        {
          "output_type": "execute_result",
          "data": {
            "text/plain": [
              "'val.zip'"
            ],
            "application/vnd.google.colaboratory.intrinsic+json": {
              "type": "string"
            }
          },
          "metadata": {},
          "execution_count": 13
        }
      ],
      "execution_count": null
    },
    {
      "cell_type": "code",
      "source": [
        "import gdown\n",
        "\n",
        "# لینک فایل\n",
        "file_id = '1lLh_kxrHy1teUB2NguHVuOZwA5rjL5kx'\n",
        "url = f'https://drive.google.com/uc?id={file_id}'\n",
        "\n",
        "# دانلود فایل\n",
        "gdown.download(url, 'test.zip', quiet=False)"
      ],
      "metadata": {
        "id": "O_ZKnwIl20tN",
        "outputId": "40d18748-cf4c-4309-af66-732ed8790fba",
        "trusted": true,
        "execution": {
          "iopub.status.busy": "2025-05-14T19:54:04.032548Z",
          "iopub.execute_input": "2025-05-14T19:54:04.032768Z",
          "iopub.status.idle": "2025-05-14T19:54:07.853902Z",
          "shell.execute_reply.started": "2025-05-14T19:54:04.032752Z",
          "shell.execute_reply": "2025-05-14T19:54:07.853204Z"
        },
        "colab": {
          "base_uri": "https://localhost:8080/",
          "height": 122
        }
      },
      "outputs": [
        {
          "output_type": "stream",
          "name": "stderr",
          "text": [
            "Downloading...\n",
            "From (original): https://drive.google.com/uc?id=1lLh_kxrHy1teUB2NguHVuOZwA5rjL5kx\n",
            "From (redirected): https://drive.google.com/uc?id=1lLh_kxrHy1teUB2NguHVuOZwA5rjL5kx&confirm=t&uuid=b7ab0d3d-0a56-401c-8520-2d200a096ac8\n",
            "To: /content/test.zip\n",
            "100%|██████████| 56.4M/56.4M [00:02<00:00, 25.7MB/s]\n"
          ]
        },
        {
          "output_type": "execute_result",
          "data": {
            "text/plain": [
              "'test.zip'"
            ],
            "application/vnd.google.colaboratory.intrinsic+json": {
              "type": "string"
            }
          },
          "metadata": {},
          "execution_count": 14
        }
      ],
      "execution_count": null
    },
    {
      "cell_type": "code",
      "source": [
        "!pip install patool\n",
        "import patoolib\n",
        "# patoolib.extract_archive(\"/content/train.zip\", outdir=\"/content\")\n",
        "patoolib.extract_archive(\"/content/test.zip\", outdir=\"/content/\")\n",
        "patoolib.extract_archive(\"/content/val.zip\", outdir=\"/content/\")"
      ],
      "metadata": {
        "id": "YIRHDCv-lRHU",
        "outputId": "54108152-a974-4c3c-ddc9-26d1f57b24a9",
        "trusted": true,
        "execution": {
          "iopub.status.busy": "2025-05-14T19:54:07.855115Z",
          "iopub.execute_input": "2025-05-14T19:54:07.855392Z",
          "iopub.status.idle": "2025-05-14T19:54:40.075069Z",
          "shell.execute_reply.started": "2025-05-14T19:54:07.855369Z",
          "shell.execute_reply": "2025-05-14T19:54:40.074231Z"
        },
        "colab": {
          "base_uri": "https://localhost:8080/",
          "height": 347
        }
      },
      "outputs": [
        {
          "output_type": "stream",
          "name": "stdout",
          "text": [
            "Collecting patool\n",
            "  Downloading patool-4.0.1-py2.py3-none-any.whl.metadata (4.5 kB)\n",
            "Downloading patool-4.0.1-py2.py3-none-any.whl (86 kB)\n",
            "\u001b[?25l   \u001b[90m━━━━━━━━━━━━━━━━━━━━━━━━━━━━━━━━━━━━━━━━\u001b[0m \u001b[32m0.0/86.5 kB\u001b[0m \u001b[31m?\u001b[0m eta \u001b[36m-:--:--\u001b[0m\r\u001b[2K   \u001b[91m━━━━━━━━━━━━━━━━━━━━━━━━━━━━━━━━━━━━━\u001b[0m\u001b[91m╸\u001b[0m\u001b[90m━━\u001b[0m \u001b[32m81.9/86.5 kB\u001b[0m \u001b[31m3.1 MB/s\u001b[0m eta \u001b[36m0:00:01\u001b[0m\r\u001b[2K   \u001b[90m━━━━━━━━━━━━━━━━━━━━━━━━━━━━━━━━━━━━━━━━\u001b[0m \u001b[32m86.5/86.5 kB\u001b[0m \u001b[31m2.2 MB/s\u001b[0m eta \u001b[36m0:00:00\u001b[0m\n",
            "\u001b[?25hInstalling collected packages: patool\n",
            "Successfully installed patool-4.0.1\n"
          ]
        },
        {
          "output_type": "stream",
          "name": "stderr",
          "text": [
            "INFO patool: Extracting /content/test.zip ...\n",
            "INFO:patool:Extracting /content/test.zip ...\n",
            "INFO patool: running /usr/bin/7z x -aou -o/content/ -- /content/test.zip\n",
            "INFO:patool:running /usr/bin/7z x -aou -o/content/ -- /content/test.zip\n",
            "INFO patool: ... /content/test.zip extracted to `/content/'.\n",
            "INFO:patool:... /content/test.zip extracted to `/content/'.\n",
            "INFO patool: Extracting /content/val.zip ...\n",
            "INFO:patool:Extracting /content/val.zip ...\n",
            "INFO patool: running /usr/bin/7z x -aou -o/content/ -- /content/val.zip\n",
            "INFO:patool:running /usr/bin/7z x -aou -o/content/ -- /content/val.zip\n",
            "INFO patool: ... /content/val.zip extracted to `/content/'.\n",
            "INFO:patool:... /content/val.zip extracted to `/content/'.\n"
          ]
        },
        {
          "output_type": "execute_result",
          "data": {
            "text/plain": [
              "'/content/'"
            ],
            "application/vnd.google.colaboratory.intrinsic+json": {
              "type": "string"
            }
          },
          "metadata": {},
          "execution_count": 15
        }
      ],
      "execution_count": null
    },
    {
      "cell_type": "code",
      "source": [
        "# patoolib.extract_archive(\"/kaggle/working/train.zip\", outdir=\"/kaggle/working/\")\n",
        "!unzip /content/train.zip"
      ],
      "metadata": {
        "id": "1ej0kYHn4ARG",
        "trusted": true
      },
      "outputs": [],
      "execution_count": null
    },
    {
      "cell_type": "code",
      "source": [
        "import os\n",
        "import shutil\n",
        "import xml.etree.ElementTree as ET\n",
        "from PIL import Image\n",
        "\n",
        "# مسیرهای جداگانه\n",
        "source_train_folder = '/kaggle/working/train'  # عکس و xml های train\n",
        "source_val_folder = '/kaggle/working/validation'      # عکس و xml های validation\n",
        "dataset_folder = '/kaggle/working/dataset'\n",
        "\n",
        "# ساخت پوشه ها\n",
        "for subfolder in ['images/train', 'images/val', 'labels/train', 'labels/val']:\n",
        "    os.makedirs(os.path.join(dataset_folder, subfolder), exist_ok=True)\n",
        "\n",
        "def process_folder(source_folder, split):\n",
        "    xml_files = [f for f in os.listdir(source_folder) if f.endswith('.xml')]\n",
        "\n",
        "    for xml_file in xml_files:\n",
        "        xml_path = os.path.join(source_folder, xml_file)\n",
        "        base_filename = os.path.splitext(xml_file)[0]\n",
        "        img_filename = base_filename + '.jpg'\n",
        "        img_path = os.path.join(source_folder, img_filename)\n",
        "\n",
        "        if not os.path.exists(img_path):\n",
        "            print(f\"Image not found: {img_filename}\")\n",
        "            continue\n",
        "\n",
        "        img = Image.open(img_path)\n",
        "        img_w, img_h = img.size\n",
        "\n",
        "        tree = ET.parse(xml_path)\n",
        "        root = tree.getroot()\n",
        "\n",
        "        yolo_lines = []\n",
        "        for obj in root.findall('object'):\n",
        "            label = obj.find('name').text\n",
        "\n",
        "            bbox = obj.find('bndbox')\n",
        "            xmin = float(bbox.find('xmin').text)\n",
        "            ymin = float(bbox.find('ymin').text)\n",
        "            xmax = float(bbox.find('xmax').text)\n",
        "            ymax = float(bbox.find('ymax').text)\n",
        "\n",
        "            x_center = ((xmin + xmax) / 2) / img_w\n",
        "            y_center = ((ymin + ymax) / 2) / img_h\n",
        "            width = (xmax - xmin) / img_w\n",
        "            height = (ymax - ymin) / img_h\n",
        "\n",
        "            yolo_line = f\"0 {x_center:.6f} {y_center:.6f} {width:.6f} {height:.6f}\"\n",
        "            yolo_lines.append(yolo_line)\n",
        "\n",
        "        if yolo_lines:\n",
        "            # کپی عکس\n",
        "            shutil.copy(img_path, os.path.join(dataset_folder, f'images/{split}/{img_filename}'))\n",
        "            # ذخیره لیبل\n",
        "            label_path = os.path.join(dataset_folder, f'labels/{split}/{base_filename}.txt')\n",
        "            with open(label_path, 'w') as f:\n",
        "                f.write('\\n'.join(yolo_lines))\n",
        "\n",
        "# پردازش train\n",
        "process_folder(source_train_folder, 'train')\n",
        "# پردازش val\n",
        "process_folder(source_val_folder, 'val')\n",
        "\n",
        "print(\"✅ آماده سازی دیتا تمام شد.\")"
      ],
      "metadata": {
        "id": "E81nNOVN2ZLr",
        "trusted": true
      },
      "outputs": [],
      "execution_count": null
    },
    {
      "cell_type": "code",
      "source": [
        "data_yaml = \"\"\"\n",
        "path: /kaggle/working/dataset\n",
        "train: images/train\n",
        "val: images/val\n",
        "\n",
        "nc: 1\n",
        "names: ['char']\n",
        "\"\"\"\n",
        "\n",
        "with open(\"data.yaml\", \"w\", encoding=\"utf-8\") as f:\n",
        "    f.write(data_yaml)"
      ],
      "metadata": {
        "trusted": true,
        "id": "0BfUvGPvelWB"
      },
      "outputs": [],
      "execution_count": null
    },
    {
      "cell_type": "code",
      "source": [
        "from ultralytics import YOLO\n",
        "\n",
        "model = YOLO('yolov8n.pt')  # یا yolov8s.pt برای دقت بالاتر\n",
        "\n",
        "model.train(\n",
        "    data='/kaggle/working/data.yaml',\n",
        "    epochs=50,\n",
        "    imgsz=640,\n",
        "    batch=16,\n",
        "    device=[0, 1]\n",
        ")\n"
      ],
      "metadata": {
        "id": "WJLpJ9kY7Noq",
        "trusted": true
      },
      "outputs": [],
      "execution_count": null
    },
    {
      "cell_type": "code",
      "source": [
        "\n",
        "model = YOLO(\"/kaggle/working/runs/detect/train/weights/best.pt\")  # مسیر فایل best.pt\n",
        "\n",
        "# اعمال مدل روی یک تصویر جدید\n",
        "results = model(\"/kaggle/working/test/10130.jpg\", conf=0.25)\n",
        "\n",
        "# نمایش یا ذخیره نتایج\n",
        "results[0].show()"
      ],
      "metadata": {
        "id": "u3zFudnv7b-_",
        "trusted": true
      },
      "outputs": [],
      "execution_count": null
    },
    {
      "cell_type": "code",
      "source": [
        "import os\n",
        "import shutil\n",
        "import xml.etree.ElementTree as ET\n",
        "from PIL import Image\n",
        "\n",
        "# مسیرهای جداگانه\n",
        "source_test_folder = '/kaggle/working/test'      # عکس و xml های validation\n",
        "dataset_folder = '/kaggle/working/dataset'\n",
        "\n",
        "# ساخت پوشه ها\n",
        "for subfolder in ['images/test', 'labels/test']:\n",
        "    os.makedirs(os.path.join(dataset_folder, subfolder), exist_ok=True)\n",
        "\n",
        "def process_folder(source_folder, split):\n",
        "    xml_files = [f for f in os.listdir(source_folder) if f.endswith('.xml')]\n",
        "\n",
        "    for xml_file in xml_files:\n",
        "        xml_path = os.path.join(source_folder, xml_file)\n",
        "        base_filename = os.path.splitext(xml_file)[0]\n",
        "        img_filename = base_filename + '.jpg'\n",
        "        img_path = os.path.join(source_folder, img_filename)\n",
        "\n",
        "        if not os.path.exists(img_path):\n",
        "            print(f\"Image not found: {img_filename}\")\n",
        "            continue\n",
        "\n",
        "        img = Image.open(img_path)\n",
        "        img_w, img_h = img.size\n",
        "\n",
        "        tree = ET.parse(xml_path)\n",
        "        root = tree.getroot()\n",
        "\n",
        "        yolo_lines = []\n",
        "        for obj in root.findall('object'):\n",
        "            label = obj.find('name').text\n",
        "\n",
        "            bbox = obj.find('bndbox')\n",
        "            xmin = float(bbox.find('xmin').text)\n",
        "            ymin = float(bbox.find('ymin').text)\n",
        "            xmax = float(bbox.find('xmax').text)\n",
        "            ymax = float(bbox.find('ymax').text)\n",
        "\n",
        "            x_center = ((xmin + xmax) / 2) / img_w\n",
        "            y_center = ((ymin + ymax) / 2) / img_h\n",
        "            width = (xmax - xmin) / img_w\n",
        "            height = (ymax - ymin) / img_h\n",
        "\n",
        "            yolo_line = f\"0 {x_center:.6f} {y_center:.6f} {width:.6f} {height:.6f}\"\n",
        "            yolo_lines.append(yolo_line)\n",
        "\n",
        "        if yolo_lines:\n",
        "            # کپی عکس\n",
        "            shutil.copy(img_path, os.path.join(dataset_folder, f'images/{split}/{img_filename}'))\n",
        "            # ذخیره لیبل\n",
        "            label_path = os.path.join(dataset_folder, f'labels/{split}/{base_filename}.txt')\n",
        "            with open(label_path, 'w') as f:\n",
        "                f.write('\\n'.join(yolo_lines))\n",
        "\n",
        "# پردازش train\n",
        "process_folder(source_train_folder, 'train')\n",
        "# پردازش val\n",
        "process_folder(source_test_folder, 'val')\n",
        "\n",
        "print(\"✅ آماده سازی دیتا تمام شد.\")"
      ],
      "metadata": {
        "id": "uDasYgFa7dyr",
        "trusted": true
      },
      "outputs": [],
      "execution_count": null
    },
    {
      "cell_type": "code",
      "source": [
        "data_yaml = \"\"\"\n",
        "path: /kaggle/working/dataset\n",
        "train: dummy\n",
        "val: images/val\n",
        "\n",
        "nc: 1\n",
        "names: ['char']\n",
        "\"\"\"\n",
        "\n",
        "with open(\"data_test.yaml\", \"w\", encoding=\"utf-8\") as f:\n",
        "    f.write(data_yaml)"
      ],
      "metadata": {
        "trusted": true,
        "id": "tWSWlJtcelWB"
      },
      "outputs": [],
      "execution_count": null
    },
    {
      "cell_type": "code",
      "source": [
        "from ultralytics import YOLO\n",
        "\n",
        "model = YOLO(\"/kaggle/working/runs/detect/train/weights/best.pt\")\n",
        "metrics = model.val(data=\"/kaggle/working/data_test.yaml\")\n",
        "\n",
        "print(f\"mAP@0.5: {metrics.box.map:.4f}\")\n",
        "print(f\"Precision: {metrics.box.precision:.4f}\")\n",
        "print(f\"Recall: {metrics.box.recall:.4f}\")"
      ],
      "metadata": {
        "trusted": true,
        "id": "MwiNdNyDelWB"
      },
      "outputs": [],
      "execution_count": null
    },
    {
      "cell_type": "code",
      "source": [
        "!zip -r /kaggle/working/runs.zip /kaggle/working/runs"
      ],
      "metadata": {
        "trusted": true,
        "id": "v-hKDb3welWC"
      },
      "outputs": [],
      "execution_count": null
    },
    {
      "cell_type": "markdown",
      "source": [
        "# OCR"
      ],
      "metadata": {
        "id": "LrU1dwzqelWC"
      }
    },
    {
      "cell_type": "markdown",
      "source": [
        "# cutting"
      ],
      "metadata": {
        "id": "99bYDZCNelWC"
      }
    },
    {
      "cell_type": "code",
      "source": [
        "import os\n",
        "import xml.etree.ElementTree as ET\n",
        "from PIL import Image\n",
        "from tqdm import tqdm\n",
        "\n",
        "def process_split(image_dir, xml_dir, output_dir, classes):\n",
        "    os.makedirs(output_dir, exist_ok=True)\n",
        "    for c in classes:\n",
        "        os.makedirs(os.path.join(output_dir, c), exist_ok=True)\n",
        "\n",
        "    for xml_file in tqdm(os.listdir(xml_dir)):\n",
        "        if not xml_file.endswith('.xml'):\n",
        "            continue\n",
        "\n",
        "        base = xml_file.replace('.xml', '')\n",
        "        image_path = os.path.join(image_dir, base + '.jpg')\n",
        "        xml_path = os.path.join(xml_dir, xml_file)\n",
        "\n",
        "        if not os.path.exists(image_path):\n",
        "            continue\n",
        "\n",
        "        image = Image.open(image_path).convert('L')  # ⬅️ تبدیل به سیاه و سفید\n",
        "        tree = ET.parse(xml_path)\n",
        "        root = tree.getroot()\n",
        "\n",
        "        for idx, obj in enumerate(root.findall('object')):\n",
        "            label = obj.find('name').text.strip()\n",
        "            if label not in classes:\n",
        "                print(f\"⚠️ برچسب ناشناس: {label}\")\n",
        "                continue\n",
        "\n",
        "            bbox = obj.find('bndbox')\n",
        "            xmin = int(float(bbox.find('xmin').text))\n",
        "            ymin = int(float(bbox.find('ymin').text))\n",
        "            xmax = int(float(bbox.find('xmax').text))\n",
        "            ymax = int(float(bbox.find('ymax').text))\n",
        "\n",
        "            cropped = image.crop((xmin, ymin, xmax, ymax))\n",
        "            save_path = os.path.join(output_dir, label, f\"{base}_{idx}.jpg\")\n",
        "            cropped.save(save_path)\n",
        "\n",
        "# تعریف کلاس‌ها\n",
        "classes = [\n",
        "    '0', '1', '2', '3', '4', '5', '6', '7', '8', '9',\n",
        "    'D', 'S',\n",
        "    'الف', 'ب', 'پ', 'ت', 'ث', 'ج',\n",
        "    'د', 'ز', 'ژ (معلولین و جانبازان)', 'س','ش', 'ص', 'ط',\n",
        "    'ع','ف', 'ق', 'ک', 'گ', 'ل', 'م', 'ن',\n",
        "    'و', 'ه‍', 'ی'\n",
        "]\n",
        "\n",
        "# پردازش هر مجموعه\n",
        "process_split('/content/train', '/content/train', '/content/cropped_datasettt/train', classes)\n",
        "process_split('/content/validation', '/content/validation', '/content/cropped_datasettt/validation', classes)\n",
        "process_split('/content/test', '/content/test', '/content/cropped_datasettt/test', classes)\n"
      ],
      "metadata": {
        "trusted": true,
        "execution": {
          "iopub.status.busy": "2025-05-14T19:56:00.460885Z",
          "iopub.execute_input": "2025-05-14T19:56:00.461161Z",
          "iopub.status.idle": "2025-05-14T19:56:47.003693Z",
          "shell.execute_reply.started": "2025-05-14T19:56:00.461142Z",
          "shell.execute_reply": "2025-05-14T19:56:47.003092Z"
        },
        "id": "Mt3_fCmHelWC",
        "outputId": "6f9cc026-1818-47f5-91c6-b7b9ce8e07a3",
        "colab": {
          "base_uri": "https://localhost:8080/"
        }
      },
      "outputs": [
        {
          "output_type": "stream",
          "name": "stderr",
          "text": [
            "100%|██████████| 38762/38762 [00:54<00:00, 710.19it/s]\n",
            "100%|██████████| 5610/5610 [00:07<00:00, 768.36it/s]\n",
            "100%|██████████| 11118/11118 [00:16<00:00, 675.15it/s]\n"
          ]
        }
      ],
      "execution_count": null
    },
    {
      "cell_type": "markdown",
      "source": [
        "# Train and model"
      ],
      "metadata": {
        "id": "QQwbVEjeelWC"
      }
    },
    {
      "cell_type": "code",
      "source": [
        "import tensorflow as tf\n",
        "from tensorflow.keras.models import Sequential\n",
        "from tensorflow.keras.layers import Conv2D, MaxPooling2D, Flatten, Dense, Activation\n",
        "\n",
        "# تعریف استراتژی برای چند GPU\n",
        "strategy = tf.distribute.MirroredStrategy()\n",
        "\n",
        "print(f\"✅ تعداد GPU شناسایی‌شده: {strategy.num_replicas_in_sync}\")\n",
        "\n",
        "with strategy.scope():\n",
        "    model = Sequential()\n",
        "\n",
        "    # model.add(Conv2D(32, (3, 3), padding='same', input_shape=(352, 128, 1)))\n",
        "    # model.add(Activation('relu'))\n",
        "\n",
        "    # model.add(MaxPooling2D(pool_size=(2, 2), strides=2))\n",
        "\n",
        "    # model.add(Conv2D(64, (3, 3), padding='same'))\n",
        "    # model.add(Activation('relu'))\n",
        "\n",
        "    # model.add(MaxPooling2D(pool_size=(2, 2), strides=2))\n",
        "\n",
        "    # model.add(Conv2D(128, (3, 3), padding='same'))\n",
        "    # model.add(Activation('relu'))\n",
        "\n",
        "    # model.add(Conv2D(64, (1, 1), padding='same'))\n",
        "    # model.add(Activation('relu'))\n",
        "\n",
        "    # model.add(Conv2D(128, (3, 3), padding='same'))\n",
        "    # model.add(Activation('relu'))\n",
        "\n",
        "    # model.add(MaxPooling2D(pool_size=(2, 2), strides=2))\n",
        "\n",
        "    # model.add(Conv2D(256, (3, 3), padding='same'))\n",
        "    # model.add(Activation('relu'))\n",
        "\n",
        "    # model.add(Conv2D(128, (1, 1), padding='same'))\n",
        "    # model.add(Activation('relu'))\n",
        "\n",
        "    # model.add(Conv2D(256, (3, 3), padding='same'))\n",
        "    # model.add(Activation('relu'))\n",
        "\n",
        "    # model.add(Conv2D(512, (3, 3), padding='same'))\n",
        "    # model.add(Activation('relu'))\n",
        "\n",
        "    # model.add(Conv2D(256, (1, 1), padding='same'))\n",
        "    # model.add(Activation('relu'))\n",
        "\n",
        "    # model.add(Conv2D(512, (3, 3), padding='same'))\n",
        "    # model.add(Activation('relu'))\n",
        "\n",
        "    # model.add(Conv2D(256, (3, 3), padding='same'))\n",
        "    # model.add(Activation('relu'))\n",
        "\n",
        "    # model.add(Conv2D(128, (1, 1), padding='same'))\n",
        "    # model.add(Activation('relu'))\n",
        "\n",
        "    # model.add(Flatten())\n",
        "\n",
        "    # model.add(Dense(36))\n",
        "    # model.add(Activation('softmax'))\n",
        "    model.add(Conv2D(32,4, activation='relu',input_shape=(60,120,1)))\n",
        "    model.add(Conv2D(32, 4, activation='relu'))\n",
        "    model.add(MaxPooling2D(pool_size=(2,2)))\n",
        "    model.add(Flatten())\n",
        "    # model.add(Dense(64, activation='relu'))\n",
        "    model.add(Dense( 36, activation='softmax'))\n",
        "\n",
        "    model.compile(optimizer='adam', loss='categorical_crossentropy', metrics=['accuracy'])\n",
        "\n",
        "model.summary()"
      ],
      "metadata": {
        "trusted": true,
        "execution": {
          "iopub.status.busy": "2025-05-14T19:57:09.178725Z",
          "iopub.execute_input": "2025-05-14T19:57:09.179048Z",
          "iopub.status.idle": "2025-05-14T19:57:26.306910Z",
          "shell.execute_reply.started": "2025-05-14T19:57:09.179027Z",
          "shell.execute_reply": "2025-05-14T19:57:26.306340Z"
        },
        "id": "nN-Kp0jvelWC",
        "outputId": "873375a3-bb80-4274-bf8f-55ec0023c4a8"
      },
      "outputs": [
        {
          "name": "stderr",
          "text": "2025-05-14 19:57:10.847447: E external/local_xla/xla/stream_executor/cuda/cuda_fft.cc:477] Unable to register cuFFT factory: Attempting to register factory for plugin cuFFT when one has already been registered\nWARNING: All log messages before absl::InitializeLog() is called are written to STDERR\nE0000 00:00:1747252631.070020      31 cuda_dnn.cc:8310] Unable to register cuDNN factory: Attempting to register factory for plugin cuDNN when one has already been registered\nE0000 00:00:1747252631.136880      31 cuda_blas.cc:1418] Unable to register cuBLAS factory: Attempting to register factory for plugin cuBLAS when one has already been registered\nI0000 00:00:1747252644.914293      31 gpu_device.cc:2022] Created device /job:localhost/replica:0/task:0/device:GPU:0 with 13942 MB memory:  -> device: 0, name: Tesla T4, pci bus id: 0000:00:04.0, compute capability: 7.5\nI0000 00:00:1747252644.915013      31 gpu_device.cc:2022] Created device /job:localhost/replica:0/task:0/device:GPU:1 with 13942 MB memory:  -> device: 1, name: Tesla T4, pci bus id: 0000:00:05.0, compute capability: 7.5\n/usr/local/lib/python3.11/dist-packages/keras/src/layers/convolutional/base_conv.py:107: UserWarning: Do not pass an `input_shape`/`input_dim` argument to a layer. When using Sequential models, prefer using an `Input(shape)` object as the first layer in the model instead.\n  super().__init__(activity_regularizer=activity_regularizer, **kwargs)\n",
          "output_type": "stream"
        },
        {
          "name": "stdout",
          "text": "✅ تعداد GPU شناسایی‌شده: 2\n",
          "output_type": "stream"
        },
        {
          "output_type": "display_data",
          "data": {
            "text/plain": "\u001b[1mModel: \"sequential\"\u001b[0m\n",
            "text/html": "<pre style=\"white-space:pre;overflow-x:auto;line-height:normal;font-family:Menlo,'DejaVu Sans Mono',consolas,'Courier New',monospace\"><span style=\"font-weight: bold\">Model: \"sequential\"</span>\n</pre>\n"
          },
          "metadata": {}
        },
        {
          "output_type": "display_data",
          "data": {
            "text/plain": "┏━━━━━━━━━━━━━━━━━━━━━━━━━━━━━━━━━━━━━━┳━━━━━━━━━━━━━━━━━━━━━━━━━━━━━┳━━━━━━━━━━━━━━━━━┓\n┃\u001b[1m \u001b[0m\u001b[1mLayer (type)                        \u001b[0m\u001b[1m \u001b[0m┃\u001b[1m \u001b[0m\u001b[1mOutput Shape               \u001b[0m\u001b[1m \u001b[0m┃\u001b[1m \u001b[0m\u001b[1m        Param #\u001b[0m\u001b[1m \u001b[0m┃\n┡━━━━━━━━━━━━━━━━━━━━━━━━━━━━━━━━━━━━━━╇━━━━━━━━━━━━━━━━━━━━━━━━━━━━━╇━━━━━━━━━━━━━━━━━┩\n│ conv2d (\u001b[38;5;33mConv2D\u001b[0m)                      │ (\u001b[38;5;45mNone\u001b[0m, \u001b[38;5;34m57\u001b[0m, \u001b[38;5;34m117\u001b[0m, \u001b[38;5;34m32\u001b[0m)         │             \u001b[38;5;34m544\u001b[0m │\n├──────────────────────────────────────┼─────────────────────────────┼─────────────────┤\n│ conv2d_1 (\u001b[38;5;33mConv2D\u001b[0m)                    │ (\u001b[38;5;45mNone\u001b[0m, \u001b[38;5;34m54\u001b[0m, \u001b[38;5;34m114\u001b[0m, \u001b[38;5;34m32\u001b[0m)         │          \u001b[38;5;34m16,416\u001b[0m │\n├──────────────────────────────────────┼─────────────────────────────┼─────────────────┤\n│ max_pooling2d (\u001b[38;5;33mMaxPooling2D\u001b[0m)         │ (\u001b[38;5;45mNone\u001b[0m, \u001b[38;5;34m27\u001b[0m, \u001b[38;5;34m57\u001b[0m, \u001b[38;5;34m32\u001b[0m)          │               \u001b[38;5;34m0\u001b[0m │\n├──────────────────────────────────────┼─────────────────────────────┼─────────────────┤\n│ flatten (\u001b[38;5;33mFlatten\u001b[0m)                    │ (\u001b[38;5;45mNone\u001b[0m, \u001b[38;5;34m49248\u001b[0m)               │               \u001b[38;5;34m0\u001b[0m │\n├──────────────────────────────────────┼─────────────────────────────┼─────────────────┤\n│ dense (\u001b[38;5;33mDense\u001b[0m)                        │ (\u001b[38;5;45mNone\u001b[0m, \u001b[38;5;34m36\u001b[0m)                  │       \u001b[38;5;34m1,772,964\u001b[0m │\n└──────────────────────────────────────┴─────────────────────────────┴─────────────────┘\n",
            "text/html": "<pre style=\"white-space:pre;overflow-x:auto;line-height:normal;font-family:Menlo,'DejaVu Sans Mono',consolas,'Courier New',monospace\">┏━━━━━━━━━━━━━━━━━━━━━━━━━━━━━━━━━━━━━━┳━━━━━━━━━━━━━━━━━━━━━━━━━━━━━┳━━━━━━━━━━━━━━━━━┓\n┃<span style=\"font-weight: bold\"> Layer (type)                         </span>┃<span style=\"font-weight: bold\"> Output Shape                </span>┃<span style=\"font-weight: bold\">         Param # </span>┃\n┡━━━━━━━━━━━━━━━━━━━━━━━━━━━━━━━━━━━━━━╇━━━━━━━━━━━━━━━━━━━━━━━━━━━━━╇━━━━━━━━━━━━━━━━━┩\n│ conv2d (<span style=\"color: #0087ff; text-decoration-color: #0087ff\">Conv2D</span>)                      │ (<span style=\"color: #00d7ff; text-decoration-color: #00d7ff\">None</span>, <span style=\"color: #00af00; text-decoration-color: #00af00\">57</span>, <span style=\"color: #00af00; text-decoration-color: #00af00\">117</span>, <span style=\"color: #00af00; text-decoration-color: #00af00\">32</span>)         │             <span style=\"color: #00af00; text-decoration-color: #00af00\">544</span> │\n├──────────────────────────────────────┼─────────────────────────────┼─────────────────┤\n│ conv2d_1 (<span style=\"color: #0087ff; text-decoration-color: #0087ff\">Conv2D</span>)                    │ (<span style=\"color: #00d7ff; text-decoration-color: #00d7ff\">None</span>, <span style=\"color: #00af00; text-decoration-color: #00af00\">54</span>, <span style=\"color: #00af00; text-decoration-color: #00af00\">114</span>, <span style=\"color: #00af00; text-decoration-color: #00af00\">32</span>)         │          <span style=\"color: #00af00; text-decoration-color: #00af00\">16,416</span> │\n├──────────────────────────────────────┼─────────────────────────────┼─────────────────┤\n│ max_pooling2d (<span style=\"color: #0087ff; text-decoration-color: #0087ff\">MaxPooling2D</span>)         │ (<span style=\"color: #00d7ff; text-decoration-color: #00d7ff\">None</span>, <span style=\"color: #00af00; text-decoration-color: #00af00\">27</span>, <span style=\"color: #00af00; text-decoration-color: #00af00\">57</span>, <span style=\"color: #00af00; text-decoration-color: #00af00\">32</span>)          │               <span style=\"color: #00af00; text-decoration-color: #00af00\">0</span> │\n├──────────────────────────────────────┼─────────────────────────────┼─────────────────┤\n│ flatten (<span style=\"color: #0087ff; text-decoration-color: #0087ff\">Flatten</span>)                    │ (<span style=\"color: #00d7ff; text-decoration-color: #00d7ff\">None</span>, <span style=\"color: #00af00; text-decoration-color: #00af00\">49248</span>)               │               <span style=\"color: #00af00; text-decoration-color: #00af00\">0</span> │\n├──────────────────────────────────────┼─────────────────────────────┼─────────────────┤\n│ dense (<span style=\"color: #0087ff; text-decoration-color: #0087ff\">Dense</span>)                        │ (<span style=\"color: #00d7ff; text-decoration-color: #00d7ff\">None</span>, <span style=\"color: #00af00; text-decoration-color: #00af00\">36</span>)                  │       <span style=\"color: #00af00; text-decoration-color: #00af00\">1,772,964</span> │\n└──────────────────────────────────────┴─────────────────────────────┴─────────────────┘\n</pre>\n"
          },
          "metadata": {}
        },
        {
          "output_type": "display_data",
          "data": {
            "text/plain": "\u001b[1m Total params: \u001b[0m\u001b[38;5;34m1,789,924\u001b[0m (6.83 MB)\n",
            "text/html": "<pre style=\"white-space:pre;overflow-x:auto;line-height:normal;font-family:Menlo,'DejaVu Sans Mono',consolas,'Courier New',monospace\"><span style=\"font-weight: bold\"> Total params: </span><span style=\"color: #00af00; text-decoration-color: #00af00\">1,789,924</span> (6.83 MB)\n</pre>\n"
          },
          "metadata": {}
        },
        {
          "output_type": "display_data",
          "data": {
            "text/plain": "\u001b[1m Trainable params: \u001b[0m\u001b[38;5;34m1,789,924\u001b[0m (6.83 MB)\n",
            "text/html": "<pre style=\"white-space:pre;overflow-x:auto;line-height:normal;font-family:Menlo,'DejaVu Sans Mono',consolas,'Courier New',monospace\"><span style=\"font-weight: bold\"> Trainable params: </span><span style=\"color: #00af00; text-decoration-color: #00af00\">1,789,924</span> (6.83 MB)\n</pre>\n"
          },
          "metadata": {}
        },
        {
          "output_type": "display_data",
          "data": {
            "text/plain": "\u001b[1m Non-trainable params: \u001b[0m\u001b[38;5;34m0\u001b[0m (0.00 B)\n",
            "text/html": "<pre style=\"white-space:pre;overflow-x:auto;line-height:normal;font-family:Menlo,'DejaVu Sans Mono',consolas,'Courier New',monospace\"><span style=\"font-weight: bold\"> Non-trainable params: </span><span style=\"color: #00af00; text-decoration-color: #00af00\">0</span> (0.00 B)\n</pre>\n"
          },
          "metadata": {}
        }
      ],
      "execution_count": null
    },
    {
      "cell_type": "code",
      "source": [
        "from tensorflow.keras.preprocessing.image import ImageDataGenerator\n",
        "\n",
        "train_path = '/kaggle/working/cropped_datasettt/train'\n",
        "val_path = '/kaggle/working/cropped_datasettt/validation'\n",
        "test_path = '/kaggle/working/cropped_datasettt/test'\n",
        "\n",
        "batch_size = 32\n",
        "img_size = (60, 120)  # طبق معماری مدل\n",
        "\n",
        "datagen = ImageDataGenerator(rescale=1./255)\n",
        "\n",
        "train_gen = datagen.flow_from_directory(\n",
        "    train_path,\n",
        "    target_size=img_size,\n",
        "    color_mode='grayscale',\n",
        "    batch_size=batch_size,\n",
        "    class_mode='categorical'\n",
        ")\n",
        "\n",
        "val_gen = datagen.flow_from_directory(\n",
        "    val_path,\n",
        "    target_size=img_size,\n",
        "    color_mode='grayscale',\n",
        "    batch_size=batch_size,\n",
        "    class_mode='categorical'\n",
        ")\n",
        "\n",
        "test_gen = datagen.flow_from_directory(\n",
        "    test_path,\n",
        "    target_size=img_size,\n",
        "    color_mode='grayscale',\n",
        "    batch_size=batch_size,\n",
        "    class_mode='categorical',\n",
        "    shuffle=False\n",
        ")\n"
      ],
      "metadata": {
        "trusted": true,
        "execution": {
          "iopub.status.busy": "2025-05-14T19:57:49.816378Z",
          "iopub.execute_input": "2025-05-14T19:57:49.817205Z",
          "iopub.status.idle": "2025-05-14T19:57:52.843680Z",
          "shell.execute_reply.started": "2025-05-14T19:57:49.817175Z",
          "shell.execute_reply": "2025-05-14T19:57:52.843105Z"
        },
        "id": "i6WCCNXaelWC",
        "outputId": "9c12c428-c31d-4030-bc07-e153683adc94"
      },
      "outputs": [
        {
          "name": "stdout",
          "text": "Found 151424 images belonging to 36 classes.\nFound 21874 images belonging to 36 classes.\nFound 43449 images belonging to 36 classes.\n",
          "output_type": "stream"
        }
      ],
      "execution_count": null
    },
    {
      "cell_type": "code",
      "source": [
        "\n",
        "history = model.fit(\n",
        "    train_gen,\n",
        "    validation_data=val_gen,\n",
        "    epochs=100\n",
        ")\n"
      ],
      "metadata": {
        "trusted": true,
        "execution": {
          "iopub.status.busy": "2025-05-14T20:09:53.600678Z",
          "iopub.execute_input": "2025-05-14T20:09:53.601377Z",
          "iopub.status.idle": "2025-05-14T22:13:17.580951Z",
          "shell.execute_reply.started": "2025-05-14T20:09:53.601356Z",
          "shell.execute_reply": "2025-05-14T22:13:17.580177Z"
        },
        "id": "dl5ZXejOelWD",
        "outputId": "c4633669-d66e-4603-f78d-c44cced6c6d0"
      },
      "outputs": [
        {
          "name": "stdout",
          "text": "Epoch 1/100\n\u001b[1m4732/4732\u001b[0m \u001b[32m━━━━━━━━━━━━━━━━━━━━\u001b[0m\u001b[37m\u001b[0m \u001b[1m74s\u001b[0m 16ms/step - accuracy: 0.9830 - loss: 0.0547 - val_accuracy: 0.9578 - val_loss: 0.2374\nEpoch 2/100\n\u001b[1m4732/4732\u001b[0m \u001b[32m━━━━━━━━━━━━━━━━━━━━\u001b[0m\u001b[37m\u001b[0m \u001b[1m74s\u001b[0m 16ms/step - accuracy: 0.9850 - loss: 0.0463 - val_accuracy: 0.9572 - val_loss: 0.2676\nEpoch 3/100\n\u001b[1m4732/4732\u001b[0m \u001b[32m━━━━━━━━━━━━━━━━━━━━\u001b[0m\u001b[37m\u001b[0m \u001b[1m74s\u001b[0m 16ms/step - accuracy: 0.9869 - loss: 0.0413 - val_accuracy: 0.9505 - val_loss: 0.3311\nEpoch 4/100\n\u001b[1m4732/4732\u001b[0m \u001b[32m━━━━━━━━━━━━━━━━━━━━\u001b[0m\u001b[37m\u001b[0m \u001b[1m74s\u001b[0m 16ms/step - accuracy: 0.9875 - loss: 0.0392 - val_accuracy: 0.9568 - val_loss: 0.2561\nEpoch 5/100\n\u001b[1m4732/4732\u001b[0m \u001b[32m━━━━━━━━━━━━━━━━━━━━\u001b[0m\u001b[37m\u001b[0m \u001b[1m75s\u001b[0m 16ms/step - accuracy: 0.9880 - loss: 0.0358 - val_accuracy: 0.9590 - val_loss: 0.3142\nEpoch 6/100\n\u001b[1m4732/4732\u001b[0m \u001b[32m━━━━━━━━━━━━━━━━━━━━\u001b[0m\u001b[37m\u001b[0m \u001b[1m74s\u001b[0m 16ms/step - accuracy: 0.9901 - loss: 0.0301 - val_accuracy: 0.9533 - val_loss: 0.3438\nEpoch 7/100\n\u001b[1m4732/4732\u001b[0m \u001b[32m━━━━━━━━━━━━━━━━━━━━\u001b[0m\u001b[37m\u001b[0m \u001b[1m74s\u001b[0m 16ms/step - accuracy: 0.9906 - loss: 0.0300 - val_accuracy: 0.9554 - val_loss: 0.3477\nEpoch 8/100\n\u001b[1m4732/4732\u001b[0m \u001b[32m━━━━━━━━━━━━━━━━━━━━\u001b[0m\u001b[37m\u001b[0m \u001b[1m75s\u001b[0m 16ms/step - accuracy: 0.9914 - loss: 0.0280 - val_accuracy: 0.9551 - val_loss: 0.3995\nEpoch 9/100\n\u001b[1m4732/4732\u001b[0m \u001b[32m━━━━━━━━━━━━━━━━━━━━\u001b[0m\u001b[37m\u001b[0m \u001b[1m74s\u001b[0m 16ms/step - accuracy: 0.9914 - loss: 0.0277 - val_accuracy: 0.9519 - val_loss: 0.4242\nEpoch 10/100\n\u001b[1m4732/4732\u001b[0m \u001b[32m━━━━━━━━━━━━━━━━━━━━\u001b[0m\u001b[37m\u001b[0m \u001b[1m74s\u001b[0m 16ms/step - accuracy: 0.9921 - loss: 0.0245 - val_accuracy: 0.9562 - val_loss: 0.4028\nEpoch 11/100\n\u001b[1m4732/4732\u001b[0m \u001b[32m━━━━━━━━━━━━━━━━━━━━\u001b[0m\u001b[37m\u001b[0m \u001b[1m74s\u001b[0m 16ms/step - accuracy: 0.9927 - loss: 0.0241 - val_accuracy: 0.9574 - val_loss: 0.3945\nEpoch 12/100\n\u001b[1m4732/4732\u001b[0m \u001b[32m━━━━━━━━━━━━━━━━━━━━\u001b[0m\u001b[37m\u001b[0m \u001b[1m74s\u001b[0m 16ms/step - accuracy: 0.9928 - loss: 0.0218 - val_accuracy: 0.9517 - val_loss: 0.4477\nEpoch 13/100\n\u001b[1m4732/4732\u001b[0m \u001b[32m━━━━━━━━━━━━━━━━━━━━\u001b[0m\u001b[37m\u001b[0m \u001b[1m74s\u001b[0m 16ms/step - accuracy: 0.9930 - loss: 0.0227 - val_accuracy: 0.9527 - val_loss: 0.4230\nEpoch 14/100\n\u001b[1m4732/4732\u001b[0m \u001b[32m━━━━━━━━━━━━━━━━━━━━\u001b[0m\u001b[37m\u001b[0m \u001b[1m74s\u001b[0m 16ms/step - accuracy: 0.9931 - loss: 0.0227 - val_accuracy: 0.9553 - val_loss: 0.5050\nEpoch 15/100\n\u001b[1m4732/4732\u001b[0m \u001b[32m━━━━━━━━━━━━━━━━━━━━\u001b[0m\u001b[37m\u001b[0m \u001b[1m74s\u001b[0m 16ms/step - accuracy: 0.9931 - loss: 0.0216 - val_accuracy: 0.9504 - val_loss: 0.5095\nEpoch 16/100\n\u001b[1m4732/4732\u001b[0m \u001b[32m━━━━━━━━━━━━━━━━━━━━\u001b[0m\u001b[37m\u001b[0m \u001b[1m74s\u001b[0m 16ms/step - accuracy: 0.9938 - loss: 0.0196 - val_accuracy: 0.9554 - val_loss: 0.5388\nEpoch 17/100\n\u001b[1m4732/4732\u001b[0m \u001b[32m━━━━━━━━━━━━━━━━━━━━\u001b[0m\u001b[37m\u001b[0m \u001b[1m74s\u001b[0m 16ms/step - accuracy: 0.9940 - loss: 0.0184 - val_accuracy: 0.9545 - val_loss: 0.5473\nEpoch 18/100\n\u001b[1m4732/4732\u001b[0m \u001b[32m━━━━━━━━━━━━━━━━━━━━\u001b[0m\u001b[37m\u001b[0m \u001b[1m75s\u001b[0m 16ms/step - accuracy: 0.9939 - loss: 0.0198 - val_accuracy: 0.9530 - val_loss: 0.5952\nEpoch 19/100\n\u001b[1m4732/4732\u001b[0m \u001b[32m━━━━━━━━━━━━━━━━━━━━\u001b[0m\u001b[37m\u001b[0m \u001b[1m74s\u001b[0m 16ms/step - accuracy: 0.9940 - loss: 0.0206 - val_accuracy: 0.9574 - val_loss: 0.5998\nEpoch 20/100\n\u001b[1m4732/4732\u001b[0m \u001b[32m━━━━━━━━━━━━━━━━━━━━\u001b[0m\u001b[37m\u001b[0m \u001b[1m74s\u001b[0m 16ms/step - accuracy: 0.9953 - loss: 0.0156 - val_accuracy: 0.9514 - val_loss: 0.6588\nEpoch 21/100\n\u001b[1m4732/4732\u001b[0m \u001b[32m━━━━━━━━━━━━━━━━━━━━\u001b[0m\u001b[37m\u001b[0m \u001b[1m74s\u001b[0m 16ms/step - accuracy: 0.9944 - loss: 0.0190 - val_accuracy: 0.9546 - val_loss: 0.5374\nEpoch 22/100\n\u001b[1m4732/4732\u001b[0m \u001b[32m━━━━━━━━━━━━━━━━━━━━\u001b[0m\u001b[37m\u001b[0m \u001b[1m74s\u001b[0m 16ms/step - accuracy: 0.9943 - loss: 0.0185 - val_accuracy: 0.9464 - val_loss: 0.6688\nEpoch 23/100\n\u001b[1m4732/4732\u001b[0m \u001b[32m━━━━━━━━━━━━━━━━━━━━\u001b[0m\u001b[37m\u001b[0m \u001b[1m74s\u001b[0m 16ms/step - accuracy: 0.9954 - loss: 0.0156 - val_accuracy: 0.9525 - val_loss: 0.7119\nEpoch 24/100\n\u001b[1m4732/4732\u001b[0m \u001b[32m━━━━━━━━━━━━━━━━━━━━\u001b[0m\u001b[37m\u001b[0m \u001b[1m74s\u001b[0m 16ms/step - accuracy: 0.9947 - loss: 0.0179 - val_accuracy: 0.9552 - val_loss: 0.6290\nEpoch 25/100\n\u001b[1m4732/4732\u001b[0m \u001b[32m━━━━━━━━━━━━━━━━━━━━\u001b[0m\u001b[37m\u001b[0m \u001b[1m75s\u001b[0m 16ms/step - accuracy: 0.9955 - loss: 0.0154 - val_accuracy: 0.9523 - val_loss: 0.6725\nEpoch 26/100\n\u001b[1m4732/4732\u001b[0m \u001b[32m━━━━━━━━━━━━━━━━━━━━\u001b[0m\u001b[37m\u001b[0m \u001b[1m75s\u001b[0m 16ms/step - accuracy: 0.9953 - loss: 0.0161 - val_accuracy: 0.9460 - val_loss: 0.6621\nEpoch 27/100\n\u001b[1m4732/4732\u001b[0m \u001b[32m━━━━━━━━━━━━━━━━━━━━\u001b[0m\u001b[37m\u001b[0m \u001b[1m74s\u001b[0m 16ms/step - accuracy: 0.9948 - loss: 0.0185 - val_accuracy: 0.9508 - val_loss: 0.7796\nEpoch 28/100\n\u001b[1m4732/4732\u001b[0m \u001b[32m━━━━━━━━━━━━━━━━━━━━\u001b[0m\u001b[37m\u001b[0m \u001b[1m74s\u001b[0m 16ms/step - accuracy: 0.9949 - loss: 0.0193 - val_accuracy: 0.9545 - val_loss: 0.6237\nEpoch 29/100\n\u001b[1m4732/4732\u001b[0m \u001b[32m━━━━━━━━━━━━━━━━━━━━\u001b[0m\u001b[37m\u001b[0m \u001b[1m74s\u001b[0m 16ms/step - accuracy: 0.9958 - loss: 0.0144 - val_accuracy: 0.9482 - val_loss: 0.8749\nEpoch 30/100\n\u001b[1m4732/4732\u001b[0m \u001b[32m━━━━━━━━━━━━━━━━━━━━\u001b[0m\u001b[37m\u001b[0m \u001b[1m74s\u001b[0m 16ms/step - accuracy: 0.9952 - loss: 0.0172 - val_accuracy: 0.9560 - val_loss: 0.7381\nEpoch 31/100\n\u001b[1m4732/4732\u001b[0m \u001b[32m━━━━━━━━━━━━━━━━━━━━\u001b[0m\u001b[37m\u001b[0m \u001b[1m74s\u001b[0m 16ms/step - accuracy: 0.9962 - loss: 0.0135 - val_accuracy: 0.9540 - val_loss: 0.7778\nEpoch 32/100\n\u001b[1m4732/4732\u001b[0m \u001b[32m━━━━━━━━━━━━━━━━━━━━\u001b[0m\u001b[37m\u001b[0m \u001b[1m74s\u001b[0m 16ms/step - accuracy: 0.9958 - loss: 0.0150 - val_accuracy: 0.9549 - val_loss: 0.8604\nEpoch 33/100\n\u001b[1m4732/4732\u001b[0m \u001b[32m━━━━━━━━━━━━━━━━━━━━\u001b[0m\u001b[37m\u001b[0m \u001b[1m74s\u001b[0m 16ms/step - accuracy: 0.9962 - loss: 0.0152 - val_accuracy: 0.9550 - val_loss: 0.8043\nEpoch 34/100\n\u001b[1m4732/4732\u001b[0m \u001b[32m━━━━━━━━━━━━━━━━━━━━\u001b[0m\u001b[37m\u001b[0m \u001b[1m75s\u001b[0m 16ms/step - accuracy: 0.9961 - loss: 0.0142 - val_accuracy: 0.9510 - val_loss: 0.7783\nEpoch 35/100\n\u001b[1m4732/4732\u001b[0m \u001b[32m━━━━━━━━━━━━━━━━━━━━\u001b[0m\u001b[37m\u001b[0m \u001b[1m75s\u001b[0m 16ms/step - accuracy: 0.9957 - loss: 0.0167 - val_accuracy: 0.9558 - val_loss: 0.7768\nEpoch 36/100\n\u001b[1m4732/4732\u001b[0m \u001b[32m━━━━━━━━━━━━━━━━━━━━\u001b[0m\u001b[37m\u001b[0m \u001b[1m74s\u001b[0m 16ms/step - accuracy: 0.9963 - loss: 0.0131 - val_accuracy: 0.9536 - val_loss: 0.8307\nEpoch 37/100\n\u001b[1m4732/4732\u001b[0m \u001b[32m━━━━━━━━━━━━━━━━━━━━\u001b[0m\u001b[37m\u001b[0m \u001b[1m74s\u001b[0m 16ms/step - accuracy: 0.9952 - loss: 0.0192 - val_accuracy: 0.9541 - val_loss: 0.8802\nEpoch 38/100\n\u001b[1m4732/4732\u001b[0m \u001b[32m━━━━━━━━━━━━━━━━━━━━\u001b[0m\u001b[37m\u001b[0m \u001b[1m75s\u001b[0m 16ms/step - accuracy: 0.9968 - loss: 0.0114 - val_accuracy: 0.9537 - val_loss: 0.8589\nEpoch 39/100\n\u001b[1m4732/4732\u001b[0m \u001b[32m━━━━━━━━━━━━━━━━━━━━\u001b[0m\u001b[37m\u001b[0m \u001b[1m75s\u001b[0m 16ms/step - accuracy: 0.9966 - loss: 0.0128 - val_accuracy: 0.9510 - val_loss: 0.9311\nEpoch 40/100\n\u001b[1m4732/4732\u001b[0m \u001b[32m━━━━━━━━━━━━━━━━━━━━\u001b[0m\u001b[37m\u001b[0m \u001b[1m74s\u001b[0m 16ms/step - accuracy: 0.9966 - loss: 0.0123 - val_accuracy: 0.9536 - val_loss: 0.9920\nEpoch 41/100\n\u001b[1m4732/4732\u001b[0m \u001b[32m━━━━━━━━━━━━━━━━━━━━\u001b[0m\u001b[37m\u001b[0m \u001b[1m74s\u001b[0m 16ms/step - accuracy: 0.9963 - loss: 0.0141 - val_accuracy: 0.9544 - val_loss: 1.0454\nEpoch 42/100\n\u001b[1m4732/4732\u001b[0m \u001b[32m━━━━━━━━━━━━━━━━━━━━\u001b[0m\u001b[37m\u001b[0m \u001b[1m74s\u001b[0m 16ms/step - accuracy: 0.9968 - loss: 0.0130 - val_accuracy: 0.9475 - val_loss: 1.0223\nEpoch 43/100\n\u001b[1m4732/4732\u001b[0m \u001b[32m━━━━━━━━━━━━━━━━━━━━\u001b[0m\u001b[37m\u001b[0m \u001b[1m74s\u001b[0m 16ms/step - accuracy: 0.9962 - loss: 0.0135 - val_accuracy: 0.9557 - val_loss: 0.8999\nEpoch 44/100\n\u001b[1m4732/4732\u001b[0m \u001b[32m━━━━━━━━━━━━━━━━━━━━\u001b[0m\u001b[37m\u001b[0m \u001b[1m74s\u001b[0m 16ms/step - accuracy: 0.9970 - loss: 0.0119 - val_accuracy: 0.9546 - val_loss: 0.9441\nEpoch 45/100\n\u001b[1m4732/4732\u001b[0m \u001b[32m━━━━━━━━━━━━━━━━━━━━\u001b[0m\u001b[37m\u001b[0m \u001b[1m74s\u001b[0m 16ms/step - accuracy: 0.9966 - loss: 0.0131 - val_accuracy: 0.9557 - val_loss: 0.9946\nEpoch 46/100\n\u001b[1m4732/4732\u001b[0m \u001b[32m━━━━━━━━━━━━━━━━━━━━\u001b[0m\u001b[37m\u001b[0m \u001b[1m74s\u001b[0m 16ms/step - accuracy: 0.9971 - loss: 0.0112 - val_accuracy: 0.9527 - val_loss: 0.9248\nEpoch 47/100\n\u001b[1m4732/4732\u001b[0m \u001b[32m━━━━━━━━━━━━━━━━━━━━\u001b[0m\u001b[37m\u001b[0m \u001b[1m74s\u001b[0m 16ms/step - accuracy: 0.9964 - loss: 0.0136 - val_accuracy: 0.9581 - val_loss: 0.8741\nEpoch 48/100\n\u001b[1m4732/4732\u001b[0m \u001b[32m━━━━━━━━━━━━━━━━━━━━\u001b[0m\u001b[37m\u001b[0m \u001b[1m74s\u001b[0m 16ms/step - accuracy: 0.9969 - loss: 0.0126 - val_accuracy: 0.9526 - val_loss: 1.0045\nEpoch 49/100\n\u001b[1m4732/4732\u001b[0m \u001b[32m━━━━━━━━━━━━━━━━━━━━\u001b[0m\u001b[37m\u001b[0m \u001b[1m74s\u001b[0m 16ms/step - accuracy: 0.9967 - loss: 0.0130 - val_accuracy: 0.9549 - val_loss: 1.0878\nEpoch 50/100\n\u001b[1m4732/4732\u001b[0m \u001b[32m━━━━━━━━━━━━━━━━━━━━\u001b[0m\u001b[37m\u001b[0m \u001b[1m74s\u001b[0m 16ms/step - accuracy: 0.9971 - loss: 0.0116 - val_accuracy: 0.9510 - val_loss: 0.9791\nEpoch 51/100\n\u001b[1m4732/4732\u001b[0m \u001b[32m━━━━━━━━━━━━━━━━━━━━\u001b[0m\u001b[37m\u001b[0m \u001b[1m74s\u001b[0m 16ms/step - accuracy: 0.9965 - loss: 0.0134 - val_accuracy: 0.9523 - val_loss: 0.9518\nEpoch 52/100\n\u001b[1m4732/4732\u001b[0m \u001b[32m━━━━━━━━━━━━━━━━━━━━\u001b[0m\u001b[37m\u001b[0m \u001b[1m74s\u001b[0m 16ms/step - accuracy: 0.9973 - loss: 0.0098 - val_accuracy: 0.9511 - val_loss: 1.0825\nEpoch 53/100\n\u001b[1m4732/4732\u001b[0m \u001b[32m━━━━━━━━━━━━━━━━━━━━\u001b[0m\u001b[37m\u001b[0m \u001b[1m74s\u001b[0m 16ms/step - accuracy: 0.9971 - loss: 0.0107 - val_accuracy: 0.9521 - val_loss: 1.1451\nEpoch 54/100\n\u001b[1m4732/4732\u001b[0m \u001b[32m━━━━━━━━━━━━━━━━━━━━\u001b[0m\u001b[37m\u001b[0m \u001b[1m73s\u001b[0m 15ms/step - accuracy: 0.9966 - loss: 0.0146 - val_accuracy: 0.9495 - val_loss: 1.1839\nEpoch 55/100\n\u001b[1m4732/4732\u001b[0m \u001b[32m━━━━━━━━━━━━━━━━━━━━\u001b[0m\u001b[37m\u001b[0m \u001b[1m73s\u001b[0m 15ms/step - accuracy: 0.9974 - loss: 0.0105 - val_accuracy: 0.9562 - val_loss: 1.0839\nEpoch 56/100\n\u001b[1m4732/4732\u001b[0m \u001b[32m━━━━━━━━━━━━━━━━━━━━\u001b[0m\u001b[37m\u001b[0m \u001b[1m74s\u001b[0m 15ms/step - accuracy: 0.9972 - loss: 0.0106 - val_accuracy: 0.9536 - val_loss: 1.1499\nEpoch 57/100\n\u001b[1m4732/4732\u001b[0m \u001b[32m━━━━━━━━━━━━━━━━━━━━\u001b[0m\u001b[37m\u001b[0m \u001b[1m74s\u001b[0m 15ms/step - accuracy: 0.9966 - loss: 0.0143 - val_accuracy: 0.9515 - val_loss: 1.2890\nEpoch 58/100\n\u001b[1m4732/4732\u001b[0m \u001b[32m━━━━━━━━━━━━━━━━━━━━\u001b[0m\u001b[37m\u001b[0m \u001b[1m74s\u001b[0m 16ms/step - accuracy: 0.9967 - loss: 0.0153 - val_accuracy: 0.9517 - val_loss: 1.0898\nEpoch 59/100\n\u001b[1m4732/4732\u001b[0m \u001b[32m━━━━━━━━━━━━━━━━━━━━\u001b[0m\u001b[37m\u001b[0m \u001b[1m74s\u001b[0m 16ms/step - accuracy: 0.9970 - loss: 0.0139 - val_accuracy: 0.9524 - val_loss: 1.1428\nEpoch 60/100\n\u001b[1m4732/4732\u001b[0m \u001b[32m━━━━━━━━━━━━━━━━━━━━\u001b[0m\u001b[37m\u001b[0m \u001b[1m74s\u001b[0m 16ms/step - accuracy: 0.9973 - loss: 0.0111 - val_accuracy: 0.9527 - val_loss: 1.2883\nEpoch 61/100\n\u001b[1m4732/4732\u001b[0m \u001b[32m━━━━━━━━━━━━━━━━━━━━\u001b[0m\u001b[37m\u001b[0m \u001b[1m74s\u001b[0m 15ms/step - accuracy: 0.9975 - loss: 0.0102 - val_accuracy: 0.9510 - val_loss: 1.1754\nEpoch 62/100\n\u001b[1m4732/4732\u001b[0m \u001b[32m━━━━━━━━━━━━━━━━━━━━\u001b[0m\u001b[37m\u001b[0m \u001b[1m74s\u001b[0m 15ms/step - accuracy: 0.9965 - loss: 0.0167 - val_accuracy: 0.9532 - val_loss: 1.3365\nEpoch 63/100\n\u001b[1m4732/4732\u001b[0m \u001b[32m━━━━━━━━━━━━━━━━━━━━\u001b[0m\u001b[37m\u001b[0m \u001b[1m74s\u001b[0m 16ms/step - accuracy: 0.9976 - loss: 0.0113 - val_accuracy: 0.9542 - val_loss: 1.2651\nEpoch 64/100\n\u001b[1m4732/4732\u001b[0m \u001b[32m━━━━━━━━━━━━━━━━━━━━\u001b[0m\u001b[37m\u001b[0m \u001b[1m74s\u001b[0m 16ms/step - accuracy: 0.9973 - loss: 0.0114 - val_accuracy: 0.9512 - val_loss: 1.2448\nEpoch 65/100\n\u001b[1m4732/4732\u001b[0m \u001b[32m━━━━━━━━━━━━━━━━━━━━\u001b[0m\u001b[37m\u001b[0m \u001b[1m73s\u001b[0m 15ms/step - accuracy: 0.9970 - loss: 0.0130 - val_accuracy: 0.9552 - val_loss: 1.2679\nEpoch 66/100\n\u001b[1m4732/4732\u001b[0m \u001b[32m━━━━━━━━━━━━━━━━━━━━\u001b[0m\u001b[37m\u001b[0m \u001b[1m74s\u001b[0m 16ms/step - accuracy: 0.9976 - loss: 0.0107 - val_accuracy: 0.9507 - val_loss: 1.4404\nEpoch 67/100\n\u001b[1m4732/4732\u001b[0m \u001b[32m━━━━━━━━━━━━━━━━━━━━\u001b[0m\u001b[37m\u001b[0m \u001b[1m74s\u001b[0m 16ms/step - accuracy: 0.9976 - loss: 0.0108 - val_accuracy: 0.9539 - val_loss: 1.4900\nEpoch 68/100\n\u001b[1m4732/4732\u001b[0m \u001b[32m━━━━━━━━━━━━━━━━━━━━\u001b[0m\u001b[37m\u001b[0m \u001b[1m74s\u001b[0m 16ms/step - accuracy: 0.9974 - loss: 0.0122 - val_accuracy: 0.9536 - val_loss: 1.3155\nEpoch 69/100\n\u001b[1m4732/4732\u001b[0m \u001b[32m━━━━━━━━━━━━━━━━━━━━\u001b[0m\u001b[37m\u001b[0m \u001b[1m74s\u001b[0m 16ms/step - accuracy: 0.9976 - loss: 0.0118 - val_accuracy: 0.9519 - val_loss: 1.4432\nEpoch 70/100\n\u001b[1m4732/4732\u001b[0m \u001b[32m━━━━━━━━━━━━━━━━━━━━\u001b[0m\u001b[37m\u001b[0m \u001b[1m74s\u001b[0m 16ms/step - accuracy: 0.9975 - loss: 0.0112 - val_accuracy: 0.9522 - val_loss: 1.5829\nEpoch 71/100\n\u001b[1m4732/4732\u001b[0m \u001b[32m━━━━━━━━━━━━━━━━━━━━\u001b[0m\u001b[37m\u001b[0m \u001b[1m74s\u001b[0m 16ms/step - accuracy: 0.9972 - loss: 0.0124 - val_accuracy: 0.9515 - val_loss: 1.3988\nEpoch 72/100\n\u001b[1m4732/4732\u001b[0m \u001b[32m━━━━━━━━━━━━━━━━━━━━\u001b[0m\u001b[37m\u001b[0m \u001b[1m74s\u001b[0m 16ms/step - accuracy: 0.9970 - loss: 0.0135 - val_accuracy: 0.9528 - val_loss: 1.4510\nEpoch 73/100\n\u001b[1m4732/4732\u001b[0m \u001b[32m━━━━━━━━━━━━━━━━━━━━\u001b[0m\u001b[37m\u001b[0m \u001b[1m74s\u001b[0m 16ms/step - accuracy: 0.9973 - loss: 0.0114 - val_accuracy: 0.9507 - val_loss: 1.3876\nEpoch 74/100\n\u001b[1m4732/4732\u001b[0m \u001b[32m━━━━━━━━━━━━━━━━━━━━\u001b[0m\u001b[37m\u001b[0m \u001b[1m74s\u001b[0m 16ms/step - accuracy: 0.9973 - loss: 0.0129 - val_accuracy: 0.9518 - val_loss: 1.4662\nEpoch 75/100\n\u001b[1m4732/4732\u001b[0m \u001b[32m━━━━━━━━━━━━━━━━━━━━\u001b[0m\u001b[37m\u001b[0m \u001b[1m74s\u001b[0m 16ms/step - accuracy: 0.9972 - loss: 0.0121 - val_accuracy: 0.9475 - val_loss: 1.6235\nEpoch 76/100\n\u001b[1m4732/4732\u001b[0m \u001b[32m━━━━━━━━━━━━━━━━━━━━\u001b[0m\u001b[37m\u001b[0m \u001b[1m74s\u001b[0m 16ms/step - accuracy: 0.9973 - loss: 0.0135 - val_accuracy: 0.9520 - val_loss: 1.3196\nEpoch 77/100\n\u001b[1m4732/4732\u001b[0m \u001b[32m━━━━━━━━━━━━━━━━━━━━\u001b[0m\u001b[37m\u001b[0m \u001b[1m75s\u001b[0m 16ms/step - accuracy: 0.9976 - loss: 0.0114 - val_accuracy: 0.9509 - val_loss: 1.3220\nEpoch 78/100\n\u001b[1m4732/4732\u001b[0m \u001b[32m━━━━━━━━━━━━━━━━━━━━\u001b[0m\u001b[37m\u001b[0m \u001b[1m74s\u001b[0m 16ms/step - accuracy: 0.9976 - loss: 0.0109 - val_accuracy: 0.9519 - val_loss: 1.5621\nEpoch 79/100\n\u001b[1m4732/4732\u001b[0m \u001b[32m━━━━━━━━━━━━━━━━━━━━\u001b[0m\u001b[37m\u001b[0m \u001b[1m74s\u001b[0m 16ms/step - accuracy: 0.9976 - loss: 0.0107 - val_accuracy: 0.9494 - val_loss: 1.4626\nEpoch 80/100\n\u001b[1m4732/4732\u001b[0m \u001b[32m━━━━━━━━━━━━━━━━━━━━\u001b[0m\u001b[37m\u001b[0m \u001b[1m74s\u001b[0m 16ms/step - accuracy: 0.9972 - loss: 0.0123 - val_accuracy: 0.9487 - val_loss: 1.6596\nEpoch 81/100\n\u001b[1m4732/4732\u001b[0m \u001b[32m━━━━━━━━━━━━━━━━━━━━\u001b[0m\u001b[37m\u001b[0m \u001b[1m74s\u001b[0m 16ms/step - accuracy: 0.9969 - loss: 0.0156 - val_accuracy: 0.9536 - val_loss: 1.4635\nEpoch 82/100\n\u001b[1m4732/4732\u001b[0m \u001b[32m━━━━━━━━━━━━━━━━━━━━\u001b[0m\u001b[37m\u001b[0m \u001b[1m74s\u001b[0m 16ms/step - accuracy: 0.9978 - loss: 0.0095 - val_accuracy: 0.9522 - val_loss: 1.6552\nEpoch 83/100\n\u001b[1m4732/4732\u001b[0m \u001b[32m━━━━━━━━━━━━━━━━━━━━\u001b[0m\u001b[37m\u001b[0m \u001b[1m74s\u001b[0m 16ms/step - accuracy: 0.9979 - loss: 0.0100 - val_accuracy: 0.9503 - val_loss: 1.6718\nEpoch 84/100\n\u001b[1m4732/4732\u001b[0m \u001b[32m━━━━━━━━━━━━━━━━━━━━\u001b[0m\u001b[37m\u001b[0m \u001b[1m74s\u001b[0m 16ms/step - accuracy: 0.9977 - loss: 0.0119 - val_accuracy: 0.9536 - val_loss: 1.5024\nEpoch 85/100\n\u001b[1m4732/4732\u001b[0m \u001b[32m━━━━━━━━━━━━━━━━━━━━\u001b[0m\u001b[37m\u001b[0m \u001b[1m74s\u001b[0m 16ms/step - accuracy: 0.9975 - loss: 0.0111 - val_accuracy: 0.9519 - val_loss: 1.7287\nEpoch 86/100\n\u001b[1m4732/4732\u001b[0m \u001b[32m━━━━━━━━━━━━━━━━━━━━\u001b[0m\u001b[37m\u001b[0m \u001b[1m74s\u001b[0m 16ms/step - accuracy: 0.9978 - loss: 0.0108 - val_accuracy: 0.9555 - val_loss: 1.5998\nEpoch 87/100\n\u001b[1m4732/4732\u001b[0m \u001b[32m━━━━━━━━━━━━━━━━━━━━\u001b[0m\u001b[37m\u001b[0m \u001b[1m74s\u001b[0m 16ms/step - accuracy: 0.9974 - loss: 0.0139 - val_accuracy: 0.9522 - val_loss: 1.7771\nEpoch 88/100\n\u001b[1m4732/4732\u001b[0m \u001b[32m━━━━━━━━━━━━━━━━━━━━\u001b[0m\u001b[37m\u001b[0m \u001b[1m74s\u001b[0m 16ms/step - accuracy: 0.9976 - loss: 0.0132 - val_accuracy: 0.9509 - val_loss: 1.6668\nEpoch 89/100\n\u001b[1m4732/4732\u001b[0m \u001b[32m━━━━━━━━━━━━━━━━━━━━\u001b[0m\u001b[37m\u001b[0m \u001b[1m74s\u001b[0m 16ms/step - accuracy: 0.9975 - loss: 0.0122 - val_accuracy: 0.9522 - val_loss: 1.8491\nEpoch 90/100\n\u001b[1m4732/4732\u001b[0m \u001b[32m━━━━━━━━━━━━━━━━━━━━\u001b[0m\u001b[37m\u001b[0m \u001b[1m74s\u001b[0m 16ms/step - accuracy: 0.9975 - loss: 0.0142 - val_accuracy: 0.9504 - val_loss: 1.6223\nEpoch 91/100\n\u001b[1m4732/4732\u001b[0m \u001b[32m━━━━━━━━━━━━━━━━━━━━\u001b[0m\u001b[37m\u001b[0m \u001b[1m74s\u001b[0m 16ms/step - accuracy: 0.9977 - loss: 0.0111 - val_accuracy: 0.9521 - val_loss: 1.4839\nEpoch 92/100\n\u001b[1m4732/4732\u001b[0m \u001b[32m━━━━━━━━━━━━━━━━━━━━\u001b[0m\u001b[37m\u001b[0m \u001b[1m74s\u001b[0m 16ms/step - accuracy: 0.9976 - loss: 0.0109 - val_accuracy: 0.9488 - val_loss: 1.9684\nEpoch 93/100\n\u001b[1m4732/4732\u001b[0m \u001b[32m━━━━━━━━━━━━━━━━━━━━\u001b[0m\u001b[37m\u001b[0m \u001b[1m74s\u001b[0m 16ms/step - accuracy: 0.9973 - loss: 0.0157 - val_accuracy: 0.9499 - val_loss: 1.5892\nEpoch 94/100\n\u001b[1m4732/4732\u001b[0m \u001b[32m━━━━━━━━━━━━━━━━━━━━\u001b[0m\u001b[37m\u001b[0m \u001b[1m74s\u001b[0m 16ms/step - accuracy: 0.9978 - loss: 0.0117 - val_accuracy: 0.9525 - val_loss: 1.7054\nEpoch 95/100\n\u001b[1m4732/4732\u001b[0m \u001b[32m━━━━━━━━━━━━━━━━━━━━\u001b[0m\u001b[37m\u001b[0m \u001b[1m74s\u001b[0m 16ms/step - accuracy: 0.9976 - loss: 0.0114 - val_accuracy: 0.9479 - val_loss: 1.9508\nEpoch 96/100\n\u001b[1m4732/4732\u001b[0m \u001b[32m━━━━━━━━━━━━━━━━━━━━\u001b[0m\u001b[37m\u001b[0m \u001b[1m74s\u001b[0m 16ms/step - accuracy: 0.9976 - loss: 0.0120 - val_accuracy: 0.9514 - val_loss: 2.1239\nEpoch 97/100\n\u001b[1m4732/4732\u001b[0m \u001b[32m━━━━━━━━━━━━━━━━━━━━\u001b[0m\u001b[37m\u001b[0m \u001b[1m74s\u001b[0m 16ms/step - accuracy: 0.9975 - loss: 0.0140 - val_accuracy: 0.9536 - val_loss: 2.0971\nEpoch 98/100\n\u001b[1m4732/4732\u001b[0m \u001b[32m━━━━━━━━━━━━━━━━━━━━\u001b[0m\u001b[37m\u001b[0m \u001b[1m74s\u001b[0m 16ms/step - accuracy: 0.9980 - loss: 0.0099 - val_accuracy: 0.9525 - val_loss: 1.7653\nEpoch 99/100\n\u001b[1m4732/4732\u001b[0m \u001b[32m━━━━━━━━━━━━━━━━━━━━\u001b[0m\u001b[37m\u001b[0m \u001b[1m74s\u001b[0m 16ms/step - accuracy: 0.9981 - loss: 0.0105 - val_accuracy: 0.9532 - val_loss: 1.8924\nEpoch 100/100\n\u001b[1m4732/4732\u001b[0m \u001b[32m━━━━━━━━━━━━━━━━━━━━\u001b[0m\u001b[37m\u001b[0m \u001b[1m74s\u001b[0m 16ms/step - accuracy: 0.9977 - loss: 0.0103 - val_accuracy: 0.9525 - val_loss: 2.0573\n",
          "output_type": "stream"
        }
      ],
      "execution_count": null
    },
    {
      "cell_type": "code",
      "source": [
        "model.save(\"model1.h5\")"
      ],
      "metadata": {
        "trusted": true,
        "execution": {
          "iopub.status.busy": "2025-05-14T22:16:28.503241Z",
          "iopub.execute_input": "2025-05-14T22:16:28.503957Z",
          "iopub.status.idle": "2025-05-14T22:16:28.576878Z",
          "shell.execute_reply.started": "2025-05-14T22:16:28.503933Z",
          "shell.execute_reply": "2025-05-14T22:16:28.576284Z"
        },
        "id": "qs5ZKyFFelWD"
      },
      "outputs": [],
      "execution_count": null
    },
    {
      "cell_type": "markdown",
      "source": [
        "# Evaluation"
      ],
      "metadata": {
        "id": "B86Kp0nOelWD"
      }
    },
    {
      "cell_type": "code",
      "source": [
        "loss, accuracy = model.evaluate(test_gen)\n",
        "print(f\"Test Accuracy: {accuracy * 100:.2f}%\")"
      ],
      "metadata": {
        "trusted": true,
        "execution": {
          "iopub.status.busy": "2025-05-14T22:22:19.883787Z",
          "iopub.execute_input": "2025-05-14T22:22:19.884083Z",
          "iopub.status.idle": "2025-05-14T22:22:36.874394Z",
          "shell.execute_reply.started": "2025-05-14T22:22:19.884064Z",
          "shell.execute_reply": "2025-05-14T22:22:36.873746Z"
        },
        "id": "iG8xjx9qelWD",
        "outputId": "0341cf8e-4147-4d5f-8a0c-7b1a520bf1e5"
      },
      "outputs": [
        {
          "name": "stdout",
          "text": "\u001b[1m1358/1358\u001b[0m \u001b[32m━━━━━━━━━━━━━━━━━━━━\u001b[0m\u001b[37m\u001b[0m \u001b[1m17s\u001b[0m 12ms/step - accuracy: 0.9423 - loss: 2.1875\nTest Accuracy: 95.28%\n",
          "output_type": "stream"
        }
      ],
      "execution_count": null
    },
    {
      "cell_type": "code",
      "source": [
        "from tensorflow.keras.preprocessing import image\n",
        "import numpy as np\n",
        "\n",
        "img = image.load_img('/content/cropped_datasettt/test/8/14832_7.jpg', target_size=(60, 120), color_mode='grayscale')  # یا 'rgb'\n",
        "img_array = image.img_to_array(img)\n",
        "img_array = np.expand_dims(img_array, axis=0) / 255.0  # نرمال‌سازی\n",
        "\n",
        "pred = ocr_model.predict(img_array)\n",
        "predicted_class = np.argmax(pred)\n",
        "classes = sorted(os.listdir('/content/cropped_datasettt/train'))\n",
        "print(\"Predicted class index:\", classes[predicted_class])\n"
      ],
      "metadata": {
        "trusted": true,
        "execution": {
          "iopub.status.busy": "2025-05-14T22:38:57.576997Z",
          "iopub.execute_input": "2025-05-14T22:38:57.577773Z",
          "iopub.status.idle": "2025-05-14T22:38:57.845126Z",
          "shell.execute_reply.started": "2025-05-14T22:38:57.577742Z",
          "shell.execute_reply": "2025-05-14T22:38:57.844374Z"
        },
        "id": "zQD__JFOelWD",
        "outputId": "e14e7ec3-4a5a-4df6-d8ef-ca0c10740c57",
        "colab": {
          "base_uri": "https://localhost:8080/"
        }
      },
      "outputs": [
        {
          "output_type": "stream",
          "name": "stdout",
          "text": [
            "\u001b[1m1/1\u001b[0m \u001b[32m━━━━━━━━━━━━━━━━━━━━\u001b[0m\u001b[37m\u001b[0m \u001b[1m0s\u001b[0m 72ms/step\n",
            "Predicted class index: 8\n"
          ]
        }
      ],
      "execution_count": null
    },
    {
      "cell_type": "code",
      "source": [
        "from google.colab.patches import cv2_imshow\n",
        "import cv2\n",
        "img = cv2.imread('/content/cropped_datasettt/test/8/14832_7.jpg', cv2.IMREAD_UNCHANGED)\n",
        "cv2_imshow(img)"
      ],
      "metadata": {
        "trusted": true,
        "execution": {
          "iopub.status.busy": "2025-05-14T22:34:53.908651Z",
          "iopub.execute_input": "2025-05-14T22:34:53.909206Z",
          "iopub.status.idle": "2025-05-14T22:34:53.914625Z",
          "shell.execute_reply.started": "2025-05-14T22:34:53.909185Z",
          "shell.execute_reply": "2025-05-14T22:34:53.914027Z"
        },
        "id": "u0jfXECjelWT",
        "outputId": "25b8b6d7-3b6c-4367-ebca-e66311624ed7",
        "colab": {
          "base_uri": "https://localhost:8080/",
          "height": 81
        }
      },
      "outputs": [
        {
          "output_type": "display_data",
          "data": {
            "text/plain": [
              "<PIL.Image.Image image mode=L size=42x64>"
            ],
            "image/png": "[encoded data removed]",
            "image/jpeg": "[encoded data removed]"
          },
          "metadata": {}
        }
      ],
      "execution_count": null
    },
    {
      "cell_type": "code",
      "source": [
        "classes"
      ],
      "metadata": {
        "colab": {
          "base_uri": "https://localhost:8080/"
        },
        "id": "pKxRBdhsaukO",
        "outputId": "36e04aeb-85a9-4d3f-ef67-a74c6b06fecc"
      },
      "execution_count": null,
      "outputs": [
        {
          "output_type": "execute_result",
          "data": {
            "text/plain": [
              "['0',\n",
              " '1',\n",
              " '2',\n",
              " '3',\n",
              " '4',\n",
              " '5',\n",
              " '6',\n",
              " '7',\n",
              " '8',\n",
              " '9',\n",
              " 'D',\n",
              " 'S',\n",
              " 'الف',\n",
              " 'ب',\n",
              " 'ت',\n",
              " 'ث',\n",
              " 'ج',\n",
              " 'د',\n",
              " 'ز',\n",
              " 'س',\n",
              " 'ش',\n",
              " 'ص',\n",
              " 'ط',\n",
              " 'ع',\n",
              " 'ف',\n",
              " 'ق',\n",
              " 'ل',\n",
              " 'م',\n",
              " 'ن',\n",
              " 'ه\\u200d',\n",
              " 'و',\n",
              " 'پ',\n",
              " 'ژ (معلولین و جانبازان)',\n",
              " 'ک',\n",
              " 'گ',\n",
              " 'ی']"
            ]
          },
          "metadata": {},
          "execution_count": 19
        }
      ]
    },
    {
      "cell_type": "code",
      "source": [
        "import matplotlib.pyplot as plt\n",
        "\n",
        "# فرض بر اینکه مدل را با این دستور آموزش دادی:\n",
        "# history = model.fit(...)\n",
        "\n",
        "# 📈 دقت (Accuracy)\n",
        "plt.figure(figsize=(10, 4))\n",
        "\n",
        "plt.subplot(1, 2, 1)\n",
        "plt.plot(history.history['accuracy'], label='train accuracy')\n",
        "plt.plot(history.history['val_accuracy'], label='val accuracy')\n",
        "plt.title('Accuracy')\n",
        "plt.xlabel('Epoch')\n",
        "plt.ylabel('Accuracy')\n",
        "plt.legend()\n",
        "plt.grid(True)\n",
        "\n",
        "# 📉 زیان (Loss)\n",
        "plt.subplot(1, 2, 2)\n",
        "plt.plot(history.history['loss'], label='train loss')\n",
        "plt.plot(history.history['val_loss'], label='val loss')\n",
        "plt.title('Loss')\n",
        "plt.xlabel('Epoch')\n",
        "plt.ylabel('Loss')\n",
        "plt.legend()\n",
        "plt.grid(True)\n",
        "\n",
        "plt.tight_layout()\n",
        "plt.show()\n"
      ],
      "metadata": {
        "trusted": true,
        "execution": {
          "iopub.status.busy": "2025-05-14T22:41:13.405611Z",
          "iopub.execute_input": "2025-05-14T22:41:13.405948Z",
          "iopub.status.idle": "2025-05-14T22:41:13.762374Z",
          "shell.execute_reply.started": "2025-05-14T22:41:13.405926Z",
          "shell.execute_reply": "2025-05-14T22:41:13.761670Z"
        },
        "id": "dIdSB_BOelWT",
        "outputId": "a9200475-185b-4436-f826-cb6b24445115"
      },
      "outputs": [
        {
          "output_type": "display_data",
          "data": {
            "text/plain": "<Figure size 1000x400 with 2 Axes>",
            "image/png": "[encoded data removed]"
          },
          "metadata": {}
        }
      ],
      "execution_count": null
    },
    {
      "cell_type": "markdown",
      "source": [
        "# Pipeline"
      ],
      "metadata": {
        "id": "rNW08EvPKzRN"
      }
    },
    {
      "cell_type": "code",
      "source": [
        "import cv2\n",
        "import numpy as np\n",
        "from PIL import Image\n",
        "from ultralytics import YOLO\n",
        "from tensorflow.keras.models import load_model\n",
        "from tensorflow.keras.preprocessing import image as keras_image\n",
        "import matplotlib.pyplot as plt\n",
        "\n",
        "\n",
        "# 📌 بارگذاری مدل‌ها\n",
        "plate_detector = YOLO('/content/plate_detection_model_yolo.pt')       # مدل YOLO تشخیص پلاک\n",
        "char_segmenter = YOLO('/content/segmentation_model_yolo.pt')       # مدل YOLO سگمنتیشن کاراکتر\n",
        "ocr_model = load_model('/content/ocr_model_cnn.h5')       # مدل CNN برای OCR\n",
        "\n",
        "# کلاس‌های مربوط به OCR\n",
        "classes = ['0',\n",
        " '1',\n",
        " '2',\n",
        " '3',\n",
        " '4',\n",
        " '5',\n",
        " '6',\n",
        " '7',\n",
        " '8',\n",
        " '9',\n",
        " 'D',\n",
        " 'S',\n",
        " 'الف',\n",
        " 'ب',\n",
        " 'ت',\n",
        " 'ث',\n",
        " 'ج',\n",
        " 'د',\n",
        " 'ز',\n",
        " 'س',\n",
        " 'ش',\n",
        " 'ص',\n",
        " 'ط',\n",
        " 'ع',\n",
        " 'ف',\n",
        " 'ق',\n",
        " 'ل',\n",
        " 'م',\n",
        " 'ن',\n",
        " 'ه',\n",
        " 'و',\n",
        " 'پ',\n",
        " 'ژ',\n",
        " 'ک',\n",
        " 'گ',\n",
        " 'ی']\n",
        "\n",
        "def preprocess_char_for_ocr(char_img):\n",
        "    img = cv2.resize(char_img, (120, 60))  # توجه: width=120, height=60\n",
        "    img = cv2.cvtColor(img, cv2.COLOR_BGR2GRAY)\n",
        "    img = img / 255.0\n",
        "    img = np.expand_dims(img, axis=(0, -1))\n",
        "    return img\n",
        "\n",
        "# ------------------ شروع پردازش ------------------\n",
        "def recognize_plates_from_image(image_path):\n",
        "    image = cv2.imread(image_path)\n",
        "    image_rgb = cv2.cvtColor(image, cv2.COLOR_BGR2RGB)\n",
        "\n",
        "    # ------------------ 1. تشخیص پلاک ------------------\n",
        "    plate_results = plate_detector(image_rgb)\n",
        "    plate_boxes = plate_results[0].boxes.xyxy.cpu().numpy()\n",
        "\n",
        "    for i, plate_box in enumerate(plate_boxes):\n",
        "        x1, y1, x2, y2 = map(int, plate_box)\n",
        "        plate_crop = image_rgb[y1:y2, x1:x2]\n",
        "\n",
        "        # ------------------ 2. سگمنت کاراکتر ------------------\n",
        "        char_results = char_segmenter(plate_crop)\n",
        "        char_boxes = char_results[0].boxes.xyxy.cpu().numpy()\n",
        "\n",
        "        # مرتب‌سازی با مختصات x\n",
        "        char_boxes = sorted(char_boxes, key=lambda b: b[0])\n",
        "\n",
        "        plate_text = \"\"\n",
        "        print(f\"\\n🔍 پلاک {i+1}:\")\n",
        "        for j, char_box in enumerate(char_boxes):\n",
        "            cx1, cy1, cx2, cy2 = map(int, char_box)\n",
        "            char_crop = plate_crop[cy1:cy2, cx1:cx2]\n",
        "\n",
        "            # پیش‌پردازش\n",
        "            preprocessed = preprocess_char_for_ocr(char_crop)\n",
        "\n",
        "            # پیش‌بینی\n",
        "            prediction = ocr_model.predict(preprocessed, verbose=0)\n",
        "            predicted_class = np.argmax(prediction)\n",
        "            label = classes[predicted_class]\n",
        "            plate_text += label\n",
        "        for a in plate_text:\n",
        "          print(a)"
      ],
      "metadata": {
        "colab": {
          "base_uri": "https://localhost:8080/"
        },
        "id": "2UIvUVZ0KzDB",
        "outputId": "dc0f86f4-103c-444d-ff24-f001a9db9152"
      },
      "execution_count": null,
      "outputs": [
        {
          "output_type": "stream",
          "name": "stderr",
          "text": [
            "WARNING:absl:Compiled the loaded model, but the compiled metrics have yet to be built. `model.compile_metrics` will be empty until you train or evaluate the model.\n"
          ]
        }
      ]
    },
    {
      "cell_type": "code",
      "source": [
        "\n",
        "image_path = '/content/v9RE.jpg'\n",
        "recognize_plates_from_image(image_path)\n",
        "\n"
      ],
      "metadata": {
        "colab": {
          "base_uri": "https://localhost:8080/"
        },
        "id": "u0I7hQRRLI9m",
        "outputId": "4831d962-f1ad-4e88-f97f-eaa8eea054d1"
      },
      "execution_count": null,
      "outputs": [
        {
          "output_type": "stream",
          "name": "stdout",
          "text": [
            "\n",
            "0: 480x640 1 license-plate, 203.4ms\n",
            "Speed: 10.2ms preprocess, 203.4ms inference, 1.5ms postprocess per image at shape (1, 3, 480, 640)\n",
            "\n",
            "0: 160x640 8 chars, 75.1ms\n",
            "Speed: 1.8ms preprocess, 75.1ms inference, 1.3ms postprocess per image at shape (1, 3, 160, 640)\n",
            "\n",
            "🔍 پلاک 1:\n",
            "3\n",
            "8\n",
            "ج\n",
            "8\n",
            "2\n",
            "9\n",
            "3\n",
            "3\n"
          ]
        }
      ]
    },
    {
      "cell_type": "code",
      "source": [
        "import matplotlib.pyplot as plt\n",
        "import cv2\n",
        "\n",
        "# بارگذاری عکس با OpenCV\n",
        "img = cv2.imread(image_path)\n",
        "\n",
        "# تبدیل رنگ BGR به RGB (چون OpenCV به‌صورت پیش‌فرض BGR است)\n",
        "img_rgb = cv2.cvtColor(img, cv2.COLOR_BGR2RGB)\n",
        "\n",
        "# نمایش تصویر\n",
        "plt.imshow(img_rgb)\n",
        "plt.axis('off')  # حذف محور‌ها\n",
        "plt.title('نمایش عکس')\n",
        "plt.show()"
      ],
      "metadata": {
        "colab": {
          "base_uri": "https://localhost:8080/",
          "height": 411
        },
        "id": "lKCVAn3EEV49",
        "outputId": "76036d6d-e107-40d3-9f9b-b9c54389f10a"
      },
      "execution_count": null,
      "outputs": [
        {
          "output_type": "display_data",
          "data": {
            "text/plain": [
              "<Figure size 640x480 with 1 Axes>"
            ],
            "image/png": "[encoded data removed]"
          },
          "metadata": {}
        }
      ]
    },
    {
      "cell_type": "markdown",
      "source": [
        "# samples"
      ],
      "metadata": {
        "id": "AMpCR4D3Y6o9"
      }
    },
    {
      "cell_type": "code",
      "source": [
        "!pip install pillow arabic-reshaper python-bidi"
      ],
      "metadata": {
        "colab": {
          "base_uri": "https://localhost:8080/"
        },
        "id": "4RGGPePM5Co3",
        "outputId": "a928e0e7-d244-4c12-83a0-5c69b9c7d569"
      },
      "execution_count": 14,
      "outputs": [
        {
          "output_type": "stream",
          "name": "stdout",
          "text": [
            "Requirement already satisfied: pillow in /usr/local/lib/python3.11/dist-packages (11.2.1)\n",
            "Requirement already satisfied: arabic-reshaper in /usr/local/lib/python3.11/dist-packages (3.0.0)\n",
            "Requirement already satisfied: python-bidi in /usr/local/lib/python3.11/dist-packages (0.6.6)\n"
          ]
        }
      ]
    },
    {
      "cell_type": "code",
      "source": [
        "import cv2\n",
        "import numpy as np\n",
        "from ultralytics import YOLO\n",
        "from tensorflow.keras.models import load_model\n",
        "from tensorflow.keras.preprocessing import image as keras_image\n",
        "import matplotlib.pyplot as plt\n",
        "from PIL import ImageFont, ImageDraw, Image\n",
        "import arabic_reshaper\n",
        "from bidi.algorithm import get_display\n",
        "\n",
        "# 📌 بارگذاری مدل‌ها\n",
        "plate_detector = YOLO('/content/plate_detection_model_yolo.pt')       # مدل YOLO تشخیص پلاک\n",
        "char_segmenter = YOLO('/content/segmentation_model_yolo.pt')         # مدل YOLO سگمنتیشن کاراکتر\n",
        "ocr_model = load_model('/content/ocr_model_cnn.h5')                   # مدل CNN برای OCR\n",
        "\n",
        "# کلاس‌های مربوط به OCR\n",
        "classes = ['0', '1', '2', '3', '4', '5', '6', '7', '8', '9', 'D', 'S', 'الف', 'ب', 'ت', 'ث', 'ج', 'د', 'ز', 'س',\n",
        "           'ش', 'ص', 'ط', 'ع', 'ف', 'ق', 'ل', 'م', 'ن', 'ه', 'و', 'پ', 'ژ', 'ک', 'گ', 'ی']\n",
        "\n",
        "\n",
        "def draw_farsi_text(img_rgb, text, position, font_path=\"/content/Vazir.ttf\", font_size=30):\n",
        "    # تبدیل متن فارسی به شکل قابل رسم\n",
        "    reshaped_text = arabic_reshaper.reshape(text)\n",
        "    bidi_text = get_display(reshaped_text)\n",
        "\n",
        "    # تبدیل تصویر از numpy به PIL\n",
        "    image_pil = Image.fromarray(img_rgb)\n",
        "    draw = ImageDraw.Draw(image_pil)\n",
        "    font = ImageFont.truetype(font_path, font_size)\n",
        "\n",
        "    draw.text(position, bidi_text, font=font, fill=(255, 0, 0))  # قرمز\n",
        "    return np.array(image_pil)\n",
        "\n",
        "def preprocess_char_for_ocr(char_img):\n",
        "    img = cv2.resize(char_img, (120, 60))\n",
        "    img = cv2.cvtColor(img, cv2.COLOR_BGR2GRAY)\n",
        "    img = img / 255.0\n",
        "    img = np.expand_dims(img, axis=(0, -1))\n",
        "    return img\n",
        "\n",
        "# 🧠 تابع اصلی\n",
        "def recognize_plates_and_draw(image_path):\n",
        "    image = cv2.imread(image_path)\n",
        "    image_rgb = cv2.cvtColor(image, cv2.COLOR_BGR2RGB)\n",
        "\n",
        "    plate_results = plate_detector(image_rgb)\n",
        "    plate_boxes = plate_results[0].boxes.xyxy.cpu().numpy()\n",
        "\n",
        "    for i, plate_box in enumerate(plate_boxes):\n",
        "        x1, y1, x2, y2 = map(int, plate_box)\n",
        "        plate_crop = image_rgb[y1:y2, x1:x2]\n",
        "\n",
        "        # تشخیص کاراکترها\n",
        "        char_results = char_segmenter(plate_crop)\n",
        "        char_boxes = char_results[0].boxes.xyxy.cpu().numpy()\n",
        "        char_boxes = sorted(char_boxes, key=lambda b: b[0])\n",
        "\n",
        "        plate_text = \"\"\n",
        "        for char_box in char_boxes:\n",
        "            cx1, cy1, cx2, cy2 = map(int, char_box)\n",
        "            char_crop = plate_crop[cy1:cy2, cx1:cx2]\n",
        "            preprocessed = preprocess_char_for_ocr(char_crop)\n",
        "            prediction = ocr_model.predict(preprocessed, verbose=0)\n",
        "            predicted_class = np.argmax(prediction)\n",
        "            label = classes[predicted_class]\n",
        "            plate_text += label\n",
        "\n",
        "        # ✏️ نوشتن متن و رسم کادر\n",
        "        cv2.rectangle(image_rgb, (x1, y1), (x2, y2), (0, 255, 0), 2)\n",
        "        image_rgb = draw_farsi_text(image_rgb, plate_text, (x1, y1 - 40))\n",
        "\n",
        "    return image_rgb\n"
      ],
      "metadata": {
        "colab": {
          "base_uri": "https://localhost:8080/"
        },
        "id": "ZVLEB79qYwH8",
        "outputId": "388a6f9b-72f6-4529-e13e-dec8b0bbfe11"
      },
      "execution_count": 20,
      "outputs": [
        {
          "output_type": "stream",
          "name": "stderr",
          "text": [
            "WARNING:absl:Compiled the loaded model, but the compiled metrics have yet to be built. `model.compile_metrics` will be empty until you train or evaluate the model.\n"
          ]
        }
      ]
    },
    {
      "cell_type": "code",
      "source": [
        "plate = recognize_plates_and_draw('/content/test/day_13840.jpg')\n",
        "cv2.imwrite(f\"/content/100_samples/s.jpg\", cv2.cvtColor(plate, cv2.COLOR_RGB2BGR))"
      ],
      "metadata": {
        "colab": {
          "base_uri": "https://localhost:8080/"
        },
        "id": "Xj6LfCxS2mHx",
        "outputId": "9f557b42-22f7-4f28-8f88-86b082eae8e2"
      },
      "execution_count": 25,
      "outputs": [
        {
          "output_type": "stream",
          "name": "stdout",
          "text": [
            "\n",
            "0: 640x640 1 license-plate, 242.0ms\n",
            "Speed: 8.7ms preprocess, 242.0ms inference, 1.1ms postprocess per image at shape (1, 3, 640, 640)\n",
            "\n",
            "0: 192x640 8 chars, 76.4ms\n",
            "Speed: 1.7ms preprocess, 76.4ms inference, 1.0ms postprocess per image at shape (1, 3, 192, 640)\n"
          ]
        },
        {
          "output_type": "execute_result",
          "data": {
            "text/plain": [
              "True"
            ]
          },
          "metadata": {},
          "execution_count": 25
        }
      ]
    },
    {
      "cell_type": "code",
      "source": [
        "import os\n",
        "list_files = os.listdir('/content/test')\n",
        "new_list = []\n",
        "for name in list_files:\n",
        "  if \".jpg\" in name:\n",
        "    new_list.append(name)\n",
        "new_list"
      ],
      "metadata": {
        "colab": {
          "base_uri": "https://localhost:8080/"
        },
        "id": "TQ9kNHJrZp-E",
        "outputId": "a2d81a53-9eda-4a77-ffbb-947c8e36560d"
      },
      "execution_count": 21,
      "outputs": [
        {
          "output_type": "execute_result",
          "data": {
            "text/plain": [
              "['night (3094).jpg',\n",
              " 'day_12112.jpg',\n",
              " 'night (1508).jpg',\n",
              " 'day_14145.jpg',\n",
              " 'day_09072.jpg',\n",
              " 'night (1060).jpg',\n",
              " 'day_06621.jpg',\n",
              " 'day_12789.jpg',\n",
              " 'day_00548.jpg',\n",
              " 'night (3839).jpg',\n",
              " 'day_09468.jpg',\n",
              " 'day_10868.jpg',\n",
              " 'day_14315.jpg',\n",
              " 'day_07718.jpg',\n",
              " 'day_11840.jpg',\n",
              " 'night (2967).jpg',\n",
              " 'day_03255.jpg',\n",
              " 'day_07784.jpg',\n",
              " 'night (1032).jpg',\n",
              " 'day_08779.jpg',\n",
              " 'day_06903.jpg',\n",
              " 'night (772).jpg',\n",
              " 'night (743).jpg',\n",
              " 'day_15151.jpg',\n",
              " 'day_00919.jpg',\n",
              " 'day_09983.jpg',\n",
              " 'night (1495).jpg',\n",
              " 'day_02066.jpg',\n",
              " 'night (1475).jpg',\n",
              " 'day_14166.jpg',\n",
              " 'night (3848).jpg',\n",
              " 'day_14595.jpg',\n",
              " 'day_00529.jpg',\n",
              " 'day_10770.jpg',\n",
              " 'day_03343.jpg',\n",
              " 'day_10346.jpg',\n",
              " 'day_12544.jpg',\n",
              " 'day_02373.jpg',\n",
              " 'day_11569.jpg',\n",
              " 'day_05050.jpg',\n",
              " 'day_01257.jpg',\n",
              " 'day_12175.jpg',\n",
              " 'day_09710.jpg',\n",
              " 'day_07657.jpg',\n",
              " 'day_10373.jpg',\n",
              " 'night (2101).jpg',\n",
              " 'day_11445.jpg',\n",
              " 'day_16256.jpg',\n",
              " 'day_11198.jpg',\n",
              " 'day_05917.jpg',\n",
              " 'night (4113).jpg',\n",
              " 'day_01642.jpg',\n",
              " 'night (3837).jpg',\n",
              " 'day_08776.jpg',\n",
              " 'day_12669.jpg',\n",
              " 'night (4020).jpg',\n",
              " 'day_07640.jpg',\n",
              " 'day_08206.jpg',\n",
              " 'day_14649.jpg',\n",
              " 'day_14012.jpg',\n",
              " 'day_08004.jpg',\n",
              " 'night (4108).jpg',\n",
              " 'night (3058).jpg',\n",
              " 'day_11902.jpg',\n",
              " 'day_01009.jpg',\n",
              " 'day_04264.jpg',\n",
              " 'day_00944.jpg',\n",
              " 'day_11508.jpg',\n",
              " 'day_09193.jpg',\n",
              " 'day_01227.jpg',\n",
              " 'day_11268.jpg',\n",
              " 'night (2096).jpg',\n",
              " 'day_16278.jpg',\n",
              " 'day_01176.jpg',\n",
              " 'day_06762.jpg',\n",
              " 'day_09088.jpg',\n",
              " 'day_08438.jpg',\n",
              " 'day_02928.jpg',\n",
              " 'day_11115.jpg',\n",
              " 'day_15739.jpg',\n",
              " 'day_16949.jpg',\n",
              " 'day_03297.jpg',\n",
              " 'day_16722.jpg',\n",
              " 'day_14758.jpg',\n",
              " 'day_14701.jpg',\n",
              " 'day_11856.jpg',\n",
              " 'day_11509.jpg',\n",
              " 'day_11707.jpg',\n",
              " 'day_03354.jpg',\n",
              " 'day_11049.jpg',\n",
              " 'day_08936.jpg',\n",
              " 'day_12502.jpg',\n",
              " 'night (1459).jpg',\n",
              " 'night (1039).jpg',\n",
              " 'day_03244.jpg',\n",
              " 'day_16425.jpg',\n",
              " 'day_06865.jpg',\n",
              " 'night (1073).jpg',\n",
              " 'day_01559.jpg',\n",
              " 'night (2111).jpg',\n",
              " 'day_16583.jpg',\n",
              " 'day_16155.jpg',\n",
              " 'day_15472.jpg',\n",
              " 'day_13729.jpg',\n",
              " 'day_01076.jpg',\n",
              " 'night (1499).jpg',\n",
              " 'night (754).jpg',\n",
              " 'day_10972.jpg',\n",
              " 'day_05984.jpg',\n",
              " 'day_02618.jpg',\n",
              " 'day_12381.jpg',\n",
              " 'day_11850.jpg',\n",
              " 'day_14646.jpg',\n",
              " 'night (4045).jpg',\n",
              " 'night (3214).jpg',\n",
              " 'day_01957.jpg',\n",
              " 'day_11391.jpg',\n",
              " 'day_03888.jpg',\n",
              " 'night (4097).jpg',\n",
              " 'night (1464).jpg',\n",
              " 'night (2276).jpg',\n",
              " 'night (2654).jpg',\n",
              " 'night (4055).jpg',\n",
              " 'day_16126.jpg',\n",
              " 'day_12676.jpg',\n",
              " 'night (784).jpg',\n",
              " 'day_10103.jpg',\n",
              " 'day_16665.jpg',\n",
              " 'day_06568.jpg',\n",
              " 'day_00166.jpg',\n",
              " 'day_16168.jpg',\n",
              " 'day_07264.jpg',\n",
              " 'day_03942.jpg',\n",
              " 'night (780).jpg',\n",
              " 'night (4046).jpg',\n",
              " 'day_01889.jpg',\n",
              " 'day_01733.jpg',\n",
              " 'day_06192.jpg',\n",
              " 'night (1445).jpg',\n",
              " 'night (2648).jpg',\n",
              " 'night (4072).jpg',\n",
              " 'day_15994.jpg',\n",
              " 'day_12134.jpg',\n",
              " 'day_09715.jpg',\n",
              " 'day_00928.jpg',\n",
              " 'day_12837.jpg',\n",
              " 'day_08159.jpg',\n",
              " 'day_15936.jpg',\n",
              " 'night (3216).jpg',\n",
              " 'day_10955.jpg',\n",
              " 'day_14037.jpg',\n",
              " 'day_09351.jpg',\n",
              " 'day_11895.jpg',\n",
              " 'night (4050).jpg',\n",
              " 'night (2644).jpg',\n",
              " 'day_10090.jpg',\n",
              " 'day_10029.jpg',\n",
              " 'day_12218.jpg',\n",
              " 'day_14751.jpg',\n",
              " 'day_09365.jpg',\n",
              " 'night (4070).jpg',\n",
              " 'day_06694.jpg',\n",
              " 'night (3861).jpg',\n",
              " 'day_14040.jpg',\n",
              " 'day_15074.jpg',\n",
              " 'day_02258.jpg',\n",
              " 'day_05218.jpg',\n",
              " 'night (806).jpg',\n",
              " 'night (803).jpg',\n",
              " 'night (3065).jpg',\n",
              " 'day_02738.jpg',\n",
              " 'day_14922.jpg',\n",
              " 'day_02291.jpg',\n",
              " 'day_00188.jpg',\n",
              " 'day_07050.jpg',\n",
              " 'day_09636.jpg',\n",
              " 'day_06414.jpg',\n",
              " 'day_02984.jpg',\n",
              " 'day_16755.jpg',\n",
              " 'day_07365.jpg',\n",
              " 'night (3066).jpg',\n",
              " 'day_04983.jpg',\n",
              " 'day_05171.jpg',\n",
              " 'day_01109.jpg',\n",
              " 'day_09041.jpg',\n",
              " 'day_02897.jpg',\n",
              " 'day_14109.jpg',\n",
              " 'day_14749.jpg',\n",
              " 'day_04788.jpg',\n",
              " 'night (4088).jpg',\n",
              " 'day_05733.jpg',\n",
              " 'day_08110.jpg',\n",
              " 'day_06194.jpg',\n",
              " 'night (997).jpg',\n",
              " 'day_05177.jpg',\n",
              " 'day_09341.jpg',\n",
              " 'day_09789.jpg',\n",
              " 'day_03638.jpg',\n",
              " 'day_03709.jpg',\n",
              " 'day_08389.jpg',\n",
              " 'day_14327.jpg',\n",
              " 'day_02306.jpg',\n",
              " 'day_02027.jpg',\n",
              " 'day_11944.jpg',\n",
              " 'day_07297.jpg',\n",
              " 'day_06954.jpg',\n",
              " 'day_07569.jpg',\n",
              " 'day_09899.jpg',\n",
              " 'night (4078).jpg',\n",
              " 'day_12257.jpg',\n",
              " 'day_13331.jpg',\n",
              " 'day_02307.jpg',\n",
              " 'day_01664.jpg',\n",
              " 'day_14270.jpg',\n",
              " 'day_15294.jpg',\n",
              " 'night (2105).jpg',\n",
              " 'day_06681.jpg',\n",
              " 'day_02554.jpg',\n",
              " 'day_12940.jpg',\n",
              " 'day_02737.jpg',\n",
              " 'day_04662.jpg',\n",
              " 'day_00470.jpg',\n",
              " 'day_02597.jpg',\n",
              " 'night (2968).jpg',\n",
              " 'day_06909.jpg',\n",
              " 'day_14095.jpg',\n",
              " 'day_09083.jpg',\n",
              " 'day_06993.jpg',\n",
              " 'day_05413.jpg',\n",
              " 'day_07638.jpg',\n",
              " 'day_12003.jpg',\n",
              " 'night (2062).jpg',\n",
              " 'day_07453.jpg',\n",
              " 'day_07958.jpg',\n",
              " 'day_07372.jpg',\n",
              " 'day_09059.jpg',\n",
              " 'night (1046).jpg',\n",
              " 'night (2274).jpg',\n",
              " 'day_04418.jpg',\n",
              " 'day_06270.jpg',\n",
              " 'day_06065.jpg',\n",
              " 'night (4091).jpg',\n",
              " 'day_03174.jpg',\n",
              " 'night (4107).jpg',\n",
              " 'day_07533.jpg',\n",
              " 'day_10940.jpg',\n",
              " 'day_06257.jpg',\n",
              " 'day_13215.jpg',\n",
              " 'day_13304.jpg',\n",
              " 'day_11954.jpg',\n",
              " 'day_02150.jpg',\n",
              " 'day_15178.jpg',\n",
              " 'night (2067).jpg',\n",
              " 'day_06490.jpg',\n",
              " 'day_04759.jpg',\n",
              " 'day_07708.jpg',\n",
              " 'day_12363.jpg',\n",
              " 'day_08412.jpg',\n",
              " 'day_10538.jpg',\n",
              " 'day_09244.jpg',\n",
              " 'night (3850).jpg',\n",
              " 'day_11927.jpg',\n",
              " 'day_07791.jpg',\n",
              " 'day_13276.jpg',\n",
              " 'day_14397.jpg',\n",
              " 'day_15798.jpg',\n",
              " 'day_01570.jpg',\n",
              " 'night (2969).jpg',\n",
              " 'day_04544.jpg',\n",
              " 'night (798).jpg',\n",
              " 'day_08044.jpg',\n",
              " 'day_09240.jpg',\n",
              " 'night (1521).jpg',\n",
              " 'day_11113.jpg',\n",
              " 'day_03250.jpg',\n",
              " 'day_12556.jpg',\n",
              " 'day_15749.jpg',\n",
              " 'day_02998.jpg',\n",
              " 'day_05884.jpg',\n",
              " 'day_06589.jpg',\n",
              " 'day_11348.jpg',\n",
              " 'night (921).jpg',\n",
              " 'day_00446.jpg',\n",
              " 'day_13107.jpg',\n",
              " 'day_10163.jpg',\n",
              " 'day_15759.jpg',\n",
              " 'day_04958.jpg',\n",
              " 'night (3078).jpg',\n",
              " 'day_13001.jpg',\n",
              " 'night (4093).jpg',\n",
              " 'day_05859.jpg',\n",
              " 'day_03329.jpg',\n",
              " 'day_16248.jpg',\n",
              " 'night (2666).jpg',\n",
              " 'day_01377.jpg',\n",
              " 'day_14611.jpg',\n",
              " 'day_08844.jpg',\n",
              " 'day_09703.jpg',\n",
              " 'day_16325.jpg',\n",
              " 'night (3694).jpg',\n",
              " 'day_01047.jpg',\n",
              " 'night (2257).jpg',\n",
              " 'night (1009).jpg',\n",
              " 'day_07026.jpg',\n",
              " 'day_11030.jpg',\n",
              " 'day_03872.jpg',\n",
              " 'night (939).jpg',\n",
              " 'night (802).jpg',\n",
              " 'day_07654.jpg',\n",
              " 'day_10424.jpg',\n",
              " 'night (735).jpg',\n",
              " 'day_14834.jpg',\n",
              " 'day_04284.jpg',\n",
              " 'night (800).jpg',\n",
              " 'night (1514).jpg',\n",
              " 'day_06048.jpg',\n",
              " 'day_11158.jpg',\n",
              " 'day_16033.jpg',\n",
              " 'day_04272.jpg',\n",
              " 'day_01772.jpg',\n",
              " 'day_07480.jpg',\n",
              " 'night (1486).jpg',\n",
              " 'day_07625.jpg',\n",
              " 'day_15134.jpg',\n",
              " 'day_07696.jpg',\n",
              " 'day_05995.jpg',\n",
              " 'day_13475.jpg',\n",
              " 'night (2122).jpg',\n",
              " 'day_08960.jpg',\n",
              " 'day_01314.jpg',\n",
              " 'day_14181.jpg',\n",
              " 'night (2057).jpg',\n",
              " 'day_06555.jpg',\n",
              " 'day_10866.jpg',\n",
              " 'day_13571.jpg',\n",
              " 'day_10785.jpg',\n",
              " 'day_14876.jpg',\n",
              " 'day_12717.jpg',\n",
              " 'day_01554.jpg',\n",
              " 'day_12136.jpg',\n",
              " 'day_10277.jpg',\n",
              " 'day_08961.jpg',\n",
              " 'day_15850.jpg',\n",
              " 'day_11941.jpg',\n",
              " 'day_11522.jpg',\n",
              " 'day_01483.jpg',\n",
              " 'day_06936.jpg',\n",
              " 'day_05886.jpg',\n",
              " 'day_11832.jpg',\n",
              " 'day_01291.jpg',\n",
              " 'day_14562.jpg',\n",
              " 'night (736).jpg',\n",
              " 'day_04130.jpg',\n",
              " 'day_05552.jpg',\n",
              " 'day_10611.jpg',\n",
              " 'day_07545.jpg',\n",
              " 'day_03796.jpg',\n",
              " 'day_15520.jpg',\n",
              " 'day_00287.jpg',\n",
              " 'day_01513.jpg',\n",
              " 'day_04434.jpg',\n",
              " 'day_06219.jpg',\n",
              " 'day_10829.jpg',\n",
              " 'night (1468).jpg',\n",
              " 'day_01239.jpg',\n",
              " 'day_08444.jpg',\n",
              " 'night (3100).jpg',\n",
              " 'day_13461.jpg',\n",
              " 'day_13281.jpg',\n",
              " 'night (998).jpg',\n",
              " 'day_04358.jpg',\n",
              " 'day_01659.jpg',\n",
              " 'day_10189.jpg',\n",
              " 'day_14985.jpg',\n",
              " 'day_03452.jpg',\n",
              " 'day_05687.jpg',\n",
              " 'day_03883.jpg',\n",
              " 'day_13401.jpg',\n",
              " 'day_06843.jpg',\n",
              " 'day_05808.jpg',\n",
              " 'day_05516.jpg',\n",
              " 'day_15716.jpg',\n",
              " 'day_08286.jpg',\n",
              " 'night (1454).jpg',\n",
              " 'day_11177.jpg',\n",
              " 'day_10174.jpg',\n",
              " 'day_03584.jpg',\n",
              " 'day_08681.jpg',\n",
              " 'day_00286.jpg',\n",
              " 'night (914).jpg',\n",
              " 'day_13918.jpg',\n",
              " 'day_04041.jpg',\n",
              " 'day_09473.jpg',\n",
              " 'day_07712.jpg',\n",
              " 'night (2266).jpg',\n",
              " 'day_15187.jpg',\n",
              " 'day_11032.jpg',\n",
              " 'day_01324.jpg',\n",
              " 'day_05080.jpg',\n",
              " 'night (927).jpg',\n",
              " 'day_09069.jpg',\n",
              " 'day_12963.jpg',\n",
              " 'day_15734.jpg',\n",
              " 'day_15093.jpg',\n",
              " 'day_04857.jpg',\n",
              " 'night (2272).jpg',\n",
              " 'day_08861.jpg',\n",
              " 'day_02319.jpg',\n",
              " 'day_13716.jpg',\n",
              " 'day_11714.jpg',\n",
              " 'day_09578.jpg',\n",
              " 'day_03374.jpg',\n",
              " 'day_03281.jpg',\n",
              " 'day_08190.jpg',\n",
              " 'day_10861.jpg',\n",
              " 'day_03077.jpg',\n",
              " 'night (759).jpg',\n",
              " 'day_06783.jpg',\n",
              " 'day_10471.jpg',\n",
              " 'day_09611.jpg',\n",
              " 'day_07942.jpg',\n",
              " 'night (4057).jpg',\n",
              " 'day_00556.jpg',\n",
              " 'day_07193.jpg',\n",
              " 'day_10952.jpg',\n",
              " 'day_12197.jpg',\n",
              " 'day_06199.jpg',\n",
              " 'day_08020.jpg',\n",
              " 'day_16651.jpg',\n",
              " 'day_15303.jpg',\n",
              " 'day_15818.jpg',\n",
              " 'day_09752.jpg',\n",
              " 'day_06801.jpg',\n",
              " 'day_07241.jpg',\n",
              " 'night (1473).jpg',\n",
              " 'night (3711).jpg',\n",
              " 'night (2957).jpg',\n",
              " 'day_08982.jpg',\n",
              " 'day_00532.jpg',\n",
              " 'day_11201.jpg',\n",
              " 'day_16760.jpg',\n",
              " 'day_02341.jpg',\n",
              " 'day_09886.jpg',\n",
              " 'day_16673.jpg',\n",
              " 'day_03662.jpg',\n",
              " 'night (4087).jpg',\n",
              " 'day_14568.jpg',\n",
              " 'day_00198.jpg',\n",
              " 'night (2093).jpg',\n",
              " 'day_04816.jpg',\n",
              " 'night (3119).jpg',\n",
              " 'day_15996.jpg',\n",
              " 'day_05141.jpg',\n",
              " 'day_10585.jpg',\n",
              " 'day_04524.jpg',\n",
              " 'day_03839.jpg',\n",
              " 'night (2064).jpg',\n",
              " 'day_14582.jpg',\n",
              " 'day_14951.jpg',\n",
              " 'day_09603.jpg',\n",
              " 'day_12452.jpg',\n",
              " 'day_01612.jpg',\n",
              " 'night (1019).jpg',\n",
              " 'day_05705.jpg',\n",
              " 'day_11190.jpg',\n",
              " 'day_12599.jpg',\n",
              " 'day_15376.jpg',\n",
              " 'day_00605.jpg',\n",
              " 'day_00159.jpg',\n",
              " 'day_13864.jpg',\n",
              " 'day_03929.jpg',\n",
              " 'day_06644.jpg',\n",
              " 'day_13876.jpg',\n",
              " 'day_15710.jpg',\n",
              " 'day_06488.jpg',\n",
              " 'day_01935.jpg',\n",
              " 'night (730).jpg',\n",
              " 'day_01143.jpg',\n",
              " 'day_02758.jpg',\n",
              " 'day_10224.jpg',\n",
              " 'day_00972.jpg',\n",
              " 'day_05771.jpg',\n",
              " 'day_08836.jpg',\n",
              " 'day_00623.jpg',\n",
              " 'day_01681.jpg',\n",
              " 'day_02243.jpg',\n",
              " 'night (761).jpg',\n",
              " 'day_08653.jpg',\n",
              " 'day_16448.jpg',\n",
              " 'night (1011).jpg',\n",
              " 'day_00609.jpg',\n",
              " 'night (3137).jpg',\n",
              " 'day_11787.jpg',\n",
              " 'day_04094.jpg',\n",
              " 'night (3862).jpg',\n",
              " 'night (4059).jpg',\n",
              " 'day_06400.jpg',\n",
              " 'day_01168.jpg',\n",
              " 'day_00419.jpg',\n",
              " 'day_03953.jpg',\n",
              " 'night (1070).jpg',\n",
              " 'day_01895.jpg',\n",
              " 'day_04973.jpg',\n",
              " 'night (3106).jpg',\n",
              " 'day_13994.jpg',\n",
              " 'day_12923.jpg',\n",
              " 'day_03809.jpg',\n",
              " 'day_03920.jpg',\n",
              " 'day_00722.jpg',\n",
              " 'day_13289.jpg',\n",
              " 'day_00338.jpg',\n",
              " 'day_04862.jpg',\n",
              " 'day_02553.jpg',\n",
              " 'night (791).jpg',\n",
              " 'day_12200.jpg',\n",
              " 'day_03939.jpg',\n",
              " 'day_12864.jpg',\n",
              " 'day_04790.jpg',\n",
              " 'day_10290.jpg',\n",
              " 'day_13453.jpg',\n",
              " 'night (1447).jpg',\n",
              " 'day_09113.jpg',\n",
              " 'day_16901.jpg',\n",
              " 'day_03183.jpg',\n",
              " 'day_04405.jpg',\n",
              " 'day_12972.jpg',\n",
              " 'day_05634.jpg',\n",
              " 'day_10769.jpg',\n",
              " 'night (2971).jpg',\n",
              " 'day_15746.jpg',\n",
              " 'night (1529).jpg',\n",
              " 'day_02424.jpg',\n",
              " 'day_16738.jpg',\n",
              " 'day_11980.jpg',\n",
              " 'day_02955.jpg',\n",
              " 'day_08270.jpg',\n",
              " 'day_01010.jpg',\n",
              " 'night (739).jpg',\n",
              " 'day_13895.jpg',\n",
              " 'day_13239.jpg',\n",
              " 'day_02330.jpg',\n",
              " 'night (940).jpg',\n",
              " 'day_10114.jpg',\n",
              " 'day_02722.jpg',\n",
              " 'day_04943.jpg',\n",
              " 'day_16838.jpg',\n",
              " 'night (3698).jpg',\n",
              " 'day_07783.jpg',\n",
              " 'day_04488.jpg',\n",
              " 'day_11389.jpg',\n",
              " 'day_07360.jpg',\n",
              " 'day_16517.jpg',\n",
              " 'day_10534.jpg',\n",
              " 'night (4086).jpg',\n",
              " 'day_03256.jpg',\n",
              " 'night (3080).jpg',\n",
              " 'day_10018.jpg',\n",
              " 'day_08189.jpg',\n",
              " 'day_13369.jpg',\n",
              " 'night (904).jpg',\n",
              " 'day_00355.jpg',\n",
              " 'day_06345.jpg',\n",
              " 'day_00260.jpg',\n",
              " 'day_06836.jpg',\n",
              " 'day_01710.jpg',\n",
              " 'day_15606.jpg',\n",
              " 'day_03989.jpg',\n",
              " 'day_12526.jpg',\n",
              " 'day_03403.jpg',\n",
              " 'night (757).jpg',\n",
              " 'day_04627.jpg',\n",
              " 'day_04705.jpg',\n",
              " 'night (793).jpg',\n",
              " 'night (3113).jpg',\n",
              " 'day_04428.jpg',\n",
              " 'day_10343.jpg',\n",
              " 'day_05684.jpg',\n",
              " 'day_06586.jpg',\n",
              " 'night (2958).jpg',\n",
              " 'day_01783.jpg',\n",
              " 'night (846).jpg',\n",
              " 'day_15675.jpg',\n",
              " 'day_05078.jpg',\n",
              " 'night (1031).jpg',\n",
              " 'day_10716.jpg',\n",
              " 'day_12250.jpg',\n",
              " 'day_15900.jpg',\n",
              " 'day_05587.jpg',\n",
              " 'night (3851).jpg',\n",
              " 'night (3717).jpg',\n",
              " 'day_13057.jpg',\n",
              " 'day_11121.jpg',\n",
              " 'night (1515).jpg',\n",
              " 'day_16486.jpg',\n",
              " 'day_03443.jpg',\n",
              " 'day_01134.jpg',\n",
              " 'day_03640.jpg',\n",
              " 'day_06064.jpg',\n",
              " 'day_11482.jpg',\n",
              " 'day_07919.jpg',\n",
              " 'day_12394.jpg',\n",
              " 'day_14178.jpg',\n",
              " 'day_12454.jpg',\n",
              " 'day_13701.jpg',\n",
              " 'day_16213.jpg',\n",
              " 'day_09002.jpg',\n",
              " 'day_03068.jpg',\n",
              " 'night (2641).jpg',\n",
              " 'night (2072).jpg',\n",
              " 'day_01958.jpg',\n",
              " 'day_11202.jpg',\n",
              " 'day_07053.jpg',\n",
              " 'day_08465.jpg',\n",
              " 'day_15725.jpg',\n",
              " 'day_06212.jpg',\n",
              " 'day_08890.jpg',\n",
              " 'day_10937.jpg',\n",
              " 'night (906).jpg',\n",
              " 'day_12752.jpg',\n",
              " 'day_04448.jpg',\n",
              " 'day_06243.jpg',\n",
              " 'day_08301.jpg',\n",
              " 'night (1006).jpg',\n",
              " 'day_00344.jpg',\n",
              " 'night (1497).jpg',\n",
              " 'day_12624.jpg',\n",
              " 'day_04432.jpg',\n",
              " 'day_12771.jpg',\n",
              " 'night (4014).jpg',\n",
              " 'day_11888.jpg',\n",
              " 'night (1062).jpg',\n",
              " 'day_03889.jpg',\n",
              " 'night (838).jpg',\n",
              " 'day_05721.jpg',\n",
              " 'day_09487.jpg',\n",
              " 'day_08812.jpg',\n",
              " 'day_08010.jpg',\n",
              " 'day_04848.jpg',\n",
              " 'day_12757.jpg',\n",
              " 'day_02064.jpg',\n",
              " 'day_00490.jpg',\n",
              " 'day_03496.jpg',\n",
              " 'day_16920.jpg',\n",
              " 'day_13415.jpg',\n",
              " 'night (3111).jpg',\n",
              " 'night (726).jpg',\n",
              " 'day_12046.jpg',\n",
              " 'day_16554.jpg',\n",
              " 'night (1004).jpg',\n",
              " 'day_03254.jpg',\n",
              " 'night (2972).jpg',\n",
              " 'day_13080.jpg',\n",
              " 'day_08376.jpg',\n",
              " 'day_07704.jpg',\n",
              " 'night (3841).jpg',\n",
              " 'day_12085.jpg',\n",
              " 'day_00603.jpg',\n",
              " 'day_15075.jpg',\n",
              " 'day_02390.jpg',\n",
              " 'day_01768.jpg',\n",
              " 'day_09372.jpg',\n",
              " 'night (4022).jpg',\n",
              " 'day_12237.jpg',\n",
              " 'day_09335.jpg',\n",
              " 'day_12270.jpg',\n",
              " 'day_15318.jpg',\n",
              " 'day_02555.jpg',\n",
              " 'day_15542.jpg',\n",
              " 'day_04477.jpg',\n",
              " 'night (3118).jpg',\n",
              " 'night (773).jpg',\n",
              " 'day_01822.jpg',\n",
              " 'day_08762.jpg',\n",
              " 'night (3144).jpg',\n",
              " 'day_10536.jpg',\n",
              " 'day_02472.jpg',\n",
              " 'day_01496.jpg',\n",
              " 'day_16704.jpg',\n",
              " 'night (2973).jpg',\n",
              " 'day_00308.jpg',\n",
              " 'night (4112).jpg',\n",
              " 'day_09848.jpg',\n",
              " 'day_12388.jpg',\n",
              " 'day_12457.jpg',\n",
              " 'night (3087).jpg',\n",
              " 'night (845).jpg',\n",
              " 'day_06493.jpg',\n",
              " 'day_13286.jpg',\n",
              " 'day_16569.jpg',\n",
              " 'day_02887.jpg',\n",
              " 'day_01053.jpg',\n",
              " 'night (3846).jpg',\n",
              " 'day_04798.jpg',\n",
              " 'day_10393.jpg',\n",
              " 'night (3112).jpg',\n",
              " 'day_02683.jpg',\n",
              " 'day_13541.jpg',\n",
              " 'day_14143.jpg',\n",
              " 'day_15085.jpg',\n",
              " 'night (840).jpg',\n",
              " 'day_15249.jpg',\n",
              " 'day_11946.jpg',\n",
              " 'day_01402.jpg',\n",
              " 'day_16670.jpg',\n",
              " 'night (3869).jpg',\n",
              " 'night (3074).jpg',\n",
              " 'day_14644.jpg',\n",
              " 'night (1022).jpg',\n",
              " 'day_01013.jpg',\n",
              " 'day_07634.jpg',\n",
              " 'day_15949.jpg',\n",
              " 'day_00607.jpg',\n",
              " 'day_02773.jpg',\n",
              " 'day_12759.jpg',\n",
              " 'day_06747.jpg',\n",
              " 'day_04077.jpg',\n",
              " 'day_00212.jpg',\n",
              " 'night (1512).jpg',\n",
              " 'night (2638).jpg',\n",
              " 'day_00860.jpg',\n",
              " 'day_00646.jpg',\n",
              " 'day_09634.jpg',\n",
              " 'day_06003.jpg',\n",
              " 'night (2665).jpg',\n",
              " 'day_09188.jpg',\n",
              " 'night (4038).jpg',\n",
              " 'night (4105).jpg',\n",
              " 'night (2069).jpg',\n",
              " 'day_15967.jpg',\n",
              " 'day_15169.jpg',\n",
              " 'day_08634.jpg',\n",
              " 'night (3863).jpg',\n",
              " 'day_08747.jpg',\n",
              " 'day_10063.jpg',\n",
              " 'day_16182.jpg',\n",
              " 'day_15006.jpg',\n",
              " 'night (3148).jpg',\n",
              " 'day_14094.jpg',\n",
              " 'day_03309.jpg',\n",
              " 'day_06594.jpg',\n",
              " 'night (1466).jpg',\n",
              " 'night (3088).jpg',\n",
              " 'day_00917.jpg',\n",
              " 'day_09398.jpg',\n",
              " 'day_06810.jpg',\n",
              " 'day_06073.jpg',\n",
              " 'day_11502.jpg',\n",
              " 'night (742).jpg',\n",
              " 'night (3854).jpg',\n",
              " 'day_01831.jpg',\n",
              " 'day_12696.jpg',\n",
              " 'day_16847.jpg',\n",
              " 'day_00222.jpg',\n",
              " 'day_08383.jpg',\n",
              " 'day_06170.jpg',\n",
              " 'day_08224.jpg',\n",
              " 'day_16750.jpg',\n",
              " 'day_04212.jpg',\n",
              " 'day_10848.jpg',\n",
              " 'day_15685.jpg',\n",
              " 'day_08477.jpg',\n",
              " 'day_01028.jpg',\n",
              " 'night (3865).jpg',\n",
              " 'night (2065).jpg',\n",
              " 'day_16626.jpg',\n",
              " 'day_08898.jpg',\n",
              " 'day_09024.jpg',\n",
              " 'day_12919.jpg',\n",
              " 'day_13203.jpg',\n",
              " 'day_02290.jpg',\n",
              " 'day_14704.jpg',\n",
              " 'night (751).jpg',\n",
              " 'day_04377.jpg',\n",
              " 'day_15269.jpg',\n",
              " 'day_14754.jpg',\n",
              " 'day_14989.jpg',\n",
              " 'night (3877).jpg',\n",
              " 'day_16280.jpg',\n",
              " 'night (782).jpg',\n",
              " 'day_11943.jpg',\n",
              " 'night (2981).jpg',\n",
              " 'day_07366.jpg',\n",
              " 'day_07324.jpg',\n",
              " 'day_14448.jpg',\n",
              " 'day_11087.jpg',\n",
              " 'day_14054.jpg',\n",
              " 'night (740).jpg',\n",
              " 'day_12641.jpg',\n",
              " 'day_11986.jpg',\n",
              " 'day_05746.jpg',\n",
              " 'day_13491.jpg',\n",
              " 'day_15384.jpg',\n",
              " 'day_02834.jpg',\n",
              " 'day_16721.jpg',\n",
              " 'day_16339.jpg',\n",
              " 'day_03515.jpg',\n",
              " 'day_09830.jpg',\n",
              " 'night (1005).jpg',\n",
              " 'day_14216.jpg',\n",
              " 'day_14641.jpg',\n",
              " 'day_11243.jpg',\n",
              " 'day_15391.jpg',\n",
              " 'day_12775.jpg',\n",
              " 'night (4023).jpg',\n",
              " 'day_05130.jpg',\n",
              " 'night (766).jpg',\n",
              " 'night (1068).jpg',\n",
              " 'night (2988).jpg',\n",
              " 'day_00382.jpg',\n",
              " 'day_06042.jpg',\n",
              " 'day_15334.jpg',\n",
              " 'day_08648.jpg',\n",
              " 'day_12433.jpg',\n",
              " 'day_04288.jpg',\n",
              " 'day_02682.jpg',\n",
              " 'day_14491.jpg',\n",
              " 'day_16482.jpg',\n",
              " 'day_11890.jpg',\n",
              " 'day_09077.jpg',\n",
              " 'day_06690.jpg',\n",
              " 'day_14544.jpg',\n",
              " 'day_15948.jpg',\n",
              " 'day_12698.jpg',\n",
              " 'day_15783.jpg',\n",
              " 'night (837).jpg',\n",
              " 'night (1476).jpg',\n",
              " 'day_14127.jpg',\n",
              " 'night (912).jpg',\n",
              " 'day_15597.jpg',\n",
              " 'day_01344.jpg',\n",
              " 'day_10020.jpg',\n",
              " 'day_02118.jpg',\n",
              " 'day_00804.jpg',\n",
              " 'day_16759.jpg',\n",
              " 'day_08814.jpg',\n",
              " 'day_06336.jpg',\n",
              " 'night (3092).jpg',\n",
              " 'day_02277.jpg',\n",
              " 'day_13840.jpg',\n",
              " 'day_01993.jpg',\n",
              " 'night (3708).jpg',\n",
              " 'day_02035.jpg',\n",
              " 'day_01360.jpg',\n",
              " 'day_13186.jpg',\n",
              " 'day_00687.jpg',\n",
              " 'day_10437.jpg',\n",
              " 'night (3241).jpg',\n",
              " 'day_03586.jpg',\n",
              " 'day_03019.jpg',\n",
              " 'day_13906.jpg',\n",
              " 'day_08299.jpg',\n",
              " 'day_02840.jpg',\n",
              " 'day_01116.jpg',\n",
              " 'day_05930.jpg',\n",
              " 'day_06799.jpg',\n",
              " 'night (2655).jpg',\n",
              " 'day_14149.jpg',\n",
              " 'day_07458.jpg',\n",
              " 'day_04871.jpg',\n",
              " 'day_07985.jpg',\n",
              " 'night (1021).jpg',\n",
              " 'day_03621.jpg',\n",
              " 'day_01752.jpg',\n",
              " 'day_06225.jpg',\n",
              " 'day_10493.jpg',\n",
              " 'day_08778.jpg',\n",
              " 'day_15791.jpg',\n",
              " 'day_04515.jpg',\n",
              " 'day_08150.jpg',\n",
              " 'day_05429.jpg',\n",
              " 'night (4037).jpg',\n",
              " 'day_02570.jpg',\n",
              " 'day_09454.jpg',\n",
              " 'night (2657).jpg',\n",
              " 'day_08387.jpg',\n",
              " 'night (4076).jpg',\n",
              " 'day_03933.jpg',\n",
              " 'day_15573.jpg',\n",
              " 'day_03816.jpg',\n",
              " 'day_02813.jpg',\n",
              " 'day_02146.jpg',\n",
              " 'day_09918.jpg',\n",
              " 'day_06907.jpg',\n",
              " 'day_09999.jpg',\n",
              " 'night (732).jpg',\n",
              " 'day_14763.jpg',\n",
              " 'day_08544.jpg',\n",
              " 'day_11544.jpg',\n",
              " 'day_15581.jpg',\n",
              " 'day_15097.jpg',\n",
              " 'day_07025.jpg',\n",
              " 'day_02662.jpg',\n",
              " 'day_02964.jpg',\n",
              " 'day_12289.jpg',\n",
              " 'day_05267.jpg',\n",
              " 'day_00029.jpg',\n",
              " 'night (3249).jpg',\n",
              " 'day_16523.jpg',\n",
              " 'day_14725.jpg',\n",
              " 'day_11668.jpg',\n",
              " 'day_00965.jpg',\n",
              " 'night (2974).jpg',\n",
              " 'day_12788.jpg',\n",
              " 'night (1505).jpg',\n",
              " 'day_16272.jpg',\n",
              " 'night (1051).jpg',\n",
              " 'day_07867.jpg',\n",
              " 'day_13591.jpg',\n",
              " 'day_00038.jpg',\n",
              " 'day_05871.jpg',\n",
              " 'day_04907.jpg',\n",
              " 'day_16875.jpg',\n",
              " 'day_09353.jpg',\n",
              " 'day_05602.jpg',\n",
              " 'day_02988.jpg',\n",
              " 'day_02062.jpg',\n",
              " 'day_16399.jpg',\n",
              " 'day_14802.jpg',\n",
              " 'day_13745.jpg',\n",
              " 'day_05822.jpg',\n",
              " 'day_11041.jpg',\n",
              " 'day_10537.jpg',\n",
              " 'day_15980.jpg',\n",
              " 'night (4029).jpg',\n",
              " 'day_15416.jpg',\n",
              " 'night (1018).jpg',\n",
              " 'night (3242).jpg',\n",
              " 'night (3086).jpg',\n",
              " 'night (1463).jpg',\n",
              " 'day_16914.jpg',\n",
              " 'day_03792.jpg',\n",
              " 'night (3213).jpg',\n",
              " 'night (2118).jpg',\n",
              " 'day_05284.jpg',\n",
              " 'day_01243.jpg',\n",
              " 'day_04340.jpg',\n",
              " 'day_00237.jpg',\n",
              " 'day_04716.jpg',\n",
              " 'day_08131.jpg',\n",
              " 'day_11003.jpg',\n",
              " 'night (1002).jpg',\n",
              " 'day_11168.jpg',\n",
              " 'day_16799.jpg',\n",
              " 'day_15371.jpg',\n",
              " 'night (1080).jpg',\n",
              " 'day_05254.jpg',\n",
              " 'day_16214.jpg',\n",
              " 'day_01766.jpg',\n",
              " 'day_08719.jpg',\n",
              " 'night (1452).jpg',\n",
              " 'day_06689.jpg',\n",
              " 'day_08155.jpg',\n",
              " 'day_08487.jpg',\n",
              " 'day_01353.jpg',\n",
              " 'day_13128.jpg',\n",
              " 'day_03536.jpg',\n",
              " 'day_16941.jpg',\n",
              " 'day_10749.jpg',\n",
              " 'day_08611.jpg',\n",
              " 'night (3704).jpg',\n",
              " 'day_16845.jpg',\n",
              " 'night (2121).jpg',\n",
              " 'day_12490.jpg',\n",
              " 'day_08685.jpg',\n",
              " 'night (3872).jpg',\n",
              " 'day_02217.jpg',\n",
              " 'night (2082).jpg',\n",
              " 'day_13326.jpg',\n",
              " 'day_07963.jpg',\n",
              " 'day_12048.jpg',\n",
              " 'day_01807.jpg',\n",
              " 'night (1501).jpg',\n",
              " 'day_00406.jpg',\n",
              " 'night (1470).jpg',\n",
              " 'night (4065).jpg',\n",
              " 'day_02043.jpg',\n",
              " 'night (3130).jpg',\n",
              " 'day_09775.jpg',\n",
              " 'day_00947.jpg',\n",
              " 'day_05903.jpg',\n",
              " 'day_07139.jpg',\n",
              " 'night (2115).jpg',\n",
              " 'day_05702.jpg',\n",
              " 'day_08233.jpg',\n",
              " 'night (3096).jpg',\n",
              " 'day_10199.jpg',\n",
              " 'day_06671.jpg',\n",
              " 'day_14534.jpg',\n",
              " 'day_08548.jpg',\n",
              " 'day_06160.jpg',\n",
              " 'day_12395.jpg',\n",
              " 'day_13558.jpg',\n",
              " 'day_03095.jpg',\n",
              " 'night (2053).jpg',\n",
              " 'day_03769.jpg',\n",
              " 'day_12045.jpg',\n",
              " 'night (2645).jpg',\n",
              " 'day_15642.jpg',\n",
              " 'day_02552.jpg',\n",
              " 'day_02323.jpg',\n",
              " ...]"
            ]
          },
          "metadata": {},
          "execution_count": 21
        }
      ]
    },
    {
      "cell_type": "code",
      "source": [
        "import random\n",
        "random_names = random.choices(new_list,k=100)\n",
        "random_names"
      ],
      "metadata": {
        "colab": {
          "base_uri": "https://localhost:8080/"
        },
        "id": "fFGck6r2bW_Z",
        "outputId": "00a69c6c-2843-48f8-a93f-6b056a97e6e8"
      },
      "execution_count": 22,
      "outputs": [
        {
          "output_type": "execute_result",
          "data": {
            "text/plain": [
              "['day_02168.jpg',\n",
              " 'day_11012.jpg',\n",
              " 'day_00243.jpg',\n",
              " 'day_13234.jpg',\n",
              " 'day_02962.jpg',\n",
              " 'day_08567.jpg',\n",
              " 'day_00391.jpg',\n",
              " 'day_03848.jpg',\n",
              " 'day_10103.jpg',\n",
              " 'day_14611.jpg',\n",
              " 'day_02850.jpg',\n",
              " 'day_06500.jpg',\n",
              " 'night (3129).jpg',\n",
              " 'day_08786.jpg',\n",
              " 'day_00800.jpg',\n",
              " 'day_14489.jpg',\n",
              " 'day_05228.jpg',\n",
              " 'night (3069).jpg',\n",
              " 'day_03174.jpg',\n",
              " 'night (2092).jpg',\n",
              " 'day_11370.jpg',\n",
              " 'day_01246.jpg',\n",
              " 'day_02855.jpg',\n",
              " 'day_09189.jpg',\n",
              " 'day_16845.jpg',\n",
              " 'day_14036.jpg',\n",
              " 'day_11430.jpg',\n",
              " 'day_00251.jpg',\n",
              " 'day_04087.jpg',\n",
              " 'day_04662.jpg',\n",
              " 'day_11391.jpg',\n",
              " 'day_03237.jpg',\n",
              " 'day_05655.jpg',\n",
              " 'night (2256).jpg',\n",
              " 'day_07643.jpg',\n",
              " 'night (3108).jpg',\n",
              " 'day_00120.jpg',\n",
              " 'day_13421.jpg',\n",
              " 'day_01227.jpg',\n",
              " 'day_10262.jpg',\n",
              " 'day_00611.jpg',\n",
              " 'day_03263.jpg',\n",
              " 'night (744).jpg',\n",
              " 'day_11986.jpg',\n",
              " 'night (3114).jpg',\n",
              " 'day_15154.jpg',\n",
              " 'day_05237.jpg',\n",
              " 'day_03186.jpg',\n",
              " 'day_05834.jpg',\n",
              " 'day_02868.jpg',\n",
              " 'night (2657).jpg',\n",
              " 'day_02984.jpg',\n",
              " 'day_01047.jpg',\n",
              " 'day_09918.jpg',\n",
              " 'day_15378.jpg',\n",
              " 'day_15585.jpg',\n",
              " 'night (734).jpg',\n",
              " 'day_03640.jpg',\n",
              " 'day_09385.jpg',\n",
              " 'day_07533.jpg',\n",
              " 'day_01900.jpg',\n",
              " 'night (3717).jpg',\n",
              " 'day_16171.jpg',\n",
              " 'day_01246.jpg',\n",
              " 'day_13350.jpg',\n",
              " 'night (1510).jpg',\n",
              " 'day_00904.jpg',\n",
              " 'day_10460.jpg',\n",
              " 'day_05282.jpg',\n",
              " 'night (927).jpg',\n",
              " 'night (3705).jpg',\n",
              " 'day_15089.jpg',\n",
              " 'day_15843.jpg',\n",
              " 'day_11787.jpg',\n",
              " 'night (919).jpg',\n",
              " 'day_04981.jpg',\n",
              " 'day_15481.jpg',\n",
              " 'night (2266).jpg',\n",
              " 'day_16681.jpg',\n",
              " 'day_00947.jpg',\n",
              " 'night (760).jpg',\n",
              " 'day_10799.jpg',\n",
              " 'day_04261.jpg',\n",
              " 'day_16010.jpg',\n",
              " 'day_03354.jpg',\n",
              " 'day_12166.jpg',\n",
              " 'day_11372.jpg',\n",
              " 'day_03188.jpg',\n",
              " 'day_13057.jpg',\n",
              " 'day_12826.jpg',\n",
              " 'day_15977.jpg',\n",
              " 'day_00173.jpg',\n",
              " 'day_05725.jpg',\n",
              " 'day_03840.jpg',\n",
              " 'day_03627.jpg',\n",
              " 'day_01776.jpg',\n",
              " 'day_09638.jpg',\n",
              " 'day_01288.jpg',\n",
              " 'day_16617.jpg',\n",
              " 'day_00877.jpg']"
            ]
          },
          "metadata": {},
          "execution_count": 22
        }
      ]
    },
    {
      "cell_type": "code",
      "source": [
        "for name in random_names:\n",
        "  image_path = f'/content/test/{name}'\n",
        "\n",
        "  img = cv2.imread(image_path)\n",
        "\n",
        "  plate = recognize_plates_and_draw(image_path)\n",
        "\n",
        "  cv2.imwrite(f\"/content/100_samples/{name}\", cv2.cvtColor(plate, cv2.COLOR_RGB2BGR))"
      ],
      "metadata": {
        "colab": {
          "base_uri": "https://localhost:8080/"
        },
        "id": "kzk2b7PecFrz",
        "outputId": "c98addd9-17a3-40ef-c108-a0c85cea70ee"
      },
      "execution_count": 27,
      "outputs": [
        {
          "output_type": "stream",
          "name": "stdout",
          "text": [
            "\n",
            "0: 480x640 1 license-plate, 178.5ms\n",
            "Speed: 6.0ms preprocess, 178.5ms inference, 1.5ms postprocess per image at shape (1, 3, 480, 640)\n",
            "\n",
            "0: 384x640 8 chars, 132.1ms\n",
            "Speed: 3.9ms preprocess, 132.1ms inference, 1.0ms postprocess per image at shape (1, 3, 384, 640)\n",
            "\n",
            "0: 480x640 1 license-plate, 164.3ms\n",
            "Speed: 6.1ms preprocess, 164.3ms inference, 1.2ms postprocess per image at shape (1, 3, 480, 640)\n",
            "\n",
            "0: 160x640 8 chars, 62.4ms\n",
            "Speed: 2.3ms preprocess, 62.4ms inference, 1.3ms postprocess per image at shape (1, 3, 160, 640)\n",
            "\n",
            "0: 480x640 1 license-plate, 153.5ms\n",
            "Speed: 4.8ms preprocess, 153.5ms inference, 1.1ms postprocess per image at shape (1, 3, 480, 640)\n",
            "\n",
            "0: 192x640 8 chars, 71.7ms\n",
            "Speed: 2.3ms preprocess, 71.7ms inference, 1.0ms postprocess per image at shape (1, 3, 192, 640)\n",
            "\n",
            "0: 640x384 2 license-plates, 133.7ms\n",
            "Speed: 4.5ms preprocess, 133.7ms inference, 1.4ms postprocess per image at shape (1, 3, 640, 384)\n",
            "\n",
            "0: 320x640 8 chars, 111.0ms\n",
            "Speed: 2.9ms preprocess, 111.0ms inference, 1.0ms postprocess per image at shape (1, 3, 320, 640)\n",
            "\n",
            "0: 384x640 8 chars, 604.4ms\n",
            "Speed: 5.1ms preprocess, 604.4ms inference, 1.4ms postprocess per image at shape (1, 3, 384, 640)\n",
            "\n",
            "0: 640x480 1 license-plate, 284.4ms\n",
            "Speed: 5.8ms preprocess, 284.4ms inference, 1.7ms postprocess per image at shape (1, 3, 640, 480)\n",
            "\n",
            "0: 192x640 8 chars, 105.5ms\n",
            "Speed: 1.8ms preprocess, 105.5ms inference, 0.9ms postprocess per image at shape (1, 3, 192, 640)\n",
            "\n",
            "0: 480x640 1 license-plate, 149.5ms\n",
            "Speed: 3.0ms preprocess, 149.5ms inference, 1.1ms postprocess per image at shape (1, 3, 480, 640)\n",
            "\n",
            "0: 160x640 8 chars, 58.1ms\n",
            "Speed: 1.6ms preprocess, 58.1ms inference, 0.9ms postprocess per image at shape (1, 3, 160, 640)\n",
            "\n",
            "0: 640x640 1 license-plate, 201.1ms\n",
            "Speed: 5.5ms preprocess, 201.1ms inference, 1.1ms postprocess per image at shape (1, 3, 640, 640)\n",
            "\n",
            "0: 512x640 8 chars, 175.3ms\n",
            "Speed: 3.8ms preprocess, 175.3ms inference, 1.8ms postprocess per image at shape (1, 3, 512, 640)\n",
            "\n",
            "0: 384x640 2 license-plates, 155.2ms\n",
            "Speed: 5.5ms preprocess, 155.2ms inference, 1.0ms postprocess per image at shape (1, 3, 384, 640)\n",
            "\n",
            "0: 160x640 8 chars, 63.0ms\n",
            "Speed: 1.7ms preprocess, 63.0ms inference, 1.0ms postprocess per image at shape (1, 3, 160, 640)\n",
            "\n",
            "0: 160x640 8 chars, 63.8ms\n",
            "Speed: 1.6ms preprocess, 63.8ms inference, 1.0ms postprocess per image at shape (1, 3, 160, 640)\n",
            "\n",
            "0: 640x480 1 license-plate, 170.4ms\n",
            "Speed: 4.8ms preprocess, 170.4ms inference, 1.0ms postprocess per image at shape (1, 3, 640, 480)\n",
            "\n",
            "0: 224x640 8 chars, 78.1ms\n",
            "Speed: 3.6ms preprocess, 78.1ms inference, 1.0ms postprocess per image at shape (1, 3, 224, 640)\n",
            "\n",
            "0: 640x384 2 license-plates, 144.1ms\n",
            "Speed: 5.1ms preprocess, 144.1ms inference, 1.4ms postprocess per image at shape (1, 3, 640, 384)\n",
            "\n",
            "0: 224x640 8 chars, 77.9ms\n",
            "Speed: 2.2ms preprocess, 77.9ms inference, 1.0ms postprocess per image at shape (1, 3, 224, 640)\n",
            "\n",
            "0: 256x640 8 chars, 93.3ms\n",
            "Speed: 4.2ms preprocess, 93.3ms inference, 1.3ms postprocess per image at shape (1, 3, 256, 640)\n",
            "\n",
            "0: 384x640 1 license-plate, 138.4ms\n",
            "Speed: 3.4ms preprocess, 138.4ms inference, 1.0ms postprocess per image at shape (1, 3, 384, 640)\n",
            "\n",
            "0: 416x640 8 chars, 140.3ms\n",
            "Speed: 3.4ms preprocess, 140.3ms inference, 1.1ms postprocess per image at shape (1, 3, 416, 640)\n",
            "\n",
            "0: 640x480 1 license-plate, 156.1ms\n",
            "Speed: 6.6ms preprocess, 156.1ms inference, 1.1ms postprocess per image at shape (1, 3, 640, 480)\n",
            "\n",
            "0: 224x640 8 chars, 77.7ms\n",
            "Speed: 4.4ms preprocess, 77.7ms inference, 1.0ms postprocess per image at shape (1, 3, 224, 640)\n",
            "\n",
            "0: 640x384 1 license-plate, 196.0ms\n",
            "Speed: 5.4ms preprocess, 196.0ms inference, 1.3ms postprocess per image at shape (1, 3, 640, 384)\n",
            "\n",
            "0: 224x640 8 chars, 129.1ms\n",
            "Speed: 2.0ms preprocess, 129.1ms inference, 1.5ms postprocess per image at shape (1, 3, 224, 640)\n",
            "\n",
            "0: 640x480 1 license-plate, 147.9ms\n",
            "Speed: 5.2ms preprocess, 147.9ms inference, 1.0ms postprocess per image at shape (1, 3, 640, 480)\n",
            "\n",
            "0: 480x640 8 chars, 155.8ms\n",
            "Speed: 4.1ms preprocess, 155.8ms inference, 1.1ms postprocess per image at shape (1, 3, 480, 640)\n",
            "\n",
            "0: 480x640 1 license-plate, 157.7ms\n",
            "Speed: 4.7ms preprocess, 157.7ms inference, 1.0ms postprocess per image at shape (1, 3, 480, 640)\n",
            "\n",
            "0: 320x640 8 chars, 108.5ms\n",
            "Speed: 2.9ms preprocess, 108.5ms inference, 1.1ms postprocess per image at shape (1, 3, 320, 640)\n",
            "\n",
            "0: 384x640 2 license-plates, 123.3ms\n",
            "Speed: 5.2ms preprocess, 123.3ms inference, 1.8ms postprocess per image at shape (1, 3, 384, 640)\n",
            "\n",
            "0: 192x640 8 chars, 70.8ms\n",
            "Speed: 1.8ms preprocess, 70.8ms inference, 0.9ms postprocess per image at shape (1, 3, 192, 640)\n",
            "\n",
            "0: 192x640 8 chars, 74.5ms\n",
            "Speed: 2.8ms preprocess, 74.5ms inference, 1.2ms postprocess per image at shape (1, 3, 192, 640)\n",
            "\n",
            "0: 480x640 1 license-plate, 154.7ms\n",
            "Speed: 5.1ms preprocess, 154.7ms inference, 1.0ms postprocess per image at shape (1, 3, 480, 640)\n",
            "\n",
            "0: 160x640 8 chars, 61.9ms\n",
            "Speed: 2.4ms preprocess, 61.9ms inference, 1.0ms postprocess per image at shape (1, 3, 160, 640)\n",
            "\n",
            "0: 640x384 1 license-plate, 128.0ms\n",
            "Speed: 3.1ms preprocess, 128.0ms inference, 1.1ms postprocess per image at shape (1, 3, 640, 384)\n",
            "\n",
            "0: 160x640 8 chars, 57.4ms\n",
            "Speed: 1.3ms preprocess, 57.4ms inference, 1.0ms postprocess per image at shape (1, 3, 160, 640)\n",
            "\n",
            "0: 640x480 1 license-plate, 149.0ms\n",
            "Speed: 4.0ms preprocess, 149.0ms inference, 1.0ms postprocess per image at shape (1, 3, 640, 480)\n",
            "\n",
            "0: 160x640 8 chars, 62.1ms\n",
            "Speed: 1.7ms preprocess, 62.1ms inference, 0.9ms postprocess per image at shape (1, 3, 160, 640)\n",
            "\n",
            "0: 640x640 1 license-plate, 212.7ms\n",
            "Speed: 6.6ms preprocess, 212.7ms inference, 1.1ms postprocess per image at shape (1, 3, 640, 640)\n",
            "\n",
            "0: 160x640 8 chars, 75.9ms\n",
            "Speed: 1.6ms preprocess, 75.9ms inference, 1.2ms postprocess per image at shape (1, 3, 160, 640)\n",
            "\n",
            "0: 480x640 1 license-plate, 171.4ms\n",
            "Speed: 6.0ms preprocess, 171.4ms inference, 1.2ms postprocess per image at shape (1, 3, 480, 640)\n",
            "\n",
            "0: 160x640 8 chars, 62.5ms\n",
            "Speed: 1.4ms preprocess, 62.5ms inference, 1.0ms postprocess per image at shape (1, 3, 160, 640)\n",
            "\n",
            "0: 640x480 1 license-plate, 240.8ms\n",
            "Speed: 4.1ms preprocess, 240.8ms inference, 1.4ms postprocess per image at shape (1, 3, 640, 480)\n",
            "\n",
            "0: 544x640 8 chars, 280.9ms\n",
            "Speed: 4.1ms preprocess, 280.9ms inference, 1.4ms postprocess per image at shape (1, 3, 544, 640)\n",
            "\n",
            "0: 640x480 1 license-plate, 244.8ms\n",
            "Speed: 5.6ms preprocess, 244.8ms inference, 1.6ms postprocess per image at shape (1, 3, 640, 480)\n",
            "\n",
            "0: 256x640 8 chars, 140.4ms\n",
            "Speed: 2.1ms preprocess, 140.4ms inference, 1.4ms postprocess per image at shape (1, 3, 256, 640)\n",
            "\n",
            "0: 640x480 2 license-plates, 163.2ms\n",
            "Speed: 7.9ms preprocess, 163.2ms inference, 1.1ms postprocess per image at shape (1, 3, 640, 480)\n",
            "\n",
            "0: 224x640 8 chars, 97.3ms\n",
            "Speed: 1.9ms preprocess, 97.3ms inference, 1.0ms postprocess per image at shape (1, 3, 224, 640)\n",
            "\n",
            "0: 192x640 8 chars, 72.5ms\n",
            "Speed: 2.0ms preprocess, 72.5ms inference, 0.9ms postprocess per image at shape (1, 3, 192, 640)\n",
            "\n",
            "0: 480x640 1 license-plate, 180.6ms\n",
            "Speed: 7.5ms preprocess, 180.6ms inference, 1.1ms postprocess per image at shape (1, 3, 480, 640)\n",
            "\n",
            "0: 224x640 8 chars, 94.6ms\n",
            "Speed: 3.6ms preprocess, 94.6ms inference, 1.1ms postprocess per image at shape (1, 3, 224, 640)\n",
            "\n",
            "0: 640x384 1 license-plate, 167.6ms\n",
            "Speed: 9.8ms preprocess, 167.6ms inference, 1.0ms postprocess per image at shape (1, 3, 640, 384)\n",
            "\n",
            "0: 224x640 8 chars, 99.0ms\n",
            "Speed: 3.6ms preprocess, 99.0ms inference, 1.1ms postprocess per image at shape (1, 3, 224, 640)\n",
            "\n",
            "0: 480x640 1 license-plate, 164.9ms\n",
            "Speed: 6.0ms preprocess, 164.9ms inference, 1.0ms postprocess per image at shape (1, 3, 480, 640)\n",
            "\n",
            "0: 160x640 8 chars, 63.9ms\n",
            "Speed: 2.1ms preprocess, 63.9ms inference, 1.0ms postprocess per image at shape (1, 3, 160, 640)\n",
            "\n",
            "0: 480x640 1 license-plate, 157.3ms\n",
            "Speed: 4.9ms preprocess, 157.3ms inference, 1.1ms postprocess per image at shape (1, 3, 480, 640)\n",
            "\n",
            "0: 192x640 8 chars, 77.9ms\n",
            "Speed: 2.2ms preprocess, 77.9ms inference, 1.1ms postprocess per image at shape (1, 3, 192, 640)\n",
            "\n",
            "0: 640x384 1 license-plate, 129.8ms\n",
            "Speed: 3.6ms preprocess, 129.8ms inference, 1.1ms postprocess per image at shape (1, 3, 640, 384)\n",
            "\n",
            "0: 160x640 8 chars, 60.5ms\n",
            "Speed: 1.8ms preprocess, 60.5ms inference, 1.0ms postprocess per image at shape (1, 3, 160, 640)\n",
            "\n",
            "0: 640x480 1 license-plate, 265.8ms\n",
            "Speed: 9.1ms preprocess, 265.8ms inference, 1.6ms postprocess per image at shape (1, 3, 640, 480)\n",
            "\n",
            "0: 480x640 8 chars, 253.6ms\n",
            "Speed: 4.3ms preprocess, 253.6ms inference, 1.4ms postprocess per image at shape (1, 3, 480, 640)\n",
            "\n",
            "0: 640x480 1 license-plate, 275.4ms\n",
            "Speed: 6.4ms preprocess, 275.4ms inference, 1.8ms postprocess per image at shape (1, 3, 640, 480)\n",
            "\n",
            "0: 160x640 8 chars, 119.9ms\n",
            "Speed: 1.9ms preprocess, 119.9ms inference, 1.3ms postprocess per image at shape (1, 3, 160, 640)\n",
            "\n",
            "0: 640x480 1 license-plate, 170.4ms\n",
            "Speed: 6.0ms preprocess, 170.4ms inference, 1.0ms postprocess per image at shape (1, 3, 640, 480)\n",
            "\n",
            "0: 224x640 8 chars, 88.0ms\n",
            "Speed: 2.3ms preprocess, 88.0ms inference, 1.0ms postprocess per image at shape (1, 3, 224, 640)\n",
            "\n",
            "0: 640x576 1 license-plate, 226.8ms\n",
            "Speed: 9.0ms preprocess, 226.8ms inference, 1.2ms postprocess per image at shape (1, 3, 640, 576)\n",
            "\n",
            "0: 160x640 8 chars, 69.6ms\n",
            "Speed: 2.8ms preprocess, 69.6ms inference, 1.0ms postprocess per image at shape (1, 3, 160, 640)\n",
            "\n",
            "0: 640x384 1 license-plate, 143.0ms\n",
            "Speed: 4.2ms preprocess, 143.0ms inference, 1.1ms postprocess per image at shape (1, 3, 640, 384)\n",
            "\n",
            "0: 384x640 8 chars, 135.9ms\n",
            "Speed: 4.2ms preprocess, 135.9ms inference, 1.2ms postprocess per image at shape (1, 3, 384, 640)\n",
            "\n",
            "0: 384x640 1 license-plate, 127.7ms\n",
            "Speed: 4.0ms preprocess, 127.7ms inference, 1.1ms postprocess per image at shape (1, 3, 384, 640)\n",
            "\n",
            "0: 384x640 8 chars, 126.6ms\n",
            "Speed: 3.1ms preprocess, 126.6ms inference, 1.1ms postprocess per image at shape (1, 3, 384, 640)\n",
            "\n",
            "0: 640x480 1 license-plate, 168.6ms\n",
            "Speed: 7.5ms preprocess, 168.6ms inference, 1.1ms postprocess per image at shape (1, 3, 640, 480)\n",
            "\n",
            "0: 160x640 8 chars, 62.4ms\n",
            "Speed: 1.5ms preprocess, 62.4ms inference, 1.0ms postprocess per image at shape (1, 3, 160, 640)\n",
            "\n",
            "0: 640x640 1 license-plate, 226.1ms\n",
            "Speed: 7.1ms preprocess, 226.1ms inference, 1.1ms postprocess per image at shape (1, 3, 640, 640)\n",
            "\n",
            "0: 160x640 8 chars, 63.1ms\n",
            "Speed: 2.1ms preprocess, 63.1ms inference, 1.6ms postprocess per image at shape (1, 3, 160, 640)\n",
            "\n",
            "0: 384x640 2 license-plates, 145.6ms\n",
            "Speed: 5.7ms preprocess, 145.6ms inference, 1.5ms postprocess per image at shape (1, 3, 384, 640)\n",
            "\n",
            "0: 256x640 8 chars, 105.7ms\n",
            "Speed: 2.2ms preprocess, 105.7ms inference, 1.0ms postprocess per image at shape (1, 3, 256, 640)\n",
            "\n",
            "0: 256x640 8 chars, 88.6ms\n",
            "Speed: 3.1ms preprocess, 88.6ms inference, 1.0ms postprocess per image at shape (1, 3, 256, 640)\n",
            "\n",
            "0: 480x640 2 license-plates, 243.7ms\n",
            "Speed: 5.1ms preprocess, 243.7ms inference, 1.4ms postprocess per image at shape (1, 3, 480, 640)\n",
            "\n",
            "0: 256x640 8 chars, 139.9ms\n",
            "Speed: 2.3ms preprocess, 139.9ms inference, 1.3ms postprocess per image at shape (1, 3, 256, 640)\n",
            "\n",
            "0: 160x640 8 chars, 290.5ms\n",
            "Speed: 2.7ms preprocess, 290.5ms inference, 17.7ms postprocess per image at shape (1, 3, 160, 640)\n",
            "\n",
            "0: 384x640 1 license-plate, 152.4ms\n",
            "Speed: 7.9ms preprocess, 152.4ms inference, 1.1ms postprocess per image at shape (1, 3, 384, 640)\n",
            "\n",
            "0: 160x640 8 chars, 62.4ms\n",
            "Speed: 1.5ms preprocess, 62.4ms inference, 1.0ms postprocess per image at shape (1, 3, 160, 640)\n",
            "\n",
            "0: 640x480 1 license-plate, 169.0ms\n",
            "Speed: 5.8ms preprocess, 169.0ms inference, 1.0ms postprocess per image at shape (1, 3, 640, 480)\n",
            "\n",
            "0: 256x640 8 chars, 92.0ms\n",
            "Speed: 2.2ms preprocess, 92.0ms inference, 1.5ms postprocess per image at shape (1, 3, 256, 640)\n",
            "\n",
            "0: 640x480 1 license-plate, 184.6ms\n",
            "Speed: 6.4ms preprocess, 184.6ms inference, 1.2ms postprocess per image at shape (1, 3, 640, 480)\n",
            "\n",
            "0: 256x640 8 chars, 96.6ms\n",
            "Speed: 3.5ms preprocess, 96.6ms inference, 1.0ms postprocess per image at shape (1, 3, 256, 640)\n",
            "\n",
            "0: 480x640 1 license-plate, 161.0ms\n",
            "Speed: 5.5ms preprocess, 161.0ms inference, 1.1ms postprocess per image at shape (1, 3, 480, 640)\n",
            "\n",
            "0: 160x640 8 chars, 65.5ms\n",
            "Speed: 2.5ms preprocess, 65.5ms inference, 1.0ms postprocess per image at shape (1, 3, 160, 640)\n",
            "\n",
            "0: 480x640 1 license-plate, 159.1ms\n",
            "Speed: 4.3ms preprocess, 159.1ms inference, 1.1ms postprocess per image at shape (1, 3, 480, 640)\n",
            "\n",
            "0: 256x640 8 chars, 94.2ms\n",
            "Speed: 2.3ms preprocess, 94.2ms inference, 1.0ms postprocess per image at shape (1, 3, 256, 640)\n",
            "\n",
            "0: 640x384 1 license-plate, 143.7ms\n",
            "Speed: 6.0ms preprocess, 143.7ms inference, 1.0ms postprocess per image at shape (1, 3, 640, 384)\n",
            "\n",
            "0: 192x640 8 chars, 70.3ms\n",
            "Speed: 2.2ms preprocess, 70.3ms inference, 0.9ms postprocess per image at shape (1, 3, 192, 640)\n",
            "\n",
            "0: 384x640 1 license-plate, 147.9ms\n",
            "Speed: 5.9ms preprocess, 147.9ms inference, 1.1ms postprocess per image at shape (1, 3, 384, 640)\n",
            "\n",
            "0: 256x640 8 chars, 98.3ms\n",
            "Speed: 2.3ms preprocess, 98.3ms inference, 1.1ms postprocess per image at shape (1, 3, 256, 640)\n",
            "\n",
            "0: 512x640 1 license-plate, 180.5ms\n",
            "Speed: 6.9ms preprocess, 180.5ms inference, 1.1ms postprocess per image at shape (1, 3, 512, 640)\n",
            "\n",
            "0: 224x640 8 chars, 123.7ms\n",
            "Speed: 3.1ms preprocess, 123.7ms inference, 1.8ms postprocess per image at shape (1, 3, 224, 640)\n",
            "\n",
            "0: 640x480 1 license-plate, 250.3ms\n",
            "Speed: 5.3ms preprocess, 250.3ms inference, 1.4ms postprocess per image at shape (1, 3, 640, 480)\n",
            "\n",
            "0: 224x640 8 chars, 133.1ms\n",
            "Speed: 2.8ms preprocess, 133.1ms inference, 1.5ms postprocess per image at shape (1, 3, 224, 640)\n",
            "\n",
            "0: 640x512 1 license-plate, 189.2ms\n",
            "Speed: 5.0ms preprocess, 189.2ms inference, 1.1ms postprocess per image at shape (1, 3, 640, 512)\n",
            "\n",
            "0: 160x640 8 chars, 62.7ms\n",
            "Speed: 1.6ms preprocess, 62.7ms inference, 1.0ms postprocess per image at shape (1, 3, 160, 640)\n",
            "\n",
            "0: 640x480 1 license-plate, 199.2ms\n",
            "Speed: 16.4ms preprocess, 199.2ms inference, 1.1ms postprocess per image at shape (1, 3, 640, 480)\n",
            "\n",
            "0: 192x640 8 chars, 80.0ms\n",
            "Speed: 3.4ms preprocess, 80.0ms inference, 1.1ms postprocess per image at shape (1, 3, 192, 640)\n",
            "\n",
            "0: 480x640 2 license-plates, 158.6ms\n",
            "Speed: 4.7ms preprocess, 158.6ms inference, 1.1ms postprocess per image at shape (1, 3, 480, 640)\n",
            "\n",
            "0: 160x640 8 chars, 69.8ms\n",
            "Speed: 1.5ms preprocess, 69.8ms inference, 1.0ms postprocess per image at shape (1, 3, 160, 640)\n",
            "\n",
            "0: 192x640 8 chars, 73.2ms\n",
            "Speed: 3.3ms preprocess, 73.2ms inference, 1.1ms postprocess per image at shape (1, 3, 192, 640)\n",
            "\n",
            "0: 480x640 2 license-plates, 180.8ms\n",
            "Speed: 7.2ms preprocess, 180.8ms inference, 1.1ms postprocess per image at shape (1, 3, 480, 640)\n",
            "\n",
            "0: 160x640 8 chars, 62.4ms\n",
            "Speed: 1.7ms preprocess, 62.4ms inference, 1.0ms postprocess per image at shape (1, 3, 160, 640)\n",
            "\n",
            "0: 192x640 7 chars, 77.2ms\n",
            "Speed: 4.7ms preprocess, 77.2ms inference, 1.1ms postprocess per image at shape (1, 3, 192, 640)\n",
            "\n",
            "0: 640x480 1 license-plate, 153.3ms\n",
            "Speed: 5.2ms preprocess, 153.3ms inference, 1.1ms postprocess per image at shape (1, 3, 640, 480)\n",
            "\n",
            "0: 224x640 8 chars, 88.8ms\n",
            "Speed: 2.2ms preprocess, 88.8ms inference, 1.0ms postprocess per image at shape (1, 3, 224, 640)\n",
            "\n",
            "0: 640x480 1 license-plate, 154.2ms\n",
            "Speed: 4.2ms preprocess, 154.2ms inference, 1.1ms postprocess per image at shape (1, 3, 640, 480)\n",
            "\n",
            "0: 384x640 8 chars, 139.4ms\n",
            "Speed: 7.7ms preprocess, 139.4ms inference, 1.7ms postprocess per image at shape (1, 3, 384, 640)\n",
            "\n",
            "0: 384x640 1 license-plate, 147.6ms\n",
            "Speed: 6.5ms preprocess, 147.6ms inference, 1.2ms postprocess per image at shape (1, 3, 384, 640)\n",
            "\n",
            "0: 192x640 8 chars, 80.4ms\n",
            "Speed: 3.0ms preprocess, 80.4ms inference, 1.7ms postprocess per image at shape (1, 3, 192, 640)\n",
            "\n",
            "0: 384x640 1 license-plate, 197.8ms\n",
            "Speed: 3.3ms preprocess, 197.8ms inference, 1.3ms postprocess per image at shape (1, 3, 384, 640)\n",
            "\n",
            "0: 160x640 8 chars, 102.9ms\n",
            "Speed: 2.9ms preprocess, 102.9ms inference, 1.3ms postprocess per image at shape (1, 3, 160, 640)\n",
            "\n",
            "0: 640x480 1 license-plate, 300.9ms\n",
            "Speed: 5.4ms preprocess, 300.9ms inference, 1.7ms postprocess per image at shape (1, 3, 640, 480)\n",
            "\n",
            "0: 288x640 8 chars, 155.0ms\n",
            "Speed: 3.6ms preprocess, 155.0ms inference, 1.0ms postprocess per image at shape (1, 3, 288, 640)\n",
            "\n",
            "0: 640x608 1 license-plate, 216.5ms\n",
            "Speed: 5.6ms preprocess, 216.5ms inference, 1.6ms postprocess per image at shape (1, 3, 640, 608)\n",
            "\n",
            "0: 160x640 8 chars, 60.9ms\n",
            "Speed: 1.5ms preprocess, 60.9ms inference, 1.0ms postprocess per image at shape (1, 3, 160, 640)\n",
            "\n",
            "0: 352x640 1 license-plate, 146.6ms\n",
            "Speed: 6.7ms preprocess, 146.6ms inference, 1.0ms postprocess per image at shape (1, 3, 352, 640)\n",
            "\n",
            "0: 160x640 8 chars, 61.1ms\n",
            "Speed: 1.9ms preprocess, 61.1ms inference, 1.0ms postprocess per image at shape (1, 3, 160, 640)\n",
            "\n",
            "0: 480x640 1 license-plate, 163.1ms\n",
            "Speed: 7.7ms preprocess, 163.1ms inference, 1.3ms postprocess per image at shape (1, 3, 480, 640)\n",
            "\n",
            "0: 160x640 8 chars, 62.0ms\n",
            "Speed: 1.4ms preprocess, 62.0ms inference, 1.0ms postprocess per image at shape (1, 3, 160, 640)\n",
            "\n",
            "0: 384x640 1 license-plate, 138.2ms\n",
            "Speed: 6.3ms preprocess, 138.2ms inference, 1.0ms postprocess per image at shape (1, 3, 384, 640)\n",
            "\n",
            "0: 192x640 8 chars, 69.4ms\n",
            "Speed: 2.4ms preprocess, 69.4ms inference, 1.0ms postprocess per image at shape (1, 3, 192, 640)\n",
            "\n",
            "0: 480x640 1 license-plate, 154.3ms\n",
            "Speed: 6.0ms preprocess, 154.3ms inference, 1.0ms postprocess per image at shape (1, 3, 480, 640)\n",
            "\n",
            "0: 288x640 8 chars, 105.1ms\n",
            "Speed: 2.4ms preprocess, 105.1ms inference, 1.3ms postprocess per image at shape (1, 3, 288, 640)\n",
            "\n",
            "0: 480x640 1 license-plate, 189.1ms\n",
            "Speed: 6.3ms preprocess, 189.1ms inference, 1.2ms postprocess per image at shape (1, 3, 480, 640)\n",
            "\n",
            "0: 160x640 8 chars, 65.7ms\n",
            "Speed: 1.9ms preprocess, 65.7ms inference, 1.0ms postprocess per image at shape (1, 3, 160, 640)\n",
            "\n",
            "0: 640x480 1 license-plate, 162.8ms\n",
            "Speed: 6.2ms preprocess, 162.8ms inference, 1.1ms postprocess per image at shape (1, 3, 640, 480)\n",
            "\n",
            "0: 544x640 8 chars, 193.0ms\n",
            "Speed: 11.1ms preprocess, 193.0ms inference, 1.1ms postprocess per image at shape (1, 3, 544, 640)\n",
            "\n",
            "0: 384x640 1 license-plate, 140.8ms\n",
            "Speed: 5.5ms preprocess, 140.8ms inference, 1.1ms postprocess per image at shape (1, 3, 384, 640)\n",
            "\n",
            "0: 160x640 8 chars, 61.2ms\n",
            "Speed: 1.6ms preprocess, 61.2ms inference, 0.9ms postprocess per image at shape (1, 3, 160, 640)\n",
            "\n",
            "0: 640x544 1 license-plate, 299.2ms\n",
            "Speed: 9.7ms preprocess, 299.2ms inference, 1.4ms postprocess per image at shape (1, 3, 640, 544)\n",
            "\n",
            "0: 160x640 8 chars, 105.8ms\n",
            "Speed: 3.1ms preprocess, 105.8ms inference, 1.5ms postprocess per image at shape (1, 3, 160, 640)\n",
            "\n",
            "0: 480x640 1 license-plate, 186.8ms\n",
            "Speed: 8.7ms preprocess, 186.8ms inference, 1.1ms postprocess per image at shape (1, 3, 480, 640)\n",
            "\n",
            "0: 320x640 8 chars, 119.2ms\n",
            "Speed: 3.0ms preprocess, 119.2ms inference, 1.0ms postprocess per image at shape (1, 3, 320, 640)\n",
            "\n",
            "0: 640x480 2 license-plates, 152.9ms\n",
            "Speed: 6.0ms preprocess, 152.9ms inference, 1.1ms postprocess per image at shape (1, 3, 640, 480)\n",
            "\n",
            "0: 256x640 8 chars, 94.0ms\n",
            "Speed: 3.6ms preprocess, 94.0ms inference, 1.1ms postprocess per image at shape (1, 3, 256, 640)\n",
            "\n",
            "0: 256x640 8 chars, 90.3ms\n",
            "Speed: 2.6ms preprocess, 90.3ms inference, 1.0ms postprocess per image at shape (1, 3, 256, 640)\n",
            "\n",
            "0: 480x640 1 license-plate, 172.1ms\n",
            "Speed: 7.0ms preprocess, 172.1ms inference, 1.1ms postprocess per image at shape (1, 3, 480, 640)\n",
            "\n",
            "0: 192x640 8 chars, 81.9ms\n",
            "Speed: 3.6ms preprocess, 81.9ms inference, 1.4ms postprocess per image at shape (1, 3, 192, 640)\n",
            "\n",
            "0: 480x640 1 license-plate, 173.2ms\n",
            "Speed: 6.1ms preprocess, 173.2ms inference, 1.7ms postprocess per image at shape (1, 3, 480, 640)\n",
            "\n",
            "0: 192x640 8 chars, 70.0ms\n",
            "Speed: 1.9ms preprocess, 70.0ms inference, 1.1ms postprocess per image at shape (1, 3, 192, 640)\n",
            "\n",
            "0: 480x640 1 license-plate, 168.8ms\n",
            "Speed: 4.4ms preprocess, 168.8ms inference, 1.1ms postprocess per image at shape (1, 3, 480, 640)\n",
            "\n",
            "0: 256x640 8 chars, 96.5ms\n",
            "Speed: 2.6ms preprocess, 96.5ms inference, 1.0ms postprocess per image at shape (1, 3, 256, 640)\n",
            "\n",
            "0: 384x640 1 license-plate, 129.8ms\n",
            "Speed: 6.0ms preprocess, 129.8ms inference, 1.0ms postprocess per image at shape (1, 3, 384, 640)\n",
            "\n",
            "0: 224x640 8 chars, 83.4ms\n",
            "Speed: 3.7ms preprocess, 83.4ms inference, 1.0ms postprocess per image at shape (1, 3, 224, 640)\n",
            "\n",
            "0: 640x480 1 license-plate, 181.1ms\n",
            "Speed: 8.5ms preprocess, 181.1ms inference, 1.1ms postprocess per image at shape (1, 3, 640, 480)\n",
            "\n",
            "0: 192x640 8 chars, 78.9ms\n",
            "Speed: 3.5ms preprocess, 78.9ms inference, 1.0ms postprocess per image at shape (1, 3, 192, 640)\n",
            "\n",
            "0: 480x640 2 license-plates, 157.3ms\n",
            "Speed: 6.0ms preprocess, 157.3ms inference, 1.1ms postprocess per image at shape (1, 3, 480, 640)\n",
            "\n",
            "0: 160x640 8 chars, 66.0ms\n",
            "Speed: 2.0ms preprocess, 66.0ms inference, 0.9ms postprocess per image at shape (1, 3, 160, 640)\n",
            "\n",
            "0: 128x640 8 chars, 84.7ms\n",
            "Speed: 1.2ms preprocess, 84.7ms inference, 1.2ms postprocess per image at shape (1, 3, 128, 640)\n",
            "\n",
            "0: 480x640 1 license-plate, 192.1ms\n",
            "Speed: 7.6ms preprocess, 192.1ms inference, 1.1ms postprocess per image at shape (1, 3, 480, 640)\n",
            "\n",
            "0: 160x640 8 chars, 64.6ms\n",
            "Speed: 2.1ms preprocess, 64.6ms inference, 1.0ms postprocess per image at shape (1, 3, 160, 640)\n",
            "\n",
            "0: 480x640 3 license-plates, 153.3ms\n",
            "Speed: 5.6ms preprocess, 153.3ms inference, 1.2ms postprocess per image at shape (1, 3, 480, 640)\n",
            "\n",
            "0: 192x640 7 chars, 80.0ms\n",
            "Speed: 2.9ms preprocess, 80.0ms inference, 1.0ms postprocess per image at shape (1, 3, 192, 640)\n",
            "\n",
            "0: 160x640 1 char, 62.9ms\n",
            "Speed: 3.5ms preprocess, 62.9ms inference, 0.9ms postprocess per image at shape (1, 3, 160, 640)\n",
            "\n",
            "0: 192x640 3 chars, 68.1ms\n",
            "Speed: 2.2ms preprocess, 68.1ms inference, 0.9ms postprocess per image at shape (1, 3, 192, 640)\n",
            "\n",
            "0: 384x640 1 license-plate, 135.2ms\n",
            "Speed: 6.5ms preprocess, 135.2ms inference, 1.3ms postprocess per image at shape (1, 3, 384, 640)\n",
            "\n",
            "0: 192x640 8 chars, 71.9ms\n",
            "Speed: 3.2ms preprocess, 71.9ms inference, 1.0ms postprocess per image at shape (1, 3, 192, 640)\n",
            "\n",
            "0: 480x640 2 license-plates, 150.1ms\n",
            "Speed: 4.4ms preprocess, 150.1ms inference, 1.0ms postprocess per image at shape (1, 3, 480, 640)\n",
            "\n",
            "0: 192x640 8 chars, 69.5ms\n",
            "Speed: 1.9ms preprocess, 69.5ms inference, 1.0ms postprocess per image at shape (1, 3, 192, 640)\n",
            "\n",
            "0: 192x640 8 chars, 79.4ms\n",
            "Speed: 4.8ms preprocess, 79.4ms inference, 1.0ms postprocess per image at shape (1, 3, 192, 640)\n",
            "\n",
            "0: 480x640 1 license-plate, 173.3ms\n",
            "Speed: 7.1ms preprocess, 173.3ms inference, 1.2ms postprocess per image at shape (1, 3, 480, 640)\n",
            "\n",
            "0: 224x640 8 chars, 96.3ms\n",
            "Speed: 2.5ms preprocess, 96.3ms inference, 1.1ms postprocess per image at shape (1, 3, 224, 640)\n",
            "\n",
            "0: 640x480 1 license-plate, 151.2ms\n",
            "Speed: 5.7ms preprocess, 151.2ms inference, 1.0ms postprocess per image at shape (1, 3, 640, 480)\n",
            "\n",
            "0: 192x640 8 chars, 69.5ms\n",
            "Speed: 2.1ms preprocess, 69.5ms inference, 1.1ms postprocess per image at shape (1, 3, 192, 640)\n",
            "\n",
            "0: 640x480 1 license-plate, 212.9ms\n",
            "Speed: 14.7ms preprocess, 212.9ms inference, 1.1ms postprocess per image at shape (1, 3, 640, 480)\n",
            "\n",
            "0: 288x640 8 chars, 117.7ms\n",
            "Speed: 3.3ms preprocess, 117.7ms inference, 1.1ms postprocess per image at shape (1, 3, 288, 640)\n",
            "\n",
            "0: 640x544 1 license-plate, 176.8ms\n",
            "Speed: 6.5ms preprocess, 176.8ms inference, 1.1ms postprocess per image at shape (1, 3, 640, 544)\n",
            "\n",
            "0: 160x640 8 chars, 99.5ms\n",
            "Speed: 1.8ms preprocess, 99.5ms inference, 1.5ms postprocess per image at shape (1, 3, 160, 640)\n",
            "\n",
            "0: 640x480 1 license-plate, 250.7ms\n",
            "Speed: 4.1ms preprocess, 250.7ms inference, 1.3ms postprocess per image at shape (1, 3, 640, 480)\n",
            "\n",
            "0: 224x640 8 chars, 149.8ms\n",
            "Speed: 1.9ms preprocess, 149.8ms inference, 1.5ms postprocess per image at shape (1, 3, 224, 640)\n",
            "\n",
            "0: 640x480 1 license-plate, 156.6ms\n",
            "Speed: 6.0ms preprocess, 156.6ms inference, 1.1ms postprocess per image at shape (1, 3, 640, 480)\n",
            "\n",
            "0: 224x640 8 chars, 82.7ms\n",
            "Speed: 3.2ms preprocess, 82.7ms inference, 1.0ms postprocess per image at shape (1, 3, 224, 640)\n",
            "\n",
            "0: 640x640 1 license-plate, 216.2ms\n",
            "Speed: 8.2ms preprocess, 216.2ms inference, 1.0ms postprocess per image at shape (1, 3, 640, 640)\n",
            "\n",
            "0: 160x640 8 chars, 59.6ms\n",
            "Speed: 2.5ms preprocess, 59.6ms inference, 3.8ms postprocess per image at shape (1, 3, 160, 640)\n",
            "\n",
            "0: 480x640 1 license-plate, 161.7ms\n",
            "Speed: 4.5ms preprocess, 161.7ms inference, 1.1ms postprocess per image at shape (1, 3, 480, 640)\n",
            "\n",
            "0: 192x640 8 chars, 77.2ms\n",
            "Speed: 3.1ms preprocess, 77.2ms inference, 1.7ms postprocess per image at shape (1, 3, 192, 640)\n",
            "\n",
            "0: 480x640 1 license-plate, 150.5ms\n",
            "Speed: 5.2ms preprocess, 150.5ms inference, 1.1ms postprocess per image at shape (1, 3, 480, 640)\n",
            "\n",
            "0: 224x640 6 chars, 104.8ms\n",
            "Speed: 2.1ms preprocess, 104.8ms inference, 1.0ms postprocess per image at shape (1, 3, 224, 640)\n",
            "\n",
            "0: 640x480 1 license-plate, 152.3ms\n",
            "Speed: 4.4ms preprocess, 152.3ms inference, 1.0ms postprocess per image at shape (1, 3, 640, 480)\n",
            "\n",
            "0: 384x640 8 chars, 126.6ms\n",
            "Speed: 5.9ms preprocess, 126.6ms inference, 1.0ms postprocess per image at shape (1, 3, 384, 640)\n",
            "\n",
            "0: 384x640 3 license-plates, 143.6ms\n",
            "Speed: 6.8ms preprocess, 143.6ms inference, 1.1ms postprocess per image at shape (1, 3, 384, 640)\n",
            "\n",
            "0: 192x640 8 chars, 71.9ms\n",
            "Speed: 2.0ms preprocess, 71.9ms inference, 1.9ms postprocess per image at shape (1, 3, 192, 640)\n",
            "\n",
            "0: 192x640 8 chars, 72.1ms\n",
            "Speed: 2.3ms preprocess, 72.1ms inference, 1.0ms postprocess per image at shape (1, 3, 192, 640)\n",
            "\n",
            "0: 160x640 8 chars, 66.5ms\n",
            "Speed: 3.0ms preprocess, 66.5ms inference, 0.9ms postprocess per image at shape (1, 3, 160, 640)\n",
            "\n",
            "0: 640x384 1 license-plate, 130.0ms\n",
            "Speed: 3.3ms preprocess, 130.0ms inference, 1.5ms postprocess per image at shape (1, 3, 640, 384)\n",
            "\n",
            "0: 256x640 8 chars, 91.5ms\n",
            "Speed: 2.6ms preprocess, 91.5ms inference, 1.0ms postprocess per image at shape (1, 3, 256, 640)\n",
            "\n",
            "0: 480x640 1 license-plate, 285.7ms\n",
            "Speed: 11.5ms preprocess, 285.7ms inference, 2.1ms postprocess per image at shape (1, 3, 480, 640)\n",
            "\n",
            "0: 192x640 8 chars, 126.5ms\n",
            "Speed: 3.1ms preprocess, 126.5ms inference, 1.2ms postprocess per image at shape (1, 3, 192, 640)\n",
            "\n",
            "0: 640x480 1 license-plate, 252.6ms\n",
            "Speed: 4.7ms preprocess, 252.6ms inference, 2.0ms postprocess per image at shape (1, 3, 640, 480)\n",
            "\n",
            "0: 160x640 8 chars, 141.7ms\n",
            "Speed: 2.0ms preprocess, 141.7ms inference, 1.8ms postprocess per image at shape (1, 3, 160, 640)\n",
            "\n",
            "0: 576x640 1 license-plate, 210.9ms\n",
            "Speed: 9.8ms preprocess, 210.9ms inference, 1.1ms postprocess per image at shape (1, 3, 576, 640)\n",
            "\n",
            "0: 160x640 8 chars, 60.4ms\n",
            "Speed: 2.1ms preprocess, 60.4ms inference, 1.0ms postprocess per image at shape (1, 3, 160, 640)\n",
            "\n",
            "0: 640x608 1 license-plate, 215.0ms\n",
            "Speed: 10.3ms preprocess, 215.0ms inference, 1.1ms postprocess per image at shape (1, 3, 640, 608)\n",
            "\n",
            "0: 160x640 8 chars, 65.5ms\n",
            "Speed: 2.8ms preprocess, 65.5ms inference, 1.0ms postprocess per image at shape (1, 3, 160, 640)\n",
            "\n",
            "0: 640x480 1 license-plate, 164.2ms\n",
            "Speed: 5.9ms preprocess, 164.2ms inference, 1.1ms postprocess per image at shape (1, 3, 640, 480)\n",
            "\n",
            "0: 128x640 8 chars, 54.9ms\n",
            "Speed: 1.7ms preprocess, 54.9ms inference, 0.9ms postprocess per image at shape (1, 3, 128, 640)\n",
            "\n",
            "0: 640x480 1 license-plate, 151.1ms\n",
            "Speed: 4.9ms preprocess, 151.1ms inference, 1.1ms postprocess per image at shape (1, 3, 640, 480)\n",
            "\n",
            "0: 160x640 8 chars, 63.8ms\n",
            "Speed: 1.7ms preprocess, 63.8ms inference, 0.9ms postprocess per image at shape (1, 3, 160, 640)\n",
            "\n",
            "0: 640x384 1 license-plate, 138.9ms\n",
            "Speed: 6.7ms preprocess, 138.9ms inference, 1.0ms postprocess per image at shape (1, 3, 640, 384)\n",
            "\n",
            "0: 224x640 8 chars, 87.2ms\n",
            "Speed: 1.8ms preprocess, 87.2ms inference, 1.0ms postprocess per image at shape (1, 3, 224, 640)\n",
            "\n",
            "0: 480x640 1 license-plate, 171.7ms\n",
            "Speed: 7.2ms preprocess, 171.7ms inference, 1.1ms postprocess per image at shape (1, 3, 480, 640)\n",
            "\n",
            "0: 224x640 8 chars, 88.6ms\n",
            "Speed: 2.4ms preprocess, 88.6ms inference, 1.0ms postprocess per image at shape (1, 3, 224, 640)\n",
            "\n",
            "0: 480x640 1 license-plate, 172.1ms\n",
            "Speed: 6.6ms preprocess, 172.1ms inference, 1.1ms postprocess per image at shape (1, 3, 480, 640)\n",
            "\n",
            "0: 352x640 8 chars, 127.6ms\n",
            "Speed: 3.8ms preprocess, 127.6ms inference, 1.1ms postprocess per image at shape (1, 3, 352, 640)\n",
            "\n",
            "0: 480x640 1 license-plate, 160.4ms\n",
            "Speed: 4.3ms preprocess, 160.4ms inference, 1.2ms postprocess per image at shape (1, 3, 480, 640)\n",
            "\n",
            "0: 352x640 8 chars, 117.3ms\n",
            "Speed: 2.8ms preprocess, 117.3ms inference, 1.1ms postprocess per image at shape (1, 3, 352, 640)\n"
          ]
        }
      ]
    },
    {
      "cell_type": "code",
      "source": [
        "!zip -r /content/100_samples.zip /content/100_samples"
      ],
      "metadata": {
        "colab": {
          "base_uri": "https://localhost:8080/"
        },
        "id": "izjtyLdIf4kQ",
        "outputId": "ebf6cd62-2a15-4b18-fc1d-ac549906a2d9"
      },
      "execution_count": 28,
      "outputs": [
        {
          "output_type": "stream",
          "name": "stdout",
          "text": [
            "  adding: content/100_samples/ (stored 0%)\n",
            "  adding: content/100_samples/day_01227.jpg (deflated 5%)\n",
            "  adding: content/100_samples/.ipynb_checkpoints/ (stored 0%)\n",
            "  adding: content/100_samples/day_03354.jpg (deflated 5%)\n",
            "  adding: content/100_samples/day_11391.jpg (deflated 3%)\n",
            "  adding: content/100_samples/day_10103.jpg (deflated 0%)\n",
            "  adding: content/100_samples/day_02984.jpg (deflated 0%)\n",
            "  adding: content/100_samples/day_04662.jpg (deflated 0%)\n",
            "  adding: content/100_samples/day_03174.jpg (deflated 4%)\n",
            "  adding: content/100_samples/day_07533.jpg (deflated 0%)\n",
            "  adding: content/100_samples/day_14611.jpg (deflated 0%)\n",
            "  adding: content/100_samples/day_01047.jpg (deflated 0%)\n",
            "  adding: content/100_samples/night (2266).jpg (deflated 3%)\n",
            "  adding: content/100_samples/night (927).jpg (deflated 6%)\n",
            "  adding: content/100_samples/day_11787.jpg (deflated 0%)\n",
            "  adding: content/100_samples/night (3717).jpg (deflated 0%)\n",
            "  adding: content/100_samples/day_13057.jpg (deflated 0%)\n",
            "  adding: content/100_samples/day_03640.jpg (deflated 5%)\n",
            "  adding: content/100_samples/day_11986.jpg (deflated 0%)\n",
            "  adding: content/100_samples/night (2657).jpg (deflated 0%)\n",
            "  adding: content/100_samples/day_09918.jpg (deflated 0%)\n",
            "  adding: content/100_samples/day_16845.jpg (deflated 0%)\n",
            "  adding: content/100_samples/day_00947.jpg (deflated 5%)\n",
            "  adding: content/100_samples/day_09638.jpg (deflated 0%)\n",
            "  adding: content/100_samples/day_03840.jpg (deflated 5%)\n",
            "  adding: content/100_samples/day_01246.jpg (deflated 0%)\n",
            "  adding: content/100_samples/day_05834.jpg (deflated 0%)\n",
            "  adding: content/100_samples/night (3705).jpg (deflated 2%)\n",
            "  adding: content/100_samples/night (734).jpg (deflated 0%)\n",
            "  adding: content/100_samples/day_03186.jpg (deflated 3%)\n",
            "  adding: content/100_samples/day_01776.jpg (deflated 5%)\n",
            "  adding: content/100_samples/day_15481.jpg (deflated 0%)\n",
            "  adding: content/100_samples/day_14489.jpg (deflated 0%)\n",
            "  adding: content/100_samples/day_15089.jpg (deflated 0%)\n",
            "  adding: content/100_samples/day_16617.jpg (deflated 0%)\n",
            "  adding: content/100_samples/day_02962.jpg (deflated 0%)\n",
            "  adding: content/100_samples/day_02850.jpg (deflated 0%)\n",
            "  adding: content/100_samples/day_03188.jpg (deflated 5%)\n",
            "  adding: content/100_samples/day_00173.jpg (deflated 7%)\n",
            "  adding: content/100_samples/day_16681.jpg (deflated 0%)\n",
            "  adding: content/100_samples/night (3108).jpg (deflated 0%)\n",
            "  adding: content/100_samples/day_11372.jpg (deflated 4%)\n",
            "  adding: content/100_samples/day_11012.jpg (deflated 0%)\n",
            "  adding: content/100_samples/day_00243.jpg (deflated 0%)\n",
            "  adding: content/100_samples/day_02868.jpg (deflated 0%)\n",
            "  adding: content/100_samples/day_01288.jpg (deflated 5%)\n",
            "  adding: content/100_samples/day_12826.jpg (deflated 0%)\n",
            "  adding: content/100_samples/day_07643.jpg (deflated 0%)\n",
            "  adding: content/100_samples/day_00120.jpg (deflated 6%)\n",
            "  adding: content/100_samples/day_00611.jpg (deflated 0%)\n",
            "  adding: content/100_samples/day_09189.jpg (deflated 0%)\n",
            "  adding: content/100_samples/day_16010.jpg (deflated 0%)\n",
            "  adding: content/100_samples/day_00800.jpg (deflated 5%)\n",
            "  adding: content/100_samples/night (744).jpg (deflated 0%)\n",
            "  adding: content/100_samples/day_05237.jpg (deflated 1%)\n",
            "  adding: content/100_samples/night (2092).jpg (deflated 0%)\n",
            "  adding: content/100_samples/day_12166.jpg (deflated 0%)\n",
            "  adding: content/100_samples/night (1510).jpg (deflated 3%)\n",
            "  adding: content/100_samples/day_03627.jpg (deflated 0%)\n",
            "  adding: content/100_samples/day_10799.jpg (deflated 4%)\n",
            "  adding: content/100_samples/night (3114).jpg (deflated 0%)\n",
            "  adding: content/100_samples/day_08786.jpg (deflated 0%)\n",
            "  adding: content/100_samples/night (3069).jpg (deflated 1%)\n",
            "  adding: content/100_samples/day_00904.jpg (deflated 0%)\n",
            "  adding: content/100_samples/day_15585.jpg (deflated 0%)\n",
            "  adding: content/100_samples/day_05228.jpg (deflated 0%)\n",
            "  adding: content/100_samples/day_03237.jpg (deflated 0%)\n",
            "  adding: content/100_samples/day_15843.jpg (deflated 0%)\n",
            "  adding: content/100_samples/day_08567.jpg (deflated 3%)\n",
            "  adding: content/100_samples/day_11370.jpg (deflated 0%)\n",
            "  adding: content/100_samples/day_15378.jpg (deflated 0%)\n",
            "  adding: content/100_samples/day_10262.jpg (deflated 6%)\n",
            "  adding: content/100_samples/night (3129).jpg (deflated 0%)\n",
            "  adding: content/100_samples/day_02855.jpg (deflated 0%)\n",
            "  adding: content/100_samples/day_06500.jpg (deflated 0%)\n",
            "  adding: content/100_samples/day_13421.jpg (deflated 0%)\n",
            "  adding: content/100_samples/day_01900.jpg (deflated 1%)\n",
            "  adding: content/100_samples/day_11430.jpg (deflated 0%)\n",
            "  adding: content/100_samples/day_14036.jpg (deflated 0%)\n",
            "  adding: content/100_samples/day_00391.jpg (deflated 5%)\n",
            "  adding: content/100_samples/day_00877.jpg (deflated 0%)\n",
            "  adding: content/100_samples/day_04261.jpg (deflated 0%)\n",
            "  adding: content/100_samples/day_00251.jpg (deflated 0%)\n",
            "  adding: content/100_samples/day_10460.jpg (deflated 1%)\n",
            "  adding: content/100_samples/day_04981.jpg (deflated 0%)\n",
            "  adding: content/100_samples/night (760).jpg (deflated 4%)\n",
            "  adding: content/100_samples/day_15154.jpg (deflated 0%)\n",
            "  adding: content/100_samples/day_13234.jpg (deflated 0%)\n",
            "  adding: content/100_samples/day_04087.jpg (deflated 0%)\n",
            "  adding: content/100_samples/day_15977.jpg (deflated 0%)\n",
            "  adding: content/100_samples/day_09385.jpg (deflated 3%)\n",
            "  adding: content/100_samples/day_03848.jpg (deflated 4%)\n",
            "  adding: content/100_samples/day_05655.jpg (deflated 1%)\n",
            "  adding: content/100_samples/day_02168.jpg (deflated 0%)\n",
            "  adding: content/100_samples/day_05282.jpg (deflated 0%)\n",
            "  adding: content/100_samples/day_13350.jpg (deflated 6%)\n",
            "  adding: content/100_samples/day_16171.jpg (deflated 0%)\n",
            "  adding: content/100_samples/day_03263.jpg (deflated 5%)\n",
            "  adding: content/100_samples/day_05725.jpg (deflated 1%)\n",
            "  adding: content/100_samples/night (2256).jpg (deflated 0%)\n",
            "  adding: content/100_samples/night (919).jpg (deflated 7%)\n"
          ]
        }
      ]
    }
  ]
}